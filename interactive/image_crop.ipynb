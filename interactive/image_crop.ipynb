{
 "cells": [
  {
   "cell_type": "code",
   "execution_count": null,
   "metadata": {},
   "outputs": [],
   "source": [
    "import sqlite3\n",
    "import random\n",
    "import itertools\n",
    "import subprocess\n",
    "import os\n",
    "import shlex\n",
    "import time\n",
    "import pickle\n",
    "import joblib\n",
    "from multiprocessing import Pool"
   ]
  },
  {
   "cell_type": "code",
   "execution_count": null,
   "metadata": {},
   "outputs": [],
   "source": [
    "import numpy as np\n",
    "import matplotlib.pyplot as plt\n",
    "import matplotlib.image as mpimg\n",
    "import matplotlib.cm as cm\n",
    "from matplotlib.colors import Normalize"
   ]
  },
  {
   "cell_type": "code",
   "execution_count": null,
   "metadata": {},
   "outputs": [],
   "source": [
    "from PIL import Image, ImageDraw, ImageFont"
   ]
  },
  {
   "cell_type": "code",
   "execution_count": null,
   "metadata": {},
   "outputs": [],
   "source": [
    "from imageio import imread"
   ]
  },
  {
   "cell_type": "code",
   "execution_count": null,
   "metadata": {},
   "outputs": [],
   "source": [
    "from skimage.transform import resize\n",
    "from sklearn.decomposition import PCA, IncrementalPCA"
   ]
  },
  {
   "cell_type": "code",
   "execution_count": null,
   "metadata": {},
   "outputs": [],
   "source": [
    "import numpy as np\n",
    "import os\n",
    "import PIL\n",
    "import PIL.Image\n",
    "import tensorflow as tf\n",
    "# import tensorflow_datasets as tfds"
   ]
  },
  {
   "cell_type": "code",
   "execution_count": null,
   "metadata": {},
   "outputs": [],
   "source": [
    "print(tf.__version__)"
   ]
  },
  {
   "cell_type": "code",
   "execution_count": null,
   "metadata": {},
   "outputs": [],
   "source": [
    "# path = \"/home/rte/data/images/web/120k/\" + \"2971229.jpg\"\n",
    "dim = 256"
   ]
  },
  {
   "cell_type": "code",
   "execution_count": null,
   "metadata": {},
   "outputs": [],
   "source": [
    "filepaths = []\n",
    "\n",
    "with open(\"/home/rte/data/paths/all_converted_jpg_images_shuf.txt\", \"r\") as f:\n",
    "    lines = f.readlines()\n",
    "    print(\"length:\",len(lines))\n",
    "    print(lines[0])\n",
    "for l in lines:\n",
    "    # substrings = l.rsplit(\",\", 1)\n",
    "    filepaths.append(l.strip())\n",
    "    # image_ids.append(substrings[1].strip())"
   ]
  },
  {
   "cell_type": "code",
   "execution_count": null,
   "metadata": {},
   "outputs": [],
   "source": [
    "# image_folder = \"/mnt/hd2/images/all/\"\n",
    "image_folder = \"/home/rte/data/images/web/120k/\""
   ]
  },
  {
   "cell_type": "code",
   "execution_count": null,
   "metadata": {
    "scrolled": false
   },
   "outputs": [],
   "source": [
    "# get the image paths for all images that we have features for\n",
    "images = []\n",
    "\n",
    "for i, f in enumerate(filepaths[:]):\n",
    "    images.append(image_folder + f)\n",
    "print(len(images))\n",
    "print(images[:10])"
   ]
  },
  {
   "cell_type": "code",
   "execution_count": null,
   "metadata": {},
   "outputs": [],
   "source": [
    "images[0]"
   ]
  },
  {
   "cell_type": "code",
   "execution_count": null,
   "metadata": {},
   "outputs": [],
   "source": [
    "# original, crop, squish, crop_resized, pad\n",
    "# crop resizes to same aspect ratio that fits first then takes crop from centre\n",
    "columns = 4\n",
    "rows = 10\n",
    "# fig = plt.figure(figsize=(8,8))\n",
    "fig, ax = plt.subplots(rows, columns, figsize=(8,8))\n",
    "offset = 90\n",
    "\n",
    "# fig.suptitle(title_string, y=1.0)\n",
    "ax[0, 0].set_title(\"original\", pad=20)\n",
    "ax[0, 1].set_title(\"crop\", pad=20)\n",
    "ax[0, 2].set_title(\"squish\", pad=20)\n",
    "# ax[0, 3].set_title(\"crop_resize\", pad=20)\n",
    "ax[0, 3].set_title(\"pad\", pad=20)\n",
    "\n",
    "for y in range(rows):\n",
    "    for x in range(columns):\n",
    "        ax[y, x].axis('off')\n",
    "        \n",
    "# for x in range(columns):\n",
    "#     ax[0, x].set_title(\"path:\" + path.rsplit(\"/\")[0], pad=20)\n",
    "\n",
    "# def load_img(path, dim):\n",
    "for i, path in enumerate(images[offset:offset+rows]):\n",
    "    im = Image.open(path).convert('RGB')\n",
    "    img_x, img_y = im.size\n",
    "    print(im.size)\n",
    "    ax[i, 0].imshow(im, cmap='Greys_r')\n",
    "#     ax[0, 0].set_title(\"query image ID: \" + path.rsplit(\".\")[0], pad=20)\n",
    "\n",
    "    # im.show()\n",
    "    x_bigger = True if img_x > img_y else False\n",
    "    print(\"x_bigger:\",x_bigger)\n",
    "\n",
    "    if True:\n",
    "        ratio = img_x / img_y\n",
    "\n",
    "        if x_bigger:\n",
    "            factor = float(dim) / img_y \n",
    "        else:\n",
    "            factor = float(dim) / img_x\n",
    "        new_x = int(img_x * factor)\n",
    "        new_y = int(img_y * factor)\n",
    "\n",
    "        resized = im.resize((new_x, new_y), Image.ANTIALIAS)\n",
    "        # resized.show()\n",
    "\n",
    "        left = (new_x - dim)/2\n",
    "        top = (new_y - dim)/2\n",
    "        right = (new_x + dim)/2\n",
    "        bottom = (new_y + dim)/2\n",
    "\n",
    "        cropped = resized.crop((left, top, right, bottom))\n",
    "#         cropped.show()\n",
    "        ax[i, 1].imshow(cropped, cmap='Greys_r')\n",
    "\n",
    "\n",
    "        print(\"factor\", factor)\n",
    "        print(\"ratio\", ratio)\n",
    "        print(x_bigger)\n",
    "        print(\"img_x\", img_x)\n",
    "        print(\"img_y\", img_y)\n",
    "        print(new_x, new_y)\n",
    "        print(\"cropped\", cropped.size)\n",
    "\n",
    "    # just resize to fill the box\n",
    "    just_resize = im.resize((dim, dim), Image.ANTIALIAS)\n",
    "    #     just_resize.show()\n",
    "    ax[i, 2].imshow(just_resize, cmap='Greys_r')\n",
    "\n",
    "\n",
    "    if True:\n",
    "        if x_bigger:\n",
    "            factor = float(dim) / img_x\n",
    "        else:\n",
    "            factor = float(dim) / img_y\n",
    "        new_x = int(img_x * factor)\n",
    "        new_y = int(img_y * factor)\n",
    "        print(\"factor\", factor)\n",
    "        print(\"img_x\", img_x)\n",
    "        print(\"img_y\", img_y)\n",
    "        print(\"new_x\", new_x)\n",
    "        print(\"new_y\", new_y)\n",
    "        crop_resized = im.resize((new_x, new_y), Image.ANTIALIAS)\n",
    "#         ax[i, 3].imshow(crop_resized, cmap='Greys_r')\n",
    "\n",
    "\n",
    "        # pad\n",
    "        padded = Image.new(\"RGB\", (dim, dim))\n",
    "        padded.paste(crop_resized, ((dim - new_x)//2, (dim - new_y)//2))\n",
    "#         padded.show()\n",
    "        ax[i, 3].imshow(padded, cmap='Greys_r')\n",
    "\n",
    "\n",
    "    # return just_resize\n",
    "    \n",
    "plt.tight_layout(pad=0.5)\n",
    "savename = f\"crop_comparison_o{offset}-n{rows+offset}.jpg\"\n",
    "plt.savefig(savename, dpi=150, bbox_inches='tight')"
   ]
  },
  {
   "cell_type": "code",
   "execution_count": null,
   "metadata": {},
   "outputs": [],
   "source": []
  },
  {
   "cell_type": "code",
   "execution_count": null,
   "metadata": {},
   "outputs": [],
   "source": [
    "# original, crop, crop_resized, squish, pad\n",
    "# crop resizes to same aspect ratio that fits first then takes crop from centre\n",
    "w = 4\n",
    "h = 4"
   ]
  }
 ],
 "metadata": {
  "kernelspec": {
   "display_name": "Python 3",
   "language": "python",
   "name": "python3"
  },
  "language_info": {
   "codemirror_mode": {
    "name": "ipython",
    "version": 3
   },
   "file_extension": ".py",
   "mimetype": "text/x-python",
   "name": "python",
   "nbconvert_exporter": "python",
   "pygments_lexer": "ipython3",
   "version": "3.7.9"
  }
 },
 "nbformat": 4,
 "nbformat_minor": 4
}
