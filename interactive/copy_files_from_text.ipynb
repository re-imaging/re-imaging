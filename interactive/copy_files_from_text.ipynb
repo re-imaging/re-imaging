{
 "cells": [
  {
   "cell_type": "code",
   "execution_count": 21,
   "metadata": {},
   "outputs": [],
   "source": [
    "import os\n",
    "from shutil import copy2\n",
    "import sys"
   ]
  },
  {
   "cell_type": "code",
   "execution_count": 4,
   "metadata": {},
   "outputs": [
    {
     "name": "stdout",
     "output_type": "stream",
     "text": [
      "10052503\n"
     ]
    }
   ],
   "source": [
    "random_paths = \"/home/rte/data/paths/all_converted_jpg_images_shuf.txt\"\n",
    "filenames = []\n",
    "with open(random_paths, \"r\") as f:\n",
    "    lines = f.readlines()\n",
    "for l in lines:\n",
    "    filenames.append(l.strip())\n",
    "print(len(filenames))"
   ]
  },
  {
   "cell_type": "code",
   "execution_count": 5,
   "metadata": {},
   "outputs": [
    {
     "name": "stdout",
     "output_type": "stream",
     "text": [
      "['2971229.jpg', '4795851.jpg', '5288255.jpg']\n"
     ]
    }
   ],
   "source": [
    "print(filenames[:3])"
   ]
  },
  {
   "cell_type": "code",
   "execution_count": 23,
   "metadata": {},
   "outputs": [],
   "source": [
    "total_images = 120000\n",
    "check_first = False"
   ]
  },
  {
   "cell_type": "code",
   "execution_count": 24,
   "metadata": {},
   "outputs": [],
   "source": [
    "old_loc = \"/mnt/hd2/images/all/\"\n",
    "new_loc = \"/home/rte/data/images/web/120k/\""
   ]
  },
  {
   "cell_type": "code",
   "execution_count": null,
   "metadata": {},
   "outputs": [],
   "source": [
    "for i, filename in enumerate(filenames[:total_images]):\n",
    "    source = old_loc + filename\n",
    "    target = new_loc + filename\n",
    "#     print(source, target)\n",
    "    try:\n",
    "        copy2(source, target)\n",
    "    except IOError as e:\n",
    "        print(\"Unable to copy file. %s\" % e)\n",
    "        exit(1)\n",
    "    except:\n",
    "        print(\"Unexpected error:\", sys.exc_info())\n",
    "        exit(1)"
   ]
  },
  {
   "cell_type": "code",
   "execution_count": null,
   "metadata": {},
   "outputs": [],
   "source": []
  }
 ],
 "metadata": {
  "kernelspec": {
   "display_name": "Python 3",
   "language": "python",
   "name": "python3"
  },
  "language_info": {
   "codemirror_mode": {
    "name": "ipython",
    "version": 3
   },
   "file_extension": ".py",
   "mimetype": "text/x-python",
   "name": "python",
   "nbconvert_exporter": "python",
   "pygments_lexer": "ipython3",
   "version": "3.7.9"
  }
 },
 "nbformat": 4,
 "nbformat_minor": 4
}
