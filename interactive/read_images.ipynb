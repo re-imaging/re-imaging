{
 "cells": [
  {
   "cell_type": "code",
   "execution_count": null,
   "metadata": {},
   "outputs": [],
   "source": [
    "import sqlite3\n",
    "import random\n",
    "import itertools\n",
    "import subprocess\n",
    "import os\n",
    "import shlex\n",
    "import time\n",
    "import pickle\n",
    "import joblib\n",
    "\n",
    "import numpy as np\n",
    "import matplotlib.pyplot as plt\n",
    "import matplotlib.image as mpimg\n",
    "import matplotlib.cm as cm\n",
    "from matplotlib.colors import Normalize\n",
    "\n",
    "from PIL import Image, ImageDraw, ImageFont"
   ]
  },
  {
   "cell_type": "code",
   "execution_count": null,
   "metadata": {},
   "outputs": [],
   "source": [
    "dataset_size = 120000\n",
    "batch_size = 1000\n",
    "num_images = dataset_size"
   ]
  },
  {
   "cell_type": "code",
   "execution_count": null,
   "metadata": {},
   "outputs": [],
   "source": [
    "filepaths = []\n",
    "\n",
    "with open(\"/home/rte/data/paths/all_converted_jpg_images_shuf.txt\", \"r\") as f:\n",
    "    lines = f.readlines()\n",
    "    print(\"length:\",len(lines))\n",
    "    print(lines[0])\n",
    "for l in lines:\n",
    "    # substrings = l.rsplit(\",\", 1)\n",
    "    filepaths.append(l.strip())\n",
    "    # image_ids.append(substrings[1].strip())\n",
    "    \n",
    "# image_folder = \"/mnt/hd2/images/all/\"\n",
    "image_folder = \"/home/rte/data/images/web/120k/\"\n",
    "\n",
    "# get the image paths for all images that we have features for\n",
    "images = []\n",
    "\n",
    "for i, f in enumerate(filepaths[:]):\n",
    "    images.append(image_folder + f)\n",
    "print(len(images))\n",
    "print(images[:10])\n",
    "\n",
    "# resize to make sure we don't try and read more images than we have\n",
    "filepaths = filepaths[:dataset_size]\n",
    "print(len(filepaths))"
   ]
  },
  {
   "cell_type": "code",
   "execution_count": null,
   "metadata": {},
   "outputs": [],
   "source": [
    "x = [] # images as arrays\n",
    "dim = 256 # size of one dimension\n",
    "f = dim * dim # size of vector"
   ]
  },
  {
   "cell_type": "code",
   "execution_count": null,
   "metadata": {},
   "outputs": [],
   "source": [
    "def load_img(path, dim):\n",
    "    im = Image.open(path).convert('RGB')\n",
    "    img_x, img_y = im.size\n",
    "\n",
    "    # im.show()\n",
    "\n",
    "    if False:\n",
    "        x_bigger = True if img_x > img_y else False\n",
    "        ratio = img_x / img_y\n",
    "\n",
    "        if x_bigger:\n",
    "            factor = float(dim) / img_y \n",
    "        else:\n",
    "            factor = float(dim) / img_x\n",
    "        new_x = int(img_x * factor)\n",
    "        new_y = int(img_y * factor)\n",
    "\n",
    "        resized = im.resize((new_x, new_y), Image.ANTIALIAS)\n",
    "        # resized.show()\n",
    "\n",
    "        left = (new_x - dim)/2\n",
    "        top = (new_y - dim)/2\n",
    "        right = (new_x + dim)/2\n",
    "        bottom = (new_y + dim)/2\n",
    "\n",
    "        cropped = resized.crop((left, top, right, bottom))\n",
    "        cropped.show()\n",
    "\n",
    "#     print(\"factor\", factor)\n",
    "#     print(\"ratio\", ratio)\n",
    "#     print(x_bigger)\n",
    "#     print(\"img_x\", img_x)\n",
    "#     print(\"img_y\", img_y)\n",
    "#     print(new_x, new_y)\n",
    "#     print(\"cropped\", cropped.size)\n",
    "\n",
    "    # just resize to fill the box\n",
    "    just_resize = im.resize((256,256), Image.ANTIALIAS)\n",
    "#     just_resize.show()\n",
    "\n",
    "    if False:\n",
    "        if x_bigger:\n",
    "            factor = float(dim) / img_x\n",
    "        else:\n",
    "            factor = float(dim) / img_y\n",
    "        new_x = int(img_x * factor)\n",
    "        new_y = int(img_y * factor)\n",
    "    #     print(\"factor\", factor)\n",
    "    #     print(\"img_x\", img_x)\n",
    "    #     print(\"img_y\", img_y)\n",
    "        crop_resized = im.resize((new_x, new_y))\n",
    "\n",
    "        # pad\n",
    "        padded = Image.new(\"RGB\", (dim, dim))\n",
    "        padded.paste(crop_resized, ((dim - new_x)//2, (dim - new_y)//2))\n",
    "        padded.show()\n",
    "    \n",
    "    return just_resize"
   ]
  },
  {
   "cell_type": "code",
   "execution_count": null,
   "metadata": {},
   "outputs": [],
   "source": [
    "mean = np.array([224.03429894, 223.6761458, 223.62304944])"
   ]
  },
  {
   "cell_type": "code",
   "execution_count": null,
   "metadata": {},
   "outputs": [],
   "source": [
    "# multiprocessing read images\n",
    "from multiprocessing import Pool\n",
    "\n",
    "def image_worker(filename):\n",
    "    img_data = np.array(load_img(filename, dim)) - mean\n",
    "    return img_data"
   ]
  },
  {
   "cell_type": "code",
   "execution_count": null,
   "metadata": {},
   "outputs": [],
   "source": [
    "num_workers = 8\n",
    "image_batch = images[:5000]\n",
    "start = time.time()\n",
    "with Pool(num_workers) as p:\n",
    "    q = p.map(image_worker, image_batch)\n",
    "print(f\"time taken: {time.time() - start}\")"
   ]
  },
  {
   "cell_type": "code",
   "execution_count": null,
   "metadata": {},
   "outputs": [],
   "source": [
    "img = Image.fromarray(q[0], 'RGB')\n",
    "img.show()"
   ]
  },
  {
   "cell_type": "code",
   "execution_count": null,
   "metadata": {},
   "outputs": [],
   "source": []
  }
 ],
 "metadata": {
  "kernelspec": {
   "display_name": "Python 3",
   "language": "python",
   "name": "python3"
  },
  "language_info": {
   "codemirror_mode": {
    "name": "ipython",
    "version": 3
   },
   "file_extension": ".py",
   "mimetype": "text/x-python",
   "name": "python",
   "nbconvert_exporter": "python",
   "pygments_lexer": "ipython3",
   "version": "3.7.9"
  }
 },
 "nbformat": 4,
 "nbformat_minor": 4
}
