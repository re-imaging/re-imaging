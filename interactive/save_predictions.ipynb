{
 "cells": [
  {
   "cell_type": "markdown",
   "metadata": {},
   "source": [
    "# Save VGG predictions to SQLite database\n",
    "\n",
    "Use pretrained keras VGG16 model (trained on ImageNet) and save the predictions to SQLite database"
   ]
  },
  {
   "cell_type": "code",
   "execution_count": null,
   "metadata": {},
   "outputs": [],
   "source": [
    "import sqlite3\n",
    "import os\n",
    "import time\n",
    "\n",
    "from PIL import Image, ImageDraw, ImageFont\n",
    "\n",
    "# from pillow import Image\n",
    "\n",
    "import numpy as np\n",
    "import matplotlib.pyplot as plt\n",
    "import matplotlib.image as mpimg\n",
    "import matplotlib.cm as cm\n",
    "from matplotlib.colors import Normalize\n"
   ]
  },
  {
   "cell_type": "code",
   "execution_count": null,
   "metadata": {},
   "outputs": [],
   "source": [
    "import keras\n",
    "from keras.preprocessing import image\n",
    "from keras.applications.imagenet_utils import decode_predictions, preprocess_input\n",
    "from keras.models import Model, load_model"
   ]
  },
  {
   "cell_type": "code",
   "execution_count": null,
   "metadata": {},
   "outputs": [],
   "source": [
    "# this seems to help with some GPU memory issues\n",
    "\n",
    "import tensorflow as tf\n",
    "\n",
    "config = tf.ConfigProto()\n",
    "config.gpu_options.allow_growth = True\n",
    "session = tf.Session(config=config)"
   ]
  },
  {
   "cell_type": "code",
   "execution_count": null,
   "metadata": {},
   "outputs": [],
   "source": [
    "def load_image(path):\n",
    "    img = image.load_img(path, target_size=model.input_shape[1:3])\n",
    "    x = image.img_to_array(img)\n",
    "    x = np.expand_dims(x, axis=0)\n",
    "    x = preprocess_input(x)\n",
    "    return img, x"
   ]
  },
  {
   "cell_type": "code",
   "execution_count": null,
   "metadata": {},
   "outputs": [],
   "source": [
    "model = keras.applications.VGG16(weights='imagenet', include_top=True)\n",
    "feat_extractor = Model(inputs=model.input, outputs=model.get_layer(\"fc2\").output)\n",
    "print(\"feature extractor setup\")\n",
    "feat_extractor.summary()"
   ]
  },
  {
   "cell_type": "code",
   "execution_count": null,
   "metadata": {},
   "outputs": [],
   "source": [
    "NUM_INDEXES = 600000\n",
    "\n",
    "image_list = \"/home/rte/data/paths/all_images_shuf.txt\"\n",
    "filepaths = []\n",
    "\n",
    "with open(image_list, \"r\") as f:\n",
    "    lines = f.readlines()\n",
    "    print(\"length of image text file:\",len(lines))\n",
    "for l in lines[:NUM_INDEXES]:\n",
    "    substring = l.split(\".jpg\")[0]\n",
    "    filepaths.append(substring)"
   ]
  },
  {
   "cell_type": "code",
   "execution_count": null,
   "metadata": {},
   "outputs": [],
   "source": [
    "db_path = \"/home/rte/data/db/arxiv_db_images_600k.sqlite3\"\n",
    "db = sqlite3.connect(db_path)\n",
    "c = db.cursor()"
   ]
  },
  {
   "cell_type": "code",
   "execution_count": null,
   "metadata": {},
   "outputs": [],
   "source": [
    "# get indexes from SQLite\n",
    "get_sql = \"\"\"\n",
    "            SELECT id from images\n",
    "\"\"\"\n",
    "c.execute(get_sql)\n",
    "rows = c.fetchall()\n",
    "indexes = [r[0] for r in rows]\n",
    "print(len(indexes))"
   ]
  },
  {
   "cell_type": "code",
   "execution_count": null,
   "metadata": {},
   "outputs": [],
   "source": [
    "write_db = sqlite3.connect(db_path)\n",
    "write_cursor = write_db.cursor()\n",
    "\n",
    "image_folder = \"/mnt/hd2/images/all/\"\n",
    "\n",
    "set_sql = \"\"\"\n",
    "            UPDATE images\n",
    "            SET \"vggpred\" = ?\n",
    "            WHERE id = ?\n",
    "        \"\"\"\n",
    "\n",
    "write_cursor.execute(\"BEGIN TRANSACTION;\")\n",
    "\n",
    "for i, f in enumerate(indexes[:]):\n",
    "    img, x = load_image(os.path.join(image_folder, str(f) + \".jpg\"))\n",
    "    predictions = model.predict(x)\n",
    "    print(\"-----\", f)\n",
    "    pred_text = \"\"\n",
    "    count = 0\n",
    "\n",
    "    for _, pred, prob in decode_predictions(predictions)[0]:\n",
    "#         print(pred, prob)\n",
    "        pred_text += str(pred) + \" \" + \"{:06.4f}\".format(prob)\n",
    "        if count < 4:\n",
    "            pred_text += \",\"\n",
    "        count += 1\n",
    "#     print(pred_text)\n",
    "    write_cursor.execute(set_sql, (pred_text, f))\n",
    "    \n",
    "    if i % 1000 == 0:\n",
    "        print(\"committing changes:\", i)\n",
    "        write_db.commit()\n",
    "        write_cursor.execute(\"BEGIN TRANSACTION;\")\n",
    "\n",
    "write_db.commit()\n"
   ]
  }
 ],
 "metadata": {
  "kernelspec": {
   "display_name": "Python 3",
   "language": "python",
   "name": "python3"
  },
  "language_info": {
   "codemirror_mode": {
    "name": "ipython",
    "version": 3
   },
   "file_extension": ".py",
   "mimetype": "text/x-python",
   "name": "python",
   "nbconvert_exporter": "python",
   "pygments_lexer": "ipython3",
   "version": "3.7.2"
  }
 },
 "nbformat": 4,
 "nbformat_minor": 2
}
