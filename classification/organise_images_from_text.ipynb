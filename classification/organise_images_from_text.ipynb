{
 "cells": [
  {
   "cell_type": "markdown",
   "metadata": {},
   "source": [
    "A simple utility to organise images when being provided with a text file only of results and needing to move the files into specific folders.\n",
    "\n",
    "Expected text file in format of:"
   ]
  },
  {
   "cell_type": "raw",
   "metadata": {},
   "source": [
    "data/diagram/:\n",
    "10009012.jpg\n",
    "10009301.jpg\n",
    "1000933.jpg\n",
    "1001028.jpg\n",
    "...\n",
    "999675.jpg\n",
    "\n",
    "data/sensor/:\n",
    "10008540.jpg\n",
    "10042166.jpg\n",
    "1005240.jpg\n",
    "1061628.jpg\n",
    "...\n",
    "9991382.jpg\n",
    "\n",
    "data/unsure/:\n",
    "10003727.jpg\n",
    "10010212.jpg\n",
    "10023853.jpg\n",
    "10031028.jpg"
   ]
  },
  {
   "cell_type": "code",
   "execution_count": null,
   "metadata": {},
   "outputs": [],
   "source": [
    "import os"
   ]
  },
  {
   "cell_type": "code",
   "execution_count": null,
   "metadata": {},
   "outputs": [],
   "source": [
    "image_folder = \"/home/rte/data/images/random/seq/0-100k/adrian/\""
   ]
  },
  {
   "cell_type": "code",
   "execution_count": null,
   "metadata": {},
   "outputs": [],
   "source": [
    "image_folder = \"/home/rte/data/images/random/seq/0-100k/anna/\""
   ]
  },
  {
   "cell_type": "code",
   "execution_count": null,
   "metadata": {},
   "outputs": [],
   "source": [
    "os.chdir(image_folder)\n",
    "# fname = \"/home/rte/re-imaging/data-samples/adrian-train-report.txt\"\n",
    "fname = \"/home/rte/re-imaging/data-samples/anna_filelist_20190904.txt\"\n",
    "active = False\n",
    "headings = [\"data/sensor\", \"data/diagram\", \"data/unsure\"]\n",
    "print(target)"
   ]
  },
  {
   "cell_type": "code",
   "execution_count": null,
   "metadata": {},
   "outputs": [],
   "source": [
    "for heading in headings:\n",
    "    target = heading.rsplit(\"/\")[1]\n",
    "    if not os.path.exists(target): os.mkdir(target)"
   ]
  },
  {
   "cell_type": "code",
   "execution_count": null,
   "metadata": {},
   "outputs": [],
   "source": [
    "for heading in headings:\n",
    "    with open(fname, 'r') as f:\n",
    "        for i, line in enumerate(f):\n",
    "    #         print(l)\n",
    "    #         if linenum == 0: print(line)\n",
    "    #         print(i, line)\n",
    "            if active and line in ['\\n', '\\r\\n']:\n",
    "                active = False\n",
    "            if active:\n",
    "                l = line.rsplit(\"\\n\")[0]\n",
    "                print(l)\n",
    "                target = heading.rsplit(\"/\")[1]\n",
    "                new_path = os.path.join(target, l)\n",
    "                print(new_path)\n",
    "                os.rename(l, new_path)\n",
    "            if heading in line:\n",
    "    #             print(\"found data/sensor on line:\",i)\n",
    "                active = True"
   ]
  },
  {
   "cell_type": "code",
   "execution_count": null,
   "metadata": {},
   "outputs": [],
   "source": []
  }
 ],
 "metadata": {
  "kernelspec": {
   "display_name": "Python 3",
   "language": "python",
   "name": "python3"
  },
  "language_info": {
   "codemirror_mode": {
    "name": "ipython",
    "version": 3
   },
   "file_extension": ".py",
   "mimetype": "text/x-python",
   "name": "python",
   "nbconvert_exporter": "python",
   "pygments_lexer": "ipython3",
   "version": "3.6.8"
  }
 },
 "nbformat": 4,
 "nbformat_minor": 2
}
