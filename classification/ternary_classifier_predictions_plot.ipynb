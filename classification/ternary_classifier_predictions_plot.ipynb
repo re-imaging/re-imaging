{
 "cells": [
  {
   "cell_type": "markdown",
   "metadata": {},
   "source": [
    "# Ternary Classifier Predictions\n",
    "\n",
    "Uses a previously trained network to classify images and then saves the resulting prediction averages."
   ]
  },
  {
   "cell_type": "code",
   "execution_count": null,
   "metadata": {},
   "outputs": [],
   "source": [
    "import matplotlib.pyplot as plt\n",
    "from matplotlib import rc\n",
    "import numpy as np\n",
    "import sqlite3\n",
    "import pickle\n",
    "import json\n",
    "import math\n",
    "import random\n",
    "import pandas as pd"
   ]
  },
  {
   "cell_type": "code",
   "execution_count": null,
   "metadata": {},
   "outputs": [],
   "source": [
    "image_pkl_filename = \"ternary_classifier_predictions.pkl\"\n",
    "\n",
    "# READ PKL\n",
    "with open(image_pkl_filename, \"rb\") as read_file:\n",
    "    image_data = pickle.load(read_file)"
   ]
  },
  {
   "cell_type": "code",
   "execution_count": null,
   "metadata": {},
   "outputs": [],
   "source": [
    "image_data"
   ]
  },
  {
   "cell_type": "code",
   "execution_count": null,
   "metadata": {},
   "outputs": [],
   "source": [
    "test_data = image_data[:17]"
   ]
  },
  {
   "cell_type": "code",
   "execution_count": null,
   "metadata": {},
   "outputs": [],
   "source": [
    "test_data"
   ]
  },
  {
   "cell_type": "code",
   "execution_count": null,
   "metadata": {},
   "outputs": [],
   "source": [
    "xdim = 15\n",
    "ydim = 12\n",
    "\n",
    "fig, ax = plt.subplots(ydim, xdim)\n",
    "fig.subplots_adjust(hspace=0.2, wspace=0.2)\n",
    "fig.set_size_inches(40, 30)\n",
    "\n",
    "plt.yticks([])\n",
    "plt.xticks([])\n",
    "\n",
    "for i, cat in enumerate(test_data[:]):\n",
    "    \n",
    "    y = math.floor(i / xdim)\n",
    "    x = i - (y * xdim)\n",
    "    print(x, y)\n",
    "    \n",
    "    print(\"category - \",cat[0])\n",
    "    \n",
    "    diagrams = []\n",
    "    sensors = []\n",
    "    unsures = []\n",
    "    sum_totals = []\n",
    "    \n",
    "#     a = np.array([])\n",
    "    \n",
    "    for class_totals in cat[3]:\n",
    "        print(class_totals)\n",
    "#         np.append(a, class_totals)\n",
    "        year_total = 0\n",
    "        for res in class_totals:\n",
    "            year_total += res\n",
    "        sum_totals.append(year_total)\n",
    "        \n",
    "        diagrams.append(class_totals[0])\n",
    "        sensors.append(class_totals[1])\n",
    "        unsures.append(class_totals[2])\n",
    "        \n",
    "    print(\"t\",sum_totals)\n",
    "    print(\"d\",diagrams)\n",
    "    print(\"s\",sensors)\n",
    "    print(\"u\",unsures)\n",
    "    \n",
    "    diagram_percentages = [i / j * 100 for i, j in zip(diagrams, sum_totals)]\n",
    "    sensor_percentages = [i / j * 100 for i, j in zip(sensors, sum_totals)]\n",
    "    unsure_percentages = [i / j * 100 for i, j in zip(unsures, sum_totals)]\n",
    "    \n",
    "    print(\"d%\",diagram_percentages)\n",
    "    print(\"s%\",sensor_percentages)\n",
    "    print(\"u%\",unsure_percentages)\n",
    "    \n",
    "#     print(a)\n",
    "\n",
    "    barWidth = 5 / len(diagram_percentages)\n",
    "    print(\"barWidth:\",barWidth)\n",
    "    \n",
    "    indexes = [i for i,_ in enumerate(diagrams)]\n",
    "    print(\"indexes:\",indexes)\n",
    "    \n",
    "#     ax[i, j].plot(data[idx][1], data[idx][2], '--r.')\n",
    "#     ax[i, j].title.set_text(data[idx][0])\n",
    "            \n",
    "    ax[y,x].bar(indexes, diagram_percentages, color='#26bfb8', edgecolor='white')\n",
    "    ax[y,x].bar(indexes, sensor_percentages, bottom=diagram_percentages, color='#e6d929', edgecolor='white')\n",
    "    ax[y,x].bar(indexes, unsure_percentages, bottom=[i+j for i,j in zip(diagram_percentages, sensor_percentages)], color='#e62929', edgecolor='white')\n",
    "\n",
    "    ax[y,x].set_xticklabels([])\n",
    "    ax[y,x].set_yticklabels([])\n",
    "    \n",
    "    ax[y,x].title.set_text(cat[0])\n",
    "\n",
    "    print(\"*\" * 20)\n",
    "    \n",
    "fig.savefig(\"plot_ternary_classifier_predictions.svg\", dpi=300)\n",
    "    \n",
    "#         sum_totals = [i+j+k for i,j,k in zip(class_totals[0],class_totals[1],class_totals[2])]\n",
    "#         print(sums)"
   ]
  }
 ],
 "metadata": {
  "kernelspec": {
   "display_name": "Python 3",
   "language": "python",
   "name": "python3"
  },
  "language_info": {
   "codemirror_mode": {
    "name": "ipython",
    "version": 3
   },
   "file_extension": ".py",
   "mimetype": "text/x-python",
   "name": "python",
   "nbconvert_exporter": "python",
   "pygments_lexer": "ipython3",
   "version": "3.7.2"
  }
 },
 "nbformat": 4,
 "nbformat_minor": 2
}
