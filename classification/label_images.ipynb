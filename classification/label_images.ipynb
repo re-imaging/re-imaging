{
 "cells": [
  {
   "cell_type": "code",
   "execution_count": 1,
   "metadata": {},
   "outputs": [],
   "source": [
    "import os"
   ]
  },
  {
   "cell_type": "code",
   "execution_count": 2,
   "metadata": {},
   "outputs": [],
   "source": [
    "import matplotlib.pyplot as plt\n",
    "from matplotlib.pyplot import imshow\n",
    "\n",
    "from PIL import Image\n",
    "from IPython.display import display\n",
    "from IPython.display import clear_output\n",
    "\n",
    "import numpy as np\n",
    "\n",
    "# from PyQt5.QtWidgets import QApplication, QLabel\n",
    "\n",
    "import time"
   ]
  },
  {
   "cell_type": "code",
   "execution_count": 3,
   "metadata": {},
   "outputs": [
    {
     "name": "stdout",
     "output_type": "stream",
     "text": [
      "99985\n"
     ]
    }
   ],
   "source": [
    "targetpath = \"/home/rte/data/images/random/seq/0-100k/\"\n",
    "\n",
    "filepaths = [f for f in os.listdir(targetpath) if os.path.isfile(os.path.join(targetpath, f))]\n",
    "\n",
    "counter = 0\n",
    "\n",
    "# filepaths = []\n",
    "# for (dirpath, dirnames, filenames) in os.walk(dir):\n",
    "#     filepaths.extend(filenames)\n",
    "\n",
    "print(len(filepaths))\n",
    "# print(filepaths)"
   ]
  },
  {
   "cell_type": "code",
   "execution_count": 4,
   "metadata": {},
   "outputs": [],
   "source": [
    "# create required directories\n",
    "options = [\"diagram\", \"unsure\", \"sensor\"]\n",
    "\n",
    "diagram_path = targetpath + \"diagram/\"\n",
    "sensor_path = targetpath + \"sensor/\"\n",
    "unsure_path = targetpath + \"unsure/\"\n",
    "\n",
    "if os.path.isdir(diagram_path) is False: \n",
    "    os.mkdir(diagram_path)\n",
    "if os.path.isdir(sensor_path) is False: \n",
    "    os.mkdir(sensor_path)\n",
    "if os.path.isdir(unsure_path) is False: \n",
    "    os.mkdir(unsure_path)\n"
   ]
  },
  {
   "cell_type": "code",
   "execution_count": 5,
   "metadata": {},
   "outputs": [],
   "source": [
    "def test_image(f):\n",
    "    print(f)\n",
    "#     %matplotlib inline\n",
    "    im = Image.open(targetpath + f)\n",
    "#     imshow(np.asarray(im))\n",
    "#     im.show()\n",
    "    display(im)\n",
    "    \n",
    "#     Image(filename=targetpath+f)\n",
    "#     key = '100'\n",
    "#     while int(key) != 1 or 2 or 3:\n",
    "    key = input()\n",
    "    print(key)\n",
    "    if key == '9':\n",
    "        print(\"exiting\")\n",
    "#         break\n",
    "    elif key == '1' or key == '2' or key == '3':\n",
    "        print(\"selected option:\",options[int(key) - 1])\n",
    "        if key == '1':\n",
    "            print(\"moving image\")\n",
    "            os.rename(targetpath + f, diagram_path + f)\n",
    "        if key == '2':\n",
    "            print(\"moving image\")\n",
    "            os.rename(targetpath + f, diagram_path + f)\n",
    "        if key == '3':\n",
    "            print(\"moving image\")\n",
    "            os.rename(targetpath + f, diagram_path + f)\n",
    "        clear_output(wait=False)\n",
    "        return\n",
    "#     else:\n",
    "#         key = input()    "
   ]
  },
  {
   "cell_type": "code",
   "execution_count": 6,
   "metadata": {},
   "outputs": [
    {
     "name": "stdout",
     "output_type": "stream",
     "text": [
      "count: 100\n"
     ]
    }
   ],
   "source": [
    "for f in filepaths[:100]:\n",
    "    test_image(f)\n",
    "    counter += 1\n",
    "    print(\"count:\",counter)\n",
    "#     time.sleep(3)"
   ]
  },
  {
   "cell_type": "markdown",
   "metadata": {},
   "source": [
    "TODO\n",
    "- move to directories\n",
    "- undo function?"
   ]
  },
  {
   "cell_type": "code",
   "execution_count": null,
   "metadata": {},
   "outputs": [],
   "source": []
  },
  {
   "cell_type": "code",
   "execution_count": null,
   "metadata": {},
   "outputs": [],
   "source": []
  },
  {
   "cell_type": "code",
   "execution_count": null,
   "metadata": {},
   "outputs": [],
   "source": []
  },
  {
   "cell_type": "code",
   "execution_count": null,
   "metadata": {},
   "outputs": [],
   "source": []
  },
  {
   "cell_type": "code",
   "execution_count": null,
   "metadata": {},
   "outputs": [],
   "source": []
  },
  {
   "cell_type": "code",
   "execution_count": null,
   "metadata": {},
   "outputs": [],
   "source": []
  },
  {
   "cell_type": "code",
   "execution_count": null,
   "metadata": {},
   "outputs": [],
   "source": []
  },
  {
   "cell_type": "code",
   "execution_count": null,
   "metadata": {},
   "outputs": [],
   "source": []
  }
 ],
 "metadata": {
  "kernelspec": {
   "display_name": "Python 3",
   "language": "python",
   "name": "python3"
  },
  "language_info": {
   "codemirror_mode": {
    "name": "ipython",
    "version": 3
   },
   "file_extension": ".py",
   "mimetype": "text/x-python",
   "name": "python",
   "nbconvert_exporter": "python",
   "pygments_lexer": "ipython3",
   "version": "3.6.8"
  }
 },
 "nbformat": 4,
 "nbformat_minor": 2
}
