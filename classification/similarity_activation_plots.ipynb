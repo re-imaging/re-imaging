{
 "cells": [
  {
   "cell_type": "markdown",
   "metadata": {},
   "source": [
    "# Generate similarity strips\n",
    "\n",
    "This notebook loads in VGG classifier fc2 features, runs these through PCA, then uses this data to find the most similar images in the dataset. "
   ]
  },
  {
   "cell_type": "code",
   "execution_count": null,
   "metadata": {},
   "outputs": [],
   "source": [
    "import sqlite3\n",
    "import random\n",
    "import itertools\n",
    "import subprocess\n",
    "import os\n",
    "import shlex\n",
    "import time\n",
    "import pickle"
   ]
  },
  {
   "cell_type": "code",
   "execution_count": null,
   "metadata": {},
   "outputs": [],
   "source": [
    "import bz2"
   ]
  },
  {
   "cell_type": "code",
   "execution_count": null,
   "metadata": {},
   "outputs": [],
   "source": [
    "from PIL import Image, ImageDraw, ImageFont\n",
    "\n",
    "# from pillow import Image\n",
    "\n",
    "import numpy as np\n",
    "import matplotlib.pyplot as plt\n",
    "import matplotlib.image as mpimg\n",
    "import matplotlib.cm as cm\n",
    "from matplotlib.colors import Normalize"
   ]
  },
  {
   "cell_type": "code",
   "execution_count": null,
   "metadata": {},
   "outputs": [],
   "source": [
    "from keras.preprocessing import image"
   ]
  },
  {
   "cell_type": "code",
   "execution_count": null,
   "metadata": {},
   "outputs": [],
   "source": [
    "from scipy.spatial import distance"
   ]
  },
  {
   "cell_type": "code",
   "execution_count": null,
   "metadata": {},
   "outputs": [],
   "source": [
    "def load_image(path):\n",
    "    img = image.load_img(path, target_size=model.input_shape[1:3])\n",
    "    x = image.img_to_array(img)\n",
    "    x = np.expand_dims(x, axis=0)\n",
    "    x = preprocess_input(x)\n",
    "    return img, x"
   ]
  },
  {
   "cell_type": "code",
   "execution_count": null,
   "metadata": {
    "scrolled": true
   },
   "outputs": [],
   "source": [
    "p = \"/home/rte/re-imaging/visualisation/features/v1/features_0_50000_vgg.pkl.pbz2\"\n",
    "folder = \"/home/rte/re-imaging/visualisation/features/v1/\"\n",
    "\n",
    "features = []\n",
    "files = [f for f in os.listdir(folder) if os.path.isfile(os.path.join(folder, f))]\n",
    "files.sort()\n",
    "# print(files)\n",
    "\n",
    "for f in files[:2]:\n",
    "    with bz2.open(folder + f, \"r\") as read_file:\n",
    "        features = features + pickle.load(read_file)\n",
    "        print(\"loaded:\", folder + f)\n",
    "        print(\"features size:\",len(features))\n",
    "#     for p in features[:5]:\n",
    "#         print(p)"
   ]
  },
  {
   "cell_type": "code",
   "execution_count": null,
   "metadata": {},
   "outputs": [],
   "source": [
    "print(len(features), len(features[0]))"
   ]
  },
  {
   "cell_type": "code",
   "execution_count": null,
   "metadata": {
    "scrolled": true
   },
   "outputs": [],
   "source": [
    "plt.figure(figsize=(16,4))\n",
    "for p in features[:10]:\n",
    "    plt.plot(p)"
   ]
  },
  {
   "cell_type": "code",
   "execution_count": null,
   "metadata": {},
   "outputs": [],
   "source": [
    "features = np.array(features)"
   ]
  },
  {
   "cell_type": "code",
   "execution_count": null,
   "metadata": {},
   "outputs": [],
   "source": [
    "some_features = features[:100000]\n",
    "print(len(some_features))"
   ]
  },
  {
   "cell_type": "code",
   "execution_count": null,
   "metadata": {},
   "outputs": [],
   "source": [
    "from sklearn.decomposition import PCA\n",
    "\n",
    "pca = PCA(n_components=300)\n",
    "pca.fit(some_features)"
   ]
  },
  {
   "cell_type": "code",
   "execution_count": null,
   "metadata": {},
   "outputs": [],
   "source": [
    "pca_features = pca.transform(some_features)"
   ]
  },
  {
   "cell_type": "code",
   "execution_count": null,
   "metadata": {},
   "outputs": [],
   "source": [
    "filepaths = []\n",
    "\n",
    "with open(\"/home/rte/data/paths/all_converted_jpg_images_shuf.txt\", \"r\") as f:\n",
    "    lines = f.readlines()\n",
    "    print(\"length:\",len(lines))\n",
    "    print(lines[0])\n",
    "for l in lines:\n",
    "    # substrings = l.rsplit(\",\", 1)\n",
    "    filepaths.append(l.strip())\n",
    "    # image_ids.append(substrings[1].strip())"
   ]
  },
  {
   "cell_type": "code",
   "execution_count": null,
   "metadata": {},
   "outputs": [],
   "source": [
    "# get the image paths for all images that we have features for\n",
    "images = []\n",
    "image_folder = \"/mnt/hd2/images/all/\"\n",
    "\n",
    "for i, f in enumerate(filepaths[:len(features)]):\n",
    "    images.append(image_folder + f)\n",
    "print(len(images))\n",
    "print(images[:10])"
   ]
  },
  {
   "cell_type": "code",
   "execution_count": null,
   "metadata": {},
   "outputs": [],
   "source": [
    "# grab a random query image\n",
    "query_image_idx = int(len(images) * random.random())\n",
    "\n",
    "# let's display the image\n",
    "img = image.load_img(images[query_image_idx])\n",
    "plt.imshow(img)"
   ]
  },
  {
   "cell_type": "code",
   "execution_count": null,
   "metadata": {},
   "outputs": [],
   "source": [
    "# get distance from PCA\n",
    "def get_closest_images(query_image_idx, num_results=5):\n",
    "    distances = [ distance.cityblock(pca_features[query_image_idx], feat) for feat in pca_features ]\n",
    "    idx_closest = sorted(range(len(distances)), key=lambda k: distances[k])[1:num_results+1]\n",
    "    return idx_closest"
   ]
  },
  {
   "cell_type": "code",
   "execution_count": null,
   "metadata": {},
   "outputs": [],
   "source": [
    "# get distance between features\n",
    "def get_closest_images(query_image_idx, num_results=5):\n",
    "    distances = [ distance.cosine(features[query_image_idx], feat) for feat in features ]\n",
    "    idx_closest = sorted(range(len(distances)), key=lambda k: distances[k])[1:num_results+1]\n",
    "    return idx_closest"
   ]
  },
  {
   "cell_type": "markdown",
   "metadata": {},
   "source": [
    "### grid version"
   ]
  },
  {
   "cell_type": "code",
   "execution_count": null,
   "metadata": {},
   "outputs": [],
   "source": [
    "target = \"similarity_strips_1m_features\"\n",
    "if not os.path.exists(target): os.mkdir(target)\n",
    "    \n",
    "xdim = 5\n",
    "ydim = 5\n",
    "\n",
    "for index, image_path in enumerate(images[:20]):\n",
    "    print(\"path:\",image_path)\n",
    "    start = time.time()\n",
    "    plt.close('all')\n",
    "\n",
    "    # get similarity for current image\n",
    "    query_image_idx = index\n",
    "    idx_closest = get_closest_images(query_image_idx, num_results=20)\n",
    "    query_image = mpimg.imread(image_path)\n",
    "\n",
    "    fig, ax = plt.subplots(xdim, ydim)\n",
    "    fig.set_size_inches(10, 12)\n",
    "    fig.patch.set_facecolor('0.98')\n",
    "#     print(filepaths[index].split(\".\")[0])\n",
    "    title_string = \"similarity strip {:04d} | image ID: {:08d}\".format(index, int(filepaths[index].split(\".\")[0]))\n",
    "    print(title_string)\n",
    "    fig.suptitle(title_string, y=1.0)\n",
    "\n",
    "    # display the query image\n",
    "    ax[0, 0].imshow(query_image, cmap='Greys_r')\n",
    "#     ax[0, 0].set_title(\"query image ID: \" + filepaths[index].split(\".\")[0], pad=20)\n",
    "    \n",
    "    for i in range(5):\n",
    "        ax[0, i]. axis('off')\n",
    "    \n",
    "    for y in range(1, ydim):\n",
    "        for x in range(xdim):\n",
    "#             print(x, y)\n",
    "            grid_index = (y * ydim) + x - xdim\n",
    "#             print(grid_index)\n",
    "#             print(idx_closest[grid_index])\n",
    "#             print(images[idx_closest[grid_index]])\n",
    "            current_image = mpimg.imread(images[idx_closest[grid_index]])\n",
    "            ax[y, x].imshow(current_image, cmap='Greys_r')\n",
    "            ax[y, x].axis('off')\n",
    "\n",
    "    plt.tight_layout(pad=0.5)\n",
    "    savename = target + \"/\" + f'{query_image_idx:04}' + \"_\" + filepaths[index].split(\".\")[0] + \"_strip_1m.jpg\"\n",
    "    plt.savefig(savename, dpi=150, bbox_inches='tight')\n",
    "    print(\"completed\", index)\n",
    "    print(\"time taken\", \"{:.4f}\".format(time.time() - start))"
   ]
  },
  {
   "cell_type": "code",
   "execution_count": null,
   "metadata": {},
   "outputs": [],
   "source": [
    "print(images[:5])"
   ]
  },
  {
   "cell_type": "markdown",
   "metadata": {},
   "source": [
    "### line version"
   ]
  },
  {
   "cell_type": "code",
   "execution_count": null,
   "metadata": {},
   "outputs": [],
   "source": [
    "def get_concatenated_images(indexes, thumb_height):\n",
    "    thumbs = []\n",
    "    for idx in indexes:\n",
    "        img = image.load_img(images[idx])\n",
    "        img = img.resize((int(img.width * thumb_height / img.height), thumb_height))\n",
    "        thumbs.append(img)\n",
    "    concat_image = np.concatenate([np.asarray(t) for t in thumbs], axis=1)\n",
    "    return concat_image"
   ]
  },
  {
   "cell_type": "code",
   "execution_count": null,
   "metadata": {},
   "outputs": [],
   "source": [
    "target = \"similarity_strips_100k\"\n",
    "if not os.path.exists(target): os.mkdir(target)\n",
    "    \n",
    "for index, image_name in enumerate(images[:20]):\n",
    "    plt.close('all')\n",
    "    # do a query on a random image\n",
    "    query_image_idx = index\n",
    "    # query_image_idx = int(len(images) * random.random())\n",
    "    idx_closest = get_closest_images(query_image_idx, num_results=20)\n",
    "    query_image = get_concatenated_images([query_image_idx], 512)\n",
    "\n",
    "    fig, ax = plt.subplots(5, 1)\n",
    "    fig.set_size_inches(10, 10)\n",
    "    fig.patch.set_facecolor('0.98')\n",
    "\n",
    "    # display the query image\n",
    "    # plt.figure(figsize = (5,5))\n",
    "    ax[0].imshow(query_image)\n",
    "    ax[0].set_title(\"query image (%d)\" % query_image_idx + \" - image ID: \" + filepaths[index].split(\".\")[0])\n",
    "    ax[0].axis('off')\n",
    "\n",
    "    # display the resulting images\n",
    "    for i in range(0, 4):\n",
    "        ia = i*5\n",
    "        ib = (i*5)+5\n",
    "    #     print(ia, ib)\n",
    "        results_image = get_concatenated_images(idx_closest[ia:ib], 512)\n",
    "    #     ax[i+1].figure(figsize = (16,12))\n",
    "        ax[i+1].imshow(results_image)\n",
    "    #     ax[i].title(\"result images\")\n",
    "        ax[i+1].axis('off')\n",
    "\n",
    "    plt.tight_layout(pad=2.5)\n",
    "    savename = target + \"/\" + f'{query_image_idx:04}' + \"_\" + filepaths[index].split(\".\")[0] + \"_strip_100k.jpg\"\n",
    "    plt.savefig(savename, dpi=150, bbox_inches='tight')"
   ]
  },
  {
   "cell_type": "code",
   "execution_count": null,
   "metadata": {},
   "outputs": [],
   "source": [
    "# do a query on a random image\n",
    "query_image_idx = int(len(images) * random.random())\n",
    "idx_closest = get_closest_images(query_image_idx)\n",
    "query_image = get_concatenated_images([query_image_idx], 300)\n",
    "results_image = get_concatenated_images(idx_closest, 200)\n",
    "\n",
    "# display the query image\n",
    "plt.figure(figsize = (5,5))\n",
    "plt.imshow(query_image)\n",
    "plt.title(\"query image (%d)\" % query_image_idx)\n",
    "\n",
    "# display the resulting images\n",
    "plt.figure(figsize = (16,12))\n",
    "plt.imshow(results_image)\n",
    "plt.title(\"result images\")"
   ]
  },
  {
   "cell_type": "markdown",
   "metadata": {},
   "source": [
    "### Min and max feature activation"
   ]
  },
  {
   "cell_type": "code",
   "execution_count": null,
   "metadata": {},
   "outputs": [],
   "source": [
    "selection = 2"
   ]
  },
  {
   "cell_type": "code",
   "execution_count": null,
   "metadata": {},
   "outputs": [],
   "source": [
    "min_img = image.load_img(images[min_index[selection]])\n",
    "plt.imshow(min_img)\n",
    "\n",
    "plt.figure(figsize=(16,4))\n",
    "max_range = 4096\n",
    "# for p in features[top_index[0]]:\n",
    "#     plt.plot(p)\n",
    "plt.plot(features[min_index[selection]][:max_range])\n",
    "# plt.xticks(range(max_range), range(max_range))"
   ]
  },
  {
   "cell_type": "code",
   "execution_count": null,
   "metadata": {},
   "outputs": [],
   "source": [
    "# selection = 10\n",
    "\n",
    "for index in top_index[:10]:\n",
    "#     plt.close('all')\n",
    "\n",
    "    # display max image and plot\n",
    "    max_img = image.load_img(images[index])\n",
    "    plt.imshow(max_img)\n",
    "\n",
    "    plt.figure(figsize=(16,4))\n",
    "    max_range = 4096\n",
    "    # for p in features[top_index[0]]:\n",
    "    #     plt.plot(p)\n",
    "    plt.plot(features[index][:max_range])\n",
    "    # plt.xticks(range(max_range), range(max_range))\n",
    "\n",
    "#     time.sleep(2)"
   ]
  },
  {
   "cell_type": "code",
   "execution_count": null,
   "metadata": {},
   "outputs": [],
   "source": [
    "features.shape"
   ]
  },
  {
   "cell_type": "code",
   "execution_count": null,
   "metadata": {},
   "outputs": [],
   "source": [
    "sorted_indexes = np.argsort(features, axis=0)\n",
    "# sorted_indexes = np.argsort(pca_features, axis=0)"
   ]
  },
  {
   "cell_type": "code",
   "execution_count": null,
   "metadata": {},
   "outputs": [],
   "source": [
    "sorted_indexes = np.flip(sorted_indexes, axis=0)\n",
    "sorted_indexes = sorted_indexes.transpose()"
   ]
  },
  {
   "cell_type": "code",
   "execution_count": null,
   "metadata": {},
   "outputs": [],
   "source": [
    "sorted_indexes[0][:20]"
   ]
  },
  {
   "cell_type": "code",
   "execution_count": null,
   "metadata": {},
   "outputs": [],
   "source": [
    "sorted_indexes.shape"
   ]
  },
  {
   "cell_type": "code",
   "execution_count": null,
   "metadata": {},
   "outputs": [],
   "source": [
    "sorted_indexes"
   ]
  },
  {
   "cell_type": "code",
   "execution_count": null,
   "metadata": {},
   "outputs": [],
   "source": [
    "target = \"top_feature_activations\"\n",
    "if not os.path.exists(target): os.mkdir(target)\n",
    "    \n",
    "xdim = 5\n",
    "ydim = 5\n",
    "\n",
    "for i, indexes in enumerate(sorted_indexes[:300]):\n",
    "#     print(\"indexes:\",indexes)\n",
    "    start = time.time()\n",
    "    plt.close('all')\n",
    "\n",
    "    fig, ax = plt.subplots(xdim, ydim)\n",
    "    fig.set_size_inches(10, 10)\n",
    "    #     fig.patch.set_facecolor('0.98')\n",
    "    title_string = \"top activations | feature {:04d}\".format(i)\n",
    "#     print(title_string)\n",
    "    fig.suptitle(title_string, y=1.05)\n",
    "    \n",
    "#     for index in indexes[:xdim*ydim]:\n",
    "    for y in range(ydim):\n",
    "        for x in range(xdim):\n",
    "            index = indexes[y * ydim + x]\n",
    "#             print(images[index])\n",
    "            identifier = filepaths[index].split(\".\")[0] \n",
    "#             print(identifier)\n",
    "#             print(x, y)\n",
    "#             grid_index = (y * ydim) + x - xdim\n",
    "# #             print(grid_index)\n",
    "# #             print(idx_closest[grid_index])\n",
    "# #             print(images[idx_closest[grid_index]])\n",
    "            current_image = mpimg.imread(images[index])\n",
    "            ax[y, x].imshow(current_image, cmap='Greys_r')\n",
    "            ax[y, x].axis('off')\n",
    "#             subplot_title = \"{:02d}: {:08d}\".format(y*ydim+x, int(identifier))\n",
    "#             ax[y, x].text(0.5, 0, subplot_title, ha=\"center\")\n",
    "\n",
    "    plt.tight_layout(pad=0.5)\n",
    "    savename = \"{}/{:03d}_activation_100k.jpg\".format(target, i)\n",
    "    print(savename)\n",
    "    plt.savefig(savename, dpi=150, bbox_inches='tight')\n",
    "#     print(\"completed\", index)\n",
    "#     print(\"time taken\", \"{:.4f}\".format(time.time() - start))"
   ]
  },
  {
   "cell_type": "markdown",
   "metadata": {},
   "source": [
    "# CUT"
   ]
  },
  {
   "cell_type": "code",
   "execution_count": null,
   "metadata": {},
   "outputs": [],
   "source": [
    "# load all the similarity results as thumbnails of height 100\n",
    "thumbs = []\n",
    "for idx in idx_closest:\n",
    "    img = image.load_img(images[idx])\n",
    "    img = img.resize((int(img.width * 100 / img.height), 100))\n",
    "    thumbs.append(img)\n",
    "\n",
    "# concatenate the images into a single image\n",
    "concat_image = np.concatenate([np.asarray(t) for t in thumbs], axis=1)\n",
    "\n",
    "# show the image\n",
    "plt.figure(figsize = (16,12))\n",
    "plt.imshow(concat_image)\n",
    "plt.savefig(\"closest_test\", dpi=150, bbox_inches='tight')"
   ]
  },
  {
   "cell_type": "code",
   "execution_count": null,
   "metadata": {},
   "outputs": [],
   "source": [
    "similar_idx = [ distance.cosine(pca_features[query_image_idx], feat) for feat in pca_features ]\n",
    "idx_closest = sorted(range(len(similar_idx)), key=lambda k: similar_idx[k])[1:6]"
   ]
  }
 ],
 "metadata": {
  "kernelspec": {
   "display_name": "Python 3",
   "language": "python",
   "name": "python3"
  },
  "language_info": {
   "codemirror_mode": {
    "name": "ipython",
    "version": 3
   },
   "file_extension": ".py",
   "mimetype": "text/x-python",
   "name": "python",
   "nbconvert_exporter": "python",
   "pygments_lexer": "ipython3",
   "version": "3.7.9"
  }
 },
 "nbformat": 4,
 "nbformat_minor": 2
}
