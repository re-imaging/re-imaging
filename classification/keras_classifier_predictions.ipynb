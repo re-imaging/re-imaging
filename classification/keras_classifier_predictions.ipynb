{
 "cells": [
  {
   "cell_type": "code",
   "execution_count": 9,
   "metadata": {},
   "outputs": [],
   "source": [
    "import sqlite3\n",
    "import random\n",
    "import itertools\n",
    "import subprocess\n",
    "import os\n",
    "import shlex\n",
    "import time\n",
    "import pickle"
   ]
  },
  {
   "cell_type": "code",
   "execution_count": 10,
   "metadata": {},
   "outputs": [],
   "source": [
    "import bz2"
   ]
  },
  {
   "cell_type": "code",
   "execution_count": 11,
   "metadata": {},
   "outputs": [],
   "source": [
    "from PIL import Image, ImageDraw, ImageFont\n",
    "\n",
    "# from pillow import Image\n",
    "\n",
    "import numpy as np\n",
    "import matplotlib.pyplot as plt\n",
    "import matplotlib.image as mpimg\n",
    "import matplotlib.cm as cm\n",
    "from matplotlib.colors import Normalize"
   ]
  },
  {
   "cell_type": "code",
   "execution_count": 12,
   "metadata": {},
   "outputs": [],
   "source": [
    "import keras\n",
    "from keras.preprocessing import image\n",
    "from keras.applications.imagenet_utils import decode_predictions, preprocess_input\n",
    "from keras.models import Model, load_model"
   ]
  },
  {
   "cell_type": "code",
   "execution_count": 13,
   "metadata": {},
   "outputs": [],
   "source": [
    "# this seems to help with some GPU memory issues\n",
    "\n",
    "import tensorflow as tf\n",
    "\n",
    "config = tf.ConfigProto()\n",
    "config.gpu_options.allow_growth = True\n",
    "session = tf.Session(config=config)"
   ]
  },
  {
   "cell_type": "code",
   "execution_count": 6,
   "metadata": {
    "collapsed": true
   },
   "outputs": [
    {
     "name": "stderr",
     "output_type": "stream",
     "text": [
      "WARNING: Logging before flag parsing goes to stderr.\n",
      "W0729 12:26:00.910594 140487372396352 deprecation_wrapper.py:119] From /home/rte/.local/lib/python3.6/site-packages/keras/backend/tensorflow_backend.py:517: The name tf.placeholder is deprecated. Please use tf.compat.v1.placeholder instead.\n",
      "\n",
      "W0729 12:26:00.918291 140487372396352 deprecation_wrapper.py:119] From /home/rte/.local/lib/python3.6/site-packages/keras/backend/tensorflow_backend.py:4138: The name tf.random_uniform is deprecated. Please use tf.random.uniform instead.\n",
      "\n",
      "W0729 12:26:00.946867 140487372396352 deprecation_wrapper.py:119] From /home/rte/.local/lib/python3.6/site-packages/keras/backend/tensorflow_backend.py:3976: The name tf.nn.max_pool is deprecated. Please use tf.nn.max_pool2d instead.\n",
      "\n",
      "W0729 12:26:01.129150 140487372396352 deprecation_wrapper.py:119] From /home/rte/.local/lib/python3.6/site-packages/keras/backend/tensorflow_backend.py:174: The name tf.get_default_session is deprecated. Please use tf.compat.v1.get_default_session instead.\n",
      "\n",
      "W0729 12:26:01.129934 140487372396352 deprecation_wrapper.py:119] From /home/rte/.local/lib/python3.6/site-packages/keras/backend/tensorflow_backend.py:181: The name tf.ConfigProto is deprecated. Please use tf.compat.v1.ConfigProto instead.\n",
      "\n",
      "W0729 12:26:01.130527 140487372396352 deprecation_wrapper.py:119] From /home/rte/.local/lib/python3.6/site-packages/keras/backend/tensorflow_backend.py:186: The name tf.Session is deprecated. Please use tf.compat.v1.Session instead.\n",
      "\n",
      "W0729 12:26:02.373383 140487372396352 deprecation_wrapper.py:119] From /home/rte/.local/lib/python3.6/site-packages/keras/optimizers.py:790: The name tf.train.Optimizer is deprecated. Please use tf.compat.v1.train.Optimizer instead.\n",
      "\n",
      "W0729 12:26:02.458187 140487372396352 deprecation.py:323] From /home/rte/code/anaconda3/envs/tf_gpu/lib/python3.6/site-packages/tensorflow/python/ops/math_grad.py:1250: add_dispatch_support.<locals>.wrapper (from tensorflow.python.ops.array_ops) is deprecated and will be removed in a future version.\n",
      "Instructions for updating:\n",
      "Use tf.where in 2.0, which has the same broadcast rule as np.where\n"
     ]
    },
    {
     "name": "stdout",
     "output_type": "stream",
     "text": [
      "model loaded\n",
      "_________________________________________________________________\n",
      "Layer (type)                 Output Shape              Param #   \n",
      "=================================================================\n",
      "input_1 (InputLayer)         (None, 224, 224, 3)       0         \n",
      "_________________________________________________________________\n",
      "block1_conv1 (Conv2D)        (None, 224, 224, 64)      1792      \n",
      "_________________________________________________________________\n",
      "block1_conv2 (Conv2D)        (None, 224, 224, 64)      36928     \n",
      "_________________________________________________________________\n",
      "block1_pool (MaxPooling2D)   (None, 112, 112, 64)      0         \n",
      "_________________________________________________________________\n",
      "block2_conv1 (Conv2D)        (None, 112, 112, 128)     73856     \n",
      "_________________________________________________________________\n",
      "block2_conv2 (Conv2D)        (None, 112, 112, 128)     147584    \n",
      "_________________________________________________________________\n",
      "block2_pool (MaxPooling2D)   (None, 56, 56, 128)       0         \n",
      "_________________________________________________________________\n",
      "block3_conv1 (Conv2D)        (None, 56, 56, 256)       295168    \n",
      "_________________________________________________________________\n",
      "block3_conv2 (Conv2D)        (None, 56, 56, 256)       590080    \n",
      "_________________________________________________________________\n",
      "block3_conv3 (Conv2D)        (None, 56, 56, 256)       590080    \n",
      "_________________________________________________________________\n",
      "block3_pool (MaxPooling2D)   (None, 28, 28, 256)       0         \n",
      "_________________________________________________________________\n",
      "block4_conv1 (Conv2D)        (None, 28, 28, 512)       1180160   \n",
      "_________________________________________________________________\n",
      "block4_conv2 (Conv2D)        (None, 28, 28, 512)       2359808   \n",
      "_________________________________________________________________\n",
      "block4_conv3 (Conv2D)        (None, 28, 28, 512)       2359808   \n",
      "_________________________________________________________________\n",
      "block4_pool (MaxPooling2D)   (None, 14, 14, 512)       0         \n",
      "_________________________________________________________________\n",
      "block5_conv1 (Conv2D)        (None, 14, 14, 512)       2359808   \n",
      "_________________________________________________________________\n",
      "block5_conv2 (Conv2D)        (None, 14, 14, 512)       2359808   \n",
      "_________________________________________________________________\n",
      "block5_conv3 (Conv2D)        (None, 14, 14, 512)       2359808   \n",
      "_________________________________________________________________\n",
      "block5_pool (MaxPooling2D)   (None, 7, 7, 512)         0         \n",
      "_________________________________________________________________\n",
      "global_average_pooling2d_1 ( (None, 512)               0         \n",
      "_________________________________________________________________\n",
      "dense_1 (Dense)              (None, 1024)              525312    \n",
      "_________________________________________________________________\n",
      "Predictions (Dense)          (None, 3)                 3075      \n",
      "=================================================================\n",
      "Total params: 15,243,075\n",
      "Trainable params: 15,243,075\n",
      "Non-trainable params: 0\n",
      "_________________________________________________________________\n"
     ]
    }
   ],
   "source": [
    "# load ternary classifier\n",
    "# model = keras.applications.VGG16(weights='imagenet', include_top=True)\n",
    "model = load_model('checkpoints/ternary_20190911_9748x/diagram-sensor-unsure_vgg16-2000.hdf5')\n",
    "print(\"model loaded\")\n",
    "model.summary()"
   ]
  },
  {
   "cell_type": "code",
   "execution_count": 7,
   "metadata": {},
   "outputs": [],
   "source": [
    "def load_image(path):\n",
    "    img = image.load_img(path, target_size=model.input_shape[1:3])\n",
    "    x = image.img_to_array(img)\n",
    "    x = np.expand_dims(x, axis=0)\n",
    "    x = preprocess_input(x)\n",
    "    return img, x"
   ]
  },
  {
   "cell_type": "code",
   "execution_count": 14,
   "metadata": {},
   "outputs": [
    {
     "name": "stdout",
     "output_type": "stream",
     "text": [
      "feature extractor setup\n",
      "_________________________________________________________________\n",
      "Layer (type)                 Output Shape              Param #   \n",
      "=================================================================\n",
      "input_1 (InputLayer)         (None, 224, 224, 3)       0         \n",
      "_________________________________________________________________\n",
      "block1_conv1 (Conv2D)        (None, 224, 224, 64)      1792      \n",
      "_________________________________________________________________\n",
      "block1_conv2 (Conv2D)        (None, 224, 224, 64)      36928     \n",
      "_________________________________________________________________\n",
      "block1_pool (MaxPooling2D)   (None, 112, 112, 64)      0         \n",
      "_________________________________________________________________\n",
      "block2_conv1 (Conv2D)        (None, 112, 112, 128)     73856     \n",
      "_________________________________________________________________\n",
      "block2_conv2 (Conv2D)        (None, 112, 112, 128)     147584    \n",
      "_________________________________________________________________\n",
      "block2_pool (MaxPooling2D)   (None, 56, 56, 128)       0         \n",
      "_________________________________________________________________\n",
      "block3_conv1 (Conv2D)        (None, 56, 56, 256)       295168    \n",
      "_________________________________________________________________\n",
      "block3_conv2 (Conv2D)        (None, 56, 56, 256)       590080    \n",
      "_________________________________________________________________\n",
      "block3_conv3 (Conv2D)        (None, 56, 56, 256)       590080    \n",
      "_________________________________________________________________\n",
      "block3_pool (MaxPooling2D)   (None, 28, 28, 256)       0         \n",
      "_________________________________________________________________\n",
      "block4_conv1 (Conv2D)        (None, 28, 28, 512)       1180160   \n",
      "_________________________________________________________________\n",
      "block4_conv2 (Conv2D)        (None, 28, 28, 512)       2359808   \n",
      "_________________________________________________________________\n",
      "block4_conv3 (Conv2D)        (None, 28, 28, 512)       2359808   \n",
      "_________________________________________________________________\n",
      "block4_pool (MaxPooling2D)   (None, 14, 14, 512)       0         \n",
      "_________________________________________________________________\n",
      "block5_conv1 (Conv2D)        (None, 14, 14, 512)       2359808   \n",
      "_________________________________________________________________\n",
      "block5_conv2 (Conv2D)        (None, 14, 14, 512)       2359808   \n",
      "_________________________________________________________________\n",
      "block5_conv3 (Conv2D)        (None, 14, 14, 512)       2359808   \n",
      "_________________________________________________________________\n",
      "block5_pool (MaxPooling2D)   (None, 7, 7, 512)         0         \n",
      "_________________________________________________________________\n",
      "flatten (Flatten)            (None, 25088)             0         \n",
      "_________________________________________________________________\n",
      "fc1 (Dense)                  (None, 4096)              102764544 \n",
      "_________________________________________________________________\n",
      "fc2 (Dense)                  (None, 4096)              16781312  \n",
      "=================================================================\n",
      "Total params: 134,260,544\n",
      "Trainable params: 134,260,544\n",
      "Non-trainable params: 0\n",
      "_________________________________________________________________\n"
     ]
    }
   ],
   "source": [
    "# set up the feature extractor -- only needed if doing something with second last layer\n",
    "\n",
    "model = keras.applications.VGG16(weights='imagenet', include_top=True)\n",
    "feat_extractor = Model(inputs=model.input, outputs=model.get_layer(\"fc2\").output)\n",
    "print(\"feature extractor setup\")\n",
    "feat_extractor.summary()"
   ]
  },
  {
   "cell_type": "markdown",
   "metadata": {},
   "source": [
    "### Analyse samples and save csv"
   ]
  },
  {
   "cell_type": "code",
   "execution_count": null,
   "metadata": {},
   "outputs": [],
   "source": [
    "current_path = \"/home/rte/data/images/random/100k/classification/\"\n",
    "# current_path = convert_path\n",
    "\n",
    "image_extensions = ['.jpg', '.png', '.jpeg']   # case-insensitive (upper/lower doesn't matter)\n",
    "max_num_images = 100000\n",
    "\n",
    "images = [os.path.join(dp, f) for dp, dn, filenames in os.walk(current_path) for f in filenames if os.path.splitext(f)[1].lower() in image_extensions]\n",
    "num_x = len(images)\n",
    "print(\"keeping %d images to analyze\" % num_x)"
   ]
  },
  {
   "cell_type": "code",
   "execution_count": null,
   "metadata": {},
   "outputs": [],
   "source": [
    "start = time.time()\n",
    "\n",
    "all_predictions = []\n",
    "\n",
    "features = []\n",
    "\n",
    "writefile = \"predictions_100k.txt\"\n",
    "f = open(writefile, \"a+\")\n",
    "        \n",
    "for i, image_path in enumerate(images):\n",
    "    if i % 500 == 0:\n",
    "        end = time.time()\n",
    "        elap = end - start;\n",
    "        print(\"analyzing image %d / %d. Time: %4.4f seconds.\" % (i, len(images),elap))\n",
    "        start = time.time()\n",
    "    img, x = load_image(image_path)\n",
    "    \n",
    "    f.write(os.path.basename(image_path))\n",
    "\n",
    "#     feat = feat_extractor.predict(x)[0]\n",
    "#     features.append(feat)\n",
    "    \n",
    "    predictions = model.predict(x)\n",
    "    \n",
    "#     print(predictions)\n",
    "#     print(decode_predictions(predictions))\n",
    "    \n",
    "    for _, pred, prob in decode_predictions(predictions)[0]:\n",
    "#         print(\"predicted %s with probability %0.3f\" % (pred, prob))\n",
    "        f.write(\",\" + str(pred) + \",\" + str(prob))\n",
    "                \n",
    "    f.write(\"\\n\")\n",
    "        \n",
    "print('finished predicting class for %d images' % len(images))\n",
    "\n",
    "f.close()"
   ]
  },
  {
   "cell_type": "code",
   "execution_count": null,
   "metadata": {},
   "outputs": [],
   "source": [
    "# write images, predictions to a pickle file\n",
    "\n",
    "f = \"classification_vgg_subset\" + \".pickle\"\n",
    "\n",
    "print(f)\n",
    "\n",
    "# WRITE\n",
    "with open(f, \"wb\") as write_file:\n",
    "    pickle.dump([images, features], write_file)\n",
    "    write_file.close()\n"
   ]
  },
  {
   "cell_type": "markdown",
   "metadata": {},
   "source": [
    "### Decode predictions from pickle"
   ]
  },
  {
   "cell_type": "code",
   "execution_count": null,
   "metadata": {},
   "outputs": [],
   "source": [
    "p = \"/home/rte/re-imaging/visualisation/features/features_0_50000_vgg.pkl.pbz2\"\n",
    "predictions = []\n",
    "with bz2.open(p, \"r\") as read_file:\n",
    "    predictions = pickle.load(read_file)\n",
    "for p in predictions[:5]:\n",
    "    print(p)"
   ]
  },
  {
   "cell_type": "code",
   "execution_count": null,
   "metadata": {},
   "outputs": [],
   "source": [
    "p = \"/home/rte/re-imaging/visualisation/features/v1/features_0_50000_vgg.pkl.pbz2\"\n",
    "# predictions = []\n",
    "with bz2.open(p, \"r\") as read_file:\n",
    "    predictions = pickle.load(read_file)\n",
    "\n",
    "writefile = \"predictions_1m.txt\"\n",
    "f = open(writefile, \"a+\")\n",
    "\n",
    "for pred in predictions[:1]:\n",
    "    for _, pred, prob in decode_predictions(pred):\n",
    "        print(\"predicted %s with probability %0.3f\" % (pred, prob))\n",
    "        f.write(\",\" + str(pred) + \",\" + str(prob))\n",
    "\n",
    "        f.write(\"\\n\")\n",
    "        print('finished predicting class for %d images' % len(images))\n",
    "\n",
    "f.close()"
   ]
  },
  {
   "cell_type": "code",
   "execution_count": null,
   "metadata": {},
   "outputs": [],
   "source": [
    "len(predictions[0])"
   ]
  },
  {
   "cell_type": "code",
   "execution_count": null,
   "metadata": {},
   "outputs": [],
   "source": [
    "image_folder = \"/mnt/hd2/images/all/\"\n",
    "for i, image_path in enumerate(filepaths[:1]):\n",
    "    img, x = load_image(image_folder + image_path)\n",
    "\n",
    "    predictions = model.predict(x)\n",
    "    print(predictions)"
   ]
  },
  {
   "cell_type": "code",
   "execution_count": null,
   "metadata": {},
   "outputs": [],
   "source": [
    "len(predictions[0])"
   ]
  },
  {
   "cell_type": "code",
   "execution_count": null,
   "metadata": {},
   "outputs": [],
   "source": [
    "print(predictions)"
   ]
  },
  {
   "cell_type": "code",
   "execution_count": null,
   "metadata": {},
   "outputs": [],
   "source": [
    "predictions"
   ]
  },
  {
   "cell_type": "code",
   "execution_count": null,
   "metadata": {},
   "outputs": [],
   "source": [
    "for _, pred, prob in decode_predictions(predictions)[0]:\n",
    "        print(\"predicted %s with probability %0.3f\" % (pred, prob))"
   ]
  },
  {
   "cell_type": "code",
   "execution_count": null,
   "metadata": {},
   "outputs": [],
   "source": [
    "print(decode_predictions(predictions))"
   ]
  },
  {
   "cell_type": "markdown",
   "metadata": {},
   "source": [
    "### Save predictions images"
   ]
  },
  {
   "cell_type": "code",
   "execution_count": 15,
   "metadata": {},
   "outputs": [
    {
     "name": "stdout",
     "output_type": "stream",
     "text": [
      "length: 10052503\n",
      "2971229.jpg\n",
      "\n"
     ]
    }
   ],
   "source": [
    "filepaths = []\n",
    "\n",
    "with open(\"/home/rte/data/paths/all_converted_jpg_images_shuf.txt\", \"r\") as f:\n",
    "    lines = f.readlines()\n",
    "    print(\"length:\",len(lines))\n",
    "    print(lines[0])\n",
    "for l in lines:\n",
    "    # substrings = l.rsplit(\",\", 1)\n",
    "    filepaths.append(l.strip())\n",
    "    # image_ids.append(substrings[1].strip())"
   ]
  },
  {
   "cell_type": "code",
   "execution_count": null,
   "metadata": {
    "scrolled": false
   },
   "outputs": [],
   "source": [
    "image_folder = \"/mnt/hd2/images/all/\"\n",
    "\n",
    "plt.close('all')\n",
    "\n",
    "for i, image_path in enumerate(filepaths[0:1000]):\n",
    "    plt.close('all')\n",
    "\n",
    "    fig, ax = plt.subplots(1, 2)\n",
    "    fig.set_size_inches(10, 5)\n",
    "    fig.set_dpi(150)\n",
    "\n",
    "    img, x = load_image(image_folder + image_path)\n",
    "    im = mpimg.imread(image_folder + image_path)\n",
    "    pim = Image.open(image_folder + image_path)\n",
    "    width, height = pim.size\n",
    "#     print(width, height)\n",
    "    asp = width/height\n",
    "    \n",
    "    prediction = model.predict(x)\n",
    "    \n",
    "    classes = []\n",
    "    probabilities = []\n",
    "    \n",
    "    for i, (_, pred, prob) in enumerate(decode_predictions(prediction)[0]):\n",
    "#         print(\"predicted %s with probability %0.3f\" % (pred, prob))\n",
    "        classes.append(pred)\n",
    "        probabilities.append(prob)\n",
    "        \n",
    "    imgplot = ax[0].imshow(im, aspect=asp)\n",
    "    ax[0].axis('off')\n",
    "    ax[0].set_title(\"Image ID: \" + image_path.split(\".\")[0])\n",
    "\n",
    "    y_pos = np.arange(len(classes))\n",
    "\n",
    "#     my_cmap = cm.get_cmap('jet')\n",
    "#     my_norm = Normalize(vmin=0, vmax=8)\n",
    "    \n",
    "    probabilities = np.array(probabilities)\n",
    "#     color = np.array(['rgb(255,255,255)']*probabilities.shape[0])\n",
    "#     colors = cm.winter(probabilities)\n",
    "\n",
    "    ax[1].set_xlim(0, 1)\n",
    "    ax[1].barh(y_pos, probabilities, align='center', color='0.75')\n",
    "\n",
    "#     ax[1].barh(y_pos, probabilities, align='center', color=my_cmap(my_norm(probabilities)))\n",
    "    ax[1].set_yticks(y_pos)\n",
    "    ax[1].set_yticklabels(classes)\n",
    "    ax[1].invert_yaxis()\n",
    "    ax[1].set_title('VGG16 Prediction')\n",
    "    ax[1].set_xlabel('Percentage')\n",
    "    \n",
    "#     plt.subplots_adjust(wspace=0.5)\n",
    "    plt.tight_layout(pad=5.0)\n",
    "\n",
    "#     plt.axis('off')\n",
    "#     target = \"predictions/\" + classes[0]\n",
    "    target = \"predictions\"\n",
    "#     print(target)\n",
    "    if not os.path.exists(target): os.mkdir(target)\n",
    "        \n",
    "    save_path = target + \"/vgg16_prediction_\" + classes[0] + \"_\" + \\\n",
    "                        \"{:d}\".format(int(probabilities[0]*100)) + \"pc_\" + \\\n",
    "                        image_path\n",
    "    print(save_path)\n",
    "    plt.savefig(save_path, dpi=150, bbox_inches='tight')\n",
    "# bbox_inches='tight'"
   ]
  },
  {
   "cell_type": "markdown",
   "metadata": {},
   "source": [
    "### Save images for results form Ternary Classifier\n"
   ]
  },
  {
   "cell_type": "code",
   "execution_count": null,
   "metadata": {
    "scrolled": false
   },
   "outputs": [],
   "source": [
    "image_folder = \"/mnt/hd2/images/all/\"\n",
    "\n",
    "classes = [\"diagram\", \"sensor\", \"mixed\"]\n",
    "\n",
    "for i, image_path in enumerate(filepaths[0:1000]):\n",
    "    plt.close('all')\n",
    "\n",
    "    fig, ax = plt.subplots(1, 2)\n",
    "    fig.set_size_inches(10, 5)\n",
    "    fig.set_dpi(150)\n",
    "\n",
    "    img, x = load_image(image_folder + image_path)\n",
    "    im = mpimg.imread(image_folder + image_path)\n",
    "    pim = Image.open(image_folder + image_path)\n",
    "    width, height = pim.size\n",
    "#     print(width, height)\n",
    "    asp = width/height\n",
    "    \n",
    "    prediction = model.predict(x)\n",
    "    \n",
    "    probabilities = []\n",
    "    \n",
    "    for i, prob in enumerate(prediction[0]):\n",
    "#         print(\"predicted %s with probability %0.3f\" % (pred, prob))\n",
    "#         classes.append(pred)\n",
    "        probabilities.append(prob)\n",
    "        \n",
    "    imgplot = ax[0].imshow(im, aspect='auto')\n",
    "    ax[0].axis('off')\n",
    "    ax[0].set_title(\"Image ID: \" + image_path.split(\".\")[0])\n",
    "\n",
    "    y_pos = np.arange(len(classes))\n",
    "\n",
    "    my_cmap = cm.get_cmap('jet')\n",
    "    my_norm = Normalize(vmin=0, vmax=8)\n",
    "    \n",
    "    probabilities = np.array(probabilities)\n",
    "#     color = np.array(['rgb(255,255,255)']*probabilities.shape[0])\n",
    "#     colors = cm.winter(probabilities)\n",
    "\n",
    "    ax[1].set_xlim(0, 1)\n",
    "    ax[1].barh(y_pos, probabilities, align='center', color='0.75')\n",
    "    for i, v in enumerate(probabilities):\n",
    "        ax[1].text(-0.12,i+0.25, \"{:.2f}\".format(v), color='0.5', va='center')\n",
    "#         color='blue', fontweight='bold'\n",
    "\n",
    "#     ax[1].barh(y_pos, probabilities, align='center', color=my_cmap(my_norm(probabilities)))\n",
    "    ax[1].set_yticks(y_pos)\n",
    "    ax[1].set_yticklabels(classes)\n",
    "    ax[1].invert_yaxis()\n",
    "    ax[1].set_title('Ternary Prediction')\n",
    "    ax[1].set_xlabel('Percentage')\n",
    "    \n",
    "#     plt.subplots_adjust(wspace=0.5)\n",
    "    plt.tight_layout(pad=5.0)\n",
    "\n",
    "#     plt.axis('off')\n",
    "#     target = \"predictions/\" + classes[0]\n",
    "    target = \"predictions\"\n",
    "#     print(target)\n",
    "    if not os.path.exists(target): os.mkdir(target)\n",
    "        \n",
    "    top_class_index = np.argmax(probabilities)\n",
    "    top_class = classes[top_class_index]\n",
    "    print(top_class)\n",
    "        \n",
    "    save_path = target + \"/ternary_prediction_\" + top_class + \"_\" + \\\n",
    "                        \"{:d}\".format(int(probabilities[top_class_index]*100)) + \"pc_\" + \\\n",
    "                        image_path\n",
    "    print(save_path)\n",
    "    plt.savefig(save_path, dpi=150, bbox_inches='tight')\n",
    "# bbox_inches='tight'"
   ]
  },
  {
   "cell_type": "code",
   "execution_count": null,
   "metadata": {},
   "outputs": [],
   "source": [
    "import sys\n",
    "image_folder = \"/mnt/hd2/images/all/\"\n",
    "\n",
    "for i, image_path in enumerate(filepaths[0:1]):\n",
    "#     if i % 500 == 0:\n",
    "#         end = time.time()\n",
    "#         elap = end - start;\n",
    "#         print(\"analyzing image %d / %d. Time: %4.4f seconds.\" % (i, len(images),elap))\n",
    "#         start = time.time()\n",
    "#     fig, ax = plt.subplots()\n",
    "#     fig.set_size_inches(20, 10)\n",
    "\n",
    "    img, x = load_image(image_folder + image_path)\n",
    "    im = mpimg.imread(image_folder + image_path)\n",
    "    width, height = pim.size\n",
    "    print(width, height)\n",
    "    asp = width/height\n",
    "    \n",
    "    pim = Image.open(image_folder + image_path)\n",
    "    \n",
    "#     out = Image.new('RGB', (720, 720), color = (200, 200, 200))\n",
    "#     fnt = ImageFont.truetype(\"Pillow/Tests/fonts/FreeMono.ttf\", 40)\n",
    "#     d = ImageDraw.Draw(out)\n",
    "    d = ImageDraw.Draw(pim)\n",
    "    \n",
    "#     out.show()\n",
    "    pim.save(sys.stdout, \"PNG\")\n",
    "    \n",
    "    prediction = model.predict(x)\n",
    "    \n",
    "    classes = []\n",
    "    probabilities = []\n",
    "    \n",
    "    for i, (_, pred, prob) in enumerate(decode_predictions(prediction)[0]):\n",
    "#         print(\"predicted %s with probability %0.3f\" % (pred, prob))\n",
    "        classes.append(pred)\n",
    "        probabilities.append(prob)\n",
    "        \n",
    "    for i, (c, p) in enumerate(zip(classes, probabilities)):\n",
    "        y = i * 30 + 50\n",
    "#         x = width \n",
    "        s = str(c) + \" : \"\n",
    "#         plt.text(width + 100, y, s, horizontalalignment='right', fontsize=18)\n",
    "#         plt.text(width + 170, y, \"{:.2f} %\".format(p*100), \n",
    "#                  horizontalalignment='right', fontsize=18)"
   ]
  },
  {
   "cell_type": "code",
   "execution_count": null,
   "metadata": {},
   "outputs": [],
   "source": []
  },
  {
   "cell_type": "code",
   "execution_count": null,
   "metadata": {},
   "outputs": [],
   "source": []
  },
  {
   "cell_type": "code",
   "execution_count": null,
   "metadata": {},
   "outputs": [],
   "source": []
  },
  {
   "cell_type": "code",
   "execution_count": null,
   "metadata": {},
   "outputs": [],
   "source": []
  }
 ],
 "metadata": {
  "kernelspec": {
   "display_name": "Python 3",
   "language": "python",
   "name": "python3"
  },
  "language_info": {
   "codemirror_mode": {
    "name": "ipython",
    "version": 3
   },
   "file_extension": ".py",
   "mimetype": "text/x-python",
   "name": "python",
   "nbconvert_exporter": "python",
   "pygments_lexer": "ipython3",
   "version": "3.6.8"
  }
 },
 "nbformat": 4,
 "nbformat_minor": 2
}
