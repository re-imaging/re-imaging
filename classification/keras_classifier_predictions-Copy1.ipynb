{
 "cells": [
  {
   "cell_type": "code",
   "execution_count": null,
   "metadata": {},
   "outputs": [],
   "source": [
    "import sqlite3\n",
    "import random\n",
    "import itertools\n",
    "import subprocess\n",
    "import os\n",
    "import shlex\n",
    "import time\n",
    "import pickle"
   ]
  },
  {
   "cell_type": "code",
   "execution_count": null,
   "metadata": {},
   "outputs": [],
   "source": [
    "import bz2"
   ]
  },
  {
   "cell_type": "code",
   "execution_count": null,
   "metadata": {},
   "outputs": [],
   "source": [
    "from PIL import Image, ImageDraw, ImageFont\n",
    "\n",
    "# from pillow import Image\n",
    "\n",
    "import numpy as np\n",
    "import matplotlib.pyplot as plt\n",
    "import matplotlib.image as mpimg\n",
    "import matplotlib.cm as cm\n",
    "from matplotlib.colors import Normalize"
   ]
  },
  {
   "cell_type": "code",
   "execution_count": null,
   "metadata": {},
   "outputs": [],
   "source": [
    "import keras\n",
    "from keras.preprocessing import image\n",
    "from keras.applications.imagenet_utils import decode_predictions, preprocess_input\n",
    "from keras.models import Model"
   ]
  },
  {
   "cell_type": "code",
   "execution_count": null,
   "metadata": {},
   "outputs": [],
   "source": [
    "# this seems to help with some GPU memory issues\n",
    "\n",
    "import tensorflow as tf\n",
    "\n",
    "config = tf.ConfigProto()\n",
    "config.gpu_options.allow_growth = True\n",
    "session = tf.Session(config=config)"
   ]
  },
  {
   "cell_type": "code",
   "execution_count": null,
   "metadata": {},
   "outputs": [],
   "source": [
    "model = keras.applications.VGG16(weights='imagenet', include_top=True)\n",
    "print(\"model loaded\")\n",
    "model.summary()"
   ]
  },
  {
   "cell_type": "code",
   "execution_count": null,
   "metadata": {},
   "outputs": [],
   "source": [
    "def load_image(path):\n",
    "    img = image.load_img(path, target_size=model.input_shape[1:3])\n",
    "    x = image.img_to_array(img)\n",
    "    x = np.expand_dims(x, axis=0)\n",
    "    x = preprocess_input(x)\n",
    "    return img, x"
   ]
  },
  {
   "cell_type": "code",
   "execution_count": null,
   "metadata": {},
   "outputs": [],
   "source": [
    "# set up the feature extractor -- only needed if doing something with second last layer\n",
    "\n",
    "feat_extractor = Model(inputs=model.input, outputs=model.get_layer(\"fc2\").output)\n",
    "print(\"feature extractor setup\")\n",
    "feat_extractor.summary()"
   ]
  },
  {
   "cell_type": "markdown",
   "metadata": {},
   "source": [
    "### Analyse samples and save csv"
   ]
  },
  {
   "cell_type": "code",
   "execution_count": null,
   "metadata": {},
   "outputs": [],
   "source": [
    "current_path = \"/home/rte/data/images/random/100k/classification/\"\n",
    "# current_path = convert_path\n",
    "\n",
    "image_extensions = ['.jpg', '.png', '.jpeg']   # case-insensitive (upper/lower doesn't matter)\n",
    "max_num_images = 100000\n",
    "\n",
    "images = [os.path.join(dp, f) for dp, dn, filenames in os.walk(current_path) for f in filenames if os.path.splitext(f)[1].lower() in image_extensions]\n",
    "num_x = len(images)\n",
    "print(\"keeping %d images to analyze\" % num_x)"
   ]
  },
  {
   "cell_type": "code",
   "execution_count": null,
   "metadata": {},
   "outputs": [],
   "source": [
    "start = time.time()\n",
    "\n",
    "all_predictions = []\n",
    "\n",
    "features = []\n",
    "\n",
    "writefile = \"predictions_100k.txt\"\n",
    "f = open(writefile, \"a+\")\n",
    "        \n",
    "for i, image_path in enumerate(images):\n",
    "    if i % 500 == 0:\n",
    "        end = time.time()\n",
    "        elap = end - start;\n",
    "        print(\"analyzing image %d / %d. Time: %4.4f seconds.\" % (i, len(images),elap))\n",
    "        start = time.time()\n",
    "    img, x = load_image(image_path)\n",
    "    \n",
    "    f.write(os.path.basename(image_path))\n",
    "\n",
    "#     feat = feat_extractor.predict(x)[0]\n",
    "#     features.append(feat)\n",
    "    \n",
    "    predictions = model.predict(x)\n",
    "    \n",
    "#     print(predictions)\n",
    "#     print(decode_predictions(predictions))\n",
    "    \n",
    "    for _, pred, prob in decode_predictions(predictions)[0]:\n",
    "#         print(\"predicted %s with probability %0.3f\" % (pred, prob))\n",
    "        f.write(\",\" + str(pred) + \",\" + str(prob))\n",
    "                \n",
    "    f.write(\"\\n\")\n",
    "        \n",
    "print('finished predicting class for %d images' % len(images))\n",
    "\n",
    "f.close()"
   ]
  },
  {
   "cell_type": "code",
   "execution_count": null,
   "metadata": {},
   "outputs": [],
   "source": [
    "# write images, predictions to a pickle file\n",
    "\n",
    "f = \"classification_vgg_subset\" + \".pickle\"\n",
    "\n",
    "print(f)\n",
    "\n",
    "# WRITE\n",
    "with open(f, \"wb\") as write_file:\n",
    "    pickle.dump([images, features], write_file)\n",
    "    write_file.close()\n"
   ]
  },
  {
   "cell_type": "markdown",
   "metadata": {},
   "source": [
    "### Decode predictions from pickle"
   ]
  },
  {
   "cell_type": "code",
   "execution_count": null,
   "metadata": {},
   "outputs": [],
   "source": [
    "p = \"/home/rte/re-imaging/visualisation/features/features_0_50000_vgg.pkl.pbz2\"\n",
    "predictions = []\n",
    "with bz2.open(p, \"r\") as read_file:\n",
    "    predictions = pickle.load(read_file)\n",
    "for p in predictions[:5]:\n",
    "    print(p)"
   ]
  },
  {
   "cell_type": "code",
   "execution_count": null,
   "metadata": {},
   "outputs": [],
   "source": [
    "p = \"/home/rte/re-imaging/visualisation/features/v1/features_0_50000_vgg.pkl.pbz2\"\n",
    "# predictions = []\n",
    "with bz2.open(p, \"r\") as read_file:\n",
    "    predictions = pickle.load(read_file)\n",
    "\n",
    "writefile = \"predictions_1m.txt\"\n",
    "f = open(writefile, \"a+\")\n",
    "\n",
    "for pred in predictions[:1]:\n",
    "    for _, pred, prob in decode_predictions(pred):\n",
    "        print(\"predicted %s with probability %0.3f\" % (pred, prob))\n",
    "        f.write(\",\" + str(pred) + \",\" + str(prob))\n",
    "\n",
    "        f.write(\"\\n\")\n",
    "        print('finished predicting class for %d images' % len(images))\n",
    "\n",
    "f.close()"
   ]
  },
  {
   "cell_type": "code",
   "execution_count": null,
   "metadata": {},
   "outputs": [],
   "source": [
    "len(predictions[0])"
   ]
  },
  {
   "cell_type": "code",
   "execution_count": null,
   "metadata": {},
   "outputs": [],
   "source": [
    "image_folder = \"/mnt/hd2/images/all/\"\n",
    "for i, image_path in enumerate(filepaths[:1]):\n",
    "    img, x = load_image(image_folder + image_path)\n",
    "\n",
    "    predictions = model.predict(x)\n",
    "    print(predictions)"
   ]
  },
  {
   "cell_type": "code",
   "execution_count": null,
   "metadata": {},
   "outputs": [],
   "source": [
    "len(predictions[0])"
   ]
  },
  {
   "cell_type": "code",
   "execution_count": null,
   "metadata": {},
   "outputs": [],
   "source": [
    "print(predictions)"
   ]
  },
  {
   "cell_type": "code",
   "execution_count": null,
   "metadata": {},
   "outputs": [],
   "source": [
    "predictions"
   ]
  },
  {
   "cell_type": "code",
   "execution_count": null,
   "metadata": {},
   "outputs": [],
   "source": [
    "for _, pred, prob in decode_predictions(predictions)[0]:\n",
    "        print(\"predicted %s with probability %0.3f\" % (pred, prob))"
   ]
  },
  {
   "cell_type": "code",
   "execution_count": null,
   "metadata": {},
   "outputs": [],
   "source": [
    "print(decode_predictions(predictions))"
   ]
  },
  {
   "cell_type": "markdown",
   "metadata": {},
   "source": [
    "### Save predictions images"
   ]
  },
  {
   "cell_type": "code",
   "execution_count": null,
   "metadata": {},
   "outputs": [],
   "source": [
    "filepaths = []\n",
    "\n",
    "with open(\"/home/rte/data/paths/all_converted_jpg_images_shuf.txt\", \"r\") as f:\n",
    "    lines = f.readlines()\n",
    "    print(\"length:\",len(lines))\n",
    "    print(lines[0])\n",
    "for l in lines:\n",
    "    # substrings = l.rsplit(\",\", 1)\n",
    "    filepaths.append(l.strip())\n",
    "    # image_ids.append(substrings[1].strip())"
   ]
  },
  {
   "cell_type": "code",
   "execution_count": null,
   "metadata": {
    "scrolled": false
   },
   "outputs": [],
   "source": [
    "image_folder = \"/mnt/hd2/images/all/\"\n",
    "\n",
    "plt.close('all')\n",
    "\n",
    "for i, image_path in enumerate(filepaths[0:9]):\n",
    "    fig, ax = plt.subplots(1, 2)\n",
    "    fig.set_size_inches(10, 5)\n",
    "    fig.set_dpi(150)\n",
    "\n",
    "    img, x = load_image(image_folder + image_path)\n",
    "    im = mpimg.imread(image_folder + image_path)\n",
    "#     pim = Image.open(image_folder + image_path)\n",
    "    width, height = pim.size\n",
    "#     print(width, height)\n",
    "    asp = width/height\n",
    "    \n",
    "    prediction = model.predict(x)\n",
    "    \n",
    "    classes = []\n",
    "    probabilities = []\n",
    "    \n",
    "    for i, (_, pred, prob) in enumerate(decode_predictions(prediction)[0]):\n",
    "#         print(\"predicted %s with probability %0.3f\" % (pred, prob))\n",
    "        classes.append(pred)\n",
    "        probabilities.append(prob)\n",
    "        \n",
    "#     for i, (c, p) in enumerate(zip(classes, probabilities)):\n",
    "#         y = i * 30 + 50\n",
    "# #         x = width \n",
    "#         s = str(c) + \" : \"\n",
    "#         plt.text(width + 220, y, s, horizontalalignment='right', fontsize=18)\n",
    "#         plt.text(width + 290, y, \"{:.2f} %\".format(p*100), \n",
    "#                  horizontalalignment='right', fontsize=18)\n",
    "\n",
    "#     fig.add_subplot(212)\n",
    "\n",
    "#     plt.figure(1)\n",
    "#     plt.subplot(111)\n",
    "#     plt.imshow(im)\n",
    "    imgplot = ax[0].imshow(im, aspect=asp)\n",
    "    ax[0].axis('off')\n",
    "    ax[0].title.set_text(\"Image ID: \" + image_path.split(\".\")[0])\n",
    "#     imgplot = ax[1].imshow(im, aspect=asp)\n",
    "\n",
    "#     plt.subplot(211)\n",
    "#     plt.imshow(im)\n",
    "\n",
    "    y_pos = np.arange(len(classes))\n",
    "\n",
    "    my_cmap = cm.get_cmap('jet')\n",
    "    my_norm = Normalize(vmin=0, vmax=8)\n",
    "    \n",
    "    probabilities = np.array(probabilities)\n",
    "#     color = np.array(['rgb(255,255,255)']*probabilities.shape[0])\n",
    "#     colors = cm.winter(probabilities)\n",
    "#     colors = np.array(['rgb(220,220,220)']*probabilities.shape[0])\n",
    "    \n",
    "    ax[1].set_xlim(0, 1)\n",
    "    ax[1].barh(y_pos, probabilities, align='center', color='0.75')\n",
    "\n",
    "#     ax[1].barh(y_pos, probabilities, align='center', color=my_cmap(my_norm(probabilities)))\n",
    "    ax[1].set_yticks(y_pos)\n",
    "    ax[1].set_yticklabels(classes)\n",
    "    ax[1].invert_yaxis()\n",
    "    ax[1].title.set_text('VGG16 Prediction')\n",
    "    ax[1].set_xlabel('Percentage')\n",
    "    \n",
    "    plt.tight_layout(pad=5.0)\n",
    "\n",
    "    \n",
    "#     plt.axis('off')\n",
    "    save_path = image_path\n",
    "#     plt.savefig(save_path, dpi=150)\n",
    "# bbox_inches='tight'"
   ]
  },
  {
   "cell_type": "code",
   "execution_count": null,
   "metadata": {},
   "outputs": [],
   "source": [
    "import sys\n",
    "image_folder = \"/mnt/hd2/images/all/\"\n",
    "\n",
    "for i, image_path in enumerate(filepaths[0:1]):\n",
    "#     if i % 500 == 0:\n",
    "#         end = time.time()\n",
    "#         elap = end - start;\n",
    "#         print(\"analyzing image %d / %d. Time: %4.4f seconds.\" % (i, len(images),elap))\n",
    "#         start = time.time()\n",
    "#     fig, ax = plt.subplots()\n",
    "#     fig.set_size_inches(20, 10)\n",
    "\n",
    "    img, x = load_image(image_folder + image_path)\n",
    "    im = mpimg.imread(image_folder + image_path)\n",
    "    width, height = pim.size\n",
    "    print(width, height)\n",
    "    asp = width/height\n",
    "    \n",
    "    pim = Image.open(image_folder + image_path)\n",
    "    \n",
    "#     out = Image.new('RGB', (720, 720), color = (200, 200, 200))\n",
    "#     fnt = ImageFont.truetype(\"Pillow/Tests/fonts/FreeMono.ttf\", 40)\n",
    "#     d = ImageDraw.Draw(out)\n",
    "    d = ImageDraw.Draw(pim)\n",
    "    \n",
    "#     out.show()\n",
    "    pim.save(sys.stdout, \"PNG\")\n",
    "    \n",
    "    prediction = model.predict(x)\n",
    "    \n",
    "    classes = []\n",
    "    probabilities = []\n",
    "    \n",
    "    for i, (_, pred, prob) in enumerate(decode_predictions(prediction)[0]):\n",
    "#         print(\"predicted %s with probability %0.3f\" % (pred, prob))\n",
    "        classes.append(pred)\n",
    "        probabilities.append(prob)\n",
    "        \n",
    "    for i, (c, p) in enumerate(zip(classes, probabilities)):\n",
    "        y = i * 30 + 50\n",
    "#         x = width \n",
    "        s = str(c) + \" : \"\n",
    "#         plt.text(width + 100, y, s, horizontalalignment='right', fontsize=18)\n",
    "#         plt.text(width + 170, y, \"{:.2f} %\".format(p*100), \n",
    "#                  horizontalalignment='right', fontsize=18)"
   ]
  },
  {
   "cell_type": "code",
   "execution_count": null,
   "metadata": {},
   "outputs": [],
   "source": []
  },
  {
   "cell_type": "code",
   "execution_count": null,
   "metadata": {},
   "outputs": [],
   "source": []
  },
  {
   "cell_type": "code",
   "execution_count": null,
   "metadata": {},
   "outputs": [],
   "source": []
  },
  {
   "cell_type": "code",
   "execution_count": null,
   "metadata": {},
   "outputs": [],
   "source": []
  }
 ],
 "metadata": {
  "kernelspec": {
   "display_name": "Python 3",
   "language": "python",
   "name": "python3"
  },
  "language_info": {
   "codemirror_mode": {
    "name": "ipython",
    "version": 3
   },
   "file_extension": ".py",
   "mimetype": "text/x-python",
   "name": "python",
   "nbconvert_exporter": "python",
   "pygments_lexer": "ipython3",
   "version": "3.6.8"
  }
 },
 "nbformat": 4,
 "nbformat_minor": 2
}
