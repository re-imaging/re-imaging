{
 "cells": [
  {
   "cell_type": "code",
   "execution_count": null,
   "metadata": {},
   "outputs": [],
   "source": [
    "import matplotlib.pyplot as plt\n",
    "import numpy as np\n",
    "\n",
    "import sqlite3\n",
    "\n",
    "import pickle\n",
    "\n",
    "import math"
   ]
  },
  {
   "cell_type": "code",
   "execution_count": null,
   "metadata": {},
   "outputs": [],
   "source": [
    "# path on rte\n",
    "db_path = \"/home/rte/data/db/arxiv_db_images.sqlite3\""
   ]
  },
  {
   "cell_type": "code",
   "execution_count": null,
   "metadata": {},
   "outputs": [],
   "source": [
    "# Here we import the sqlite3 database and create a cursor\n",
    "\n",
    "db = sqlite3.connect(db_path)\n",
    "c = db.cursor()"
   ]
  },
  {
   "cell_type": "code",
   "execution_count": null,
   "metadata": {},
   "outputs": [],
   "source": [
    "c.execute('PRAGMA TABLE_INFO({})'.format(\"metadata\"))\n",
    "info = c.fetchall()\n",
    "\n",
    "print(\"\\nColumn Info:\\nID, Name, Type, NotNull, DefaultVal, PrimaryKey\")\n",
    "for col in info:\n",
    "    print(col)"
   ]
  },
  {
   "cell_type": "code",
   "execution_count": null,
   "metadata": {},
   "outputs": [],
   "source": [
    "c.execute('PRAGMA TABLE_INFO({})'.format(\"images\"))\n",
    "info = c.fetchall()\n",
    "\n",
    "print(\"\\nColumn Info:\\nID, Name, Type, NotNull, DefaultVal, PrimaryKey\")\n",
    "for col in info:\n",
    "    print(col)"
   ]
  },
  {
   "cell_type": "code",
   "execution_count": null,
   "metadata": {},
   "outputs": [],
   "source": [
    "# get list of all singular categories\n",
    "\n",
    "sql = ('''\n",
    "    SELECT substr(trim(metadata.cat),1,instr(trim(metadata.cat)||' ',' ')-1), count(substr(trim(metadata.cat),1,instr(trim(metadata.cat)||' ',' ')-1))\n",
    "    FROM metadata\n",
    "    GROUP BY substr(trim(metadata.cat),1,instr(trim(metadata.cat)||' ',' ')-1)\n",
    "    ORDER BY count(substr(trim(metadata.cat),1,instr(trim(metadata.cat)||' ',' ')-1)) DESC\n",
    "    ''')\n",
    "\n",
    "c.execute(sql, ())\n",
    "\n",
    "cats = c.fetchall()"
   ]
  },
  {
   "cell_type": "code",
   "execution_count": null,
   "metadata": {},
   "outputs": [],
   "source": [
    "# get list of all singular categories\n",
    "\n",
    "sql = ('''\n",
    "    SELECT DISTINCT metadata.cat\n",
    "    FROM metadata\n",
    "    GROUP BY metadata.cat\n",
    "    ''')\n",
    "\n",
    "c.execute(sql, ())\n",
    "\n",
    "all_cats = c.fetchall()"
   ]
  },
  {
   "cell_type": "code",
   "execution_count": null,
   "metadata": {},
   "outputs": [],
   "source": [
    "print(len(all_cats))\n",
    "for row in all_cats:\n",
    "    print(row)"
   ]
  },
  {
   "cell_type": "code",
   "execution_count": null,
   "metadata": {},
   "outputs": [],
   "source": [
    "individual_cats = []\n",
    "for cat in all_cats:\n",
    "    substrings = cat[0].split(\" \")\n",
    "    for s in substrings:\n",
    "        if s not in individual_cats:\n",
    "            individual_cats.append(s)\n",
    "print(len(individual_cats))\n",
    "for row in individual_cats:\n",
    "    print(row)"
   ]
  },
  {
   "cell_type": "markdown",
   "metadata": {},
   "source": [
    "There are 175 individual categories that are used and 171 categories given as the primary category (first listed)"
   ]
  },
  {
   "cell_type": "code",
   "execution_count": null,
   "metadata": {},
   "outputs": [],
   "source": [
    "print(len(cats))\n",
    "for cat in cats:\n",
    "    print(cat)"
   ]
  },
  {
   "cell_type": "code",
   "execution_count": null,
   "metadata": {},
   "outputs": [],
   "source": [
    "cats = individual_cats"
   ]
  },
  {
   "cell_type": "code",
   "execution_count": null,
   "metadata": {},
   "outputs": [],
   "source": [
    "sql = ('''\n",
    "    SELECT metadata.cat, count(metadata.cat)\n",
    "    FROM metadata\n",
    "    GROUP BY metadata.cat\n",
    "    ''')\n",
    "\n",
    "c.execute(sql, ())\n",
    "\n",
    "data = c.fetchall()\n",
    "\n",
    "print(\"number of rows: \", len(data))\n",
    "\n",
    "# c.execute(sql, (targetDate, targetDate, cat[0], )))\n",
    "\n",
    "# LEFT JOIN metadata ON images.identifier = metadata.identifier\n"
   ]
  },
  {
   "cell_type": "code",
   "execution_count": null,
   "metadata": {},
   "outputs": [],
   "source": [
    "for row in data[:20]:\n",
    "    print(row)"
   ]
  },
  {
   "cell_type": "code",
   "execution_count": null,
   "metadata": {},
   "outputs": [],
   "source": [
    "# writing file to org mode for github\n",
    "\n",
    "# write the data to a file\n",
    "with open(\"stats_all_category_totals.org\", \"w\") as write_file:\n",
    "    print(\"* totals of publications per categories\", file=write_file)\n",
    "    print(\"|-|-|\", file=write_file)\n",
    "    for cat in rows:\n",
    "#         joined = list(zip(cat[1], cat[2]))\n",
    "        #     print(joined)\n",
    "        print('|' + str(cat[1]) + \"|\" + str(cat[0]) + \"|\", file=write_file)\n",
    "    print(\"|-|-|\", file=write_file)\n",
    "write_file.close()"
   ]
  },
  {
   "cell_type": "code",
   "execution_count": null,
   "metadata": {},
   "outputs": [],
   "source": [
    "print(len(cats))\n",
    "for row in cats:\n",
    "    print(row)"
   ]
  },
  {
   "cell_type": "code",
   "execution_count": null,
   "metadata": {},
   "outputs": [],
   "source": [
    "# testing how many times a given category appears along with another category\n",
    "\n",
    "heatmap_data = np.zeros((len(cats), len(cats)), dtype=int)\n",
    "\n",
    "# iterate twice over whole dataset\n",
    "# range(len(data))\n",
    "\n",
    "for i in range(len(cats)):\n",
    "    print(\"i:\", i)\n",
    "\n",
    "    for j in range(len(cats)):\n",
    "        if i == j: \n",
    "            break\n",
    "        else:                \n",
    "            total = 0\n",
    "            for row in data[:]:\n",
    "                substrings = row[0].split(\" \")\n",
    "#                 print(\"number of substrings: \", len(substrings))\n",
    "\n",
    "                c1 = cats[i]\n",
    "                c2 = cats[j]\n",
    "#                 print(\"c1:\",c1,\"c2:\",c2)\n",
    "\n",
    "                if c1 in substrings:\n",
    "                    if c2 in substrings:\n",
    "                        total += row[1]\n",
    "#                         print(c1, \"and\", c2, \"in\", row[0], \"adding\", row[1])\n",
    "\n",
    "#             if total > 0: \n",
    "#                 print(\"total:\", total)\n",
    "#                 print(\"*\" * 20)\n",
    "            heatmap_data[i][j] = total\n",
    "        "
   ]
  },
  {
   "cell_type": "code",
   "execution_count": null,
   "metadata": {},
   "outputs": [],
   "source": [
    "# WRITE pickle\n",
    "\n",
    "with open(\"heatmap_data_175\" + \".pickle\", \"wb\") as write_file:\n",
    "    pickle.dump(heatmap_data, write_file)\n",
    "    write_file.close()"
   ]
  },
  {
   "cell_type": "code",
   "execution_count": null,
   "metadata": {},
   "outputs": [],
   "source": [
    "# READ pickle\n",
    "\n",
    "with open(\"heatmap_data.pickle\", \"rb\") as read_file:\n",
    "    heatmap_data = pickle.load(read_file)\n",
    "    read_file.close()"
   ]
  },
  {
   "cell_type": "code",
   "execution_count": null,
   "metadata": {},
   "outputs": [],
   "source": [
    "# testing string finding\n",
    "\n",
    "a = \"astro-ph\"\n",
    "b = \"astro-ph.MD\"\n",
    "c = \"something\"\n",
    "\n",
    "li = [b,c]\n",
    "\n",
    "if a in li:\n",
    "    print(\"true\")"
   ]
  },
  {
   "cell_type": "code",
   "execution_count": null,
   "metadata": {},
   "outputs": [],
   "source": [
    "print(data[1][0])"
   ]
  },
  {
   "cell_type": "code",
   "execution_count": null,
   "metadata": {},
   "outputs": [],
   "source": [
    "print(heatmap_data.shape)\n",
    "print(heatmap_data.dtype)\n",
    "print(heatmap_data)"
   ]
  },
  {
   "cell_type": "code",
   "execution_count": null,
   "metadata": {},
   "outputs": [],
   "source": [
    "for row in heatmap_data:\n",
    "    for v in row:\n",
    "#         print(type(v))\n",
    "        if v > 0: print(v)"
   ]
  },
  {
   "cell_type": "code",
   "execution_count": null,
   "metadata": {},
   "outputs": [],
   "source": [
    "# find the log of all values in the data\n",
    "\n",
    "heatmap_data_log = np.zeros((len(cats),len(cats)),dtype=float)\n",
    "\n",
    "for i in range(len(cats)):\n",
    "    print(\"i:\", i)\n",
    "    for j in range(len(cats)):\n",
    "#         print(heatmap_data[i][j])\n",
    "        if heatmap_data[i][j] > 0:\n",
    "            heatmap_data_log[i][j] = math.log10(heatmap_data[i][j])\n",
    "            print(heatmap_data_log[i][j])"
   ]
  },
  {
   "cell_type": "code",
   "execution_count": null,
   "metadata": {},
   "outputs": [],
   "source": [
    "# currently not working\n",
    "\n",
    "heatmap_log = np.log(np.where(heatmap_data > 0), heatmap_data)"
   ]
  },
  {
   "cell_type": "code",
   "execution_count": null,
   "metadata": {},
   "outputs": [],
   "source": [
    "# attempting to sort the heatmap data so that we have top correlations first\n",
    "\n",
    "x = heatmap_data_log\n",
    "a = x.argsort()\n",
    "# print(x[a])"
   ]
  },
  {
   "cell_type": "code",
   "execution_count": null,
   "metadata": {},
   "outputs": [],
   "source": [
    "fig, ax = plt.subplots()\n",
    "im = ax.imshow(heatmap_data_log)\n",
    "fig.set_size_inches(24, 24)\n",
    "\n",
    "# We want to show all ticks...\n",
    "ax.set_xticks(np.arange(len(cats)))\n",
    "ax.set_yticks(np.arange(len(cats)))\n",
    "# ... and label them with the respective list entries\n",
    "ax.set_xticklabels(cats)\n",
    "ax.set_yticklabels(cats)\n",
    "\n",
    "# Rotate the tick labels and set their alignment.\n",
    "plt.setp(ax.get_yticklabels(), size=\"small\")\n",
    "plt.setp(ax.get_xticklabels(), rotation=90, ha=\"right\", size=\"small\", \n",
    "         rotation_mode=\"anchor\", position=(-100,0))\n",
    "# ax.get_xticklabels().set_position()\n",
    "\n",
    "# Loop over data dimensions and create text annotations.\n",
    "# for i in range(len(cats)):\n",
    "#     for j in range(len(cats)):\n",
    "#         text = ax.text(j, i, heatmap_data[i, j],\n",
    "#                        ha=\"center\", va=\"center\", color=\"w\")\n",
    "\n",
    "ax.set_title(\"Category co-occurance within arXiv\")\n",
    "# fig.tight_layout()\n",
    "plt.show()"
   ]
  },
  {
   "cell_type": "code",
   "execution_count": null,
   "metadata": {},
   "outputs": [],
   "source": [
    "plt.setp(ax.get_xticklabels())"
   ]
  },
  {
   "cell_type": "code",
   "execution_count": null,
   "metadata": {},
   "outputs": [],
   "source": [
    "fig.savefig(\"heatmap_co-category.svg\", dpi=300)"
   ]
  }
 ],
 "metadata": {
  "kernelspec": {
   "display_name": "Python 3",
   "language": "python",
   "name": "python3"
  },
  "language_info": {
   "codemirror_mode": {
    "name": "ipython",
    "version": 3
   },
   "file_extension": ".py",
   "mimetype": "text/x-python",
   "name": "python",
   "nbconvert_exporter": "python",
   "pygments_lexer": "ipython3",
   "version": "3.6.8"
  }
 },
 "nbformat": 4,
 "nbformat_minor": 2
}
