{
 "cells": [
  {
   "cell_type": "markdown",
   "metadata": {},
   "source": [
    "# Generate heatmap diagrams\n",
    "\n",
    "This notebook contains experimentation towards producing heatmap diagrams of the co-occurance of categories in the papers of the arXiv repository. Work-in-progress."
   ]
  },
  {
   "cell_type": "code",
   "execution_count": null,
   "metadata": {},
   "outputs": [],
   "source": [
    "import matplotlib.pyplot as plt\n",
    "import numpy as np\n",
    "\n",
    "import sqlite3\n",
    "\n",
    "import pickle\n",
    "\n",
    "import math"
   ]
  },
  {
   "cell_type": "code",
   "execution_count": null,
   "metadata": {},
   "outputs": [],
   "source": [
    "# path on rte\n",
    "db_path = \"/home/rte/data/db/arxiv_db_images.sqlite3\""
   ]
  },
  {
   "cell_type": "code",
   "execution_count": null,
   "metadata": {},
   "outputs": [],
   "source": [
    "# Here we import the sqlite3 database and create a cursor\n",
    "\n",
    "db = sqlite3.connect(db_path)\n",
    "c = db.cursor()"
   ]
  },
  {
   "cell_type": "code",
   "execution_count": null,
   "metadata": {},
   "outputs": [],
   "source": [
    "c.execute('PRAGMA TABLE_INFO({})'.format(\"metadata\"))\n",
    "info = c.fetchall()\n",
    "\n",
    "print(\"\\nColumn Info:\\nID, Name, Type, NotNull, DefaultVal, PrimaryKey\")\n",
    "for col in info:\n",
    "    print(col)"
   ]
  },
  {
   "cell_type": "code",
   "execution_count": null,
   "metadata": {},
   "outputs": [],
   "source": [
    "c.execute('PRAGMA TABLE_INFO({})'.format(\"images\"))\n",
    "info = c.fetchall()\n",
    "\n",
    "print(\"\\nColumn Info:\\nID, Name, Type, NotNull, DefaultVal, PrimaryKey\")\n",
    "for col in info:\n",
    "    print(col)"
   ]
  },
  {
   "cell_type": "code",
   "execution_count": null,
   "metadata": {},
   "outputs": [],
   "source": [
    "# OLD WAY\n",
    "# get list of all singular categories\n",
    "# only gets 171 categories used as primary\n",
    "\n",
    "sql = ('''\n",
    "    SELECT substr(trim(metadata.cat),1,instr(trim(metadata.cat)||' ',' ')-1), count(substr(trim(metadata.cat),1,instr(trim(metadata.cat)||' ',' ')-1))\n",
    "    FROM metadata\n",
    "    GROUP BY substr(trim(metadata.cat),1,instr(trim(metadata.cat)||' ',' ')-1)\n",
    "    ORDER BY count(substr(trim(metadata.cat),1,instr(trim(metadata.cat)||' ',' ')-1)) DESC\n",
    "    ''')\n",
    "\n",
    "c.execute(sql, ())\n",
    "\n",
    "cats = c.fetchall()"
   ]
  },
  {
   "cell_type": "code",
   "execution_count": null,
   "metadata": {},
   "outputs": [],
   "source": [
    "print(len(cats))"
   ]
  },
  {
   "cell_type": "code",
   "execution_count": null,
   "metadata": {},
   "outputs": [],
   "source": [
    "# get list of all singular categories using DISTINCT\n",
    "\n",
    "sql = ('''\n",
    "    SELECT DISTINCT metadata.cat\n",
    "    FROM metadata\n",
    "    GROUP BY metadata.cat\n",
    "    ''')\n",
    "\n",
    "c.execute(sql, ())\n",
    "\n",
    "all_cats = c.fetchall()"
   ]
  },
  {
   "cell_type": "code",
   "execution_count": null,
   "metadata": {},
   "outputs": [],
   "source": [
    "print(len(all_cats))\n",
    "for row in all_cats:\n",
    "    print(row)"
   ]
  },
  {
   "cell_type": "code",
   "execution_count": null,
   "metadata": {},
   "outputs": [],
   "source": [
    "individual_cats = []\n",
    "for cat in all_cats:\n",
    "    substrings = cat[0].split(\" \")\n",
    "    for s in substrings:\n",
    "        if s not in individual_cats:\n",
    "            individual_cats.append(s)\n",
    "print(len(individual_cats))\n",
    "for row in individual_cats:\n",
    "    print(row)"
   ]
  },
  {
   "cell_type": "markdown",
   "metadata": {},
   "source": [
    "There are 175 individual categories that are used and 171 categories given as the primary category (first listed)"
   ]
  },
  {
   "cell_type": "code",
   "execution_count": null,
   "metadata": {},
   "outputs": [],
   "source": [
    "cats = individual_cats"
   ]
  },
  {
   "cell_type": "code",
   "execution_count": null,
   "metadata": {},
   "outputs": [],
   "source": [
    "print(len(cats))\n",
    "for cat in cats:\n",
    "    print(cat)"
   ]
  },
  {
   "cell_type": "code",
   "execution_count": null,
   "metadata": {},
   "outputs": [],
   "source": [
    "# get the total of each time a category combination appears\n",
    "# store in data variable\n",
    "\n",
    "sql = ('''\n",
    "    SELECT metadata.cat, count(metadata.cat)\n",
    "    FROM metadata\n",
    "    GROUP BY metadata.cat\n",
    "    ''')\n",
    "\n",
    "c.execute(sql, ())\n",
    "\n",
    "data = c.fetchall()\n",
    "\n",
    "print(\"number of rows: \", len(data))\n",
    "\n",
    "# c.execute(sql, (targetDate, targetDate, cat[0], )))\n",
    "\n",
    "# LEFT JOIN metadata ON images.identifier = metadata.identifier\n"
   ]
  },
  {
   "cell_type": "code",
   "execution_count": null,
   "metadata": {},
   "outputs": [],
   "source": [
    "for row in data[:20]:\n",
    "    print(row)"
   ]
  },
  {
   "cell_type": "code",
   "execution_count": null,
   "metadata": {},
   "outputs": [],
   "source": [
    "# writing file to org mode for github\n",
    "\n",
    "# write the data to a file\n",
    "with open(\"stats_all_category_totals.org\", \"w\") as write_file:\n",
    "    print(\"* totals of publications per categories\", file=write_file)\n",
    "    print(\"|-|-|\", file=write_file)\n",
    "    for cat in rows:\n",
    "#         joined = list(zip(cat[1], cat[2]))\n",
    "        #     print(joined)\n",
    "        print('|' + str(cat[1]) + \"|\" + str(cat[0]) + \"|\", file=write_file)\n",
    "    print(\"|-|-|\", file=write_file)\n",
    "write_file.close()"
   ]
  },
  {
   "cell_type": "code",
   "execution_count": null,
   "metadata": {},
   "outputs": [],
   "source": [
    "print(len(cats))\n",
    "for row in cats[:20]:\n",
    "    print(row)"
   ]
  },
  {
   "cell_type": "code",
   "execution_count": null,
   "metadata": {},
   "outputs": [],
   "source": [
    "# testing how many times a given category appears along with another category\n",
    "\n",
    "heatmap_data = np.zeros((len(cats), len(cats)), dtype=int)\n",
    "\n",
    "# iterate twice over whole dataset\n",
    "# range(len(data))\n",
    "\n",
    "for i in range(len(cats)):\n",
    "    print(\"i:\", i)\n",
    "\n",
    "    for j in range(len(cats)):\n",
    "        if i == j: \n",
    "#             break\n",
    "            pass\n",
    "        else:                \n",
    "            total = 0\n",
    "            for row in data[:]:\n",
    "                substrings = row[0].split(\" \")\n",
    "#                 print(\"number of substrings: \", len(substrings))\n",
    "\n",
    "                c1 = cats[i]\n",
    "                c2 = cats[j]\n",
    "#                 print(\"c1:\",c1,\"c2:\",c2)\n",
    "\n",
    "                if c1 in substrings:\n",
    "                    if c2 in substrings:\n",
    "                        total += row[1]\n",
    "#                         print(c1, \"and\", c2, \"in\", row[0], \"adding\", row[1])\n",
    "\n",
    "#             if total > 0: \n",
    "#                 print(\"total:\", total)\n",
    "#                 print(\"*\" * 20)\n",
    "            heatmap_data[i][j] = total\n",
    "        "
   ]
  },
  {
   "cell_type": "code",
   "execution_count": null,
   "metadata": {},
   "outputs": [],
   "source": [
    "f = ['''    astro-ph.GA: Astrophysics of Galaxies\n",
    "    astro-ph.CO: Cosmology and Nongalactic Astrophysics\n",
    "    astro-ph.EP: Earth and Planetary Astrophysics\n",
    "    astro-ph.HE: High Energy Astrophysical Phenomena\n",
    "    astro-ph.IM: Instrumentation and Methods for Astrophysics\n",
    "    astro-ph.SR: Solar and Stellar Astrophysics\n",
    "    cond-mat.dis-nn: Disordered Systems and Neural Networks\n",
    "    cond-mat.mtrl-sci: Materials Science\n",
    "    cond-mat.mes-hall: Mesoscale and Nanoscale Physics\n",
    "    cond-mat.other: Other Condensed Matter\n",
    "    cond-mat.quant-gas: Quantum Gases\n",
    "    cond-mat.soft: Soft Condensed Matter\n",
    "    cond-mat.stat-mech: Statistical Mechanics\n",
    "    cond-mat.str-el: Strongly Correlated Electrons\n",
    "    cond-mat.supr-con: Superconductivity\n",
    "    gr-qc: General Relativity and Quantum Cosmology\n",
    "    hep-ex: High Energy Physics - Experiment\n",
    "    hep-lat: High Energy Physics - Lattice\n",
    "    hep-ph: High Energy Physics - Phenomenology\n",
    "    hep-th: High Energy Physics - Theory\n",
    "    math-ph: Mathematical Physics\n",
    "    nlin.AO: Adaptation and Self-Organizing Systems\n",
    "    nlin.CG: Cellular Automata and Lattice Gases\n",
    "    nlin.CD: Chaotic Dynamics\n",
    "    nlin.SI: Exactly Solvable and Integrable Systems\n",
    "    nlin.PS: Pattern Formation and Solitons\n",
    "    nucl-ex: Nuclear Experiment\n",
    "    nucl-th: Nuclear Theory\n",
    "    physics.acc-ph: Accelerator Physics\n",
    "    physics.app-ph: Applied Physics\n",
    "    physics.ao-ph: Atmospheric and Oceanic Physics\n",
    "    physics.atom-ph: Atomic Physics\n",
    "    physics.atm-clus: Atomic and Molecular Clusters\n",
    "    physics.bio-ph: Biological Physics\n",
    "    physics.chem-ph: Chemical Physics\n",
    "    physics.class-ph: Classical Physics\n",
    "    physics.comp-ph: Computational Physics\n",
    "    physics.data-an: Data Analysis, Statistics and Probability\n",
    "    physics.flu-dyn: Fluid Dynamics\n",
    "    physics.gen-ph: General Physics\n",
    "    physics.geo-ph: Geophysics\n",
    "    physics.hist-ph: History and Philosophy of Physics\n",
    "    physics.ins-det: Instrumentation and Detectors\n",
    "    physics.med-ph: Medical Physics\n",
    "    physics.optics: Optics\n",
    "    physics.ed-ph: Physics Education\n",
    "    physics.soc-ph: Physics and Society\n",
    "    physics.plasm-ph: Plasma Physics\n",
    "    physics.pop-ph: Popular Physics\n",
    "    physics.space-ph: Space Physics\n",
    "    quant-ph: Quantum Physics''', '''    math.AG: Algebraic Geometry\n",
    "    math.AT: Algebraic Topology\n",
    "    math.AP: Analysis of PDEs\n",
    "    math.CT: Category Theory\n",
    "    math.CA: Classical Analysis and ODEs\n",
    "    math.CO: Combinatorics\n",
    "    math.AC: Commutative Algebra\n",
    "    math.CV: Complex Variables\n",
    "    math.DG: Differential Geometry\n",
    "    math.DS: Dynamical Systems\n",
    "    math.FA: Functional Analysis\n",
    "    math.GM: General Mathematics\n",
    "    math.GN: General Topology\n",
    "    math.GT: Geometric Topology\n",
    "    math.GR: Group Theory\n",
    "    math.HO: History and Overview\n",
    "    math.IT: Information Theory\n",
    "    math.KT: K-Theory and Homology\n",
    "    math.LO: Logic\n",
    "    math.MP: Mathematical Physics\n",
    "    math.MG: Metric Geometry\n",
    "    math.NT: Number Theory\n",
    "    math.NA: Numerical Analysis\n",
    "    math.OA: Operator Algebras\n",
    "    math.OC: Optimization and Control\n",
    "    math.PR: Probability\n",
    "    math.QA: Quantum Algebra\n",
    "    math.RT: Representation Theory\n",
    "    math.RA: Rings and Algebras\n",
    "    math.SP: Spectral Theory\n",
    "    math.ST: Statistics Theory\n",
    "    math.SG: Symplectic Geometry''','''    cs.AI: Artificial Intelligence\n",
    "    cs.CL: Computation and Language\n",
    "    cs.CC: Computational Complexity\n",
    "    cs.CE: Computational Engineering, Finance, and Science\n",
    "    cs.CG: Computational Geometry\n",
    "    cs.GT: Computer Science and Game Theory\n",
    "    cs.CV: Computer Vision and Pattern Recognition\n",
    "    cs.CY: Computers and Society\n",
    "    cs.CR: Cryptography and Security\n",
    "    cs.DS: Data Structures and Algorithms\n",
    "    cs.DB: Databases\n",
    "    cs.DL: Digital Libraries\n",
    "    cs.DM: Discrete Mathematics\n",
    "    cs.DC: Distributed, Parallel, and Cluster Computing\n",
    "    cs.ET: Emerging Technologies\n",
    "    cs.FL: Formal Languages and Automata Theory\n",
    "    cs.GL: General Literature\n",
    "    cs.GR: Graphics\n",
    "    cs.AR: Hardware Architecture\n",
    "    cs.HC: Human-Computer Interaction\n",
    "    cs.IR: Information Retrieval\n",
    "    cs.IT: Information Theory\n",
    "    cs.LG: Learning\n",
    "    cs.LO: Logic in Computer Science\n",
    "    cs.MS: Mathematical Software\n",
    "    cs.MA: Multiagent Systems\n",
    "    cs.MM: Multimedia\n",
    "    cs.NI: Networking and Internet Architecture\n",
    "    cs.NE: Neural and Evolutionary Computing\n",
    "    cs.NA: Numerical Analysis\n",
    "    cs.OS: Operating Systems\n",
    "    cs.OH: Other Computer Science\n",
    "    cs.PF: Performance\n",
    "    cs.PL: Programming Languages\n",
    "    cs.RO: Robotics\n",
    "    cs.SI: Social and Information Networks\n",
    "    cs.SE: Software Engineering\n",
    "    cs.SD: Sound\n",
    "    cs.SC: Symbolic Computation\n",
    "    cs.SY: Systems and Control''','''    q-bio.BM: Biomolecules\n",
    "    q-bio.GN: Genomics\n",
    "    q-bio.MN: Molecular Networks\n",
    "    q-bio.SC: Subcellular Processes\n",
    "    q-bio.CB: Cell Behavior\n",
    "    q-bio.NC: Neurons and Cognition\n",
    "    q-bio.TO: Tissues and Organs\n",
    "    q-bio.PE: Populations and Evolution\n",
    "    q-bio.QM: Quantitative Methods\n",
    "    q-bio.OT: Other''', '''    q-fin.PR: Pricing of Securities\n",
    "    q-fin.RM: Risk Management\n",
    "    q-fin.PM: Portfolio Management\n",
    "    q-fin.TR: Trading and Microstructure\n",
    "    q-fin.MF: Mathematical Finance\n",
    "    q-fin.CP: Computational Finance\n",
    "    q-fin.ST: Statistical Finance\n",
    "    q-fin.GN: General Finance\n",
    "    q-fin.EC: Economics''','''    stat.AP: Applications\n",
    "    stat.CO: Computation\n",
    "    stat.ML: Machine Learning\n",
    "    stat.ME: Methodology\n",
    "    stat.OT: Other Statistics\n",
    "    stat.TH: Theory''']"
   ]
  },
  {
   "cell_type": "code",
   "execution_count": null,
   "metadata": {},
   "outputs": [],
   "source": [
    "# put the lists of categories into each field\n",
    "\n",
    "field_cats = []\n",
    "\n",
    "# print(f)\n",
    "# counter = 0\n",
    "\n",
    "for counter, string in enumerate(f):\n",
    "    print(counter)\n",
    "    temp_cats = []\n",
    "    for line in string.splitlines():\n",
    "    #     counter += 1\n",
    "#         print(line[4:].split(\":\")[0])\n",
    "        temp_cats.append(line[4:].split(\":\")[0])\n",
    "#         print(temp_cats)\n",
    "    field_cats.append(temp_cats)\n"
   ]
  },
  {
   "cell_type": "code",
   "execution_count": null,
   "metadata": {},
   "outputs": [],
   "source": [
    "print(field_cats)"
   ]
  },
  {
   "cell_type": "code",
   "execution_count": null,
   "metadata": {},
   "outputs": [],
   "source": [
    "fields_list = [\"Physics\", \"Mathematics\", \"Computer Science\", \\\n",
    "               \"Quantitative Biology\", \"Quantitative Finance\", \"Statistics\"]"
   ]
  },
  {
   "cell_type": "code",
   "execution_count": null,
   "metadata": {},
   "outputs": [],
   "source": [
    "# run same as above, but instead reduce data to only the 6 \"fields\":\n",
    "# Physics, Mathematics, Computer Science, \n",
    "# Quantitative Biology, Quantitative Finance, Statistics\n",
    "\n",
    "\n",
    "heatmap_data_field = np.zeros((len(field_cats), len(field_cats)), dtype=int)\n",
    "\n",
    "# iterate twice over whole dataset\n",
    "# range(len(data))\n",
    "\n",
    "for i in range(len(field_cats)):\n",
    "    print(\"i:\", i)\n",
    "\n",
    "    for j in range(len(field_cats)):\n",
    "        print(\"j:\", j)\n",
    "        \n",
    "        c1 = field_cats[i]\n",
    "        c2 = field_cats[j]\n",
    "#         print(\"c1:\",c1,\"c2:\",c2)\n",
    "\n",
    "        if i == j: \n",
    "#             break\n",
    "            pass\n",
    "        else:                \n",
    "            total = 0\n",
    "            for row in data[:]:\n",
    "                substrings = row[0].split(\" \")\n",
    "#                 print(\"number of substrings: \", len(substrings))\n",
    "\n",
    "                c1b = False\n",
    "                c2b = False\n",
    "                              \n",
    "                for c in c1:\n",
    "                    if c in substrings:\n",
    "                        c1b = True\n",
    "#                         print(\"c1b found\",\"c1:\",c)\n",
    "                        break\n",
    "                              \n",
    "                for c in c2:\n",
    "                    if c in substrings:\n",
    "                        c2b = True\n",
    "#                         print(\"c2b found\",\"c2:\",c)\n",
    "                        break\n",
    "\n",
    "\n",
    "                if c1b and c2b:\n",
    "                    total += row[1]\n",
    "#                         print(c1, \"and\", c2, \"in\", row[0], \"adding\", row[1])\n",
    "\n",
    "#             if total > 0: \n",
    "#                 print(\"total:\", total)\n",
    "#                 print(\"*\" * 20)\n",
    "            heatmap_data_field[i][j] = total"
   ]
  },
  {
   "cell_type": "code",
   "execution_count": null,
   "metadata": {},
   "outputs": [],
   "source": [
    "heatmap_data_field"
   ]
  },
  {
   "cell_type": "code",
   "execution_count": null,
   "metadata": {},
   "outputs": [],
   "source": [
    "heatmap_data_field"
   ]
  },
  {
   "cell_type": "code",
   "execution_count": null,
   "metadata": {},
   "outputs": [],
   "source": [
    "# Get number of articles for each primary category\n",
    "\n",
    "c.execute('''\n",
    "    SELECT count(substr(trim(cat),1,instr(trim(cat)||' ',' ')-1)), substr(trim(cat),1,instr(trim(cat)||' ',' ')-1)\n",
    "    FROM metadata\n",
    "    GROUP BY substr(trim(cat),1,instr(trim(cat)||' ',' ')-1)\n",
    "    ''')\n",
    "rows = c.fetchall()\n",
    "for row in rows:\n",
    "    print(row)\n",
    "    "
   ]
  },
  {
   "cell_type": "code",
   "execution_count": null,
   "metadata": {},
   "outputs": [],
   "source": [
    "fields_list = [\"Physics\", \"Mathematics\", \"Computer Science\", \\\n",
    "               \"Quantitative Biology\", \"Quantitative Finance\", \"Statistics\"]\n",
    "print(len(fields_list))"
   ]
  },
  {
   "cell_type": "code",
   "execution_count": null,
   "metadata": {},
   "outputs": [],
   "source": [
    "# WRITE pickle\n",
    "\n",
    "with open(\"heatmap_data_175_full\" + \".pickle\", \"wb\") as write_file:\n",
    "    pickle.dump(heatmap_data, write_file)\n",
    "    write_file.close()"
   ]
  },
  {
   "cell_type": "code",
   "execution_count": null,
   "metadata": {},
   "outputs": [],
   "source": [
    "# WRITE pickle\n",
    "\n",
    "with open(\"heatmap_data_175\" + \".pickle\", \"wb\") as write_file:\n",
    "    pickle.dump(heatmap_data, write_file)\n",
    "    write_file.close()"
   ]
  },
  {
   "cell_type": "code",
   "execution_count": null,
   "metadata": {},
   "outputs": [],
   "source": [
    "# WRITE pickle field_cats\n",
    "\n",
    "with open(\"heatmap_data_field\" + \".pickle\", \"wb\") as write_file:\n",
    "    pickle.dump(heatmap_data_field, write_file)\n",
    "    write_file.close()"
   ]
  },
  {
   "cell_type": "code",
   "execution_count": null,
   "metadata": {},
   "outputs": [],
   "source": [
    "# READ pickle\n",
    "\n",
    "with open(\"heatmap_data_175.pickle\", \"rb\") as read_file:\n",
    "    heatmap_data = pickle.load(read_file)\n",
    "    read_file.close()"
   ]
  },
  {
   "cell_type": "code",
   "execution_count": null,
   "metadata": {},
   "outputs": [],
   "source": [
    "# READ pickle\n",
    "\n",
    "with open(\"heatmap_data_175_full.pickle\", \"rb\") as read_file:\n",
    "    heatmap_data = pickle.load(read_file)\n",
    "    read_file.close()"
   ]
  },
  {
   "cell_type": "code",
   "execution_count": null,
   "metadata": {},
   "outputs": [],
   "source": [
    "# READ pickle field_cats\n",
    "\n",
    "with open(\"heatmap_data_field.pickle\", \"rb\") as read_file:\n",
    "    heatmap_data_field = pickle.load(read_file)\n",
    "    read_file.close()"
   ]
  },
  {
   "cell_type": "code",
   "execution_count": null,
   "metadata": {},
   "outputs": [],
   "source": [
    "# testing string finding\n",
    "\n",
    "a = \"astro-ph\"\n",
    "b = \"astro-ph.MD\"\n",
    "c = \"something\"\n",
    "\n",
    "li = [b,c]\n",
    "\n",
    "if a in li:\n",
    "    print(\"true\")"
   ]
  },
  {
   "cell_type": "code",
   "execution_count": null,
   "metadata": {},
   "outputs": [],
   "source": [
    "print(data[1][0])"
   ]
  },
  {
   "cell_type": "code",
   "execution_count": null,
   "metadata": {},
   "outputs": [],
   "source": [
    "print(heatmap_data.shape)\n",
    "print(heatmap_data.dtype)\n",
    "print(heatmap_data)"
   ]
  },
  {
   "cell_type": "code",
   "execution_count": null,
   "metadata": {},
   "outputs": [],
   "source": [
    "for row in heatmap_data:\n",
    "    for v in row:\n",
    "#         print(type(v))\n",
    "        if v > 0: print(v)"
   ]
  },
  {
   "cell_type": "code",
   "execution_count": null,
   "metadata": {},
   "outputs": [],
   "source": [
    "# find the log of all values in the data\n",
    "\n",
    "heatmap_data_log = np.zeros((len(cats),len(cats)),dtype=float)\n",
    "\n",
    "for i in range(len(cats)):\n",
    "    print(\"i:\", i)\n",
    "    for j in range(len(cats)):\n",
    "#         print(heatmap_data[i][j])\n",
    "        if heatmap_data[i][j] > 0:\n",
    "            heatmap_data_log[i][j] = math.log10(heatmap_data[i][j])\n",
    "            print(heatmap_data_log[i][j])"
   ]
  },
  {
   "cell_type": "code",
   "execution_count": null,
   "metadata": {},
   "outputs": [],
   "source": [
    "# find the log of all values in the data (fields)\n",
    "\n",
    "heatmap_data_log = np.zeros((len(fields_list),len(fields_list)),dtype=float)\n",
    "\n",
    "for i in range(len(fields_list)):\n",
    "    print(\"i:\", i)\n",
    "    for j in range(len(fields_list)):\n",
    "#         print(heatmap_data[i][j])\n",
    "        if heatmap_data_field[i][j] > 0:\n",
    "            heatmap_data_log[i][j] = math.log10(heatmap_data_field[i][j])\n",
    "            print(heatmap_data_log[i][j])"
   ]
  },
  {
   "cell_type": "code",
   "execution_count": null,
   "metadata": {},
   "outputs": [],
   "source": [
    "# currently not working\n",
    "\n",
    "heatmap_log = np.log(np.where(heatmap_data > 0), heatmap_data)"
   ]
  },
  {
   "cell_type": "code",
   "execution_count": null,
   "metadata": {},
   "outputs": [],
   "source": [
    "# attempting to sort the heatmap data so that we have top correlations first\n",
    "\n",
    "x = heatmap_data_log\n",
    "a = x.argsort()\n",
    "# print(x[a])"
   ]
  },
  {
   "cell_type": "code",
   "execution_count": null,
   "metadata": {},
   "outputs": [],
   "source": [
    "# slice heatmap into smaller chunks that are then exported sequentially\n",
    "\n",
    "# xstart = 0\n",
    "# xstop = 25\n",
    "# ystart = 0\n",
    "# ystop = 25\n",
    "\n",
    "for i in range(0,175,25):\n",
    "    print(\"i:\",i)\n",
    "    for j in range(0,175,25):\n",
    "        print(\"j:\",j)\n",
    "        xstart = i\n",
    "        xstop = i + 25\n",
    "        ystart = j\n",
    "        ystop = j + 25\n",
    "\n",
    "        fig, ax = plt.subplots()\n",
    "        im = ax.imshow(heatmap_data[xstart:xstop,ystart:ystop])\n",
    "        # plt.colorbar(im)\n",
    "\n",
    "        fig.set_size_inches(12, 12)\n",
    "\n",
    "        # We want to show all ticks...\n",
    "        ax.set_xticks(np.arange(len(cats[ystart:ystop])))\n",
    "        ax.set_yticks(np.arange(len(cats[xstart:xstop])))\n",
    "        # ... and label them with the respective list entries\n",
    "        ax.set_xticklabels(cats[ystart:ystop])\n",
    "        ax.set_yticklabels(cats[xstart:xstop])\n",
    "\n",
    "        # Rotate the tick labels and set their alignment.\n",
    "        plt.setp(ax.get_yticklabels(), size=\"small\")\n",
    "        plt.setp(ax.get_xticklabels(), rotation=90, ha=\"right\", size=\"small\", \n",
    "                 rotation_mode=\"anchor\", position=(-100,0))\n",
    "        # ax.get_xticklabels().set_position()\n",
    "\n",
    "        # Loop over data dimensions and create text annotations.\n",
    "        # for i in range(len(cats)):\n",
    "        #     for j in range(len(cats)):\n",
    "        #         text = ax.text(j, i, heatmap_data[i, j],\n",
    "        #                        ha=\"center\", va=\"center\", color=\"w\")\n",
    "\n",
    "        ax.set_title(\"Category co-occurance within arXiv\")\n",
    "        # fig.tight_layout()\n",
    "#         plt.show()\n",
    "\n",
    "        filename = \"heatmap_co-category_\" + \\\n",
    "                    str(xstart) + \"-\" + str(xstop) + \\\n",
    "                    \"_\" + str(ystart) + \"-\" + str(ystop) + \".svg\"\n",
    "        fig.savefig(filename, dpi=300)"
   ]
  },
  {
   "cell_type": "code",
   "execution_count": null,
   "metadata": {},
   "outputs": [],
   "source": [
    "for i in range(0,175,25):\n",
    "    print(i)"
   ]
  },
  {
   "cell_type": "code",
   "execution_count": null,
   "metadata": {},
   "outputs": [],
   "source": [
    "# field\n",
    "\n",
    "fig, ax = plt.subplots()\n",
    "im = ax.imshow(heatmap_data_field)\n",
    "plt.colorbar(im)\n",
    "\n",
    "fig.set_size_inches(12, 12)\n",
    "\n",
    "# We want to show all ticks...\n",
    "ax.set_xticks(np.arange(len(fields_list)))\n",
    "ax.set_yticks(np.arange(len(fields_list)))\n",
    "# ... and label them with the respective list entries\n",
    "ax.set_xticklabels(fields_list)\n",
    "ax.set_yticklabels(fields_list)\n",
    "\n",
    "# Rotate the tick labels and set their alignment.\n",
    "plt.setp(ax.get_yticklabels(), size=\"small\")\n",
    "plt.setp(ax.get_xticklabels(), rotation=90, ha=\"right\", size=\"small\", \n",
    "         rotation_mode=\"anchor\", position=(-100,0))\n",
    "# ax.get_xticklabels().set_position()\n",
    "\n",
    "# Loop over data dimensions and create text annotations.\n",
    "# for i in range(len(cats)):\n",
    "#     for j in range(len(cats)):\n",
    "#         text = ax.text(j, i, heatmap_data[i, j],\n",
    "#                        ha=\"center\", va=\"center\", color=\"w\")\n",
    "\n",
    "ax.set_title(\"Category co-occurance within arXiv (fields)\")\n",
    "# fig.tight_layout()\n",
    "plt.show()"
   ]
  },
  {
   "cell_type": "code",
   "execution_count": null,
   "metadata": {},
   "outputs": [],
   "source": [
    "plt.setp(ax.get_xticklabels())"
   ]
  },
  {
   "cell_type": "code",
   "execution_count": null,
   "metadata": {},
   "outputs": [],
   "source": [
    "fig.savefig(\"heatmap_co-category_fields.svg\", dpi=300)"
   ]
  }
 ],
 "metadata": {
  "kernelspec": {
   "display_name": "Python 3",
   "language": "python",
   "name": "python3"
  },
  "language_info": {
   "codemirror_mode": {
    "name": "ipython",
    "version": 3
   },
   "file_extension": ".py",
   "mimetype": "text/x-python",
   "name": "python",
   "nbconvert_exporter": "python",
   "pygments_lexer": "ipython3",
   "version": "3.7.2"
  }
 },
 "nbformat": 4,
 "nbformat_minor": 2
}
