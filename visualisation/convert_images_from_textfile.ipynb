{
 "cells": [
  {
   "cell_type": "code",
   "execution_count": null,
   "metadata": {},
   "outputs": [],
   "source": [
    "import itertools\n",
    "import subprocess\n",
    "from subprocess import Popen, PIPE, TimeoutExpired\n",
    "import os\n",
    "import shlex\n",
    "import time\n",
    "import sys\n",
    "\n",
    "print(sys.argv)"
   ]
  },
  {
   "cell_type": "code",
   "execution_count": null,
   "metadata": {},
   "outputs": [],
   "source": [
    "import os\n",
    "import signal\n",
    "from time import monotonic as timer"
   ]
  },
  {
   "cell_type": "code",
   "execution_count": null,
   "metadata": {},
   "outputs": [],
   "source": [
    "convert_path = \"/home/rte/data/images/random/100k/test/\"\n",
    "# convert_path = sys,argv[3]\n",
    "\n",
    "textfile = \"/home/rte/data/images/random/100k/filepaths.txt\"\n",
    "# textfile = sys.argv[1]\n",
    "\n",
    "start_line = 43806 -1\n",
    "# start_line = sys.argv[2] - 1\n",
    "\n",
    "counter = 0"
   ]
  },
  {
   "cell_type": "code",
   "execution_count": null,
   "metadata": {},
   "outputs": [],
   "source": [
    "start = time.time()\n",
    "\n",
    "filepaths = []\n",
    "image_ids = []\n",
    "\n",
    "with open(textfile, \"r\") as f:\n",
    "    lines = f.readlines()\n",
    "    print(len(lines))\n",
    "    print(lines[0])\n",
    "for l in lines:\n",
    "    substrings = l.split(\",\")\n",
    "    filepaths.append(substrings[0].strip())\n",
    "    image_ids.append(substrings[1].strip())\n",
    "\n",
    "print(\"total filepaths:\",len(filepaths))\n",
    "print(\"total image_ids:\",len(image_ids))\n",
    "\n",
    "end = time.time()\n",
    "print(\"finished loading filepaths\")\n",
    "print(\"time taken:\", end - start)"
   ]
  },
  {
   "cell_type": "code",
   "execution_count": null,
   "metadata": {},
   "outputs": [],
   "source": [
    "print(\"*\" * 20)\n",
    "print(\"checking the first filepath and id:\")\n",
    "print(filepaths[start_line], image_ids[start_line])\n",
    "print(\"*\" * 20)"
   ]
  },
  {
   "cell_type": "code",
   "execution_count": null,
   "metadata": {},
   "outputs": [],
   "source": [
    "# arguments for convert\n",
    "prearg = shlex.split(\"-density 300 -colorspace CMYK\")\n",
    "arguments = shlex.split(\"-colorspace sRGB -background white -alpha background \\\n",
    "    -trim +repage -flatten -resize 512x512^> -verbose\")\n",
    "\n",
    "logpath = convert_path + \"error_log.txt\"\n",
    "\n",
    "overall_start = time.time()\n",
    "\n",
    "for image_id, filepath in zip(image_ids[start_line:], filepaths[start_line:]):\n",
    "    \n",
    "    start = time.time()\n",
    "    \n",
    "    if counter % 10 is 0:\n",
    "        print(\"*\" * 20)\n",
    "        print(\"counter:\",counter)\n",
    "        print(\"converting image:\",start_line+counter)\n",
    "        print(\"*\" * 20)\n",
    "        \n",
    "    print(\"filename:\",filepath)\n",
    "    outputname = [convert_path + str(image_id) + \".jpg\"]\n",
    "    print(\"outputname:\",outputname)\n",
    "\n",
    "    # call the montage command and parse list of files and arguments\n",
    "    convert_cmd = [\"convert\"] + prearg + [filepath + \"[0]\"] + arguments + outputname\n",
    "#     print(convert_cmd)\n",
    "\n",
    "    try:\n",
    "        subprocess.run(convert_cmd, timeout=5)\n",
    "    except subprocess.TimeoutExpired:\n",
    "        print(\"!\" * 20)\n",
    "        print(\"timeout --- logging problem file\")\n",
    "        f = open(logpath, \"a+\")\n",
    "        f.write(filepath + \",\" + image_id + \"\\n\")\n",
    "        f.close()\n",
    "        print(\"-\" * 20)\n",
    "\n",
    "        continue\n",
    "\n",
    "    counter += 1\n",
    "    \n",
    "    print(\"time elapsed: {:.2f}\".format(time.time() - start))\n",
    "    print(\"-\" * 20)\n",
    "    \n",
    "print(\"finished converting!\")\n",
    "print(\"total number of items:\",counter)\n",
    "end = time.time()\n",
    "print(\"total time taken:\", end - overall_start)"
   ]
  },
  {
   "cell_type": "code",
   "execution_count": null,
   "metadata": {},
   "outputs": [],
   "source": []
  }
 ],
 "metadata": {
  "kernelspec": {
   "display_name": "Python 3",
   "language": "python",
   "name": "python3"
  },
  "language_info": {
   "codemirror_mode": {
    "name": "ipython",
    "version": 3
   },
   "file_extension": ".py",
   "mimetype": "text/x-python",
   "name": "python",
   "nbconvert_exporter": "python",
   "pygments_lexer": "ipython3",
   "version": "3.6.8"
  }
 },
 "nbformat": 4,
 "nbformat_minor": 2
}
