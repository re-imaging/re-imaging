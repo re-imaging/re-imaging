{
 "cells": [
  {
   "cell_type": "code",
   "execution_count": null,
   "metadata": {},
   "outputs": [],
   "source": [
    "import os\n",
    "import random"
   ]
  },
  {
   "cell_type": "code",
   "execution_count": null,
   "metadata": {},
   "outputs": [],
   "source": [
    "from PIL import Image\n",
    "# from pillow import Image"
   ]
  },
  {
   "cell_type": "code",
   "execution_count": null,
   "metadata": {},
   "outputs": [],
   "source": [
    "import numpy as np\n",
    "import matplotlib.pyplot as plt"
   ]
  },
  {
   "cell_type": "code",
   "execution_count": null,
   "metadata": {},
   "outputs": [],
   "source": [
    "import pickle"
   ]
  },
  {
   "cell_type": "code",
   "execution_count": null,
   "metadata": {},
   "outputs": [],
   "source": [
    "import time"
   ]
  },
  {
   "cell_type": "code",
   "execution_count": null,
   "metadata": {},
   "outputs": [],
   "source": [
    "import keras\n",
    "from keras.preprocessing import image\n",
    "from keras.applications.imagenet_utils import decode_predictions, preprocess_input\n",
    "from keras.models import Model"
   ]
  },
  {
   "cell_type": "code",
   "execution_count": null,
   "metadata": {},
   "outputs": [],
   "source": [
    "model = keras.applications.VGG16(weights='imagenet', include_top=True)"
   ]
  },
  {
   "cell_type": "code",
   "execution_count": null,
   "metadata": {
    "scrolled": true
   },
   "outputs": [],
   "source": [
    "print(\"model loaded\")\n",
    "model.summary()"
   ]
  },
  {
   "cell_type": "code",
   "execution_count": null,
   "metadata": {},
   "outputs": [],
   "source": [
    "def load_image(path):\n",
    "    img = image.load_img(path, target_size=model.input_shape[1:3])\n",
    "    x = image.img_to_array(img)\n",
    "    x = np.expand_dims(x, axis=0)\n",
    "    x = preprocess_input(x)\n",
    "    return img, x"
   ]
  },
  {
   "cell_type": "code",
   "execution_count": null,
   "metadata": {},
   "outputs": [],
   "source": [
    "# set up the feature extractor\n",
    "\n",
    "feat_extractor = Model(inputs=model.input, outputs=model.get_layer(\"fc2\").output)\n",
    "print(\"feature extractor setup\")\n",
    "feat_extractor.summary()"
   ]
  },
  {
   "cell_type": "code",
   "execution_count": null,
   "metadata": {},
   "outputs": [],
   "source": [
    "# create a list of all the category/year folders\n",
    "\n",
    "paths = []\n",
    "\n",
    "parent_dir = '/home/rte/data/images/cat/'\n",
    "category = ''\n",
    "year = ''\n",
    "\n",
    "categories = [f.path for f in os.scandir(parent_dir) if f.is_dir()]\n",
    "# print(categories)\n",
    "\n",
    "for c in categories:\n",
    "    path = [f.path for f in os.scandir(c) if f.is_dir()]\n",
    "#     print(path)\n",
    "    paths.append(path)\n",
    "\n",
    "# print(paths)\n",
    "for p in paths:\n",
    "    p.sort()\n",
    "print(\"----- paths -----\")\n",
    "print(paths)\n"
   ]
  },
  {
   "cell_type": "code",
   "execution_count": null,
   "metadata": {},
   "outputs": [],
   "source": [
    "# big loop here\n",
    "\n",
    "for cat in paths:\n",
    "    for d in cat:\n",
    "        current_path = d\n",
    "        print(\"current path: \" + current_path)\n",
    "        category = current_path.split('/')[6]\n",
    "        year = current_path.split('/')[7]\n",
    "        print(\"category: \" + category)\n",
    "        print(\"year: \" + str(year))\n",
    "        \n",
    "        image_extensions = ['.jpg', '.png', '.jpeg']   # case-insensitive (upper/lower doesn't matter)\n",
    "\n",
    "        images = [os.path.join(dp, f) for dp, dn, filenames in os.walk(current_path) for f in filenames if os.path.splitext(f)[1].lower() in image_extensions]\n",
    "        num_x = len(images)\n",
    "        print(\"keeping %d images to analyze\" % num_x)\n",
    "        \n",
    "        \n",
    "        \n",
    "        tic = time.clock()\n",
    "\n",
    "        features = []\n",
    "        for i, image_path in enumerate(images):\n",
    "            if i % 500 == 0:\n",
    "                toc = time.clock()\n",
    "                elap = toc-tic;\n",
    "                print(\"analyzing image %d / %d. Time: %4.4f seconds.\" % (i, len(images),elap))\n",
    "                tic = time.clock()\n",
    "            img, x = load_image(image_path)\n",
    "            \n",
    "            \n",
    "            feat = feat_extractor.predict(x)[0]\n",
    "            features.append(feat)\n",
    "\n",
    "        print('finished extracting features for %d images' % len(images))\n",
    "\n",
    "        # write images, features to a pickle file\n",
    "\n",
    "        f = \"features_\" + category + \"_\" + year + \"_vgg_x\" + str(num_x) + \".pickle\"\n",
    "\n",
    "        print(f)\n",
    "\n",
    "        # WRITE\n",
    "        with open(f, \"wb\") as write_file:\n",
    "            pickle.dump([images, features], write_file)\n",
    "            write_file.close()\n"
   ]
  },
  {
   "cell_type": "code",
   "execution_count": null,
   "metadata": {},
   "outputs": [],
   "source": []
  }
 ],
 "metadata": {
  "kernelspec": {
   "display_name": "Python 3",
   "language": "python",
   "name": "python3"
  },
  "language_info": {
   "codemirror_mode": {
    "name": "ipython",
    "version": 3
   },
   "file_extension": ".py",
   "mimetype": "text/x-python",
   "name": "python",
   "nbconvert_exporter": "python",
   "pygments_lexer": "ipython3",
   "version": "3.6.8"
  }
 },
 "nbformat": 4,
 "nbformat_minor": 2
}
