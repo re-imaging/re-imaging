{
 "cells": [
  {
   "cell_type": "markdown",
   "metadata": {},
   "source": [
    "Work-in-progress.\n",
    "\n",
    "Get images according to feature vectors."
   ]
  },
  {
   "cell_type": "code",
   "execution_count": null,
   "metadata": {},
   "outputs": [],
   "source": [
    "import os\n",
    "import random\n",
    "import pickle\n",
    "import time\n",
    "import datetime"
   ]
  },
  {
   "cell_type": "code",
   "execution_count": null,
   "metadata": {},
   "outputs": [],
   "source": [
    "from PIL import Image\n",
    "# from pillow import Image"
   ]
  },
  {
   "cell_type": "code",
   "execution_count": null,
   "metadata": {},
   "outputs": [],
   "source": [
    "from matplotlib.pyplot import imshow\n",
    "\n",
    "import numpy as np\n",
    "import matplotlib.pyplot as plt\n",
    "\n",
    "# from sklearn.decomposition import PCA\n",
    "# from sklearn.manifold import TSNE\n",
    "\n",
    "from matplotlib.pyplot import imshow"
   ]
  },
  {
   "cell_type": "code",
   "execution_count": null,
   "metadata": {},
   "outputs": [],
   "source": [
    "perp = 50\n",
    "bPCA = True\n",
    "num_iterations = 2000"
   ]
  },
  {
   "cell_type": "code",
   "execution_count": null,
   "metadata": {},
   "outputs": [],
   "source": [
    "def load_image(path):\n",
    "    img = image.load_img(path, target_size=model.input_shape[1:3])\n",
    "    x = image.img_to_array(img)\n",
    "    x = np.expand_dims(x, axis=0)\n",
    "    x = preprocess_input(x)\n",
    "    return img, x"
   ]
  },
  {
   "cell_type": "code",
   "execution_count": null,
   "metadata": {},
   "outputs": [],
   "source": [
    "pickle_folder = '/home/rte/re-imaging/visualisation/'\n",
    "\n",
    "paths = []\n",
    "\n",
    "for file in os.listdir(pickle_folder):\n",
    "    if file.endswith(\".pickle\") and file.startswith(\"features_\"):\n",
    "#         and \"tSNE\" not in file and \"tsne\" not in file\n",
    "        paths.append(os.path.join(pickle_folder, file))\n",
    "paths.sort()\n",
    "# print(paths)\n",
    "\n",
    "print(\"----- list of all paths: \")\n",
    "for p in paths:\n",
    "    print(p)\n",
    "print(\"----------\")"
   ]
  },
  {
   "cell_type": "code",
   "execution_count": null,
   "metadata": {},
   "outputs": [],
   "source": [
    "# loop here\n",
    "\n",
    "for p in paths[0:1]:\n",
    "    print(p)\n",
    "    \n",
    "    category = p.split('_')[1]\n",
    "    year = p.split('_')[2]\n",
    "    print(\"category: \" + category)\n",
    "    print(\"year: \" + str(year))\n",
    "\n",
    "    with open(p, \"rb\") as read_file:\n",
    "        images, features = pickle.load(read_file)\n",
    "        read_file.close()\n",
    "    \n",
    "    # check that we still have the features and list of images\n",
    "    print(\"----- checking images and features -----\")\n",
    "    print(\"length of images: \" + str(len(images)))\n",
    "    print(\"length of features: \" + str(len(features)))\n",
    "    for img, f in list(zip(images, features))[0:5]:\n",
    "        print(\"image: %s, features: %0.2f,%0.2f,%0.2f,%0.2f... \"%(img, f[0], f[1], f[2], f[3]))\n",
    "    \n",
    "    # have a look at a few plots for comparison\n",
    "    for i in range(1):\n",
    "        plt.figure(figsize=(16,4))\n",
    "        plt.plot(features[i])\n",
    "    \n",
    "    features = np.array(features)\n",
    "\n",
    "    print(\"shape of features: \")\n",
    "    print(features.shape)\n",
    "    \n",
    "    # get the maximum value\n",
    "    max_val = np.amax(features, axis=0)\n",
    "    print(\"max values: \", max_val)\n",
    "    print(\"shape of max_val: \", max_val.shape)\n",
    "#     print(max_val)\n",
    "    max_idx = np.where(features == max_val)\n",
    "    print(\"max index: \")\n",
    "    print(max_idx)\n",
    "#     print(\"shape of max_idx: \", max_idx[0].shape)\n",
    "    \n",
    "    listOfCordinates = list(zip(max_idx[0], max_idx[1]))\n",
    "    \n",
    "    print(\"images size: \", len(images))\n",
    "    \n",
    "    for cord in listOfCordinates:\n",
    "        print(cord)\n",
    "#         if cord[0] == 0:\n",
    "#             print(cord[1])\n",
    "#             print(images[cord[1]])\n",
    "#             img = Image.load(images[cord[1]])\n",
    "#             plt.imshow(img)\n",
    "            \n",
    "    \n",
    "    '''\n",
    "\n",
    "    # write pickle\n",
    "    print(\"writing tsne pickle\")\n",
    "\n",
    "    ts = time.time()\n",
    "    st = datetime.datetime.fromtimestamp(ts).strftime('%Y-%m-%d_%H-%M-%S')\n",
    "\n",
    "    filename = \"tSNE_cuda_\" + category + \"_\" + year + \"_n\" + str(num_iterations) + \"_p\" + str(perp) + \"_\" + st\n",
    "    print(filename + \".pickle\")\n",
    "\n",
    "    with open(filename + \".pickle\", \"wb\") as write_file:\n",
    "        pickle.dump([images, tsne], write_file)\n",
    "        write_file.close()\n",
    "    '''\n",
    "\n"
   ]
  },
  {
   "cell_type": "code",
   "execution_count": null,
   "metadata": {},
   "outputs": [],
   "source": []
  }
 ],
 "metadata": {
  "kernelspec": {
   "display_name": "Python 3",
   "language": "python",
   "name": "python3"
  },
  "language_info": {
   "codemirror_mode": {
    "name": "ipython",
    "version": 3
   },
   "file_extension": ".py",
   "mimetype": "text/x-python",
   "name": "python",
   "nbconvert_exporter": "python",
   "pygments_lexer": "ipython3",
   "version": "3.7.2"
  }
 },
 "nbformat": 4,
 "nbformat_minor": 2
}
