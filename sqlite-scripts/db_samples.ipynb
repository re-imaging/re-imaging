{
 "cells": [
  {
   "cell_type": "code",
   "execution_count": null,
   "metadata": {},
   "outputs": [],
   "source": [
    "import sqlite3"
   ]
  },
  {
   "cell_type": "code",
   "execution_count": null,
   "metadata": {},
   "outputs": [],
   "source": [
    "# path on rte\n",
    "db_path = \"/home/rte/data/db/arxiv_db_images.sqlite3\""
   ]
  },
  {
   "cell_type": "code",
   "execution_count": null,
   "metadata": {},
   "outputs": [],
   "source": [
    "# Here we import the sqlite3 database and create a cursor\n",
    "\n",
    "db = sqlite3.connect(db_path)\n",
    "c = db.cursor()"
   ]
  },
  {
   "cell_type": "code",
   "execution_count": null,
   "metadata": {},
   "outputs": [],
   "source": [
    "c.execute('PRAGMA TABLE_INFO({})'.format(\"metadata\"))\n",
    "info = c.fetchall()\n",
    "\n",
    "print(\"\\nColumn Info:\\nID, Name, Type, NotNull, DefaultVal, PrimaryKey\")\n",
    "for col in info:\n",
    "    print(col)"
   ]
  },
  {
   "cell_type": "code",
   "execution_count": null,
   "metadata": {},
   "outputs": [],
   "source": [
    "c.execute('PRAGMA TABLE_INFO({})'.format(\"images\"))\n",
    "info = c.fetchall()\n",
    "\n",
    "print(\"\\nColumn Info:\\nID, Name, Type, NotNull, DefaultVal, PrimaryKey\")\n",
    "for col in info:\n",
    "    print(col)"
   ]
  },
  {
   "cell_type": "code",
   "execution_count": null,
   "metadata": {},
   "outputs": [],
   "source": [
    "# Get each image entry with a particular category in a given month\n",
    "\n",
    "c.execute('''\n",
    "    SELECT metadata.cat, images.path, images.filename, images.identifier, metadata.created\n",
    "    FROM images\n",
    "    LEFT JOIN metadata ON images.identifier = metadata.identifier\n",
    "    WHERE metadata.created BETWEEN date('2018-10-01') AND date('2018-10-31') \n",
    "    AND metadata.cat = 'cs.CV' \n",
    "    ''')\n",
    "rows = c.fetchall()\n",
    "   \n",
    "#  AND strftime('%y', created) = '2016'\n",
    "#  LIMIT 1000"
   ]
  },
  {
   "cell_type": "code",
   "execution_count": null,
   "metadata": {},
   "outputs": [],
   "source": [
    "# Get each image entry with a particular category in a given month\n",
    "\n",
    "# THIS VERSION DOESN'T WORK\n",
    "\n",
    "c.execute('''\n",
    "    SELECT metadata.cat, images.path, images.filename, images.identifier, metadata.created\n",
    "    FROM images\n",
    "    LEFT JOIN metadata ON images.identifier = metadata.identifier\n",
    "    WHERE strftime('%y', created) = '2018' \n",
    "    AND metadata.cat = 'cs.CV' \n",
    "    ''')\n",
    "rows = c.fetchall()\n",
    "   \n",
    "#  AND strftime('%y', created) = '2016'\n",
    "#  LIMIT 1000"
   ]
  },
  {
   "cell_type": "code",
   "execution_count": null,
   "metadata": {},
   "outputs": [],
   "source": [
    "for row in rows:\n",
    "    print(row)"
   ]
  },
  {
   "cell_type": "code",
   "execution_count": null,
   "metadata": {},
   "outputs": [],
   "source": [
    "print(len(rows))"
   ]
  },
  {
   "cell_type": "code",
   "execution_count": null,
   "metadata": {},
   "outputs": [],
   "source": [
    "import random\n",
    "import itertools\n",
    "\n",
    "filepaths = []\n",
    "\n",
    "for row in rows:\n",
    "    path = row[1] + '/' + row[2]\n",
    "#     print(path)\n",
    "    filepaths.append(path)\n",
    "\n",
    "# shuffle the whole list\n",
    "random.shuffle(filepaths)"
   ]
  },
  {
   "cell_type": "code",
   "execution_count": null,
   "metadata": {},
   "outputs": [],
   "source": [
    "print(filepaths)"
   ]
  },
  {
   "cell_type": "code",
   "execution_count": null,
   "metadata": {},
   "outputs": [],
   "source": [
    "filepaths = [\"./folder/flow-cmp.pdf\"]"
   ]
  },
  {
   "cell_type": "code",
   "execution_count": null,
   "metadata": {},
   "outputs": [],
   "source": [
    "import subprocess\n",
    "import os\n",
    "import shlex\n",
    "\n",
    "# print the current working directory\n",
    "print(os.getcwd())\n",
    "os.chdir('/home/rte/re-imaging/sqlite-scripts/')\n",
    "\n",
    "# os.chdir('src_all')\n",
    "print(os.getcwd())\n",
    "\n",
    "arguments = shlex.split(\"-colorspace sRGB -units PixelsPerInch -density 300 -background white -alpha off -geometry 240x240+2+2 -tile 12x test_py_montage.jpg\")\n",
    "# print(arguments)\n",
    "\n",
    "filelist = []\n",
    "# this takes a slice of the larger shuffled list\n",
    "for filepath in itertools.islice(filepaths, 0, 144):\n",
    "#     print(filepath)\n",
    "    # put the filepath into the list but add the directory, remove the dot\n",
    "    # and also add [0] to only use the first page of multi-page image documents\n",
    "    filelist.append(\"src_all\" + filepath.replace('./','/') + '[0]')\n",
    "           \n",
    "print(filelist)\n",
    "\n",
    "# call the montage command and parse list of files and arguments\n",
    "subprocess.run([\"montage\"] + filelist + arguments)\n",
    "\n",
    "# modify to see the results of stdout\n"
   ]
  },
  {
   "cell_type": "code",
   "execution_count": null,
   "metadata": {},
   "outputs": [],
   "source": [
    "# make list of categories\n",
    "# make list of dates (year/month?)\n",
    "# iterate through with a new sqlite select command\n",
    "# run montage"
   ]
  }
 ],
 "metadata": {
  "kernelspec": {
   "display_name": "Python 3",
   "language": "python",
   "name": "python3"
  },
  "language_info": {
   "codemirror_mode": {
    "name": "ipython",
    "version": 3
   },
   "file_extension": ".py",
   "mimetype": "text/x-python",
   "name": "python",
   "nbconvert_exporter": "python",
   "pygments_lexer": "ipython3",
   "version": "3.7.2"
  }
 },
 "nbformat": 4,
 "nbformat_minor": 2
}
