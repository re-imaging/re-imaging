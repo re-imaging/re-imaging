{
 "cells": [
  {
   "cell_type": "code",
   "execution_count": 2,
   "metadata": {},
   "outputs": [],
   "source": [
    "import sqlite3"
   ]
  },
  {
   "cell_type": "code",
   "execution_count": 3,
   "metadata": {},
   "outputs": [],
   "source": [
    "# path on rte\n",
    "db_path = \"/home/rte/data/db/arxiv_db_images.sqlite3\""
   ]
  },
  {
   "cell_type": "code",
   "execution_count": 4,
   "metadata": {},
   "outputs": [],
   "source": [
    "# Here we import the sqlite3 database and create a cursor\n",
    "\n",
    "db = sqlite3.connect(db_path)\n",
    "c = db.cursor()"
   ]
  },
  {
   "cell_type": "code",
   "execution_count": 5,
   "metadata": {},
   "outputs": [
    {
     "name": "stdout",
     "output_type": "stream",
     "text": [
      "\n",
      "Column Info:\n",
      "ID, Name, Type, NotNull, DefaultVal, PrimaryKey\n",
      "(0, 'id', 'INTEGER', 0, None, 1)\n",
      "(1, 'identifier', 'TEXT', 0, None, 0)\n",
      "(2, 'created', 'TEXT', 0, None, 0)\n",
      "(3, 'cat', 'TEXT', 0, None, 0)\n",
      "(4, 'authors', 'TEXT', 0, None, 0)\n",
      "(5, 'title', 'TEXT', 0, None, 0)\n",
      "(6, 'abstract', 'TEXT', 0, None, 0)\n",
      "(7, 'licence', 'TEXT', 0, None, 0)\n"
     ]
    }
   ],
   "source": [
    "c.execute('PRAGMA TABLE_INFO({})'.format(\"metadata\"))\n",
    "info = c.fetchall()\n",
    "\n",
    "print(\"\\nColumn Info:\\nID, Name, Type, NotNull, DefaultVal, PrimaryKey\")\n",
    "for col in info:\n",
    "    print(col)"
   ]
  },
  {
   "cell_type": "code",
   "execution_count": 6,
   "metadata": {},
   "outputs": [
    {
     "name": "stdout",
     "output_type": "stream",
     "text": [
      "\n",
      "Column Info:\n",
      "ID, Name, Type, NotNull, DefaultVal, PrimaryKey\n",
      "(0, 'id', 'INTEGER', 0, None, 1)\n",
      "(1, 'identifier', 'TEXT', 0, None, 0)\n",
      "(2, 'filename', 'TEXT', 0, None, 0)\n",
      "(3, 'filesize', 'INT', 0, None, 0)\n",
      "(4, 'path', 'TEXT', 0, None, 0)\n",
      "(5, 'x', 'INT', 0, None, 0)\n",
      "(6, 'y', 'INT', 0, None, 0)\n",
      "(7, 'imageformat', 'TEXT', 0, None, 0)\n"
     ]
    }
   ],
   "source": [
    "c.execute('PRAGMA TABLE_INFO({})'.format(\"images\"))\n",
    "info = c.fetchall()\n",
    "\n",
    "print(\"\\nColumn Info:\\nID, Name, Type, NotNull, DefaultVal, PrimaryKey\")\n",
    "for col in info:\n",
    "    print(col)"
   ]
  },
  {
   "cell_type": "code",
   "execution_count": 15,
   "metadata": {},
   "outputs": [],
   "source": [
    "# Get total number of images per category\n",
    "\n",
    "# needs work! not functioning\n",
    "\n",
    "c.execute('''\n",
    "    SELECT metadata.cat, count(images.identifier)\n",
    "    FROM images\n",
    "    LEFT JOIN metadata ON images.identifier = metadata.identifier\n",
    "    WHERE strftime('%m', created) = '10' AND strftime('%y', created) = '2016'\n",
    "    GROUP BY metadata.cat\n",
    "    ORDER BY count(images.identifier) DESC    \n",
    "    LIMIT 100\n",
    "    ''')\n",
    "rows = c.fetchall()\n",
    "for row in rows:\n",
    "    print(row)"
   ]
  },
  {
   "cell_type": "code",
   "execution_count": null,
   "metadata": {},
   "outputs": [],
   "source": []
  }
 ],
 "metadata": {
  "kernelspec": {
   "display_name": "Python 3",
   "language": "python",
   "name": "python3"
  },
  "language_info": {
   "codemirror_mode": {
    "name": "ipython",
    "version": 3
   },
   "file_extension": ".py",
   "mimetype": "text/x-python",
   "name": "python",
   "nbconvert_exporter": "python",
   "pygments_lexer": "ipython3",
   "version": "3.7.2"
  }
 },
 "nbformat": 4,
 "nbformat_minor": 2
}
