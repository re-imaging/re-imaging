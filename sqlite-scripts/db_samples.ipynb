{
 "cells": [
  {
   "cell_type": "code",
   "execution_count": null,
   "metadata": {},
   "outputs": [],
   "source": [
    "import sqlite3\n",
    "import random\n",
    "import itertools\n",
    "import subprocess\n",
    "import os\n",
    "import shlex"
   ]
  },
  {
   "cell_type": "code",
   "execution_count": null,
   "metadata": {},
   "outputs": [],
   "source": [
    "# path on rte\n",
    "db_path = \"/home/rte/data/db/arxiv_db_images.sqlite3\""
   ]
  },
  {
   "cell_type": "code",
   "execution_count": null,
   "metadata": {},
   "outputs": [],
   "source": [
    "# Here we import the sqlite3 database and create a cursor\n",
    "\n",
    "db = sqlite3.connect(db_path)\n",
    "c = db.cursor()"
   ]
  },
  {
   "cell_type": "code",
   "execution_count": null,
   "metadata": {},
   "outputs": [],
   "source": [
    "# test that we can fetch the pragma for each table\n",
    "\n",
    "c.execute('PRAGMA TABLE_INFO({})'.format(\"metadata\"))\n",
    "info = c.fetchall()\n",
    "\n",
    "print(\"\\nColumn Info:\\nID, Name, Type, NotNull, DefaultVal, PrimaryKey\")\n",
    "for col in info:\n",
    "    print(col)"
   ]
  },
  {
   "cell_type": "code",
   "execution_count": null,
   "metadata": {},
   "outputs": [],
   "source": [
    "c.execute('PRAGMA TABLE_INFO({})'.format(\"images\"))\n",
    "info = c.fetchall()\n",
    "\n",
    "print(\"\\nColumn Info:\\nID, Name, Type, NotNull, DefaultVal, PrimaryKey\")\n",
    "for col in info:\n",
    "    print(col)"
   ]
  },
  {
   "cell_type": "code",
   "execution_count": null,
   "metadata": {},
   "outputs": [],
   "source": [
    "# Get total number of images per primary category only\n",
    "\n",
    "targetDate = \"2006-10-01\"\n",
    "\n",
    "c.execute('''\n",
    "    SELECT substr(trim(metadata.cat),1,instr(trim(metadata.cat)||' ',' ')-1), count(images.identifier)\n",
    "    FROM images\n",
    "    LEFT JOIN metadata ON images.identifier = metadata.identifier\n",
    "    WHERE metadata.created BETWEEN date(?) AND date(?, \"start of month\",\"+1 month\",\"-1 day\")\n",
    "    AND images.x != ''\n",
    "    GROUP BY substr(trim(metadata.cat),1,instr(trim(metadata.cat)||' ',' ')-1)\n",
    "    ORDER BY count(images.identifier) DESC    \n",
    "    ''', (targetDate, targetDate,))\n",
    "categories = c.fetchall()\n",
    "for row in categories:\n",
    "    print(row)"
   ]
  },
  {
   "cell_type": "code",
   "execution_count": null,
   "metadata": {},
   "outputs": [],
   "source": [
    "print(len(categories))"
   ]
  },
  {
   "cell_type": "code",
   "execution_count": null,
   "metadata": {},
   "outputs": [],
   "source": [
    "print(categories[0][0])"
   ]
  },
  {
   "cell_type": "code",
   "execution_count": null,
   "metadata": {
    "scrolled": true
   },
   "outputs": [],
   "source": [
    "# remove entries with less than 144 total images\n",
    "\n",
    "catlist = []\n",
    "\n",
    "for cat in categories:\n",
    "    if cat[1] >= 144:\n",
    "        catlist.append(cat)\n",
    "        print(cat)\n",
    "\n",
    "print('-' * 20)\n",
    "print(\"total number of categories with required entries: \")\n",
    "print(len(catlist))"
   ]
  },
  {
   "cell_type": "code",
   "execution_count": null,
   "metadata": {},
   "outputs": [],
   "source": [
    "# for testing only! slice list into something shorter\n",
    "\n",
    "del catlist[3:]\n",
    "\n",
    "for row in catlist:\n",
    "    print(row)"
   ]
  },
  {
   "cell_type": "code",
   "execution_count": null,
   "metadata": {},
   "outputs": [],
   "source": [
    "type(catlist)\n",
    "\n",
    "# for row in catlist:\n",
    "#     del row[1]\n",
    "    \n",
    "# print(catlist)"
   ]
  },
  {
   "cell_type": "code",
   "execution_count": null,
   "metadata": {},
   "outputs": [],
   "source": [
    "print(catlist[0][0])"
   ]
  },
  {
   "cell_type": "code",
   "execution_count": null,
   "metadata": {},
   "outputs": [],
   "source": [
    "# Get each image entry with a particular category in a given month\n",
    "\n",
    "sql = (\"SELECT metadata.cat, images.path, images.filename, images.identifier, metadata.created \"\n",
    "    \"FROM images \"\n",
    "    \"LEFT JOIN metadata ON images.identifier = metadata.identifier \"\n",
    "    \"WHERE metadata.created BETWEEN date('2018-10-01') AND date('2018-10-31') \"\n",
    "    \"AND images.x != '' \"\n",
    "    \"AND substr(trim(metadata.cat),1,instr(trim(metadata.cat)||' ',' ')-1) = ? \")\n",
    "\n",
    "c.execute(sql, (catlist[0][0],))\n",
    "rows = c.fetchall()"
   ]
  },
  {
   "cell_type": "code",
   "execution_count": null,
   "metadata": {},
   "outputs": [],
   "source": [
    "print(len(rows))"
   ]
  },
  {
   "cell_type": "code",
   "execution_count": null,
   "metadata": {},
   "outputs": [],
   "source": [
    "for row in rows:\n",
    "    print(row)"
   ]
  },
  {
   "cell_type": "code",
   "execution_count": null,
   "metadata": {},
   "outputs": [],
   "source": [
    "# check to see if there are multiple categories\n",
    "for row in rows:\n",
    "    if len(row[0]) > 5:\n",
    "        print(row)"
   ]
  },
  {
   "cell_type": "code",
   "execution_count": null,
   "metadata": {},
   "outputs": [],
   "source": [
    "filepaths = []\n",
    "\n",
    "for row in rows:\n",
    "    path = row[1] + '/' + row[2]\n",
    "#     print(path)\n",
    "    filepaths.append(path)\n",
    "\n",
    "# shuffle the whole list\n",
    "random.shuffle(filepaths)"
   ]
  },
  {
   "cell_type": "code",
   "execution_count": null,
   "metadata": {},
   "outputs": [],
   "source": [
    "print(filepaths)"
   ]
  },
  {
   "cell_type": "code",
   "execution_count": null,
   "metadata": {},
   "outputs": [],
   "source": [
    "# testing only\n",
    "filepaths = [\"./folder/flow-cmp.pdf\"]"
   ]
  },
  {
   "cell_type": "code",
   "execution_count": null,
   "metadata": {},
   "outputs": [],
   "source": [
    "# print the current working directory\n",
    "print(os.getcwd())\n",
    "os.chdir('/home/rte/re-imaging/sqlite-scripts/')\n",
    "\n",
    "# os.chdir('src_all')\n",
    "print(os.getcwd())\n",
    "\n",
    "arguments = shlex.split(\"-colorspace sRGB -units PixelsPerInch -density 300 -background white -alpha off -geometry 240x240+2+2 -tile 12x test_py_montage.jpg\")\n",
    "# print(arguments)\n",
    "\n",
    "filelist = []\n",
    "# this takes a slice of the larger shuffled list\n",
    "for filepath in itertools.islice(filepaths, 0, 144):\n",
    "#     print(filepath)\n",
    "    # put the filepath into the list but add the directory, remove the dot\n",
    "    # and also add [0] to only use the first page of multi-page image documents\n",
    "    filelist.append(\"src_all\" + filepath.replace('./','/') + '[0]')\n",
    "           \n",
    "print(filelist)\n",
    "\n",
    "# call the montage command and parse list of files and arguments\n",
    "subprocess.run([\"montage\"] + filelist + arguments)\n",
    "\n",
    "# modify to see the results of stdout\n"
   ]
  },
  {
   "cell_type": "code",
   "execution_count": null,
   "metadata": {},
   "outputs": [],
   "source": [
    "for cat in catlist:\n",
    "    print(cat[0])"
   ]
  },
  {
   "cell_type": "code",
   "execution_count": null,
   "metadata": {},
   "outputs": [],
   "source": [
    "print(len(filelist))\n",
    "\n",
    "for row in filelist:\n",
    "    print(row)"
   ]
  },
  {
   "cell_type": "code",
   "execution_count": null,
   "metadata": {},
   "outputs": [],
   "source": [
    "# testing writing filenames\n",
    "\n",
    "fname = \"2018-10_\" + catlist[0][0] + \".txt\"\n",
    "f = open(fname, \"w+\")\n",
    "for row in filelist:\n",
    "    f.write(row + \"\\n\")\n",
    "f.close()"
   ]
  },
  {
   "cell_type": "code",
   "execution_count": null,
   "metadata": {},
   "outputs": [],
   "source": [
    "print(targetDate[:7])"
   ]
  },
  {
   "cell_type": "code",
   "execution_count": null,
   "metadata": {},
   "outputs": [],
   "source": [
    "targetYM = targetDate[:7]\n",
    "savepath = \"/home/rte/Documents/documentation/data-samples/montages/category/\" + targetYM + \"/\"\n",
    "\n",
    "if os.path.isdir(savepath):\n",
    "    print(\"directory exists, saving to: \" + savepath)\n",
    "else:\n",
    "    try:\n",
    "        os.makedirs(savepath)\n",
    "    except OSError:\n",
    "        print(\"failed to create directory: \" + savepath)\n",
    "    else:\n",
    "        print(\"successfully created the directory: \" + savepath)"
   ]
  },
  {
   "cell_type": "code",
   "execution_count": null,
   "metadata": {},
   "outputs": [],
   "source": [
    "print(len(catlist))\n",
    "\n",
    "for row in catlist:\n",
    "    print(row[0])"
   ]
  },
  {
   "cell_type": "markdown",
   "metadata": {},
   "source": [
    "The following block of code takes the list of categories, queries the SQL database for a list of images that match each category and a given year, then shuffles this list, selects a subset, and uses that to run the montage command ^_^ "
   ]
  },
  {
   "cell_type": "code",
   "execution_count": null,
   "metadata": {
    "scrolled": true
   },
   "outputs": [],
   "source": [
    "# added date formatting\n",
    "sql = ('''\n",
    "    SELECT metadata.cat, images.path, images.filename, images.identifier, metadata.created\n",
    "    FROM images\n",
    "    LEFT JOIN metadata ON images.identifier = metadata.identifier\n",
    "    WHERE metadata.created BETWEEN date(?) AND date(?, 'start of month','+1 month','-1 day')\n",
    "    AND images.x != ''\n",
    "    AND substr(trim(metadata.cat),1,instr(trim(metadata.cat)||' ',' ')-1) = ?\n",
    "    ''')\n",
    "\n",
    "targetYM = targetDate[:7]\n",
    "savepath = \"/home/rte/Documents/documentation/data-samples/montages/category/\" + targetYM + \"/\"\n",
    "\n",
    "if os.path.isdir(savepath):\n",
    "    print(\"saving to: \" + savepath)\n",
    "else:\n",
    "    try:\n",
    "        os.makedirs(path)\n",
    "    except OSError:\n",
    "        print(\"Failed to create directory: \" + savepath)\n",
    "    else:\n",
    "        print(\"Successfully created the directory: \" + savepath)\n",
    "        \n",
    "\n",
    "for cat in catlist:\n",
    "    print(\"querying for category: \" + str(cat[0]))\n",
    "    c.execute(sql, (targetDate, targetDate, cat[0], ))\n",
    "    rows = c.fetchall()\n",
    "    \n",
    "    print(\"total number of images found: \" + str(len(rows)))\n",
    "    \n",
    "    filepaths = []\n",
    "\n",
    "    for row in rows:\n",
    "        path = row[1] + '/' + row[2]\n",
    "    #     print(path)\n",
    "        filepaths.append(path)\n",
    "\n",
    "    # shuffle the whole list\n",
    "    random.shuffle(filepaths)\n",
    "    \n",
    "    os.chdir('/home/rte/re-imaging/sqlite-scripts/')\n",
    "\n",
    "    # os.chdir('src_all')\n",
    "#     print(os.getcwd())\n",
    "\n",
    "    # format the arguments for montage\n",
    "    arguments = shlex.split(\"-colorspace sRGB -units PixelsPerInch -density 300 -background white -alpha off -geometry 240x240+2+2 -tile 12x\")\n",
    "\n",
    "    filelist = []\n",
    "    # this takes a slice of the larger shuffled list\n",
    "    for filepath in itertools.islice(filepaths, 0, 144):\n",
    "        # put the filepath into the list but add the directory, remove the dot\n",
    "        # and also add [0] to only use the first page of multi-page image documents\n",
    "        filelist.append(\"src_all\" + filepath.replace('./','/') + '[0]')\n",
    "\n",
    "    # write list of images to file (for debugging purposes, mostly)\n",
    "    fname = savepath + targetYM + \"_\" + cat[0] + \"_\" + str(cat[1]) + \".txt\"\n",
    "    f = open(fname, \"w+\")\n",
    "    for row in filelist:\n",
    "        f.write(row + \"\\n\")\n",
    "    f.close()\n",
    "    \n",
    "#     outputname = \"test_py_montage.jpg\"\n",
    "    outputname = [savepath + \"montage_\" + targetYM + \"_\" + cat[0] + \"_\" + str(cat[1]) + \".jpg\"]\n",
    "\n",
    "    print(\"calling montage\")\n",
    "    # call the montage command and parse list of files and arguments\n",
    "    montage_cmd = [\"montage\"] + filelist + arguments + outputname\n",
    "#     print(montage_cmd)\n",
    "    result = subprocess.Popen(montage_cmd, stdout=subprocess.PIPE, stderr=subprocess.PIPE)\n",
    "    out, err = result.communicate()\n",
    "    print(out)\n",
    "    print(err)\n",
    "    print(\"subprocess finished\")\n",
    "    print(\"-\" * 40)"
   ]
  },
  {
   "cell_type": "code",
   "execution_count": null,
   "metadata": {},
   "outputs": [],
   "source": [
    "# make list of categories\n",
    "# make list of dates (year/month?)\n",
    "# iterate through with a new sqlite select command\n",
    "# run montage"
   ]
  }
 ],
 "metadata": {
  "kernelspec": {
   "display_name": "Python 3",
   "language": "python",
   "name": "python3"
  },
  "language_info": {
   "codemirror_mode": {
    "name": "ipython",
    "version": 3
   },
   "file_extension": ".py",
   "mimetype": "text/x-python",
   "name": "python",
   "nbconvert_exporter": "python",
   "pygments_lexer": "ipython3",
   "version": "3.7.2"
  }
 },
 "nbformat": 4,
 "nbformat_minor": 2
}
