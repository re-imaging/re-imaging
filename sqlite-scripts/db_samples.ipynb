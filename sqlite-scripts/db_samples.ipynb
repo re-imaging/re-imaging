{
 "cells": [
  {
   "cell_type": "markdown",
   "metadata": {},
   "source": [
    "# Sampling images from database\n",
    "\n",
    "This notebook provides Python code to access different combinations of images from the database and use them to create montages (tiled grids of images)."
   ]
  },
  {
   "cell_type": "code",
   "execution_count": null,
   "metadata": {},
   "outputs": [],
   "source": [
    "import sqlite3\n",
    "import random\n",
    "import itertools\n",
    "import subprocess\n",
    "import os\n",
    "import shlex"
   ]
  },
  {
   "cell_type": "code",
   "execution_count": null,
   "metadata": {},
   "outputs": [],
   "source": [
    "# path on rte\n",
    "db_path = \"/home/rte/data/db/arxiv_db_images.sqlite3\""
   ]
  },
  {
   "cell_type": "code",
   "execution_count": null,
   "metadata": {},
   "outputs": [],
   "source": [
    "# Here we import the sqlite3 database and create a cursor\n",
    "\n",
    "db = sqlite3.connect(db_path)\n",
    "c = db.cursor()"
   ]
  },
  {
   "cell_type": "code",
   "execution_count": null,
   "metadata": {},
   "outputs": [],
   "source": [
    "# test that we can fetch the pragma for each table\n",
    "\n",
    "c.execute('PRAGMA TABLE_INFO({})'.format(\"metadata\"))\n",
    "info = c.fetchall()\n",
    "\n",
    "print(\"\\nColumn Info:\\nID, Name, Type, NotNull, DefaultVal, PrimaryKey\")\n",
    "for col in info:\n",
    "    print(col)"
   ]
  },
  {
   "cell_type": "code",
   "execution_count": null,
   "metadata": {},
   "outputs": [],
   "source": [
    "c.execute('PRAGMA TABLE_INFO({})'.format(\"images\"))\n",
    "info = c.fetchall()\n",
    "\n",
    "print(\"\\nColumn Info:\\nID, Name, Type, NotNull, DefaultVal, PrimaryKey\")\n",
    "for col in info:\n",
    "    print(col)"
   ]
  },
  {
   "cell_type": "code",
   "execution_count": null,
   "metadata": {},
   "outputs": [],
   "source": [
    "# Get total number of images per primary category only\n",
    "\n",
    "targetDate = \"2018-10-01\"\n",
    "\n",
    "c.execute('''\n",
    "    SELECT substr(trim(metadata.cat),1,instr(trim(metadata.cat)||' ',' ')-1), count(images.identifier)\n",
    "    FROM images\n",
    "    LEFT JOIN metadata ON images.identifier = metadata.identifier\n",
    "    WHERE metadata.created BETWEEN date(?) \n",
    "    AND date(?, \"start of month\",\"+1 month\",\"-1 day\")\n",
    "    AND images.x != ''\n",
    "    GROUP BY substr(trim(metadata.cat),1,instr(trim(metadata.cat)||' ',' ')-1)\n",
    "    ORDER BY count(images.identifier) DESC    \n",
    "    ''', (targetDate, targetDate,))\n",
    "categories = c.fetchall()\n",
    "for row in categories:\n",
    "    print(row)"
   ]
  },
  {
   "cell_type": "code",
   "execution_count": null,
   "metadata": {},
   "outputs": [],
   "source": [
    "print(len(categories))"
   ]
  },
  {
   "cell_type": "code",
   "execution_count": null,
   "metadata": {},
   "outputs": [],
   "source": [
    "print(categories[0][0])"
   ]
  },
  {
   "cell_type": "code",
   "execution_count": null,
   "metadata": {
    "scrolled": true
   },
   "outputs": [],
   "source": [
    "# remove entries with less than 144 total images\n",
    "\n",
    "catlist = []\n",
    "\n",
    "for cat in categories:\n",
    "    if cat[1] >= 144:\n",
    "        catlist.append(cat)\n",
    "        print(cat)\n",
    "\n",
    "print('-' * 20)\n",
    "print(\"total number of categories with required entries: \")\n",
    "print(len(catlist))"
   ]
  },
  {
   "cell_type": "code",
   "execution_count": null,
   "metadata": {},
   "outputs": [],
   "source": [
    "print(catlist[0][0])"
   ]
  },
  {
   "cell_type": "code",
   "execution_count": null,
   "metadata": {},
   "outputs": [],
   "source": [
    "# Get each image entry with a particular category in a given month\n",
    "\n",
    "sql = (\"SELECT metadata.cat, images.path, images.filename, images.identifier, metadata.created, images.id \"\n",
    "    \"FROM images \"\n",
    "    \"LEFT JOIN metadata ON images.identifier = metadata.identifier \"\n",
    "    \"WHERE metadata.created BETWEEN date('2018-10-01') \"\n",
    "    \"AND date('2018-10-31') \"\n",
    "    \"AND images.x != '' \"\n",
    "    \"AND substr(trim(metadata.cat),1,instr(trim(metadata.cat)||' ',' ')-1) = ? \")\n",
    "\n",
    "c.execute(sql, (catlist[0][0],))\n",
    "rows = c.fetchall()"
   ]
  },
  {
   "cell_type": "code",
   "execution_count": null,
   "metadata": {},
   "outputs": [],
   "source": [
    "# Get each image entry with a particular category in a given month\n",
    "# Specifically, get all images from cs.CV from 2012\n",
    "\n",
    "sql = (\"SELECT metadata.authors, metadata.title, metadata.created, metadata.identifier  \"\n",
    "    \"FROM images \"\n",
    "    \"LEFT JOIN metadata ON images.identifier = metadata.identifier \"\n",
    "    \"WHERE metadata.created BETWEEN date('2012-01-01') \"\n",
    "    \"AND date('2012-12-31') \"\n",
    "    \"AND images.x != '' \"\n",
    "    \"AND substr(trim(metadata.cat),1,instr(trim(metadata.cat)||' ',' ')-1) = ? \")\n",
    "\n",
    "c.execute(sql, ('cs.CV',))\n",
    "rows = c.fetchall()"
   ]
  },
  {
   "cell_type": "code",
   "execution_count": null,
   "metadata": {},
   "outputs": [],
   "source": [
    "# Get each image entry with a particular category in a given month\n",
    "# Specifically, get all images from stat.ML from 2012\n",
    "\n",
    "sql = (\"SELECT metadata.authors, metadata.title, metadata.created, metadata.identifier  \"\n",
    "    \"FROM images \"\n",
    "    \"LEFT JOIN metadata ON images.identifier = metadata.identifier \"\n",
    "    \"WHERE metadata.created BETWEEN date('2012-01-01') \"\n",
    "    \"AND date('2012-12-31') \"\n",
    "    \"AND images.x != '' \"\n",
    "    \"AND substr(trim(metadata.cat),1,instr(trim(metadata.cat)||' ',' ')-1) = ? \")\n",
    "\n",
    "c.execute(sql, ('stat.ML',))\n",
    "rows = c.fetchall()"
   ]
  },
  {
   "cell_type": "code",
   "execution_count": null,
   "metadata": {},
   "outputs": [],
   "source": [
    "print(len(rows))"
   ]
  },
  {
   "cell_type": "code",
   "execution_count": null,
   "metadata": {},
   "outputs": [],
   "source": [
    "for row in rows[:100]:\n",
    "    print(row)"
   ]
  },
  {
   "cell_type": "code",
   "execution_count": null,
   "metadata": {},
   "outputs": [],
   "source": [
    "without_duplicates = []\n",
    "for row in rows[:]:\n",
    "    if row not in without_duplicates:\n",
    "        without_duplicates.append(row)"
   ]
  },
  {
   "cell_type": "code",
   "execution_count": null,
   "metadata": {},
   "outputs": [],
   "source": [
    "print(len(without_duplicates))\n",
    "for row in without_duplicates[:]:\n",
    "    print(row)"
   ]
  },
  {
   "cell_type": "code",
   "execution_count": null,
   "metadata": {},
   "outputs": [],
   "source": [
    "rows = without_duplicates"
   ]
  },
  {
   "cell_type": "code",
   "execution_count": null,
   "metadata": {},
   "outputs": [],
   "source": [
    "# TESTING ONLY\n",
    "\n",
    "# Get each image entry with a particular category in a given month\n",
    "# Specifically, get all images from cs.CV from 2012\n",
    "\n",
    "sql = (\"SELECT metadata.authors, metadata.title, metadata.created, metadata.identifier  \"\n",
    "    \"FROM metadata \"\n",
    "    \"WHERE metadata.created BETWEEN date('2012-01-01') \"\n",
    "    \"AND date('2012-12-31') \"\n",
    "    \"AND substr(trim(metadata.cat),1,instr(trim(metadata.cat)||' ',' ')-1) = ? \")\n",
    "\n",
    "c.execute(sql, ('cs.CV',))\n",
    "rows = c.fetchall()"
   ]
  },
  {
   "cell_type": "code",
   "execution_count": null,
   "metadata": {},
   "outputs": [],
   "source": [
    "print(len(rows))"
   ]
  },
  {
   "cell_type": "code",
   "execution_count": null,
   "metadata": {},
   "outputs": [],
   "source": [
    "for row in rows[:100]:\n",
    "    print(row)"
   ]
  },
  {
   "cell_type": "code",
   "execution_count": null,
   "metadata": {},
   "outputs": [],
   "source": [
    "# convert to tuples\n",
    "rows = [(x,) for x in rows[:]]"
   ]
  },
  {
   "cell_type": "markdown",
   "metadata": {},
   "source": [
    "### Get accreditations formatted"
   ]
  },
  {
   "cell_type": "code",
   "execution_count": null,
   "metadata": {},
   "outputs": [],
   "source": [
    "# go through all of the retrieved SQL rows and format as an accreditation\n",
    "# if html is True, format with <a href=####> for web usage\n",
    "\n",
    "import re\n",
    "\n",
    "accreditations = []\n",
    "\n",
    "# html = True\n",
    "html = False\n",
    "\n",
    "# grab the details and check each\n",
    "for row in rows:\n",
    "    s = row[0][0]\n",
    "    start = \"['\"\n",
    "    end = \"']\"\n",
    "    author = s[s.find(start)+len(start):s.rfind(end)]\n",
    "    author = author[:-2]\n",
    "    print(author)\n",
    "    \n",
    "    title = row[0][1]\n",
    "    # replace line breaks and double spaces\n",
    "    title = title.replace(\"\\n\", \"\").replace(\"  \",\" \")\n",
    "    print(title)\n",
    "    \n",
    "    date = row[0][2].split(\"-\")[0]\n",
    "    print(date)\n",
    "    \n",
    "    identifier = row[0][3]\n",
    "    print(identifier)\n",
    "#     reg_exp = re.compile(\"/[^\\d]\\d{2}[^\\d]/\")\n",
    "    longest_digits = max(re.findall(r'\\d+', identifier), key = len)\n",
    "    print(len(longest_digits))\n",
    "    \n",
    "    # if the identifier contains seven consecutive numbers, add a slash\n",
    "    if len(longest_digits) == 7:\n",
    "        print(\"----- regex match -----\")\n",
    "        reverse = identifier[::-1]\n",
    "        print(reverse)\n",
    "        identifier_reverse = reverse[:7] + \"/\" + reverse[7:]\n",
    "        identifier = identifier_reverse[::-1]\n",
    "    else:\n",
    "        # otherwise we can leave the identifier how it is\n",
    "        print(\"----- no match -----\")\n",
    "    print(identifier)\n",
    "    url = \"https://arxiv.org/abs/\" + identifier\n",
    "    print(url)\n",
    "#     print(row[0][0])\n",
    "\n",
    "    # format string and append\n",
    "    if html:\n",
    "        fmt_str = '{}: {}, {}, <a href=\"{}\">{}</a>'\n",
    "        accreditations.append(fmt_str.format(author, title, str(date), url, url))  \n",
    "    else:\n",
    "        fmt_str = '{}: {}, {}, {}'\n",
    "        accreditations.append(fmt_str.format(author, title, str(date), url, url))    \n",
    "\n",
    "    # harder way of doing it\n",
    "#     accreditations.append([author + ': \"' + title + '\", ' + str(date) + \", \" + '<a href=\"' + url + '\">' + url + '</a>'])"
   ]
  },
  {
   "cell_type": "code",
   "execution_count": null,
   "metadata": {},
   "outputs": [],
   "source": [
    "# print out with line breaks\n",
    "for row in accreditations:\n",
    "    print(row)"
   ]
  },
  {
   "cell_type": "markdown",
   "metadata": {},
   "source": [
    "### Get random images"
   ]
  },
  {
   "cell_type": "code",
   "execution_count": null,
   "metadata": {},
   "outputs": [],
   "source": [
    "# Get 144 random images\n",
    "\n",
    "sql = (\"SELECT metadata.cat, images.path, images.filename, images.identifier, metadata.created, images.id \"\n",
    "    \"FROM images \"\n",
    "    \"LEFT JOIN metadata ON images.identifier = metadata.identifier \"\n",
    "    \"WHERE images.x != '' \"\n",
    "    \"AND images.id IN (SELECT images.id FROM images ORDER BY RANDOM() LIMIT 144) \")\n",
    "\n",
    "c.execute(sql, )\n",
    "rows = c.fetchall()"
   ]
  },
  {
   "cell_type": "code",
   "execution_count": null,
   "metadata": {},
   "outputs": [],
   "source": [
    "# Get 144 images from stat.ML\n",
    "\n",
    "# maybe move this???\n",
    "\n",
    "sql = (\"SELECT metadata.cat, images.path, images.filename, images.identifier, metadata.created, images.id \"\n",
    "    \"FROM images \"\n",
    "    \"LEFT JOIN metadata ON images.identifier = metadata.identifier \"\n",
    "    \"WHERE images.x != '' \"\n",
    "    \"AND substr(trim(metadata.cat),1,instr(trim(metadata.cat)||' ',' ')-1) = ? \"\n",
    "    \"AND images.id IN (SELECT images.id FROM images ORDER BY RANDOM() LIMIT 144) \")\n",
    "\n",
    "c.execute(sql, (\"stat.ML\", ))\n",
    "rows = c.fetchall()"
   ]
  },
  {
   "cell_type": "code",
   "execution_count": null,
   "metadata": {},
   "outputs": [],
   "source": [
    "# Get 144 images from stat.ML from October 2012\n",
    "\n",
    "# maybe move this???\n",
    "\n",
    "sql = (\"SELECT metadata.cat, images.path, images.filename, images.identifier, metadata.created, images.id \"\n",
    "    \"FROM images \"\n",
    "    \"LEFT JOIN metadata ON images.identifier = metadata.identifier \"\n",
    "    \"WHERE images.x != '' \"\n",
    "    \"AND metadata.created BETWEEN date('2012-10-01') \"\n",
    "    \"AND date('2012-10-31') \"\n",
    "    \"AND substr(trim(metadata.cat),1,instr(trim(metadata.cat)||' ',' ')-1) = ? \"\n",
    "    \"AND images.id IN (SELECT images.id FROM images ORDER BY RANDOM() LIMIT 144) \")\n",
    "\n",
    "c.execute(sql, (\"stat.ML\", ))\n",
    "rows = c.fetchall()"
   ]
  },
  {
   "cell_type": "code",
   "execution_count": null,
   "metadata": {},
   "outputs": [],
   "source": [
    "# Get 16 random images\n",
    "\n",
    "sql = (\"SELECT metadata.cat, images.path, images.filename, images.identifier, metadata.created, images.id \"\n",
    "    \"FROM images \"\n",
    "    \"LEFT JOIN metadata ON images.identifier = metadata.identifier \"\n",
    "    \"WHERE images.x != '' \"\n",
    "    \"AND substr(trim(metadata.cat),1,instr(trim(metadata.cat)||' ',' ')-1) = ? \"\n",
    "    \"ORDER BY RANDOM() LIMIT 144 \")\n",
    "\n",
    "c.execute(sql, (\"stat.ML\", ))\n",
    "rows = c.fetchall()"
   ]
  },
  {
   "cell_type": "code",
   "execution_count": null,
   "metadata": {},
   "outputs": [],
   "source": [
    "print(len(rows))"
   ]
  },
  {
   "cell_type": "code",
   "execution_count": null,
   "metadata": {},
   "outputs": [],
   "source": [
    "for row in rows:\n",
    "    print(row)"
   ]
  },
  {
   "cell_type": "code",
   "execution_count": null,
   "metadata": {},
   "outputs": [],
   "source": [
    "# check to see if there are multiple categories\n",
    "for row in rows:\n",
    "    if len(row[0]) > 5:\n",
    "        print(row)"
   ]
  },
  {
   "cell_type": "markdown",
   "metadata": {},
   "source": [
    "### Shuffle list and then grab the filepath and id"
   ]
  },
  {
   "cell_type": "code",
   "execution_count": null,
   "metadata": {},
   "outputs": [],
   "source": [
    "# shuffle first, then get ids and paths\n",
    "\n",
    "random.shuffle(rows)"
   ]
  },
  {
   "cell_type": "code",
   "execution_count": null,
   "metadata": {},
   "outputs": [],
   "source": [
    "ids = []\n",
    "filepaths = []\n",
    "\n",
    "for row in rows[:144]:\n",
    "    print(row[5])\n",
    "    ids.append(row[5])\n",
    "    path = row[1] + '/' + row[2]\n",
    "    print(path)\n",
    "    filepaths.append(path)"
   ]
  },
  {
   "cell_type": "code",
   "execution_count": null,
   "metadata": {},
   "outputs": [],
   "source": [
    "print(filepaths)"
   ]
  },
  {
   "cell_type": "code",
   "execution_count": null,
   "metadata": {},
   "outputs": [],
   "source": [
    "print(ids)"
   ]
  },
  {
   "cell_type": "markdown",
   "metadata": {},
   "source": [
    "### Used for generating figures for paper"
   ]
  },
  {
   "cell_type": "code",
   "execution_count": null,
   "metadata": {},
   "outputs": [],
   "source": [
    "# get a montage of some images\n",
    "\n",
    "# print the current working directory\n",
    "os.chdir('/home/rte/re-imaging/sqlite-scripts/')\n",
    "print(os.getcwd())\n",
    "\n",
    "os.chdir('/home/rte/arXiv/')\n",
    "print(os.getcwd())\n",
    "\n",
    "prearg = shlex.split(\"-colorspace CMYK\")\n",
    "# arguments = shlex.split(\"-colorspace sRGB -background white -alpha background -trim +repage -flatten -geometry 240x240+2+2 -tile 12x /home/rte/documentation/data-samples/test_py_montage.jpg\")\n",
    "\n",
    "# for bigger montage of 12x12\n",
    "arguments = shlex.split(\"-colorspace sRGB -background white -alpha background -geometry 240x240+2+2 -tile 12x\")\n",
    "# for smaller montage of 4x4\n",
    "# arguments = shlex.split(\"-colorspace sRGB -background white -alpha background -geometry 480x480+2+2 -tile 4x\")\n",
    "\n",
    "outputname = [\"/home/rte/documentation/data-samples/random_montage_12x12_stat.ML.jpg\"]\n",
    "# print(arguments)\n",
    "\n",
    "filelist = []\n",
    "# this takes a slice of the larger shuffled list\n",
    "for filepath in itertools.islice(filepaths, 0, 144):\n",
    "#     print(filepath)\n",
    "    # put the filepath into the list but add the directory, remove the dot\n",
    "    # and also add [0] to only use the first page of multi-page image documents\n",
    "    filelist.append(\"src_all\" + filepath.replace('./','/') + '[0]')\n",
    "           \n",
    "# print(filelist)\n",
    "\n",
    "# call the montage command and parse list of files and arguments\n",
    "montage_cmd = [\"montage\"] + prearg + filelist + arguments + outputname\n",
    "\n",
    "result = subprocess.Popen(montage_cmd, stdout=subprocess.PIPE, stderr=subprocess.PIPE)\n",
    "out, err = result.communicate()\n",
    "print(out)\n",
    "print(err)\n",
    "print(\"subprocess finished\")\n",
    "print(\"-\" * 40)\n"
   ]
  },
  {
   "cell_type": "code",
   "execution_count": null,
   "metadata": {},
   "outputs": [],
   "source": [
    "# use this to copy to other files, paste as variable\n",
    "print(ids)"
   ]
  },
  {
   "cell_type": "code",
   "execution_count": null,
   "metadata": {},
   "outputs": [],
   "source": [
    "# testing writing filenames\n",
    "\n",
    "# os.chdir(\"/home/rte/re-imaging/sqlite-scripts/\")\n",
    "os.chdir(\"/home/rte/documentation/data-samples/\")\n",
    "print(os.getcwd())\n",
    "\n",
    "# fname = \"2018-10_\" + catlist[0][0] + \"_ids.txt\"\n",
    "fname = \"random_montage_4x4_v2_ids.txt\"\n",
    "f = open(fname, \"w+\")\n",
    "for row in ids:\n",
    "    f.write(str(row) + \"\\n\")\n",
    "f.close()"
   ]
  },
  {
   "cell_type": "code",
   "execution_count": null,
   "metadata": {},
   "outputs": [],
   "source": [
    "for cat in catlist:\n",
    "    print(cat[0])"
   ]
  },
  {
   "cell_type": "code",
   "execution_count": null,
   "metadata": {},
   "outputs": [],
   "source": [
    "print(len(filelist))\n",
    "\n",
    "for row in filelist:\n",
    "    print(row)"
   ]
  },
  {
   "cell_type": "code",
   "execution_count": null,
   "metadata": {},
   "outputs": [],
   "source": [
    "# testing writing filenames\n",
    "\n",
    "fname = \"2018-10_\" + catlist[0][0] + \".txt\"\n",
    "f = open(fname, \"w+\")\n",
    "for row in filelist:\n",
    "    f.write(row + \"\\n\")\n",
    "f.close()"
   ]
  },
  {
   "cell_type": "code",
   "execution_count": null,
   "metadata": {},
   "outputs": [],
   "source": [
    "print(targetDate[:7])"
   ]
  },
  {
   "cell_type": "code",
   "execution_count": null,
   "metadata": {},
   "outputs": [],
   "source": [
    "targetYM = targetDate[:7]\n",
    "savepath = \"/home/rte/Documents/documentation/data-samples/montages/category/\" + targetYM + \"/\"\n",
    "\n",
    "if os.path.isdir(savepath):\n",
    "    print(\"directory exists, saving to: \" + savepath)\n",
    "else:\n",
    "    try:\n",
    "        os.makedirs(savepath)\n",
    "    except OSError:\n",
    "        print(\"failed to create directory: \" + savepath)\n",
    "    else:\n",
    "        print(\"successfully created the directory: \" + savepath)"
   ]
  },
  {
   "cell_type": "code",
   "execution_count": null,
   "metadata": {},
   "outputs": [],
   "source": [
    "print(len(catlist))\n",
    "\n",
    "for row in catlist:\n",
    "    print(row[0])"
   ]
  },
  {
   "cell_type": "markdown",
   "metadata": {},
   "source": [
    "The following block of code takes the list of categories, queries the SQL database for a list of images that match each category and a given year, then shuffles this list, selects a subset, and uses that to run the montage command ^_^ "
   ]
  },
  {
   "cell_type": "code",
   "execution_count": null,
   "metadata": {
    "scrolled": true
   },
   "outputs": [],
   "source": [
    "# added date formatting\n",
    "sql = ('''\n",
    "    SELECT metadata.cat, images.path, images.filename, images.identifier, metadata.created\n",
    "    FROM images\n",
    "    LEFT JOIN metadata ON images.identifier = metadata.identifier\n",
    "    WHERE metadata.created BETWEEN date(?) AND date(?, 'start of month','+1 month','-1 day')\n",
    "    AND images.x != ''\n",
    "    AND substr(trim(metadata.cat),1,instr(trim(metadata.cat)||' ',' ')-1) = ?\n",
    "    ''')\n",
    "\n",
    "targetYM = targetDate[:7]\n",
    "savepath = \"/home/rte/Documents/documentation/data-samples/montages/category/\" + targetYM + \"/\"\n",
    "\n",
    "if os.path.isdir(savepath):\n",
    "    print(\"saving to: \" + savepath)\n",
    "else:\n",
    "    try:\n",
    "        os.makedirs(path)\n",
    "    except OSError:\n",
    "        print(\"Failed to create directory: \" + savepath)\n",
    "    else:\n",
    "        print(\"Successfully created the directory: \" + savepath)\n",
    "        \n",
    "\n",
    "for cat in catlist:\n",
    "    print(\"querying for category: \" + str(cat[0]))\n",
    "    c.execute(sql, (targetDate, targetDate, cat[0], ))\n",
    "    rows = c.fetchall()\n",
    "    \n",
    "    print(\"total number of images found: \" + str(len(rows)))\n",
    "    \n",
    "    filepaths = []\n",
    "\n",
    "    for row in rows:\n",
    "        path = row[1] + '/' + row[2]\n",
    "    #     print(path)\n",
    "        filepaths.append(path)\n",
    "\n",
    "    # shuffle the whole list\n",
    "    random.shuffle(filepaths)\n",
    "    \n",
    "    os.chdir('/home/rte/re-imaging/sqlite-scripts/')\n",
    "\n",
    "    # os.chdir('src_all')\n",
    "#     print(os.getcwd())\n",
    "\n",
    "    # format the arguments for montage\n",
    "    arguments = shlex.split(\"-colorspace sRGB -units PixelsPerInch -density 300 -background white -alpha off -geometry 240x240+2+2 -tile 12x\")\n",
    "\n",
    "    filelist = []\n",
    "    # this takes a slice of the larger shuffled list\n",
    "    for filepath in itertools.islice(filepaths, 0, 144):\n",
    "        # put the filepath into the list but add the directory, remove the dot\n",
    "        # and also add [0] to only use the first page of multi-page image documents\n",
    "        filelist.append(\"src_all\" + filepath.replace('./','/') + '[0]')\n",
    "\n",
    "    # write list of images to file (for debugging purposes, mostly)\n",
    "    fname = savepath + targetYM + \"_\" + cat[0] + \"_\" + str(cat[1]) + \".txt\"\n",
    "    f = open(fname, \"w+\")\n",
    "    for row in filelist:\n",
    "        f.write(row + \"\\n\")\n",
    "    f.close()\n",
    "    \n",
    "#     outputname = \"test_py_montage.jpg\"\n",
    "    outputname = [savepath + \"montage_\" + targetYM + \"_\" + cat[0] + \"_\" + str(cat[1]) + \".jpg\"]\n",
    "\n",
    "    print(\"calling montage\")\n",
    "    # call the montage command and parse list of files and arguments\n",
    "    montage_cmd = [\"montage\"] + filelist + arguments + outputname\n",
    "#     print(montage_cmd)\n",
    "    result = subprocess.Popen(montage_cmd, stdout=subprocess.PIPE, stderr=subprocess.PIPE)\n",
    "    out, err = result.communicate()\n",
    "    print(out)\n",
    "    print(err)\n",
    "    print(\"subprocess finished\")\n",
    "    print(\"-\" * 40)"
   ]
  },
  {
   "cell_type": "code",
   "execution_count": null,
   "metadata": {},
   "outputs": [],
   "source": [
    "# make list of categories\n",
    "# make list of dates (year/month?)\n",
    "# iterate through with a new sqlite select command\n",
    "# run montage"
   ]
  }
 ],
 "metadata": {
  "kernelspec": {
   "display_name": "Python 3",
   "language": "python",
   "name": "python3"
  },
  "language_info": {
   "codemirror_mode": {
    "name": "ipython",
    "version": 3
   },
   "file_extension": ".py",
   "mimetype": "text/x-python",
   "name": "python",
   "nbconvert_exporter": "python",
   "pygments_lexer": "ipython3",
   "version": "3.7.2"
  }
 },
 "nbformat": 4,
 "nbformat_minor": 2
}
