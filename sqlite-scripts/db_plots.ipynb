{
 "cells": [
  {
   "cell_type": "markdown",
   "metadata": {},
   "source": [
    "# Plotting data from SQLite database\n",
    "\n",
    "This notebook queries the databases to generate a matrix of plots for the number of articles/images per year, run separately for each category."
   ]
  },
  {
   "cell_type": "markdown",
   "metadata": {},
   "source": [
    "#### Setup\n",
    "\n",
    "Import required libraries, connect to SQLite database, create cursor, fetch table info"
   ]
  },
  {
   "cell_type": "code",
   "execution_count": null,
   "metadata": {},
   "outputs": [],
   "source": [
    "import matplotlib.pyplot as plt\n",
    "import numpy as np\n",
    "import sqlite3"
   ]
  },
  {
   "cell_type": "code",
   "execution_count": null,
   "metadata": {},
   "outputs": [],
   "source": [
    "# path on rte\n",
    "db_path = \"/home/rte/data/db/arxiv_db_images.sqlite3\""
   ]
  },
  {
   "cell_type": "code",
   "execution_count": null,
   "metadata": {},
   "outputs": [],
   "source": [
    "# import the sqlite3 database and create a cursor\n",
    "\n",
    "db = sqlite3.connect(db_path)\n",
    "c = db.cursor()"
   ]
  },
  {
   "cell_type": "code",
   "execution_count": null,
   "metadata": {},
   "outputs": [],
   "source": [
    "c.execute('PRAGMA TABLE_INFO({})'.format(\"metadata\"))\n",
    "info = c.fetchall()\n",
    "\n",
    "print(\"\\nColumn Info:\\nID, Name, Type, NotNull, DefaultVal, PrimaryKey\")\n",
    "for col in info:\n",
    "    print(col)"
   ]
  },
  {
   "cell_type": "code",
   "execution_count": null,
   "metadata": {},
   "outputs": [],
   "source": [
    "c.execute('PRAGMA TABLE_INFO({})'.format(\"images\"))\n",
    "info = c.fetchall()\n",
    "\n",
    "print(\"\\nColumn Info:\\nID, Name, Type, NotNull, DefaultVal, PrimaryKey\")\n",
    "for col in info:\n",
    "    print(col)"
   ]
  },
  {
   "cell_type": "markdown",
   "metadata": {},
   "source": [
    "#### Build category list\n",
    "First get a full list of all the primary categories by querying the SQLite database."
   ]
  },
  {
   "cell_type": "code",
   "execution_count": null,
   "metadata": {},
   "outputs": [],
   "source": [
    "# list primary categories by articles\n",
    "\n",
    "c.execute('''\n",
    "    SELECT substr(trim(metadata.cat),1,instr(trim(metadata.cat)||' ',' ')-1), count(metadata.identifier)\n",
    "    FROM metadata\n",
    "    GROUP BY substr(trim(metadata.cat),1,instr(trim(metadata.cat)||' ',' ')-1)\n",
    "    ORDER BY count(metadata.identifier) DESC    \n",
    "    ''')\n",
    "rows = c.fetchall()\n",
    "for row in rows:\n",
    "    print(row)"
   ]
  },
  {
   "cell_type": "code",
   "execution_count": null,
   "metadata": {},
   "outputs": [],
   "source": [
    "print(len(rows))"
   ]
  },
  {
   "cell_type": "code",
   "execution_count": null,
   "metadata": {},
   "outputs": [],
   "source": [
    "# list primary categories by associated images\n",
    "\n",
    "c.execute('''\n",
    "    SELECT substr(trim(metadata.cat),1,instr(trim(metadata.cat)||' ',' ')-1), count(images.identifier)\n",
    "    FROM images\n",
    "    LEFT JOIN metadata ON images.identifier = metadata.identifier \n",
    "    GROUP BY substr(trim(metadata.cat),1,instr(trim(metadata.cat)||' ',' ')-1)\n",
    "    ORDER BY count(images.identifier) DESC    \n",
    "    ''')\n",
    "rows = c.fetchall()\n",
    "for row in rows:\n",
    "    print(row)"
   ]
  },
  {
   "cell_type": "code",
   "execution_count": null,
   "metadata": {},
   "outputs": [],
   "source": [
    "print(len(rows))"
   ]
  },
  {
   "cell_type": "code",
   "execution_count": null,
   "metadata": {},
   "outputs": [],
   "source": [
    "# store the list of categories in catlist\n",
    "\n",
    "catlist = rows\n",
    "for cat in catlist:\n",
    "    print(str(cat[0]))"
   ]
  },
  {
   "cell_type": "code",
   "execution_count": null,
   "metadata": {},
   "outputs": [],
   "source": [
    "# testing that both SQL queries give the same list of categories\n",
    "# the lists seem to be slightly different in order but have the same number of categories\n",
    "\n",
    "catlist_images = rows\n",
    "print(\"are both lists the same?\")\n",
    "print(catlist_images == catlist)\n",
    "print(\"do both lists have the same number of elements?\")\n",
    "print(len(catlist_images) == len(catlist))\n",
    "print(len(catlist))"
   ]
  },
  {
   "cell_type": "markdown",
   "metadata": {},
   "source": [
    "#### Query DB for data\n",
    "Then use that list of primary categories to query the db for how many articles per year. Store it in the `data` variable. The first command is the number of articles only so only requires the `metadata` table. The second block below searches by number of images so also requires the `images` table in the SQLite database."
   ]
  },
  {
   "cell_type": "code",
   "execution_count": null,
   "metadata": {},
   "outputs": [],
   "source": [
    "# total number of articles for each year by category\n",
    "\n",
    "sql = ('''\n",
    "    SELECT count(metadata.identifier), strftime(\"%Y\", metadata.created) as 'Y'\n",
    "    FROM metadata\n",
    "    WHERE substr(trim(cat),1,instr(trim(cat)||' ',' ')-1) = ?\n",
    "    GROUP BY strftime(\"%Y\", metadata.created)\n",
    "    ORDER BY strftime(\"%Y\", metadata.created) ASC\n",
    "    ''')\n",
    "\n",
    "data = []\n",
    "\n",
    "for cat in catlist:\n",
    "    print(\"querying for category: \" + str(cat[0]))\n",
    "    c.execute(sql, (cat[0], ))\n",
    "    rows = c.fetchall()\n",
    "    \n",
    "#     print(\"total number of images found: \" + str(len(rows)))\n",
    "    print(rows)\n",
    "#     print(\"total number of articles: \" + rows[0][0])\n",
    "\n",
    "    years = []\n",
    "    totals = []\n",
    "    \n",
    "    for row in rows:\n",
    "        years.append(row[1])\n",
    "        totals.append(row[0])\n",
    "        \n",
    "    newdata = [cat[0], years, totals]\n",
    "    data.append(newdata)\n",
    "\n",
    "print(\"*\" * 20)\n",
    "print(\"done\")"
   ]
  },
  {
   "cell_type": "code",
   "execution_count": null,
   "metadata": {
    "scrolled": true
   },
   "outputs": [],
   "source": [
    "# total number of images for each year by category\n",
    "\n",
    "sql = ('''\n",
    "    SELECT count(images.identifier), strftime(\"%Y\", metadata.created) as 'Y'\n",
    "    FROM images\n",
    "    LEFT JOIN metadata on images.identifier = metadata.identifier\n",
    "    WHERE substr(trim(cat),1,instr(trim(cat)||' ',' ')-1) = ?\n",
    "    GROUP BY strftime(\"%Y\", metadata.created)\n",
    "    ORDER BY strftime(\"%Y\", metadata.created) ASC\n",
    "    ''')\n",
    "\n",
    "data = []\n",
    "\n",
    "for cat in catlist:\n",
    "    print(\"querying for category: \" + str(cat[0]))\n",
    "    c.execute(sql, (cat[0], ))\n",
    "    rows = c.fetchall()\n",
    "    \n",
    "#     print(\"total number of images found: \" + str(len(rows)))\n",
    "    print(rows)\n",
    "#     print(\"total number of articles: \" + rows[0][0])\n",
    "\n",
    "    years = []\n",
    "    totals = []\n",
    "    \n",
    "    for row in rows:\n",
    "        years.append(row[1])\n",
    "        totals.append(row[0])\n",
    "        \n",
    "    newdata = [cat[0], years, totals]\n",
    "    data.append(newdata)\n",
    "\n",
    "print(\"*\" * 20)\n",
    "print(\"done\")"
   ]
  },
  {
   "cell_type": "code",
   "execution_count": null,
   "metadata": {},
   "outputs": [],
   "source": [
    "# total number of images for each year by extension\n",
    "\n",
    "db.create_function(\"reverse\", 1, lambda s: s[::-1])\n",
    "sql = ('''\n",
    "    SELECT COUNT(reverse(substr(reverse(filename),1,instr(reverse(filename),'.')-1))), reverse(substr(reverse(filename),1,instr(reverse(filename),'.')-1)) AS extension\n",
    "    FROM images\n",
    "    WHERE x is not null and x != ''\n",
    "    AND y is not null and y != ''\n",
    "    AND imageformat is not null and imageformat != ''\n",
    "    GROUP BY extension\n",
    "    ''')\n",
    "\n",
    "data = []\n",
    "\n",
    "for cat in catlist:\n",
    "    print(\"querying for category: \" + str(cat[0]))\n",
    "    c.execute(sql, (cat[0], ))\n",
    "    rows = c.fetchall()\n",
    "    \n",
    "#     print(\"total number of images found: \" + str(len(rows)))\n",
    "    print(rows)\n",
    "#     print(\"total number of articles: \" + rows[0][0])\n",
    "\n",
    "    years = []\n",
    "    totals = []\n",
    "    \n",
    "    for row in rows:\n",
    "        years.append(row[1])\n",
    "        totals.append(row[0])\n",
    "        \n",
    "    newdata = [cat[0], years, totals]\n",
    "    data.append(newdata)\n",
    "\n",
    "print(\"*\" * 20)\n",
    "print(\"done\")"
   ]
  },
  {
   "cell_type": "markdown",
   "metadata": {},
   "source": [
    "#### Clean data\n",
    "- remove any entries of \"2019\" in the years and articles columns of data (don't have full data for this year).\n",
    "- rewrite all entries as integers rather than strings (otherwise there will be problems when adjusting the axes)\n",
    "- find the minimum and maximum for any entries, so that we can set our axes later as needed.\n",
    "\n",
    "Data is saved in the format of nested lists in the format\n",
    "```\n",
    "[\n",
    "    [cat1, [year1, year2...yearX], [totat1, total2...totalY]\n",
    "    [cat2, [year1, year2...yearX], [totat1, total2...totalY]\n",
    "    ...\n",
    "    [catZ, [year1, year2...yearX], [totat1, total2...totalY]\n",
    "]\n",
    "```"
   ]
  },
  {
   "cell_type": "code",
   "execution_count": null,
   "metadata": {},
   "outputs": [],
   "source": [
    "# if there is \"2019\" in the list of years, get the index and remove from both the year and no. article lists\n",
    "\n",
    "for cat in data:\n",
    "    while \"2019\" in cat[1]:\n",
    "        index = cat[1].index(\"2019\")\n",
    "        print(cat[0])\n",
    "        print(index)\n",
    "        del cat[2][index]\n",
    "        del cat[1][index]\n",
    "        print(\"*\" * 20)"
   ]
  },
  {
   "cell_type": "code",
   "execution_count": null,
   "metadata": {},
   "outputs": [],
   "source": [
    "# test to make sure there is still a total for each year\n",
    "\n",
    "for cat in data:\n",
    "    if len(cat[1]) != len(cat[2]):\n",
    "        print(\"problem with category: \" + cat)"
   ]
  },
  {
   "cell_type": "code",
   "execution_count": null,
   "metadata": {},
   "outputs": [],
   "source": [
    "# fix year entries appearing as string by going through each and re-writing as integer\n",
    "\n",
    "for cat in data:\n",
    "    for k in enumerate(cat[1]):\n",
    "        print(cat[1][k[0]])\n",
    "        cat[1][k[0]] = int(cat[1][k[0]])"
   ]
  },
  {
   "cell_type": "code",
   "execution_count": null,
   "metadata": {},
   "outputs": [],
   "source": [
    "print(data)"
   ]
  },
  {
   "cell_type": "markdown",
   "metadata": {},
   "source": [
    "#### Save data \n",
    "Interim progress, to prevent having to run SQL queries again : )\n",
    "Save as either json file or pickle for reloading\n",
    "\n",
    "#### json\n",
    "saves as human-readable JSON format"
   ]
  },
  {
   "cell_type": "code",
   "execution_count": null,
   "metadata": {},
   "outputs": [],
   "source": [
    "import json"
   ]
  },
  {
   "cell_type": "code",
   "execution_count": null,
   "metadata": {},
   "outputs": [],
   "source": [
    "filename = \"articles_cat_year.json\" "
   ]
  },
  {
   "cell_type": "code",
   "execution_count": null,
   "metadata": {},
   "outputs": [],
   "source": [
    "filename = \"images_cat_year.json\""
   ]
  },
  {
   "cell_type": "code",
   "execution_count": null,
   "metadata": {},
   "outputs": [],
   "source": [
    "# WRITE\n",
    "\n",
    "load_json = []\n",
    "\n",
    "with open(filename, \"r\") as read_file:\n",
    "    load_json = json.load(read_file)\n",
    "    read_file.close()"
   ]
  },
  {
   "cell_type": "code",
   "execution_count": null,
   "metadata": {},
   "outputs": [],
   "source": [
    "# READ\n",
    "\n",
    "with open(filename, \"w\") as write_file:\n",
    "    json.dump(data, write_file)\n",
    "    write_file.close()"
   ]
  },
  {
   "cell_type": "code",
   "execution_count": null,
   "metadata": {},
   "outputs": [],
   "source": [
    "print(load_json)"
   ]
  },
  {
   "cell_type": "code",
   "execution_count": null,
   "metadata": {},
   "outputs": [],
   "source": [
    "data == loadedjson"
   ]
  },
  {
   "cell_type": "markdown",
   "metadata": {},
   "source": [
    "#### pickle\n",
    "Save data as a serialized file using pickle"
   ]
  },
  {
   "cell_type": "code",
   "execution_count": null,
   "metadata": {},
   "outputs": [],
   "source": [
    "import pickle"
   ]
  },
  {
   "cell_type": "code",
   "execution_count": null,
   "metadata": {},
   "outputs": [],
   "source": [
    "filename = \"articles_cat_year.pickle\"\n",
    "bArticles = True"
   ]
  },
  {
   "cell_type": "code",
   "execution_count": null,
   "metadata": {},
   "outputs": [],
   "source": [
    "filename = \"images_cat_year.pickle\"\n",
    "bArticles = False"
   ]
  },
  {
   "cell_type": "code",
   "execution_count": null,
   "metadata": {},
   "outputs": [],
   "source": [
    "#READ\n",
    "\n",
    "load_data = []\n",
    "\n",
    "with open(filename, \"rb\") as read_file:\n",
    "    load_data = pickle.load(read_file)\n",
    "    read_file.close()"
   ]
  },
  {
   "cell_type": "code",
   "execution_count": null,
   "metadata": {},
   "outputs": [],
   "source": [
    "# WRITE\n",
    "with open(filename, \"wb\") as write_file:\n",
    "    pickle.dump(data, write_file)\n",
    "    write_file.close()"
   ]
  },
  {
   "cell_type": "markdown",
   "metadata": {},
   "source": [
    "Load in the imported data in the `data` variable"
   ]
  },
  {
   "cell_type": "code",
   "execution_count": null,
   "metadata": {},
   "outputs": [],
   "source": [
    "data = load_data"
   ]
  },
  {
   "cell_type": "markdown",
   "metadata": {},
   "source": [
    "Set bArticles "
   ]
  },
  {
   "cell_type": "code",
   "execution_count": null,
   "metadata": {},
   "outputs": [],
   "source": [
    "print(filename)"
   ]
  },
  {
   "cell_type": "code",
   "execution_count": null,
   "metadata": {},
   "outputs": [],
   "source": [
    "bArticles = True"
   ]
  },
  {
   "cell_type": "code",
   "execution_count": null,
   "metadata": {},
   "outputs": [],
   "source": [
    "bArticles = False"
   ]
  },
  {
   "cell_type": "markdown",
   "metadata": {},
   "source": [
    "Testing loaded data"
   ]
  },
  {
   "cell_type": "code",
   "execution_count": null,
   "metadata": {},
   "outputs": [],
   "source": [
    "print(load_data == data)"
   ]
  },
  {
   "cell_type": "code",
   "execution_count": null,
   "metadata": {},
   "outputs": [],
   "source": [
    "print(load_data)"
   ]
  },
  {
   "cell_type": "code",
   "execution_count": null,
   "metadata": {},
   "outputs": [],
   "source": [
    "print(data)"
   ]
  },
  {
   "cell_type": "markdown",
   "metadata": {},
   "source": [
    "#### Recalculate with log10"
   ]
  },
  {
   "cell_type": "code",
   "execution_count": null,
   "metadata": {},
   "outputs": [],
   "source": [
    "# DON'T DO THIS! just use set_yscale('log') in plot instead\n",
    "\n",
    "# for each item in totals list, replace with log10(d)\n",
    "\n",
    "import math\n",
    "\n",
    "# list comprehension on totals list\n",
    "for cat in data:\n",
    "    cat[2][:] = [math.log10(x) for x in cat[2]]\n",
    "    print(cat[2])"
   ]
  },
  {
   "cell_type": "markdown",
   "metadata": {},
   "source": [
    "#### Find max and min\n",
    "\n",
    "Go through each value in the data to find the maximum and minimums for plotting"
   ]
  },
  {
   "cell_type": "code",
   "execution_count": null,
   "metadata": {},
   "outputs": [],
   "source": [
    "# get the maximums and minimums of year and no. articles for figuring out axes\n",
    "\n",
    "import math\n",
    "\n",
    "minY = math.inf\n",
    "maxY = -(math.inf)\n",
    "minA = math.inf\n",
    "maxA = -(math.inf)\n",
    "\n",
    "for cat in data:\n",
    "#     print(len(cat))\n",
    "    print(cat[0])\n",
    "    if min(cat[1]) < minY: minY = min(cat[1])\n",
    "    if max(cat[1]) > maxY: maxY = max(cat[1])\n",
    "    if min(cat[2]) < minA: minA = min(cat[2])\n",
    "    if max(cat[2]) > maxA: maxA = max(cat[2])\n",
    "    print(\"min year: \" + str(min(cat[1])))\n",
    "    print(\"max year: \" + str(max(cat[1])))\n",
    "    print(\"min articles/images: \" + str(min(cat[2])))\n",
    "    print(\"max articles/images: \" + str(max(cat[2])))\n",
    "    print(\"*\" * 20)\n",
    "    \n",
    "print(\"minY: \" + str(minY))\n",
    "print(\"maxY: \" + str(maxY))\n",
    "print(\"minA: \" + str(minA))\n",
    "print(\"maxA: \" + str(maxA))\n",
    "              \n",
    "print(\"done\")"
   ]
  },
  {
   "cell_type": "code",
   "execution_count": null,
   "metadata": {},
   "outputs": [],
   "source": [
    "print(data)"
   ]
  },
  {
   "cell_type": "markdown",
   "metadata": {},
   "source": [
    "#### Save data in org format\n",
    "Use org-friendly table format. This can be printed to console or written to a file. For posting to Github and rendered in Github markdown."
   ]
  },
  {
   "cell_type": "code",
   "execution_count": null,
   "metadata": {},
   "outputs": [],
   "source": [
    "# write the data in an org-friendly format for posting on github\n",
    "for cat in data:\n",
    "    print(\"* \" + cat[0])\n",
    "    joined = list(zip(cat[1], cat[2]))\n",
    "    #     print(joined)\n",
    "    print(\"|-|-|\")\n",
    "    for j in joined:\n",
    "        print('|' + str(j[0]) + \"|\" + str(j[1]) + \"|\")\n",
    "    print(\"|-|-|\")"
   ]
  },
  {
   "cell_type": "code",
   "execution_count": null,
   "metadata": {},
   "outputs": [],
   "source": [
    "# write the data to a file\n",
    "with open(\"stats_images_cat_year.org\", \"w\") as write_file:\n",
    "    for cat in data:\n",
    "        print(\"* \" + cat[0], file=write_file)\n",
    "        joined = list(zip(cat[1], cat[2]))\n",
    "        #     print(joined)\n",
    "        print(\"|-|-|\", file=write_file)\n",
    "        for j in joined:\n",
    "            print('|' + str(j[0]) + \"|\" + str(j[1]) + \"|\", file=write_file)\n",
    "        print(\"|-|-|\", file=write_file)\n",
    "write_file.close()"
   ]
  },
  {
   "cell_type": "markdown",
   "metadata": {},
   "source": [
    "#### Plotting matrix of scatterplots\n",
    "\n",
    "Plot data in two formats\n",
    "- with shared x and y axes, for comparison across data\n",
    "- with individual x and y axes taken from min/max of each plot automatically, for individual trends\n",
    "- finally, save as high resolution (300 dpi) image"
   ]
  },
  {
   "cell_type": "code",
   "execution_count": null,
   "metadata": {},
   "outputs": [],
   "source": [
    "bArticles = True"
   ]
  },
  {
   "cell_type": "code",
   "execution_count": null,
   "metadata": {},
   "outputs": [],
   "source": [
    "bArticles = False"
   ]
  },
  {
   "cell_type": "code",
   "execution_count": null,
   "metadata": {},
   "outputs": [],
   "source": [
    "# plot figures with shared x and y axes using the min/max year/article numbers from the cleaning step\n",
    "\n",
    "xdim = 15\n",
    "ydim = 12\n",
    "\n",
    "fig, ax = plt.subplots(ydim, xdim, sharex='col', sharey='row')\n",
    "fig.set_size_inches(40, 30)\n",
    "\n",
    "data_size = len(data)\n",
    "\n",
    "for i in range(ydim):\n",
    "    for j in range(xdim):\n",
    "        idx = (i * xdim) + j\n",
    "        if idx < data_size:\n",
    "#             ax[i, j].plot(data[idx][1], data[idx][2], '--.')\n",
    "            ax[i, j].plot(data[idx][1], data[idx][2], '--r.')\n",
    "            ax[i, j].title.set_text(data[idx][0])\n",
    "            # add one to the maximum year for alignment\n",
    "            ax[i, j].axis([minY, maxY+1, minA, maxA])"
   ]
  },
  {
   "cell_type": "code",
   "execution_count": null,
   "metadata": {},
   "outputs": [],
   "source": [
    "# fig.savefig(\"plot_articles_cat_year_04.png\", dpi=300)\n",
    "fig.savefig(\"plot_images_cat_year_03.png\", dpi=300)"
   ]
  },
  {
   "cell_type": "code",
   "execution_count": null,
   "metadata": {},
   "outputs": [],
   "source": [
    "# plot figures with individual x and y axes for the year and article/image totals\n",
    "xdim = 15\n",
    "ydim = 12\n",
    "\n",
    "fig, ax = plt.subplots(ydim, xdim)\n",
    "fig.subplots_adjust(hspace=0.4, wspace=0.4)\n",
    "fig.set_size_inches(40, 30)\n",
    "\n",
    "data_size = len(data)\n",
    "\n",
    "for i in range(ydim):\n",
    "    for j in range(xdim):\n",
    "        idx = (i * xdim) + j\n",
    "        if idx < data_size:\n",
    "#             ax[i, j].plot(data[idx][1], data[idx][2], '--.')\n",
    "            ax[i, j].plot(data[idx][1], data[idx][2], '--r.')\n",
    "            ax[i, j].title.set_text(data[idx][0])\n",
    "#             ax[i, j].axis([minY, maxY+1, minA, maxA])"
   ]
  },
  {
   "cell_type": "code",
   "execution_count": null,
   "metadata": {},
   "outputs": [],
   "source": [
    "# fig.savefig(\"plot_articles_cat_year_indax_01.png\", dpi=300)\n",
    "fig.savefig(\"plot_images_cat_year_indax_03.png\", dpi=300)"
   ]
  },
  {
   "cell_type": "markdown",
   "metadata": {},
   "source": [
    "### Additional plots\n",
    "\n",
    "- Plot data with shared X axis from 1991-2018 but individual Y axes\n",
    "- Log10 of Y axis\n",
    "- Plot by individual categories"
   ]
  },
  {
   "cell_type": "markdown",
   "metadata": {},
   "source": [
    "##### fixed time range, relative totals"
   ]
  },
  {
   "cell_type": "code",
   "execution_count": null,
   "metadata": {
    "scrolled": true
   },
   "outputs": [],
   "source": [
    "# plot figures with shared x and y axes using the min/max year/article numbers from the cleaning step\n",
    "# articles\n",
    "\n",
    "xdim = 15\n",
    "ydim = 12\n",
    "\n",
    "fig, ax = plt.subplots(ydim, xdim, sharex='col')\n",
    "fig.subplots_adjust(hspace=0.4, wspace=0.4)\n",
    "fig.set_size_inches(40, 30)\n",
    "\n",
    "if bArticles: fig.suptitle(\"arXiv relative number of articles per year between 1991 and 2018\", x=0.5, y=0.92, size=28)\n",
    "else: fig.suptitle(\"arXiv relative number of images per year between 1991 and 2018\", x=0.5, y=0.92, size=28)\n",
    "    \n",
    "data_size = len(data)\n",
    "\n",
    "for i in range(ydim):\n",
    "    for j in range(xdim):\n",
    "        idx = (i * xdim) + j\n",
    "        if idx < data_size:\n",
    "            if bArticles: ax[i, j].plot(data[idx][1], data[idx][2], '--.')\n",
    "            else: ax[i, j].plot(data[idx][1], data[idx][2], '--r.')\n",
    "            ax[i, j].title.set_text(data[idx][0])\n",
    "            ax[i, j].axis([1991, 2018, 0, max(data[idx][2])])\n",
    "            if bLog10: ax[i, j].set_yscale('log')"
   ]
  },
  {
   "cell_type": "code",
   "execution_count": null,
   "metadata": {},
   "outputs": [],
   "source": [
    "if bArticles: fig.savefig(\"plot_articles_cat_year_fixedtime.svg\", dpi=300)\n",
    "else: fig.savefig(\"plot_images_cat_year_fixedtime.svg\", dpi=300)"
   ]
  },
  {
   "cell_type": "markdown",
   "metadata": {},
   "source": [
    "##### absolute totals"
   ]
  },
  {
   "cell_type": "code",
   "execution_count": null,
   "metadata": {},
   "outputs": [],
   "source": [
    "bLog10 = True"
   ]
  },
  {
   "cell_type": "code",
   "execution_count": null,
   "metadata": {
    "scrolled": true
   },
   "outputs": [],
   "source": [
    "# plot figures with shared x and y axes using the min/max year/article numbers from the cleaning step\n",
    "# articles\n",
    "\n",
    "xdim = 15\n",
    "ydim = 12\n",
    "\n",
    "fig, ax = plt.subplots(ydim, xdim, sharex='col', sharey='row')\n",
    "fig.subplots_adjust(hspace=0.4, wspace=0.4)\n",
    "fig.set_size_inches(40, 30)\n",
    "\n",
    "if bArticles: fig.suptitle(\"arXiv total articles per year between 1991 and 2018\\nShared Axes\", x=0.5, y=0.92, size=28)\n",
    "else: fig.suptitle(\"arXiv total images per year between 1991 and 2018\\nShared Axes\", x=0.5, y=0.92, size=28)\n",
    "    \n",
    "data_size = len(data)\n",
    "\n",
    "for i in range(ydim):\n",
    "    for j in range(xdim):\n",
    "        idx = (i * xdim) + j\n",
    "        if idx < data_size:\n",
    "            if bArticles:\n",
    "                ax[i, j].plot(data[idx][1], data[idx][2], '--.')\n",
    "            else:\n",
    "                ax[i, j].plot(data[idx][1], data[idx][2], '--r.')\n",
    "            ax[i, j].title.set_text(data[idx][0])\n",
    "            ax[i, j].axis([1991, 2018, 0, maxA])\n",
    "            if bLog10: ax[i, j].set_yscale('log')"
   ]
  },
  {
   "cell_type": "code",
   "execution_count": null,
   "metadata": {},
   "outputs": [],
   "source": [
    "if bArticles: fig.savefig(\"plot_articles_cat_year_fixedtime_shareY.svg\", dpi=300)\n",
    "else: fig.savefig(\"plot_images_cat_year_indax_shareY.svg\", dpi=300)"
   ]
  },
  {
   "cell_type": "code",
   "execution_count": null,
   "metadata": {},
   "outputs": [],
   "source": [
    "if bArticles: fig.savefig(\"plot_articles_cat_year_fixedtime_log10.svg\", dpi=300)\n",
    "else: fig.savefig(\"plot_images_cat_year_fixedtime_log10.svg\", dpi=300)"
   ]
  },
  {
   "cell_type": "markdown",
   "metadata": {},
   "source": [
    "##### log10"
   ]
  },
  {
   "cell_type": "code",
   "execution_count": null,
   "metadata": {},
   "outputs": [],
   "source": [
    "bArticles = True"
   ]
  },
  {
   "cell_type": "code",
   "execution_count": null,
   "metadata": {},
   "outputs": [],
   "source": [
    "bArticles = False"
   ]
  },
  {
   "cell_type": "code",
   "execution_count": null,
   "metadata": {
    "scrolled": true
   },
   "outputs": [],
   "source": [
    "# plot figures with shared x and y axes using the min/max year/article numbers from the cleaning step\n",
    "\n",
    "xdim = 15\n",
    "ydim = 12\n",
    "\n",
    "fig, ax = plt.subplots(ydim, xdim, sharex='col', sharey='row')\n",
    "fig.subplots_adjust(hspace=0.4, wspace=0.4)\n",
    "fig.set_size_inches(40, 30)\n",
    "\n",
    "if bArticles: fig.suptitle(\"arXiv log10 of articles per year between 1991 and 2018\\nShared Axes\", x=0.5, y=0.92, size=28)\n",
    "else: fig.suptitle(\"arXiv log10 of images per year between 1991 and 2018\\nShared Axes\", x=0.5, y=0.92, size=28)\n",
    "\n",
    "data_size = len(data)\n",
    "\n",
    "for i in range(ydim):\n",
    "    for j in range(xdim):\n",
    "        idx = (i * xdim) + j\n",
    "        if idx < data_size:\n",
    "            if bArticles:\n",
    "                ax[i, j].plot(data[idx][1], data[idx][2], '--.')\n",
    "            else:\n",
    "                ax[i, j].plot(data[idx][1], data[idx][2], '--r.')\n",
    "            ax[i, j].title.set_text(data[idx][0])\n",
    "            ax[i, j].axis([1991, 2018, 0, maxA])"
   ]
  },
  {
   "cell_type": "code",
   "execution_count": null,
   "metadata": {},
   "outputs": [],
   "source": [
    "if bArticles: fig.savefig(\"plot_articles_cat_year_fixedtime_log10.svg\", dpi=300)\n",
    "else: fig.savefig(\"plot_images_cat_year_indax_log10.svg\", dpi=300)"
   ]
  },
  {
   "cell_type": "markdown",
   "metadata": {},
   "source": [
    "##### categories\n",
    "\n",
    "- physics (including astro-ph, cond-mat)\n",
    "- cs\n",
    "- math\n",
    "- q-bio\n",
    "- q-fin\n",
    "- stat"
   ]
  },
  {
   "cell_type": "code",
   "execution_count": null,
   "metadata": {},
   "outputs": [],
   "source": [
    "# testing for primary category search\n",
    "article_count = 0\n",
    "for cat in data:\n",
    "    if \"stat.\" in cat[0]:\n",
    "        print(cat[0])\n",
    "        article_count += 1\n",
    "print(article_count)"
   ]
  },
  {
   "cell_type": "code",
   "execution_count": null,
   "metadata": {},
   "outputs": [],
   "source": [
    "print(data)"
   ]
  },
  {
   "cell_type": "markdown",
   "metadata": {},
   "source": [
    "#### Grab data from only some categories"
   ]
  },
  {
   "cell_type": "code",
   "execution_count": null,
   "metadata": {},
   "outputs": [],
   "source": [
    "# get only computer science\n",
    "select_data = []\n",
    "for cat in data:\n",
    "    if \"cs.\" in cat[0] and \"physics\" not in cat[0]:\n",
    "        select_data.append(cat)\n",
    "print(select_data)\n",
    "print(len(select_data))\n",
    "\n",
    "data = select_data"
   ]
  },
  {
   "cell_type": "code",
   "execution_count": null,
   "metadata": {},
   "outputs": [],
   "source": [
    "# get only maths\n",
    "select_data = []\n",
    "for cat in data:\n",
    "    if \"math.\" in cat[0]:\n",
    "        select_data.append(cat)\n",
    "print(select_data)\n",
    "print(len(select_data))\n",
    "\n",
    "data = select_data"
   ]
  },
  {
   "cell_type": "code",
   "execution_count": null,
   "metadata": {},
   "outputs": [],
   "source": [
    "# get all physics related categories\n",
    "select_data = []\n",
    "for cat in data:\n",
    "    if \"ph\" in cat[0] or \"physics.\" in cat[0] or \"cond-mat\" in cat[0] or \"nlin\" in cat[0]:\n",
    "        select_data.append(cat)\n",
    "print(select_data)\n",
    "print(len(select_data))\n",
    "\n",
    "data = select_data"
   ]
  },
  {
   "cell_type": "code",
   "execution_count": null,
   "metadata": {},
   "outputs": [],
   "source": [
    "# get only quantitative biology\n",
    "select_data = []\n",
    "for cat in data:\n",
    "    if \"q-bio.\" in cat[0]:\n",
    "        select_data.append(cat)\n",
    "print(select_data)\n",
    "print(len(select_data))\n",
    "\n",
    "data = select_data"
   ]
  },
  {
   "cell_type": "code",
   "execution_count": null,
   "metadata": {},
   "outputs": [],
   "source": [
    "# get only quantitative finance\n",
    "select_data = []\n",
    "for cat in data:\n",
    "    if \"q-fin.\" in cat[0]:\n",
    "        select_data.append(cat)\n",
    "print(select_data)\n",
    "print(len(select_data))\n",
    "\n",
    "data = select_data"
   ]
  },
  {
   "cell_type": "code",
   "execution_count": null,
   "metadata": {},
   "outputs": [],
   "source": [
    "# get only statistics\n",
    "select_data = []\n",
    "for cat in data:\n",
    "    if \"stat.\" in cat[0]:\n",
    "        select_data.append(cat)\n",
    "print(select_data)\n",
    "print(len(select_data))\n",
    "\n",
    "data = select_data"
   ]
  },
  {
   "cell_type": "markdown",
   "metadata": {},
   "source": [
    "#### set log10, category and find factors"
   ]
  },
  {
   "cell_type": "code",
   "execution_count": null,
   "metadata": {},
   "outputs": [],
   "source": [
    "bLog10 = False"
   ]
  },
  {
   "cell_type": "code",
   "execution_count": null,
   "metadata": {},
   "outputs": [],
   "source": [
    "bLog10 = True"
   ]
  },
  {
   "cell_type": "code",
   "execution_count": null,
   "metadata": {},
   "outputs": [],
   "source": [
    "# get the two factors closest to the square root\n",
    "\n",
    "input = len(data)\n",
    "\n",
    "test = int(math.sqrt(input))\n",
    "# print(test)\n",
    "while input % test != 0:\n",
    "    test -= 1\n",
    "\n",
    "xdim = max(test, int(input/test))\n",
    "ydim = min(test, int(input/test))\n",
    "\n",
    "print(xdim)\n",
    "print(ydim)"
   ]
  },
  {
   "cell_type": "code",
   "execution_count": null,
   "metadata": {},
   "outputs": [],
   "source": [
    "# category = \"computer science\"\n",
    "# category = \"math\"\n",
    "# category = \"physics\"\n",
    "# category = \"q-bio\"\n",
    "# category = \"q-fin\"\n",
    "category = \"stats\""
   ]
  },
  {
   "cell_type": "code",
   "execution_count": null,
   "metadata": {},
   "outputs": [],
   "source": [
    "print(len(data))"
   ]
  },
  {
   "cell_type": "markdown",
   "metadata": {},
   "source": [
    "#### Plot data"
   ]
  },
  {
   "cell_type": "code",
   "execution_count": null,
   "metadata": {
    "scrolled": true
   },
   "outputs": [],
   "source": [
    "# plot figures with shared x and y axes using the min/max year/article numbers from the cleaning step\n",
    "\n",
    "xdim = 3\n",
    "ydim = 2\n",
    "\n",
    "fig, ax = plt.subplots(ydim, xdim, sharex='col', sharey='row')\n",
    "fig.subplots_adjust(hspace=0.4, wspace=0.4)\n",
    "fig.set_size_inches(40, 30)\n",
    "\n",
    "if bArticles: fig.suptitle(\"arXiv \" + category + \" articles per year between 1991 and 2018\", x=0.5, y=0.92, size=28)\n",
    "else: fig.suptitle(\"arXiv \" + category + \" images per year between 1991 and 2018\", x=0.5, y=0.92, size=28)\n",
    "\n",
    "data_size = len(data)\n",
    "\n",
    "for i in range(ydim):\n",
    "    for j in range(xdim):\n",
    "        idx = (i * xdim) + j\n",
    "        if idx < data_size:\n",
    "            if bArticles:\n",
    "                ax[i, j].plot(data[idx][1], data[idx][2], '--.')\n",
    "            else:\n",
    "                ax[i, j].plot(data[idx][1], data[idx][2], '--r.')\n",
    "            ax[i, j].title.set_text(data[idx][0])\n",
    "            ax[i, j].axis([1991, 2018, 0, maxA])\n",
    "            if bLog10: ax[i, j].set_yscale('log')"
   ]
  },
  {
   "cell_type": "code",
   "execution_count": null,
   "metadata": {},
   "outputs": [],
   "source": [
    "if bArticles: fig.savefig(\"plot_cs_articles_year_fixedtime.svg\", dpi=300)\n",
    "else: fig.savefig(\"plot_cs_images_year_fixedtime.svg\", dpi=300)"
   ]
  },
  {
   "cell_type": "code",
   "execution_count": null,
   "metadata": {},
   "outputs": [],
   "source": [
    "if bArticles: fig.savefig(\"plot_cs_articles_year_fixedtime_log10.svg\", dpi=300)\n",
    "else: fig.savefig(\"plot_cs_images_year_log10.svg\", dpi=300)"
   ]
  },
  {
   "cell_type": "code",
   "execution_count": null,
   "metadata": {},
   "outputs": [],
   "source": [
    "if bArticles: fig.savefig(\"plot_\" + category + \"_articles_year_fixedtime.svg\", dpi=300)\n",
    "else: fig.savefig(\"plot_\" + category + \"_images_year.svg\", dpi=300)"
   ]
  },
  {
   "cell_type": "code",
   "execution_count": null,
   "metadata": {},
   "outputs": [],
   "source": [
    "if bArticles: fig.savefig(\"plot_\" + category + \"_articles_year_fixedtime_log10.svg\", dpi=300)\n",
    "else: fig.savefig(\"plot_\" + category + \"_images_year_log10.svg\", dpi=300)"
   ]
  }
 ],
 "metadata": {
  "kernelspec": {
   "display_name": "Python 3",
   "language": "python",
   "name": "python3"
  },
  "language_info": {
   "codemirror_mode": {
    "name": "ipython",
    "version": 3
   },
   "file_extension": ".py",
   "mimetype": "text/x-python",
   "name": "python",
   "nbconvert_exporter": "python",
   "pygments_lexer": "ipython3",
   "version": "3.7.2"
  }
 },
 "nbformat": 4,
 "nbformat_minor": 2
}
