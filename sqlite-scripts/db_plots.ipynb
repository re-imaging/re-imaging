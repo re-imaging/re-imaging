{
 "cells": [
  {
   "cell_type": "markdown",
   "metadata": {},
   "source": [
    "# Plotting data from SQLite database\n",
    "\n",
    "This notebook queries the databases to generate a matrix of plots for the number of articles/images per year, run separately for each category."
   ]
  },
  {
   "cell_type": "markdown",
   "metadata": {},
   "source": [
    "## Setup\n",
    "\n",
    "Import required libraries, connect to SQLite database, create cursor, fetch table info"
   ]
  },
  {
   "cell_type": "code",
   "execution_count": null,
   "metadata": {},
   "outputs": [],
   "source": [
    "import matplotlib.pyplot as plt\n",
    "import matplotlib.cm as cm\n",
    "import seaborn as sns\n",
    "import numpy as np\n",
    "import sqlite3\n",
    "import pickle\n",
    "import copy\n",
    "import json\n",
    "import math\n",
    "import pandas as pd\n",
    "import os"
   ]
  },
  {
   "cell_type": "code",
   "execution_count": null,
   "metadata": {},
   "outputs": [],
   "source": [
    "# import the sqlite3 database and create a cursor\n",
    "db_path = os.path.expanduser(\"~/data/db/arxiv_db_images.sqlite3\")\n",
    "db = sqlite3.connect(db_path)\n",
    "c = db.cursor()"
   ]
  },
  {
   "cell_type": "code",
   "execution_count": null,
   "metadata": {
    "scrolled": true
   },
   "outputs": [],
   "source": [
    "c.execute('PRAGMA TABLE_INFO({})'.format(\"metadata\"))\n",
    "info = c.fetchall()\n",
    "\n",
    "print(\"\\nColumn Info:\\nID, Name, Type, NotNull, DefaultVal, PrimaryKey\")\n",
    "for col in info:\n",
    "    print(col)"
   ]
  },
  {
   "cell_type": "code",
   "execution_count": null,
   "metadata": {},
   "outputs": [],
   "source": [
    "c.execute('PRAGMA TABLE_INFO({})'.format(\"images\"))\n",
    "info = c.fetchall()\n",
    "\n",
    "print(\"\\nColumn Info:\\nID, Name, Type, NotNull, DefaultVal, PrimaryKey\")\n",
    "for col in info:\n",
    "    print(col)"
   ]
  },
  {
   "cell_type": "markdown",
   "metadata": {},
   "source": [
    "## Build category list\n",
    "\n",
    "First get a full list of all the primary categories by querying the SQLite database. Used to do later queries. Select a sort_mode first."
   ]
  },
  {
   "cell_type": "code",
   "execution_count": null,
   "metadata": {},
   "outputs": [],
   "source": [
    "sort_mode = \"articles\"\n",
    "# sort_mode = \"images\"\n",
    "# sort_mode = \"alpha\""
   ]
  },
  {
   "cell_type": "code",
   "execution_count": null,
   "metadata": {},
   "outputs": [],
   "source": [
    "# list primary categories by articles\n",
    "\n",
    "if sort_mode == \"articles\":\n",
    "    c.execute('''\n",
    "        SELECT substr(trim(metadata.cat),1,instr(trim(metadata.cat)||' ',' ')-1), count(metadata.identifier)\n",
    "        FROM metadata\n",
    "        GROUP BY substr(trim(metadata.cat),1,instr(trim(metadata.cat)||' ',' ')-1)\n",
    "        ORDER BY count(metadata.identifier) DESC    \n",
    "        ''')\n",
    "    rows = c.fetchall()\n",
    "elif sort_mode == \"images\":\n",
    "    c.execute('''\n",
    "    SELECT substr(trim(metadata.cat),1,instr(trim(metadata.cat)||' ',' ')-1), count(images.identifier)\n",
    "    FROM images\n",
    "    LEFT JOIN metadata ON images.identifier = metadata.identifier \n",
    "    GROUP BY substr(trim(metadata.cat),1,instr(trim(metadata.cat)||' ',' ')-1)\n",
    "    ORDER BY count(images.identifier) DESC    \n",
    "    ''')    \n",
    "elif sort_mode == \"alpha\":\n",
    "    c.execute('''\n",
    "    SELECT substr(trim(metadata.cat),1,instr(trim(metadata.cat)||' ',' ')-1), count(metadata.identifier)\n",
    "    FROM metadata\n",
    "    WHERE strftime(\"%Y\", metadata.created) != '2019'\n",
    "    AND strftime(\"%Y\", metadata.created) != '2020'\n",
    "    GROUP BY substr(trim(metadata.cat),1,instr(trim(metadata.cat)||' ',' ')-1)\n",
    "    ORDER BY substr(trim(metadata.cat),1,instr(trim(metadata.cat)||' ',' ')-1) ASC\n",
    "    ''')\n",
    "\n",
    "print(f'Pulled a list of categories sorted by {sort_mode}, length: {len(rows)}')\n",
    "for row in rows:\n",
    "    print(row)"
   ]
  },
  {
   "cell_type": "code",
   "execution_count": null,
   "metadata": {},
   "outputs": [],
   "source": [
    "catlist = []\n",
    "\n",
    "if sort_mode == \"articles\":\n",
    "    catlist = rows\n",
    "    articles_catlist = rows\n",
    "elif sort_mode == \"images\":\n",
    "    images_catlist = rows\n",
    "    catlist = images_catlist\n",
    "elif sort_mode == \"alpha\":\n",
    "    catlist = rows"
   ]
  },
  {
   "cell_type": "code",
   "execution_count": null,
   "metadata": {},
   "outputs": [],
   "source": [
    "# optionally only use category if it contains a certain number of articles or images\n",
    "articles_list = []\n",
    "for cat, n in rows:\n",
    "    if n > 10000:\n",
    "        articles_list.append((cat, n))\n",
    "print(len(articles_list))"
   ]
  },
  {
   "cell_type": "code",
   "execution_count": null,
   "metadata": {},
   "outputs": [],
   "source": [
    "# or grab only the first X categories\n",
    "catlist[:16]"
   ]
  },
  {
   "cell_type": "code",
   "execution_count": null,
   "metadata": {},
   "outputs": [],
   "source": [
    "print(f'The list of categories is {len(catlist)}. Here are the first entries:')\n",
    "print(catlist[:8])"
   ]
  },
  {
   "cell_type": "markdown",
   "metadata": {},
   "source": [
    "## Finding the change in rank between number of articles and number of images"
   ]
  },
  {
   "cell_type": "code",
   "execution_count": null,
   "metadata": {},
   "outputs": [],
   "source": [
    "# structure\n",
    "# [category, article-rank, images-rank, rank-difference]\n",
    "\n",
    "ordering = [[cat[0], count, 0, 0] for count, cat in enumerate(articles_catlist)]\n",
    "print(ordering)"
   ]
  },
  {
   "cell_type": "code",
   "execution_count": null,
   "metadata": {
    "scrolled": false
   },
   "outputs": [],
   "source": [
    "# find the difference in category list when ordering by article numbers vs image numbers\n",
    "acount = 0\n",
    "for ac in articles_catlist:\n",
    "#     print(\"articles:\",acount)\n",
    "    icount = 0\n",
    "    for ic in images_catlist:\n",
    "        if ac[0] == ic[0]:\n",
    "#             print(\"match:\",ac[0],ic[0])\n",
    "            ordering[acount][2] = icount\n",
    "        icount += 1 \n",
    "    acount += 1"
   ]
  },
  {
   "cell_type": "code",
   "execution_count": null,
   "metadata": {},
   "outputs": [],
   "source": [
    "# go through and modify the rank-difference\n",
    "for count, row in enumerate(ordering):\n",
    "    ordering[count][3] = row[1] - row[2]"
   ]
  },
  {
   "cell_type": "code",
   "execution_count": null,
   "metadata": {},
   "outputs": [],
   "source": [
    "#print out (could add formatting here)\n",
    "for cat in ordering:\n",
    "    print(cat)"
   ]
  },
  {
   "cell_type": "markdown",
   "metadata": {},
   "source": [
    "## Generating Plots\n",
    "### Query DB for data\n",
    "Then use that list of primary categories to query the db for how many articles per year. Store it in the `data` variable. The first command is the number of articles only so only requires the `metadata` table. The second block below searches by number of images so also requires the `images` table in the SQLite database."
   ]
  },
  {
   "cell_type": "code",
   "execution_count": null,
   "metadata": {
    "scrolled": true
   },
   "outputs": [],
   "source": [
    "# total number of articles for each year by category\n",
    "\n",
    "sql = ('''\n",
    "    SELECT count(metadata.identifier), strftime(\"%Y\", metadata.created) as 'Y'\n",
    "    FROM metadata\n",
    "    WHERE substr(trim(cat),1,instr(trim(cat)||' ',' ')-1) = ?\n",
    "    GROUP BY strftime(\"%Y\", metadata.created)\n",
    "    ORDER BY strftime(\"%Y\", metadata.created) ASC\n",
    "    ''')\n",
    "\n",
    "data = []\n",
    "\n",
    "for cat in catlist:\n",
    "    print(\"querying for category: \" + str(cat[0]))\n",
    "    c.execute(sql, (cat[0], ))\n",
    "    rows = c.fetchall()\n",
    "    \n",
    "#     print(\"total number of images found: \" + str(len(rows)))\n",
    "    print(rows)\n",
    "#     print(\"total number of articles: \" + rows[0][0])\n",
    "\n",
    "    years = []\n",
    "    totals = []\n",
    "    \n",
    "    for row in rows:\n",
    "        years.append(row[1])\n",
    "        totals.append(row[0])\n",
    "        \n",
    "    newdata = [cat[0], years, totals]\n",
    "    data.append(newdata)\n",
    "\n",
    "print(\"*\" * 20)\n",
    "print(\"done\")"
   ]
  },
  {
   "cell_type": "code",
   "execution_count": null,
   "metadata": {},
   "outputs": [],
   "source": [
    "# total number of articles for each year by category\n",
    "\n",
    "sql = ('''\n",
    "    SELECT count(metadata.identifier), strftime(\"%Y\", metadata.created) as 'Y'\n",
    "    FROM metadata\n",
    "    WHERE substr(trim(cat),1,instr(trim(cat)||' ',' ')-1) = ?\n",
    "    GROUP BY strftime(\"%Y\", metadata.created)\n",
    "    ORDER BY strftime(\"%Y\", metadata.created) ASC\n",
    "    ''')\n",
    "\n",
    "data = []\n",
    "\n",
    "for cat in catlist:\n",
    "    print(\"querying for category: \" + str(cat[0]))\n",
    "    c.execute(sql, (cat[0], ))\n",
    "    rows = c.fetchall()\n",
    "    \n",
    "#     print(\"total number of images found: \" + str(len(rows)))\n",
    "    print(rows)\n",
    "#     print(\"total number of articles: \" + rows[0][0])\n",
    "\n",
    "    years = []\n",
    "    totals = []\n",
    "    \n",
    "    for row in rows:\n",
    "        years.append(row[1])\n",
    "        totals.append(row[0])\n",
    "        \n",
    "    newdata = [cat[0], years, totals]\n",
    "    data.append(newdata)\n",
    "\n",
    "print(\"*\" * 20)\n",
    "print(\"done\")"
   ]
  },
  {
   "cell_type": "code",
   "execution_count": null,
   "metadata": {
    "scrolled": true
   },
   "outputs": [],
   "source": [
    "print(data)"
   ]
  },
  {
   "cell_type": "code",
   "execution_count": null,
   "metadata": {},
   "outputs": [],
   "source": [
    "article_data = data"
   ]
  },
  {
   "cell_type": "code",
   "execution_count": null,
   "metadata": {},
   "outputs": [],
   "source": [
    "# WRITE PKL\n",
    "\n",
    "filename = \"articles_cat_year_data.pkl\"\n",
    "with open(filename, \"wb\") as write_file:\n",
    "    pickle.dump(article_data, write_file)"
   ]
  },
  {
   "cell_type": "code",
   "execution_count": null,
   "metadata": {},
   "outputs": [],
   "source": [
    "# READ PKL\n",
    "\n",
    "filename = \"articles_cat_year_data.pkl\"\n",
    "with open(filename, \"rb\") as read_file:\n",
    "    article_data = pickle.load(read_file)"
   ]
  },
  {
   "cell_type": "code",
   "execution_count": null,
   "metadata": {},
   "outputs": [],
   "source": [
    "print(article_data[:10])"
   ]
  },
  {
   "cell_type": "code",
   "execution_count": null,
   "metadata": {
    "scrolled": true
   },
   "outputs": [],
   "source": [
    "# total number of images for each year by category\n",
    "\n",
    "sql = ('''\n",
    "    SELECT count(images.identifier), strftime(\"%Y\", metadata.created) as 'Y'\n",
    "    FROM images\n",
    "    LEFT JOIN metadata on images.identifier = metadata.identifier\n",
    "    WHERE substr(trim(cat),1,instr(trim(cat)||' ',' ')-1) = ?\n",
    "    GROUP BY strftime(\"%Y\", metadata.created)\n",
    "    ORDER BY strftime(\"%Y\", metadata.created) ASC\n",
    "    ''')\n",
    "\n",
    "data = []\n",
    "\n",
    "for cat in catlist:\n",
    "    print(\"querying for category: \" + str(cat[0]))\n",
    "    c.execute(sql, (cat[0], ))\n",
    "    rows = c.fetchall()\n",
    "    \n",
    "#     print(\"total number of images found: \" + str(len(rows)))\n",
    "    print(rows)\n",
    "#     print(\"total number of articles: \" + rows[0][0])\n",
    "\n",
    "    years = []\n",
    "    totals = []\n",
    "    \n",
    "    for row in rows:\n",
    "        years.append(row[1])\n",
    "        totals.append(row[0])\n",
    "        \n",
    "    newdata = [cat[0], years, totals]\n",
    "    data.append(newdata)\n",
    "\n",
    "print(\"*\" * 20)\n",
    "print(\"done\")"
   ]
  },
  {
   "cell_type": "code",
   "execution_count": null,
   "metadata": {},
   "outputs": [],
   "source": [
    "# get the image total data and use it to modify the article data\n",
    "\n",
    "sql = ('''\n",
    "    SELECT count(images.identifier), strftime(\"%Y\", metadata.created) as 'Y'\n",
    "    FROM images\n",
    "    LEFT JOIN metadata on images.identifier = metadata.identifier\n",
    "    WHERE substr(trim(cat),1,instr(trim(cat)||' ',' ')-1) = ?\n",
    "    GROUP BY strftime(\"%Y\", metadata.created)\n",
    "    ORDER BY strftime(\"%Y\", metadata.created) ASC\n",
    "    ''')\n",
    "\n",
    "image_data = []\n",
    "\n",
    "for count, cat in enumerate(catlist):\n",
    "    print(\"querying for category: \" + str(cat[0]))\n",
    "    c.execute(sql, (cat[0], ))\n",
    "    rows = c.fetchall()\n",
    "    \n",
    "#     print(\"total number of images found: \" + str(len(rows)))\n",
    "    print(rows)\n",
    "#     print(\"total number of articles: \" + rows[0][0])\n",
    "\n",
    "    years = []\n",
    "    totals = []\n",
    "    \n",
    "    for row in rows:\n",
    "        years.append(row[1])\n",
    "        totals.append(row[0])\n",
    "        \n",
    "    newdata = [cat[0], years, totals]\n",
    "    image_data.append(newdata)\n",
    "\n",
    "    print(data[count])\n",
    "#     for i, d in enumerate(data[count][2]):\n",
    "#         data[count][2][i] = rows[i][0] / data[count][2][i]\n",
    "#     print(\"new data\",data[count])\n",
    "\n",
    "\n",
    "print(\"*\" * 20)\n",
    "print(\"done\")"
   ]
  },
  {
   "cell_type": "code",
   "execution_count": null,
   "metadata": {},
   "outputs": [],
   "source": [
    "print(len(image_data))"
   ]
  },
  {
   "cell_type": "code",
   "execution_count": null,
   "metadata": {},
   "outputs": [],
   "source": [
    "image_pkl_filename = \"images_cat_year_data.pkl\"\n",
    "# image_pkl_filename = \"images_cat_year.pkl\""
   ]
  },
  {
   "cell_type": "code",
   "execution_count": null,
   "metadata": {},
   "outputs": [],
   "source": [
    "# WRITE\n",
    "# with open(image_pkl_filename, \"wb\") as write_file:\n",
    "#     pickle.dump(image_data, write_file)"
   ]
  },
  {
   "cell_type": "code",
   "execution_count": null,
   "metadata": {},
   "outputs": [],
   "source": [
    "# READ PKL\n",
    "with open(image_pkl_filename, \"rb\") as read_file:\n",
    "    image_data = pickle.load(read_file)"
   ]
  },
  {
   "cell_type": "code",
   "execution_count": null,
   "metadata": {},
   "outputs": [],
   "source": [
    "# READ PKL\n",
    "\n",
    "filename = \"articles_cat_year_data.pkl\"\n",
    "with open(filename, \"rb\") as read_file:\n",
    "    article_data = pickle.load(read_file)"
   ]
  },
  {
   "cell_type": "code",
   "execution_count": null,
   "metadata": {},
   "outputs": [],
   "source": [
    "print(image_data[:10])"
   ]
  },
  {
   "cell_type": "code",
   "execution_count": null,
   "metadata": {},
   "outputs": [],
   "source": [
    "print(article_data[:10])"
   ]
  },
  {
   "cell_type": "code",
   "execution_count": null,
   "metadata": {
    "scrolled": true
   },
   "outputs": [],
   "source": [
    "# this code copies the article data then modifies it by \n",
    "# dividing the total number of images by the number of articles\n",
    "\n",
    "average_data = copy.deepcopy(article_data)\n",
    "\n",
    "for count, article in enumerate(average_data):\n",
    "    \n",
    "    # set all values to zero\n",
    "    for index, val in enumerate(average_data[count][2]):\n",
    "        average_data[count][2][index] = 0\n",
    "\n",
    "#     average_data[count][2]\n",
    "    for i, year in enumerate(image_data[count][1]):\n",
    "        try:\n",
    "            print(\"*\" * 20)\n",
    "            print(f'count {count} | year {year} | i {i}')\n",
    "            print(article_data[count][1])\n",
    "            listindex = article_data[count][1].index(str(year)) \n",
    "            print(\"listindex:\",listindex)\n",
    "            print(\"count:\",count)\n",
    "            print(\"i:\",i)\n",
    "            print(\"no images:\",image_data[count][2][i])\n",
    "            print(\"no articles:\",article_data[count][2][listindex])\n",
    "            print(\"average:\",image_data[count][2][i] / article_data[count][2][listindex])\n",
    "            average_data[count][2][listindex] = image_data[count][2][i] / article_data[count][2][listindex]\n",
    "        except ValueError:\n",
    "            print(\"!\" * 20)\n",
    "            print(\"didn't find index\")"
   ]
  },
  {
   "cell_type": "code",
   "execution_count": null,
   "metadata": {},
   "outputs": [],
   "source": [
    "print(average_data[:10])"
   ]
  },
  {
   "cell_type": "code",
   "execution_count": null,
   "metadata": {},
   "outputs": [],
   "source": [
    "data = average_data"
   ]
  },
  {
   "cell_type": "code",
   "execution_count": null,
   "metadata": {},
   "outputs": [],
   "source": [
    "for row in data:\n",
    "    print(row)"
   ]
  },
  {
   "cell_type": "code",
   "execution_count": null,
   "metadata": {},
   "outputs": [],
   "source": [
    "# total number of images for each year by extension\n",
    "\n",
    "db.create_function(\"reverse\", 1, lambda s: s[::-1])\n",
    "sql = ('''\n",
    "    SELECT COUNT(reverse(substr(reverse(filename),1,instr(reverse(filename),'.')-1))), reverse(substr(reverse(filename),1,instr(reverse(filename),'.')-1)) AS extension\n",
    "    FROM images\n",
    "    WHERE x is not null and x != ''\n",
    "    AND y is not null and y != ''\n",
    "    AND imageformat is not null and imageformat != ''\n",
    "    GROUP BY extension\n",
    "    ''')\n",
    "\n",
    "data = []\n",
    "\n",
    "for cat in catlist:\n",
    "    print(\"querying for category: \" + str(cat[0]))\n",
    "    c.execute(sql, (cat[0], ))\n",
    "    rows = c.fetchall()\n",
    "    \n",
    "#     print(\"total number of images found: \" + str(len(rows)))\n",
    "    print(rows)\n",
    "#     print(\"total number of articles: \" + rows[0][0])\n",
    "\n",
    "    years = []\n",
    "    totals = []\n",
    "    \n",
    "    for row in rows:\n",
    "        years.append(row[1])\n",
    "        totals.append(row[0])\n",
    "        \n",
    "    newdata = [cat[0], years, totals]\n",
    "    data.append(newdata)\n",
    "\n",
    "print(\"*\" * 20)\n",
    "print(\"done\")"
   ]
  },
  {
   "cell_type": "markdown",
   "metadata": {},
   "source": [
    "#### Clean data\n",
    "- remove any entries of \"2019\" in the years and articles columns of data (don't have full data for this year).\n",
    "- rewrite all entries as integers rather than strings (otherwise there will be problems when adjusting the axes)\n",
    "- find the minimum and maximum for any entries, so that we can set our axes later as needed.\n",
    "\n",
    "Data is saved as nested lists in the format\n",
    "```\n",
    "[\n",
    "    [cat1, [year1, year2...yearX], [totat1, total2...totalY]\n",
    "    [cat2, [year1, year2...yearX], [totat1, total2...totalY]\n",
    "    ...\n",
    "    [catZ, [year1, year2...yearX], [totat1, total2...totalY]\n",
    "]\n",
    "```"
   ]
  },
  {
   "cell_type": "code",
   "execution_count": null,
   "metadata": {},
   "outputs": [],
   "source": [
    "# if there is \"2019\" in the list of years, get the index and remove from both the year and no. article lists\n",
    "\n",
    "for cat in data:\n",
    "    while \"2019\" in cat[1]:\n",
    "        index = cat[1].index(\"2019\")\n",
    "        print(cat[0])\n",
    "        print(index)\n",
    "        del cat[2][index]\n",
    "        del cat[1][index]\n",
    "        print(\"*\" * 20)"
   ]
  },
  {
   "cell_type": "code",
   "execution_count": null,
   "metadata": {},
   "outputs": [],
   "source": [
    "# test to make sure there is still a total for each year\n",
    "\n",
    "for cat in data:\n",
    "    if len(cat[1]) != len(cat[2]):\n",
    "        print(\"problem with category: \" + cat)"
   ]
  },
  {
   "cell_type": "code",
   "execution_count": null,
   "metadata": {},
   "outputs": [],
   "source": [
    "# fix year entries appearing as string by going through each and re-writing as integer\n",
    "\n",
    "for cat in data:\n",
    "    for k in enumerate(cat[1]):\n",
    "        print(cat[1][k[0]])\n",
    "        cat[1][k[0]] = int(cat[1][k[0]])"
   ]
  },
  {
   "cell_type": "code",
   "execution_count": null,
   "metadata": {},
   "outputs": [],
   "source": [
    "print(data)"
   ]
  },
  {
   "cell_type": "markdown",
   "metadata": {},
   "source": [
    "#### Save data \n",
    "Interim progress, to prevent having to run SQL queries again : )\n",
    "Save as either json file or pickle for reloading\n",
    "\n",
    "#### json\n",
    "saves as human-readable JSON format"
   ]
  },
  {
   "cell_type": "code",
   "execution_count": null,
   "metadata": {},
   "outputs": [],
   "source": [
    "import json"
   ]
  },
  {
   "cell_type": "code",
   "execution_count": null,
   "metadata": {},
   "outputs": [],
   "source": [
    "filename = \"articles_cat_year.json\" "
   ]
  },
  {
   "cell_type": "code",
   "execution_count": null,
   "metadata": {},
   "outputs": [],
   "source": [
    "filename = \"images_cat_year.json\""
   ]
  },
  {
   "cell_type": "code",
   "execution_count": null,
   "metadata": {},
   "outputs": [],
   "source": [
    "filename = \"average_images_article_cat_year.json\""
   ]
  },
  {
   "cell_type": "code",
   "execution_count": null,
   "metadata": {},
   "outputs": [],
   "source": [
    "# READ\n",
    "\n",
    "load_json = []\n",
    "\n",
    "with open(filename, \"r\") as read_file:\n",
    "    load_json = json.load(read_file)"
   ]
  },
  {
   "cell_type": "code",
   "execution_count": null,
   "metadata": {},
   "outputs": [],
   "source": [
    "# WRITE\n",
    "\n",
    "# with open(filename, \"w\") as write_file:\n",
    "#     json.dump(data, write_file)"
   ]
  },
  {
   "cell_type": "code",
   "execution_count": null,
   "metadata": {},
   "outputs": [],
   "source": [
    "print(load_json)"
   ]
  },
  {
   "cell_type": "code",
   "execution_count": null,
   "metadata": {},
   "outputs": [],
   "source": [
    "data = load_json"
   ]
  },
  {
   "cell_type": "code",
   "execution_count": null,
   "metadata": {},
   "outputs": [],
   "source": [
    "data"
   ]
  },
  {
   "cell_type": "markdown",
   "metadata": {},
   "source": [
    "#### pickle\n",
    "Save data as a serialized file using pickle"
   ]
  },
  {
   "cell_type": "code",
   "execution_count": null,
   "metadata": {},
   "outputs": [],
   "source": [
    "filename = \"articles_cat_year.pickle\"\n",
    "bArticles = True"
   ]
  },
  {
   "cell_type": "code",
   "execution_count": null,
   "metadata": {},
   "outputs": [],
   "source": [
    "filename = \"images_cat_year.pkl\"\n",
    "bArticles = False"
   ]
  },
  {
   "cell_type": "code",
   "execution_count": null,
   "metadata": {},
   "outputs": [],
   "source": [
    "filename = \"average_images_article_cat_year.pkl\""
   ]
  },
  {
   "cell_type": "code",
   "execution_count": null,
   "metadata": {},
   "outputs": [],
   "source": [
    "#READ\n",
    "\n",
    "load_data = []\n",
    "\n",
    "with open(filename, \"rb\") as read_file:\n",
    "    load_data = pickle.load(read_file)\n",
    "    read_file.close()"
   ]
  },
  {
   "cell_type": "code",
   "execution_count": null,
   "metadata": {},
   "outputs": [],
   "source": [
    "# WRITE\n",
    "# with open(filename, \"wb\") as write_file:\n",
    "#     pickle.dump(data, write_file)\n",
    "#     write_file.close()"
   ]
  },
  {
   "cell_type": "markdown",
   "metadata": {},
   "source": [
    "Load in the imported data in the `data` variable"
   ]
  },
  {
   "cell_type": "code",
   "execution_count": null,
   "metadata": {},
   "outputs": [],
   "source": [
    "data = load_data"
   ]
  },
  {
   "cell_type": "code",
   "execution_count": null,
   "metadata": {},
   "outputs": [],
   "source": [
    "for row in data[:10]:\n",
    "    print(row)"
   ]
  },
  {
   "cell_type": "markdown",
   "metadata": {},
   "source": [
    "Set bArticles "
   ]
  },
  {
   "cell_type": "code",
   "execution_count": null,
   "metadata": {},
   "outputs": [],
   "source": [
    "print(filename)"
   ]
  },
  {
   "cell_type": "code",
   "execution_count": null,
   "metadata": {},
   "outputs": [],
   "source": [
    "bArticles = True"
   ]
  },
  {
   "cell_type": "code",
   "execution_count": null,
   "metadata": {},
   "outputs": [],
   "source": [
    "bArticles = False"
   ]
  },
  {
   "cell_type": "markdown",
   "metadata": {},
   "source": [
    "Testing loaded data"
   ]
  },
  {
   "cell_type": "code",
   "execution_count": null,
   "metadata": {},
   "outputs": [],
   "source": [
    "print(load_data == data)"
   ]
  },
  {
   "cell_type": "code",
   "execution_count": null,
   "metadata": {},
   "outputs": [],
   "source": [
    "print(load_data)"
   ]
  },
  {
   "cell_type": "code",
   "execution_count": null,
   "metadata": {},
   "outputs": [],
   "source": [
    "print(data)"
   ]
  },
  {
   "cell_type": "code",
   "execution_count": null,
   "metadata": {},
   "outputs": [],
   "source": [
    "selected_cats = [\"hep-ph\", \"astro-ph\", \"cs.CV\", \"astro-ph.GA\", \"astro-ph.CO\", \"astro-ph.SR\",\n",
    "                \"quant-ph\", \"hep-th\", \"astro-ph.HE\", \"cond-mat.mes-hall\", \"cond-mat.str-el\",\n",
    "                \"hep-ex\", \"cond-mat.stat-mech\", \"nucl-th\", \"gr-qc\", \"cs.LG\"]\n",
    "# data = [x for x in load_data if x[0] in selected_cats]"
   ]
  },
  {
   "cell_type": "code",
   "execution_count": null,
   "metadata": {},
   "outputs": [],
   "source": [
    "selected_cats = []\n",
    "for c in catlist[:16]:\n",
    "    selected_cats.append(c[0])\n",
    "len(selected_cats)"
   ]
  },
  {
   "cell_type": "code",
   "execution_count": null,
   "metadata": {},
   "outputs": [],
   "source": [
    "data = []\n",
    "for c in selected_cats:\n",
    "    for d in load_data:\n",
    "        if c == d[0]:\n",
    "            data.append(d)\n",
    "print(len(data))"
   ]
  },
  {
   "cell_type": "code",
   "execution_count": null,
   "metadata": {},
   "outputs": [],
   "source": [
    "for d in data:\n",
    "    print(d)"
   ]
  },
  {
   "cell_type": "code",
   "execution_count": null,
   "metadata": {},
   "outputs": [],
   "source": [
    "selected_cats_full = [\"Computer Science: Computer Vision\",\n",
    "                      \"High Energy Physics - Phenomenology\",\n",
    "                      \"Astrophysics\",\n",
    "                      \"Astrophysics of Galaxies\",\n",
    "                      \"Computer Science: Machine Learning\",\n",
    "                      \"Solar and Stellar Astrophysics\",\n",
    "                      \"Cosmology and Nongalactic Astrophysics\",\n",
    "                      \"Quantum Physics\",\n",
    "                      \"High Energy Physics - Theory\",\n",
    "                      \"High Energy Astrophysical Phenomena\",\n",
    "                      \"Mesoscale and Nanoscale Physics\",\n",
    "                      \"Strongly Correlated Electrons\",\n",
    "                      \"Mathematics: Numerical Analysis\",\n",
    "                      \"High Energy Physics - Experiment\",\n",
    "                      \"General Relativity\", #  and Quantum Cosmology\n",
    "                      \"Condensed Matter: Statistical Mechanics\"\n",
    "                     ]"
   ]
  },
  {
   "cell_type": "code",
   "execution_count": null,
   "metadata": {},
   "outputs": [],
   "source": [
    "selected_cats_full"
   ]
  },
  {
   "cell_type": "code",
   "execution_count": null,
   "metadata": {},
   "outputs": [],
   "source": [
    "catlist[:16]"
   ]
  },
  {
   "cell_type": "code",
   "execution_count": null,
   "metadata": {},
   "outputs": [],
   "source": [
    "print(selected_cats)"
   ]
  },
  {
   "cell_type": "markdown",
   "metadata": {},
   "source": [
    "#### Recalculate with log10"
   ]
  },
  {
   "cell_type": "code",
   "execution_count": null,
   "metadata": {},
   "outputs": [],
   "source": [
    "# DON'T DO THIS! just use set_yscale('log') in plot instead\n",
    "\n",
    "# for each item in totals list, replace with log10(d)\n",
    "\n",
    "# list comprehension on totals list\n",
    "# for cat in data:\n",
    "#     cat[2][:] = [math.log10(x) for x in cat[2]]\n",
    "#     print(cat[2])"
   ]
  },
  {
   "cell_type": "markdown",
   "metadata": {},
   "source": [
    "#### Find max and min\n",
    "\n",
    "Go through each value in the data to find the maximum and minimums for plotting"
   ]
  },
  {
   "cell_type": "code",
   "execution_count": null,
   "metadata": {},
   "outputs": [],
   "source": [
    "# get the maximums and minimums of year and no. articles for figuring out axes\n",
    "minY = math.inf\n",
    "maxY = -(math.inf)\n",
    "minA = math.inf\n",
    "maxA = -(math.inf)\n",
    "\n",
    "for cat in data:\n",
    "#     print(len(cat))\n",
    "    print(cat[0])\n",
    "    if min(cat[1]) < minY: minY = min(cat[1])\n",
    "    if max(cat[1]) > maxY: maxY = max(cat[1])\n",
    "    if min(cat[2]) < minA: minA = min(cat[2])\n",
    "    if max(cat[2]) > maxA: maxA = max(cat[2])\n",
    "    print(\"min year: \" + str(min(cat[1])))\n",
    "    print(\"max year: \" + str(max(cat[1])))\n",
    "    print(\"min articles/images: \" + str(min(cat[2])))\n",
    "    print(\"max articles/images: \" + str(max(cat[2])))\n",
    "    print(\"*\" * 20)\n",
    "    \n",
    "print(\"minY: \" + str(minY))\n",
    "print(\"maxY: \" + str(maxY))\n",
    "print(\"minA: \" + str(minA))\n",
    "print(\"maxA: \" + str(maxA))\n",
    "              \n",
    "print(\"done\")"
   ]
  },
  {
   "cell_type": "code",
   "execution_count": null,
   "metadata": {},
   "outputs": [],
   "source": [
    "print(data)"
   ]
  },
  {
   "cell_type": "markdown",
   "metadata": {},
   "source": [
    "#### Save data in org format\n",
    "Use org-friendly table format. This can be printed to console or written to a file. For posting to Github and rendered in Github markdown."
   ]
  },
  {
   "cell_type": "code",
   "execution_count": null,
   "metadata": {},
   "outputs": [],
   "source": [
    "def write_to_org(data, _write_file):\n",
    "    with open(_write_file, \"w+\") as write_file:\n",
    "        for row in data:\n",
    "            print(\"|\", file=write_file, end = '')\n",
    "            for item in row:\n",
    "                print(str(item).replace(\"\\n\", \" \"), file=write_file, end = '')\n",
    "                print(\"|\", file=write_file, end = '')\n",
    "            print(\"\\n\", file=write_file, end = '')\n",
    "        write_file.close()"
   ]
  },
  {
   "cell_type": "code",
   "execution_count": null,
   "metadata": {},
   "outputs": [],
   "source": [
    "# write the data in an org-friendly format for posting on github\n",
    "for cat in data:\n",
    "    print(\"* \" + cat[0])\n",
    "    joined = list(zip(cat[1], cat[2]))\n",
    "    #     print(joined)\n",
    "    print(\"|-|-|\")\n",
    "    for j in joined:\n",
    "        print('|' + str(j[0]) + \"|\" + str(j[1]) + \"|\")\n",
    "    print(\"|-|-|\")"
   ]
  },
  {
   "cell_type": "code",
   "execution_count": null,
   "metadata": {},
   "outputs": [],
   "source": [
    "filename = \"stats_images_cat_year.org\""
   ]
  },
  {
   "cell_type": "code",
   "execution_count": null,
   "metadata": {},
   "outputs": [],
   "source": [
    "filename = \"stats_average_images_article_cat_year.org\""
   ]
  },
  {
   "cell_type": "code",
   "execution_count": null,
   "metadata": {},
   "outputs": [],
   "source": [
    "# write the data to a file\n",
    "with open(filename, \"w\") as write_file:\n",
    "    for cat in data:\n",
    "        print(\"* \" + cat[0], file=write_file)\n",
    "        joined = list(zip(cat[1], cat[2]))\n",
    "        #     print(joined)\n",
    "        print(\"|-|-|\", file=write_file)\n",
    "        for j in joined:\n",
    "            print('|' + str(j[0]) + \"|\" + str(j[1]) + \"|\", file=write_file)\n",
    "        print(\"|-|-|\", file=write_file)\n",
    "write_file.close()"
   ]
  },
  {
   "cell_type": "markdown",
   "metadata": {},
   "source": [
    "#### Plotting matrix of scatterplots\n",
    "\n",
    "Plot data in two formats\n",
    "- with shared x and y axes, for comparison across data\n",
    "- with individual x and y axes taken from min/max of each plot automatically, for individual trends\n",
    "- finally, save as high resolution (300 dpi) image"
   ]
  },
  {
   "cell_type": "code",
   "execution_count": null,
   "metadata": {},
   "outputs": [],
   "source": [
    "bArticles = True"
   ]
  },
  {
   "cell_type": "code",
   "execution_count": null,
   "metadata": {},
   "outputs": [],
   "source": [
    "bArticles = False"
   ]
  },
  {
   "cell_type": "code",
   "execution_count": null,
   "metadata": {},
   "outputs": [],
   "source": [
    "bAverage = True"
   ]
  },
  {
   "cell_type": "code",
   "execution_count": null,
   "metadata": {},
   "outputs": [],
   "source": [
    "# manually set the maximum for the Y-axis to ignore large outliers\n",
    "maxA = 32"
   ]
  },
  {
   "cell_type": "markdown",
   "metadata": {},
   "source": [
    "#### Plot number of images per article per year, subplots for each category"
   ]
  },
  {
   "cell_type": "code",
   "execution_count": null,
   "metadata": {},
   "outputs": [],
   "source": [
    "# plot figures with shared x and y axes using the min/max year/article numbers from the cleaning step\n",
    "\n",
    "xdim = 15\n",
    "ydim = 12\n",
    "\n",
    "fig, ax = plt.subplots(ydim, xdim, sharex='col', sharey='row')\n",
    "fig.set_size_inches(40, 30)\n",
    "\n",
    "data_size = len(data)\n",
    "\n",
    "for i in range(ydim):\n",
    "    for j in range(xdim):\n",
    "        idx = (i * xdim) + j\n",
    "        if idx < data_size:\n",
    "#             ax[i, j].plot(data[idx][1], data[idx][2], '--.')\n",
    "#             ax[i, j].plot(data[idx][1], data[idx][2], '--r.')\n",
    "            ax[i, j].plot(data[idx][1], data[idx][2], '--k.')\n",
    "            ax[i, j].title.set_text(data[idx][0])\n",
    "            # add one to the maximum year for alignment\n",
    "            ax[i, j].axis([minY, maxY+1, minA, maxA])"
   ]
  },
  {
   "cell_type": "code",
   "execution_count": null,
   "metadata": {},
   "outputs": [],
   "source": [
    "# fig.savefig(\"plot_articles_cat_year_04.png\", dpi=300)\n",
    "fig.savefig(\"plot_images_cat_year_03.png\", dpi=300)"
   ]
  },
  {
   "cell_type": "code",
   "execution_count": null,
   "metadata": {},
   "outputs": [],
   "source": [
    "# fig.savefig(\"plot_average_images_articles_cat_year_01.svg\", dpi=300)\n",
    "fig.savefig(\"plot_average_images_articles_cat_year_max32_01.svg\", dpi=300)"
   ]
  },
  {
   "cell_type": "code",
   "execution_count": null,
   "metadata": {},
   "outputs": [],
   "source": [
    "# plot figures with individual x and y axes for the year and article/image totals\n",
    "xdim = 15\n",
    "ydim = 12\n",
    "\n",
    "fig, ax = plt.subplots(ydim, xdim)\n",
    "fig.subplots_adjust(hspace=0.4, wspace=0.4)\n",
    "fig.set_size_inches(40, 30)\n",
    "\n",
    "data_size = len(data)\n",
    "\n",
    "for i in range(ydim):\n",
    "    for j in range(xdim):\n",
    "        idx = (i * xdim) + j\n",
    "        if idx < data_size:\n",
    "#             ax[i, j].plot(data[idx][1], data[idx][2], '--.')\n",
    "            ax[i, j].plot(data[idx][1], data[idx][2], '--r.')\n",
    "            ax[i, j].title.set_text(data[idx][0])\n",
    "#             ax[i, j].axis([minY, maxY+1, minA, maxA])"
   ]
  },
  {
   "cell_type": "code",
   "execution_count": null,
   "metadata": {},
   "outputs": [],
   "source": [
    "# fig.savefig(\"plot_articles_cat_year_indax_01.png\", dpi=300)\n",
    "fig.savefig(\"plot_images_cat_year_indax_03.png\", dpi=300)"
   ]
  },
  {
   "cell_type": "markdown",
   "metadata": {},
   "source": [
    "### Additional plots\n",
    "\n",
    "- Plot data with shared X axis from 1991-2018 but individual Y axes\n",
    "- Log10 of Y axis\n",
    "- Plot by individual categories"
   ]
  },
  {
   "cell_type": "markdown",
   "metadata": {},
   "source": [
    "##### fixed time range, relative totals"
   ]
  },
  {
   "cell_type": "code",
   "execution_count": null,
   "metadata": {},
   "outputs": [],
   "source": [
    "# plot figures with shared x and y axes using the min/max year/article numbers from the cleaning step\n",
    "# articles\n",
    "\n",
    "bLog10 = False\n",
    "xdim = 15\n",
    "ydim = 12\n",
    "\n",
    "fig, ax = plt.subplots(ydim, xdim, sharex='col')\n",
    "fig.subplots_adjust(hspace=0.4, wspace=0.4)\n",
    "fig.set_size_inches(40, 30)\n",
    "\n",
    "if bArticles: fig.suptitle(\"arXiv relative number of articles per year between 1991 and 2018\", x=0.5, y=0.92, size=28)\n",
    "else: fig.suptitle(\"arXiv relative number of images per year between 1991 and 2018\", x=0.5, y=0.92, size=28)\n",
    "    \n",
    "data_size = len(data)\n",
    "\n",
    "for i in range(ydim):\n",
    "    for j in range(xdim):\n",
    "        idx = (i * xdim) + j\n",
    "        if idx < data_size:\n",
    "            if bArticles: ax[i, j].plot(data[idx][1], data[idx][2], '--.')\n",
    "            else: ax[i, j].plot(data[idx][1], data[idx][2], '--r.')\n",
    "            ax[i, j].title.set_text(data[idx][0])\n",
    "            ax[i, j].axis([1991, 2018, 0, max(data[idx][2])])\n",
    "            if bLog10: ax[i, j].set_yscale('log')"
   ]
  },
  {
   "cell_type": "code",
   "execution_count": null,
   "metadata": {},
   "outputs": [],
   "source": [
    "if bArticles: fig.savefig(\"plot_articles_cat_year_fixedtime.svg\", dpi=300)\n",
    "else: fig.savefig(\"plot_images_cat_year_fixedtime.svg\", dpi=300)"
   ]
  },
  {
   "cell_type": "markdown",
   "metadata": {},
   "source": [
    "##### absolute totals"
   ]
  },
  {
   "cell_type": "code",
   "execution_count": null,
   "metadata": {},
   "outputs": [],
   "source": [
    "bLog10 = True"
   ]
  },
  {
   "cell_type": "markdown",
   "metadata": {},
   "source": [
    "### Plot for methods paper\n",
    "Number of images published per year in each category."
   ]
  },
  {
   "cell_type": "code",
   "execution_count": null,
   "metadata": {
    "scrolled": false
   },
   "outputs": [],
   "source": [
    "# plot figures with shared x and y axes using the min/max year/article numbers from the cleaning step\n",
    "# articles\n",
    "\n",
    "xdim = 4\n",
    "ydim = 4\n",
    "\n",
    "bLog10 = False\n",
    "bArticles = False\n",
    "\n",
    "fig, ax = plt.subplots(ydim, xdim, sharey='row') # sharex='col', \n",
    "fig.subplots_adjust(hspace=0.5, wspace=0.3)\n",
    "fig.set_size_inches(16, 12)\n",
    "\n",
    "# if bArticles: fig.suptitle(\"arXiv total articles per year between 1991 and 2018\\nShared Axes\", x=0.5, y=0.92, size=28)\n",
    "# else: fig.suptitle(\"arXiv total images per year between 1991 and 2018\\nShared Axes\", x=0.5, y=0.92, size=28)\n",
    "    \n",
    "data_size = len(data)\n",
    "\n",
    "for i in range(ydim):\n",
    "    for j in range(xdim):\n",
    "        idx = (i * xdim) + j\n",
    "        if idx < data_size:\n",
    "            if bArticles:\n",
    "                ax[i, j].plot(data[idx][1], data[idx][2], '--.')\n",
    "            else:\n",
    "                ax[i, j].plot(data[idx][1], data[idx][2], '--k.')\n",
    "#             ax[i, j].title.set_text(data[idx][0])\n",
    "#             title_string = f'{selected_cats_full[idx]}\\ntotal: {(catlist[idx][1])}'\n",
    "            title_string = f'{selected_cats_full[idx]}'\n",
    "            ax[i, j].title.set_text(title_string)\n",
    "#             s = f'total: {(catlist[idx][1])}'\n",
    "#             ax[i, j].text(0.025, 0.88, s, fontsize=12, transform=ax[i, j].transAxes)\n",
    "            ax[i, j].axis([1991, 2018, 0, maxA])\n",
    "            if bLog10: ax[i, j].set_yscale('log')"
   ]
  },
  {
   "cell_type": "code",
   "execution_count": null,
   "metadata": {},
   "outputs": [],
   "source": [
    "data"
   ]
  },
  {
   "cell_type": "code",
   "execution_count": null,
   "metadata": {},
   "outputs": [],
   "source": [
    "cat_list = [x[0] for x in data]\n",
    "# for dd in data:\n",
    "#     print(dd[0])\n",
    "#     for d in dd:\n",
    "#         print(d)\n",
    "print(cat_list)"
   ]
  },
  {
   "cell_type": "code",
   "execution_count": null,
   "metadata": {},
   "outputs": [],
   "source": [
    "fig.savefig(\"plot_images_cat_year_indax_shareY_top16_v5.svg\", dpi=300, bbox_inches='tight',\n",
    "    pad_inches=0, transparent=False)\n",
    "fig.savefig(\"plot_images_cat_year_indax_shareY_top16_v5.png\", dpi=300, bbox_inches='tight',\n",
    "    pad_inches=0 )"
   ]
  },
  {
   "cell_type": "code",
   "execution_count": null,
   "metadata": {},
   "outputs": [],
   "source": [
    "if bArticles: fig.savefig(\"plot_articles_cat_year_fixedtime_shareY.svg\", dpi=300)\n",
    "else: fig.savefig(\"plot_images_cat_year_indax_shareY.svg\", dpi=300)"
   ]
  },
  {
   "cell_type": "code",
   "execution_count": null,
   "metadata": {},
   "outputs": [],
   "source": [
    "if bArticles: fig.savefig(\"plot_articles_cat_year_fixedtime_log10.svg\", dpi=300)\n",
    "else: fig.savefig(\"plot_images_cat_year_fixedtime_log10.svg\", dpi=300)"
   ]
  },
  {
   "cell_type": "markdown",
   "metadata": {},
   "source": [
    "##### log10"
   ]
  },
  {
   "cell_type": "code",
   "execution_count": null,
   "metadata": {},
   "outputs": [],
   "source": [
    "bArticles = True"
   ]
  },
  {
   "cell_type": "code",
   "execution_count": null,
   "metadata": {},
   "outputs": [],
   "source": [
    "bArticles = False"
   ]
  },
  {
   "cell_type": "code",
   "execution_count": null,
   "metadata": {
    "scrolled": true
   },
   "outputs": [],
   "source": [
    "# plot figures with shared x and y axes using the min/max year/article numbers from the cleaning step\n",
    "\n",
    "xdim = 15\n",
    "ydim = 12\n",
    "\n",
    "fig, ax = plt.subplots(ydim, xdim, sharex='col', sharey='row')\n",
    "fig.subplots_adjust(hspace=0.4, wspace=0.4)\n",
    "fig.set_size_inches(40, 30)\n",
    "\n",
    "if bArticles: fig.suptitle(\"arXiv log10 of articles per year between 1991 and 2018\\nShared Axes\", x=0.5, y=0.92, size=28)\n",
    "else: fig.suptitle(\"arXiv log10 of images per year between 1991 and 2018\\nShared Axes\", x=0.5, y=0.92, size=28)\n",
    "\n",
    "data_size = len(data)\n",
    "\n",
    "for i in range(ydim):\n",
    "    for j in range(xdim):\n",
    "        idx = (i * xdim) + j\n",
    "        if idx < data_size:\n",
    "            if bArticles:\n",
    "                ax[i, j].plot(data[idx][1], data[idx][2], '--.')\n",
    "            else:\n",
    "                ax[i, j].plot(data[idx][1], data[idx][2], '--r.')\n",
    "            ax[i, j].title.set_text(data[idx][0])\n",
    "            ax[i, j].axis([1991, 2018, 0, maxA])"
   ]
  },
  {
   "cell_type": "code",
   "execution_count": null,
   "metadata": {},
   "outputs": [],
   "source": [
    "if bArticles: fig.savefig(\"plot_articles_cat_year_fixedtime_log10.svg\", dpi=300)\n",
    "else: fig.savefig(\"plot_images_cat_year_indax_log10.svg\", dpi=300)"
   ]
  },
  {
   "cell_type": "markdown",
   "metadata": {},
   "source": [
    "##### categories\n",
    "\n",
    "- physics (including astro-ph, cond-mat)\n",
    "- cs\n",
    "- math\n",
    "- q-bio\n",
    "- q-fin\n",
    "- stat"
   ]
  },
  {
   "cell_type": "code",
   "execution_count": null,
   "metadata": {},
   "outputs": [],
   "source": [
    "# testing for primary category search\n",
    "article_count = 0\n",
    "for cat in data:\n",
    "    if \"stat.\" in cat[0]:\n",
    "        print(cat[0])\n",
    "        article_count += 1\n",
    "print(article_count)"
   ]
  },
  {
   "cell_type": "code",
   "execution_count": null,
   "metadata": {},
   "outputs": [],
   "source": [
    "print(data)"
   ]
  },
  {
   "cell_type": "markdown",
   "metadata": {},
   "source": [
    "#### Grab data from only some categories"
   ]
  },
  {
   "cell_type": "code",
   "execution_count": null,
   "metadata": {},
   "outputs": [],
   "source": [
    "# get only computer science\n",
    "select_data = []\n",
    "for cat in data:\n",
    "    if \"cs.\" in cat[0] and \"physics\" not in cat[0]:\n",
    "        select_data.append(cat)\n",
    "print(select_data)\n",
    "print(len(select_data))\n",
    "\n",
    "data = select_data"
   ]
  },
  {
   "cell_type": "code",
   "execution_count": null,
   "metadata": {},
   "outputs": [],
   "source": [
    "# get only maths\n",
    "select_data = []\n",
    "for cat in data:\n",
    "    if \"math.\" in cat[0]:\n",
    "        select_data.append(cat)\n",
    "print(select_data)\n",
    "print(len(select_data))\n",
    "\n",
    "data = select_data"
   ]
  },
  {
   "cell_type": "code",
   "execution_count": null,
   "metadata": {},
   "outputs": [],
   "source": [
    "# get all physics related categories\n",
    "select_data = []\n",
    "for cat in data:\n",
    "    if \"ph\" in cat[0] or \"physics.\" in cat[0] or \"cond-mat\" in cat[0] or \"nlin\" in cat[0]:\n",
    "        select_data.append(cat)\n",
    "print(select_data)\n",
    "print(len(select_data))\n",
    "\n",
    "data = select_data"
   ]
  },
  {
   "cell_type": "code",
   "execution_count": null,
   "metadata": {},
   "outputs": [],
   "source": [
    "# get only quantitative biology\n",
    "select_data = []\n",
    "for cat in data:\n",
    "    if \"q-bio.\" in cat[0]:\n",
    "        select_data.append(cat)\n",
    "print(select_data)\n",
    "print(len(select_data))\n",
    "\n",
    "data = select_data"
   ]
  },
  {
   "cell_type": "code",
   "execution_count": null,
   "metadata": {},
   "outputs": [],
   "source": [
    "# get only quantitative finance\n",
    "select_data = []\n",
    "for cat in data:\n",
    "    if \"q-fin.\" in cat[0]:\n",
    "        select_data.append(cat)\n",
    "print(select_data)\n",
    "print(len(select_data))\n",
    "\n",
    "data = select_data"
   ]
  },
  {
   "cell_type": "code",
   "execution_count": null,
   "metadata": {},
   "outputs": [],
   "source": [
    "# get only statistics\n",
    "select_data = []\n",
    "for cat in data:\n",
    "    if \"stat.\" in cat[0]:\n",
    "        select_data.append(cat)\n",
    "print(select_data)\n",
    "print(len(select_data))\n",
    "\n",
    "data = select_data"
   ]
  },
  {
   "cell_type": "markdown",
   "metadata": {},
   "source": [
    "#### set log10, category and find factors"
   ]
  },
  {
   "cell_type": "code",
   "execution_count": null,
   "metadata": {},
   "outputs": [],
   "source": [
    "bLog10 = False"
   ]
  },
  {
   "cell_type": "code",
   "execution_count": null,
   "metadata": {},
   "outputs": [],
   "source": [
    "bLog10 = True"
   ]
  },
  {
   "cell_type": "code",
   "execution_count": null,
   "metadata": {},
   "outputs": [],
   "source": [
    "# get the two factors closest to the square root\n",
    "\n",
    "input = len(data)\n",
    "\n",
    "test = int(math.sqrt(input))\n",
    "# print(test)\n",
    "while input % test != 0:\n",
    "    test -= 1\n",
    "\n",
    "xdim = max(test, int(input/test))\n",
    "ydim = min(test, int(input/test))\n",
    "\n",
    "print(xdim)\n",
    "print(ydim)"
   ]
  },
  {
   "cell_type": "code",
   "execution_count": null,
   "metadata": {},
   "outputs": [],
   "source": [
    "# category = \"computer science\"\n",
    "# category = \"math\"\n",
    "# category = \"physics\"\n",
    "# category = \"q-bio\"\n",
    "# category = \"q-fin\"\n",
    "category = \"stats\""
   ]
  },
  {
   "cell_type": "code",
   "execution_count": null,
   "metadata": {},
   "outputs": [],
   "source": [
    "print(len(data))"
   ]
  },
  {
   "cell_type": "markdown",
   "metadata": {},
   "source": [
    "#### Plot data"
   ]
  },
  {
   "cell_type": "code",
   "execution_count": null,
   "metadata": {
    "scrolled": true
   },
   "outputs": [],
   "source": [
    "# plot figures with shared x and y axes using the min/max year/article numbers from the cleaning step\n",
    "\n",
    "xdim = 3\n",
    "ydim = 2\n",
    "\n",
    "fig, ax = plt.subplots(ydim, xdim, sharex='col', sharey='row')\n",
    "fig.subplots_adjust(hspace=0.4, wspace=0.4)\n",
    "fig.set_size_inches(40, 30)\n",
    "\n",
    "if bArticles: fig.suptitle(\"arXiv \" + category + \" articles per year between 1991 and 2018\", x=0.5, y=0.92, size=28)\n",
    "else: fig.suptitle(\"arXiv \" + category + \" images per year between 1991 and 2018\", x=0.5, y=0.92, size=28)\n",
    "\n",
    "data_size = len(data)\n",
    "\n",
    "for i in range(ydim):\n",
    "    for j in range(xdim):\n",
    "        idx = (i * xdim) + j\n",
    "        if idx < data_size:\n",
    "            if bArticles:\n",
    "                ax[i, j].plot(data[idx][1], data[idx][2], '--.')\n",
    "            else:\n",
    "                ax[i, j].plot(data[idx][1], data[idx][2], '--r.')\n",
    "            ax[i, j].title.set_text(data[idx][0])\n",
    "            ax[i, j].axis([1991, 2018, 0, maxA])\n",
    "            if bLog10: ax[i, j].set_yscale('log')"
   ]
  },
  {
   "cell_type": "code",
   "execution_count": null,
   "metadata": {},
   "outputs": [],
   "source": [
    "if bArticles: fig.savefig(\"plot_cs_articles_year_fixedtime.svg\", dpi=300)\n",
    "else: fig.savefig(\"plot_cs_images_year_fixedtime.svg\", dpi=300)"
   ]
  },
  {
   "cell_type": "code",
   "execution_count": null,
   "metadata": {},
   "outputs": [],
   "source": [
    "if bArticles: fig.savefig(\"plot_cs_articles_year_fixedtime_log10.svg\", dpi=300)\n",
    "else: fig.savefig(\"plot_cs_images_year_log10.svg\", dpi=300)"
   ]
  },
  {
   "cell_type": "code",
   "execution_count": null,
   "metadata": {},
   "outputs": [],
   "source": [
    "if bArticles: fig.savefig(\"plot_\" + category + \"_articles_year_fixedtime.svg\", dpi=300)\n",
    "else: fig.savefig(\"plot_\" + category + \"_images_year.svg\", dpi=300)"
   ]
  },
  {
   "cell_type": "code",
   "execution_count": null,
   "metadata": {},
   "outputs": [],
   "source": [
    "if bArticles: fig.savefig(\"plot_\" + category + \"_articles_year_fixedtime_log10.svg\", dpi=300)\n",
    "else: fig.savefig(\"plot_\" + category + \"_images_year_log10.svg\", dpi=300)"
   ]
  },
  {
   "cell_type": "markdown",
   "metadata": {},
   "source": [
    "### Generate stackplot of image formats by year"
   ]
  },
  {
   "cell_type": "code",
   "execution_count": null,
   "metadata": {},
   "outputs": [],
   "source": [
    "# list primary categories by associated images\n",
    "\n",
    "c.execute('''\n",
    "    SELECT images.filename, strftime(\"%Y\", metadata.created) \n",
    "    FROM images\n",
    "    LEFT JOIN metadata ON images.identifier = metadata.identifier\n",
    "    WHERE strftime(\"%Y\", metadata.created) != '2019'\n",
    "    AND strftime(\"%Y\", metadata.created) != '2020'\n",
    "    ''')\n",
    "rows = c.fetchall()\n",
    "# for row in rows:\n",
    "#     print(row)\n",
    "print(len(rows))\n",
    "print(\"sample:\\n\",rows[:3])"
   ]
  },
  {
   "cell_type": "code",
   "execution_count": null,
   "metadata": {},
   "outputs": [],
   "source": [
    "# make lists of the years and extensions\n",
    "years = []\n",
    "exts = []\n",
    "\n",
    "# get years and extensions\n",
    "for filename, year in rows[:]:\n",
    "    if year not in years:\n",
    "        years.append(year)\n",
    "    fileext = filename.rsplit(\".\", 1)[1].lower()\n",
    "    if fileext not in exts:\n",
    "        exts.append(fileext)\n",
    "years.sort()\n",
    "print(years)\n",
    "# print(exts)\n",
    "exts.sort()\n",
    "print(exts)"
   ]
  },
  {
   "cell_type": "code",
   "execution_count": null,
   "metadata": {},
   "outputs": [],
   "source": [
    "del exts[9] # delete svg\n",
    "del exts[8] # delete pstex\n",
    "del exts[3] # delete jpeg\n",
    "del exts[1] # delete epsf\n",
    "del years[0] # delete 1998"
   ]
  },
  {
   "cell_type": "code",
   "execution_count": null,
   "metadata": {},
   "outputs": [],
   "source": [
    "print(len(years))\n",
    "print(years)\n",
    "print(len(exts))\n",
    "print(exts)"
   ]
  },
  {
   "cell_type": "code",
   "execution_count": null,
   "metadata": {},
   "outputs": [],
   "source": [
    "# make empty array\n",
    "\n",
    "ext_data = np.zeros((len(exts), len(years)))\n",
    "print(ext_data)"
   ]
  },
  {
   "cell_type": "code",
   "execution_count": null,
   "metadata": {},
   "outputs": [],
   "source": [
    "for filename, year in rows[:]:\n",
    "    if year is not '1988':\n",
    "#         print(filename, year)\n",
    "        fileext = filename.rsplit(\".\", 1)[1].lower()\n",
    "        if fileext == \"jpeg\":\n",
    "            fileext = \"jpg\"\n",
    "        if fileext == \"epsf\":\n",
    "            fileext = \"eps\"\n",
    "        if fileext == \"pstex\":\n",
    "            fileext = \"ps\"\n",
    "#         print(fileext)\n",
    "        iyear = int(year) - 1990\n",
    "#         print(iyear)\n",
    "        if fileext in exts:\n",
    "            iext = exts.index(fileext)\n",
    "#             print(iext)\n",
    "            ext_data[iext][iyear] += 1"
   ]
  },
  {
   "cell_type": "code",
   "execution_count": null,
   "metadata": {
    "scrolled": true
   },
   "outputs": [],
   "source": [
    "print(ext_data)"
   ]
  },
  {
   "cell_type": "code",
   "execution_count": null,
   "metadata": {},
   "outputs": [],
   "source": [
    "# get sum for each year\n",
    "sums = []\n",
    "for i, y in enumerate(years):\n",
    "    sum = 0\n",
    "    for j, e in enumerate(exts):\n",
    "#         print(i, j)\n",
    "        sum += ext_data[j][i]\n",
    "    sums.append(sum)"
   ]
  },
  {
   "cell_type": "code",
   "execution_count": null,
   "metadata": {},
   "outputs": [],
   "source": [
    "print(sums)"
   ]
  },
  {
   "cell_type": "code",
   "execution_count": null,
   "metadata": {},
   "outputs": [],
   "source": [
    "# get percentages\n",
    "ext_data = np.array(ext_data)\n",
    "sums = np.array(sums)\n",
    "# ext_data_per = (ext_data / sums)\n",
    "ext_data_per = np.divide(ext_data, sums)\n",
    "ext_data_per = ext_data_per * 100"
   ]
  },
  {
   "cell_type": "code",
   "execution_count": null,
   "metadata": {},
   "outputs": [],
   "source": [
    "ext_data"
   ]
  },
  {
   "cell_type": "code",
   "execution_count": null,
   "metadata": {},
   "outputs": [],
   "source": [
    "ext_data_per"
   ]
  },
  {
   "cell_type": "code",
   "execution_count": null,
   "metadata": {},
   "outputs": [],
   "source": [
    "# ind = np.arange(len(years))\n",
    "fig, ax = plt.subplots(1, 1, sharex='col', sharey='row')\n",
    "fig.set_size_inches(10, 8)\n",
    "width = 1\n",
    "\n",
    "pal = sns.color_palette(\"deep\", 7)\n",
    "# pal = sns.diverging_palette(10, 220, sep=80, n=7)\n",
    "plt.stackplot(years, ext_data_per, labels=exts, colors=pal, alpha=1)\n",
    "plt.margins(0, 0)\n",
    "plt.ylabel(\"percentage image file extensions per year\")\n",
    "# plt.xticks(np.arange(0, 1, step=0.2) + 20)\n",
    "plt.xticks(years, years, rotation=300)\n",
    "# plt.title(\"File extension percentages by year\")\n",
    "\n",
    "# ax.legend(loc='upper left', \n",
    "#           bbox_to_anchor=(1.02, 0.98),\n",
    "#           fontsize=9.0,\n",
    "#           frameon=True,\n",
    "#           handlelength=2)\n",
    "\n",
    "# labelspacing=-2.5\n",
    "#           prop={'size':15})\n",
    "\n",
    "ax.legend(reversed(ax.legend().legendHandles), reversed(exts), loc='upper left')\n",
    "\n",
    "for label in ax.xaxis.get_ticklabels()[1::2]:\n",
    "    label.set_visible(False)"
   ]
  },
  {
   "cell_type": "code",
   "execution_count": null,
   "metadata": {},
   "outputs": [],
   "source": [
    "fig.savefig(\"extensions_stackplot_smaller_v5_legend_nosvg.png\", bbox_inches='tight',\n",
    "    pad_inches=0, transparent=False, dpi=300)"
   ]
  },
  {
   "cell_type": "markdown",
   "metadata": {},
   "source": [
    "### Generating figures for dataset methods paper"
   ]
  },
  {
   "cell_type": "code",
   "execution_count": null,
   "metadata": {},
   "outputs": [],
   "source": [
    "# list primary categories by alphabetical order\n",
    "\n",
    "c.execute('''\n",
    "    SELECT substr(trim(metadata.cat),1,instr(trim(metadata.cat)||' ',' ')-1), count(metadata.identifier)\n",
    "    FROM metadata\n",
    "    WHERE strftime(\"%Y\", metadata.created) != '2019'\n",
    "    AND strftime(\"%Y\", metadata.created) != '2020'\n",
    "    GROUP BY substr(trim(metadata.cat),1,instr(trim(metadata.cat)||' ',' ')-1)\n",
    "    ORDER BY substr(trim(metadata.cat),1,instr(trim(metadata.cat)||' ',' ')-1) ASC\n",
    "    ''')\n",
    "rows = c.fetchall()\n",
    "for row in rows:\n",
    "    print(row)\n",
    "print(len(rows))"
   ]
  },
  {
   "cell_type": "code",
   "execution_count": null,
   "metadata": {},
   "outputs": [],
   "source": [
    "# testing that the date check works\n",
    "c.execute('''\n",
    "    SELECT count(metadata.identifier)\n",
    "    FROM metadata\n",
    "    WHERE strftime(\"%Y\", metadata.created) != '2019'\n",
    "    AND strftime(\"%Y\", metadata.created) != '2020'\n",
    "    ''')\n",
    "rows = c.fetchall()\n",
    "for row in rows:\n",
    "    print(row)"
   ]
  },
  {
   "cell_type": "code",
   "execution_count": null,
   "metadata": {},
   "outputs": [],
   "source": [
    "# testing that the date check works\n",
    "c.execute('''\n",
    "    SELECT count(metadata.identifier)\n",
    "    FROM metadata\n",
    "    ''')\n",
    "rows = c.fetchall()\n",
    "for row in rows:\n",
    "    print(row)"
   ]
  },
  {
   "cell_type": "code",
   "execution_count": null,
   "metadata": {},
   "outputs": [],
   "source": [
    "# store list of categories with condition\n",
    "catlist = []\n",
    "for cat, n in rows:\n",
    "    if n > 5000:\n",
    "        catlist.append((cat, n))\n",
    "print(len(catlist))"
   ]
  },
  {
   "cell_type": "code",
   "execution_count": null,
   "metadata": {},
   "outputs": [],
   "source": [
    "def take_second(elem):\n",
    "    return elem[1]\n",
    "rows.sort(key=take_second, reverse=True)"
   ]
  },
  {
   "cell_type": "code",
   "execution_count": null,
   "metadata": {},
   "outputs": [],
   "source": [
    "catlist = rows[:16]\n",
    "catlist.sort()"
   ]
  },
  {
   "cell_type": "code",
   "execution_count": null,
   "metadata": {},
   "outputs": [],
   "source": [
    "categories = [x[0] for x in catlist]\n",
    "values = [x[1] for x in catlist]\n",
    "y_pos = np.arange(len(categories))\n",
    "\n",
    "fig, ax = plt.subplots()\n",
    "fig.set_size_inches(10, 12)\n",
    "\n",
    "ax.barh(y_pos, values, align='center')\n",
    "ax.set_yticks(y_pos)\n",
    "ax.set_yticklabels(categories)\n",
    "ax.invert_yaxis()\n",
    "ax.set_xlabel('No. articles')\n",
    "\n",
    "plt.tight_layout()\n",
    "plt.show()"
   ]
  }
 ],
 "metadata": {
  "kernelspec": {
   "display_name": "Python 3",
   "language": "python",
   "name": "python3"
  },
  "language_info": {
   "codemirror_mode": {
    "name": "ipython",
    "version": 3
   },
   "file_extension": ".py",
   "mimetype": "text/x-python",
   "name": "python",
   "nbconvert_exporter": "python",
   "pygments_lexer": "ipython3",
   "version": "3.6.8"
  }
 },
 "nbformat": 4,
 "nbformat_minor": 2
}
