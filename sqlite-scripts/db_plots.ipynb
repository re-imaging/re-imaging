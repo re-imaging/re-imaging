{
 "cells": [
  {
   "cell_type": "markdown",
   "metadata": {},
   "source": [
    "# db_plots\n",
    "\n",
    "### This notebook queries the databases to generate a matrix of plots for the number of articles/images per year, run separately for each category."
   ]
  },
  {
   "cell_type": "markdown",
   "metadata": {},
   "source": [
    "#### Setup\n",
    "\n",
    "Import required libraries, connect to SQLite database, create cursor, fetch table info"
   ]
  },
  {
   "cell_type": "code",
   "execution_count": null,
   "metadata": {},
   "outputs": [],
   "source": [
    "import matplotlib.pyplot as plt\n",
    "import numpy as np\n",
    "import sqlite3"
   ]
  },
  {
   "cell_type": "code",
   "execution_count": null,
   "metadata": {},
   "outputs": [],
   "source": [
    "# path on rte\n",
    "db_path = \"/home/rte/data/db/arxiv_db_images.sqlite3\""
   ]
  },
  {
   "cell_type": "code",
   "execution_count": null,
   "metadata": {},
   "outputs": [],
   "source": [
    "# import the sqlite3 database and create a cursor\n",
    "\n",
    "db = sqlite3.connect(db_path)\n",
    "c = db.cursor()"
   ]
  },
  {
   "cell_type": "code",
   "execution_count": null,
   "metadata": {},
   "outputs": [],
   "source": [
    "c.execute('PRAGMA TABLE_INFO({})'.format(\"metadata\"))\n",
    "info = c.fetchall()\n",
    "\n",
    "print(\"\\nColumn Info:\\nID, Name, Type, NotNull, DefaultVal, PrimaryKey\")\n",
    "for col in info:\n",
    "    print(col)"
   ]
  },
  {
   "cell_type": "code",
   "execution_count": null,
   "metadata": {},
   "outputs": [],
   "source": [
    "c.execute('PRAGMA TABLE_INFO({})'.format(\"images\"))\n",
    "info = c.fetchall()\n",
    "\n",
    "print(\"\\nColumn Info:\\nID, Name, Type, NotNull, DefaultVal, PrimaryKey\")\n",
    "for col in info:\n",
    "    print(col)"
   ]
  },
  {
   "cell_type": "markdown",
   "metadata": {},
   "source": [
    "#### Build category list\n",
    "First get a full list of all the primary categories by querying the SQLite database."
   ]
  },
  {
   "cell_type": "code",
   "execution_count": null,
   "metadata": {},
   "outputs": [],
   "source": [
    "# list primary categories by articles\n",
    "\n",
    "c.execute('''\n",
    "    SELECT substr(trim(metadata.cat),1,instr(trim(metadata.cat)||' ',' ')-1), count(metadata.identifier)\n",
    "    FROM metadata\n",
    "    GROUP BY substr(trim(metadata.cat),1,instr(trim(metadata.cat)||' ',' ')-1)\n",
    "    ORDER BY count(metadata.identifier) DESC    \n",
    "    ''')\n",
    "rows = c.fetchall()\n",
    "for row in rows:\n",
    "    print(row)"
   ]
  },
  {
   "cell_type": "code",
   "execution_count": null,
   "metadata": {},
   "outputs": [],
   "source": [
    "print(len(rows))"
   ]
  },
  {
   "cell_type": "code",
   "execution_count": null,
   "metadata": {},
   "outputs": [],
   "source": [
    "# list primary categories by associated images\n",
    "\n",
    "c.execute('''\n",
    "    SELECT substr(trim(metadata.cat),1,instr(trim(metadata.cat)||' ',' ')-1), count(images.identifier)\n",
    "    FROM images\n",
    "    LEFT JOIN metadata ON images.identifier = metadata.identifier \n",
    "    GROUP BY substr(trim(metadata.cat),1,instr(trim(metadata.cat)||' ',' ')-1)\n",
    "    ORDER BY count(images.identifier) DESC    \n",
    "    ''')\n",
    "rows = c.fetchall()\n",
    "for row in rows:\n",
    "    print(row)"
   ]
  },
  {
   "cell_type": "code",
   "execution_count": null,
   "metadata": {},
   "outputs": [],
   "source": [
    "print(len(rows))"
   ]
  },
  {
   "cell_type": "code",
   "execution_count": null,
   "metadata": {},
   "outputs": [],
   "source": [
    "# store the list of categories in catlist\n",
    "\n",
    "catlist = rows\n",
    "for cat in catlist:\n",
    "    print(str(cat[0]))"
   ]
  },
  {
   "cell_type": "code",
   "execution_count": null,
   "metadata": {},
   "outputs": [],
   "source": [
    "# testing that both SQL queries give the same list of categories\n",
    "# the lists seem to be slightly different in order but have the same number of categories\n",
    "\n",
    "catlist_images = rows\n",
    "print(\"are both lists the same?\")\n",
    "print(catlist_images == catlist)\n",
    "print(\"do both lists have the same number of elements?\")\n",
    "print(len(catlist_images) == len(catlist))\n",
    "print(len(catlist))"
   ]
  },
  {
   "cell_type": "markdown",
   "metadata": {},
   "source": [
    "#### Query DB for data\n",
    "Then use that list of primary categories to query the db for how many articles per year. Store it in the `data` variable. The first command is the number of articles only so only requires the `metadata` table. The second block below searches by number of images so also requires the `images` table in the SQLite database."
   ]
  },
  {
   "cell_type": "code",
   "execution_count": null,
   "metadata": {},
   "outputs": [],
   "source": [
    "# total number of articles for each year by category\n",
    "\n",
    "sql = ('''\n",
    "    SELECT count(metadata.identifier), strftime(\"%Y\", metadata.created) as 'Y'\n",
    "    FROM metadata\n",
    "    WHERE substr(trim(cat),1,instr(trim(cat)||' ',' ')-1) = ?\n",
    "    GROUP BY strftime(\"%Y\", metadata.created)\n",
    "    ORDER BY strftime(\"%Y\", metadata.created) ASC\n",
    "    ''')\n",
    "\n",
    "data = []\n",
    "\n",
    "for cat in catlist:\n",
    "    print(\"querying for category: \" + str(cat[0]))\n",
    "    c.execute(sql, (cat[0], ))\n",
    "    rows = c.fetchall()\n",
    "    \n",
    "#     print(\"total number of images found: \" + str(len(rows)))\n",
    "    print(rows)\n",
    "#     print(\"total number of articles: \" + rows[0][0])\n",
    "\n",
    "    years = []\n",
    "    totals = []\n",
    "    \n",
    "    for row in rows:\n",
    "        years.append(row[1])\n",
    "        totals.append(row[0])\n",
    "        \n",
    "    newdata = [cat[0], years, totals]\n",
    "    data.append(newdata)\n",
    "\n",
    "print(\"*\" * 20)\n",
    "print(\"done\")"
   ]
  },
  {
   "cell_type": "code",
   "execution_count": null,
   "metadata": {
    "scrolled": true
   },
   "outputs": [],
   "source": [
    "# total number of images for each year by category\n",
    "\n",
    "sql = ('''\n",
    "    SELECT count(images.identifier), strftime(\"%Y\", metadata.created) as 'Y'\n",
    "    FROM images\n",
    "    LEFT JOIN metadata on images.identifier = metadata.identifier\n",
    "    WHERE substr(trim(cat),1,instr(trim(cat)||' ',' ')-1) = ?\n",
    "    GROUP BY strftime(\"%Y\", metadata.created)\n",
    "    ORDER BY strftime(\"%Y\", metadata.created) ASC\n",
    "    ''')\n",
    "\n",
    "data = []\n",
    "\n",
    "for cat in catlist:\n",
    "    print(\"querying for category: \" + str(cat[0]))\n",
    "    c.execute(sql, (cat[0], ))\n",
    "    rows = c.fetchall()\n",
    "    \n",
    "#     print(\"total number of images found: \" + str(len(rows)))\n",
    "    print(rows)\n",
    "#     print(\"total number of articles: \" + rows[0][0])\n",
    "\n",
    "    years = []\n",
    "    totals = []\n",
    "    \n",
    "    for row in rows:\n",
    "        years.append(row[1])\n",
    "        totals.append(row[0])\n",
    "        \n",
    "    newdata = [cat[0], years, totals]\n",
    "    data.append(newdata)\n",
    "\n",
    "print(\"*\" * 20)\n",
    "print(\"done\")"
   ]
  },
  {
   "cell_type": "markdown",
   "metadata": {},
   "source": [
    "#### Clean data\n",
    "- remove any entries of \"2019\" in the years and articles columns of data (don't have full data for this year).\n",
    "- rewrite all entries as integers rather than strings (otherwise there will be problems when adjusting the axes)\n",
    "- find the minimum and maximum for any entries, so that we can set our axes later as needed."
   ]
  },
  {
   "cell_type": "code",
   "execution_count": null,
   "metadata": {},
   "outputs": [],
   "source": [
    "# if there is \"2019\" in the list of years, get the index and remove from both the year and no. article lists\n",
    "\n",
    "for cat in data:\n",
    "    while \"2019\" in cat[1]:\n",
    "        index = cat[1].index(\"2019\")\n",
    "        print(cat[0])\n",
    "        print(index)\n",
    "        del cat[2][index]\n",
    "        del cat[1][index]\n",
    "        print(\"*\" * 20)"
   ]
  },
  {
   "cell_type": "code",
   "execution_count": null,
   "metadata": {},
   "outputs": [],
   "source": [
    "# test to make sure there is still a total for each year\n",
    "\n",
    "for cat in data:\n",
    "    if len(cat[1]) != len(cat[2]):\n",
    "        print(\"problem with category: \" + cat)"
   ]
  },
  {
   "cell_type": "code",
   "execution_count": null,
   "metadata": {},
   "outputs": [],
   "source": [
    "# fix year entries appearing as string by going through each and re-writing as integer\n",
    "\n",
    "for cat in data:\n",
    "    for k in enumerate(cat[1]):\n",
    "        print(cat[1][k[0]])\n",
    "        cat[1][k[0]] = int(cat[1][k[0]])"
   ]
  },
  {
   "cell_type": "code",
   "execution_count": null,
   "metadata": {},
   "outputs": [],
   "source": [
    "print(data)"
   ]
  },
  {
   "cell_type": "code",
   "execution_count": null,
   "metadata": {},
   "outputs": [],
   "source": [
    "# get the maximums and minimums of year and no. articles for figuring out axes\n",
    "\n",
    "import math\n",
    "\n",
    "minY = math.inf\n",
    "maxY = -(math.inf)\n",
    "minA = math.inf\n",
    "maxA = -(math.inf)\n",
    "\n",
    "for cat in data:\n",
    "#     print(len(cat))\n",
    "    print(cat[0])\n",
    "    if min(cat[1]) < minY: minY = min(cat[1])\n",
    "    if max(cat[1]) > maxY: maxY = max(cat[1])\n",
    "    if min(cat[2]) < minA: minA = min(cat[2])\n",
    "    if max(cat[2]) > maxA: maxA = max(cat[2])\n",
    "    print(\"min year: \" + str(min(cat[1])))\n",
    "    print(\"max year: \" + str(max(cat[1])))\n",
    "    print(\"min articles/images: \" + str(min(cat[2])))\n",
    "    print(\"max articles/images: \" + str(max(cat[2])))\n",
    "    print(\"*\" * 20)\n",
    "    \n",
    "print(\"minY: \" + str(minY))\n",
    "print(\"maxY: \" + str(maxY))\n",
    "print(\"minA: \" + str(minA))\n",
    "print(\"maxA: \" + str(maxA))\n",
    "              \n",
    "print(\"done\")"
   ]
  },
  {
   "cell_type": "markdown",
   "metadata": {},
   "source": [
    "#### Save data \n",
    "Interim progress, to prevent having to run SQL queries again : )\n",
    "Save as either json file or pickle for reloading\n",
    "\n",
    "#### json\n",
    "saves as human-readable JSON format"
   ]
  },
  {
   "cell_type": "code",
   "execution_count": null,
   "metadata": {},
   "outputs": [],
   "source": [
    "import json"
   ]
  },
  {
   "cell_type": "code",
   "execution_count": null,
   "metadata": {},
   "outputs": [],
   "source": [
    "filename = \"articles_cat_year.json\" "
   ]
  },
  {
   "cell_type": "code",
   "execution_count": null,
   "metadata": {},
   "outputs": [],
   "source": [
    "filename = \"images_cat_year.json\""
   ]
  },
  {
   "cell_type": "code",
   "execution_count": null,
   "metadata": {},
   "outputs": [],
   "source": [
    "with open(filename, \"w\") as write_file:\n",
    "    json.dump(data, write_file)\n",
    "    write_file.close()"
   ]
  },
  {
   "cell_type": "code",
   "execution_count": null,
   "metadata": {},
   "outputs": [],
   "source": [
    "load_json = []\n",
    "\n",
    "with open(filename, \"r\") as read_file:\n",
    "    load_json = json.load(read_file)\n",
    "    read_file.close()"
   ]
  },
  {
   "cell_type": "code",
   "execution_count": null,
   "metadata": {},
   "outputs": [],
   "source": [
    "print(load_json)"
   ]
  },
  {
   "cell_type": "code",
   "execution_count": null,
   "metadata": {},
   "outputs": [],
   "source": [
    "data == loadedjson"
   ]
  },
  {
   "cell_type": "markdown",
   "metadata": {},
   "source": [
    "#### pickle\n",
    "Save data as a serialized file using pickle"
   ]
  },
  {
   "cell_type": "code",
   "execution_count": null,
   "metadata": {},
   "outputs": [],
   "source": [
    "import pickle"
   ]
  },
  {
   "cell_type": "code",
   "execution_count": null,
   "metadata": {},
   "outputs": [],
   "source": [
    "filename = \"images_cat_year.pickle\""
   ]
  },
  {
   "cell_type": "code",
   "execution_count": null,
   "metadata": {},
   "outputs": [],
   "source": [
    "filename = \"articles_cat_year_clean.pickle\""
   ]
  },
  {
   "cell_type": "code",
   "execution_count": null,
   "metadata": {},
   "outputs": [],
   "source": [
    "with open(filename, \"wb\") as write_file:\n",
    "    pickle.dump(data, write_file)\n",
    "    write_file.close()"
   ]
  },
  {
   "cell_type": "code",
   "execution_count": null,
   "metadata": {},
   "outputs": [],
   "source": [
    "load_data = []\n",
    "\n",
    "with open(filename, \"rb\") as read_file:\n",
    "    load_data = pickle.load(read_file)\n",
    "    read_file.close()"
   ]
  },
  {
   "cell_type": "markdown",
   "metadata": {},
   "source": [
    "Load in the imported data in the `data` variable"
   ]
  },
  {
   "cell_type": "code",
   "execution_count": null,
   "metadata": {},
   "outputs": [],
   "source": [
    "data = load_data"
   ]
  },
  {
   "cell_type": "markdown",
   "metadata": {},
   "source": [
    "Testing loaded data"
   ]
  },
  {
   "cell_type": "code",
   "execution_count": null,
   "metadata": {},
   "outputs": [],
   "source": [
    "print(load_data == data)"
   ]
  },
  {
   "cell_type": "code",
   "execution_count": null,
   "metadata": {},
   "outputs": [],
   "source": [
    "print(load_data)"
   ]
  },
  {
   "cell_type": "code",
   "execution_count": null,
   "metadata": {},
   "outputs": [],
   "source": [
    "print(data)"
   ]
  },
  {
   "cell_type": "markdown",
   "metadata": {},
   "source": [
    "#### Save data in org format\n",
    "Use org-friendly table format. This can be printed to console or written to a file. For posting to Github and rendered in Github markdown."
   ]
  },
  {
   "cell_type": "code",
   "execution_count": null,
   "metadata": {},
   "outputs": [],
   "source": [
    "# write the data in an org-friendly format for posting on github\n",
    "for cat in data:\n",
    "    print(\"* \" + cat[0])\n",
    "    joined = list(zip(cat[1], cat[2]))\n",
    "    #     print(joined)\n",
    "    print(\"|-|-|\")\n",
    "    for j in joined:\n",
    "        print('|' + str(j[0]) + \"|\" + str(j[1]) + \"|\")\n",
    "    print(\"|-|-|\")"
   ]
  },
  {
   "cell_type": "code",
   "execution_count": null,
   "metadata": {},
   "outputs": [],
   "source": [
    "# write the data to a file\n",
    "with open(\"stats_images_cat_year.org\", \"w\") as write_file:\n",
    "    for cat in data:\n",
    "        print(\"* \" + cat[0], file=write_file)\n",
    "        joined = list(zip(cat[1], cat[2]))\n",
    "        #     print(joined)\n",
    "        print(\"|-|-|\", file=write_file)\n",
    "        for j in joined:\n",
    "            print('|' + str(j[0]) + \"|\" + str(j[1]) + \"|\", file=write_file)\n",
    "        print(\"|-|-|\", file=write_file)\n",
    "write_file.close()"
   ]
  },
  {
   "cell_type": "markdown",
   "metadata": {},
   "source": [
    "#### Plotting matrix of scatterplots\n",
    "\n",
    "Plot data in two formats\n",
    "- with shared x and y axes, for comparison across data\n",
    "- with individual x and y axes taken from min/max of each plot automatically, for individual trends\n",
    "- finally, save as high resolution (300 dpi) image"
   ]
  },
  {
   "cell_type": "code",
   "execution_count": null,
   "metadata": {},
   "outputs": [],
   "source": [
    "# plot figures with shared x and y axes using the min/max year/article numbers from the cleaning step\n",
    "\n",
    "xdim = 15\n",
    "ydim = 12\n",
    "\n",
    "fig, ax = plt.subplots(ydim, xdim, sharex='col', sharey='row')\n",
    "fig.set_size_inches(40, 30)\n",
    "\n",
    "data_size = len(data)\n",
    "\n",
    "for i in range(ydim):\n",
    "    for j in range(xdim):\n",
    "        idx = (i * xdim) + j\n",
    "        if idx < data_size:\n",
    "#             ax[i, j].plot(data[idx][1], data[idx][2], '--o')\n",
    "            ax[i, j].plot(data[idx][1], data[idx][2], '--r.')\n",
    "            ax[i, j].title.set_text(data[idx][0])\n",
    "            # add one to the maximum year for alignment\n",
    "            ax[i, j].axis([minY, maxY+1, minA, maxA])"
   ]
  },
  {
   "cell_type": "code",
   "execution_count": null,
   "metadata": {},
   "outputs": [],
   "source": [
    "# fig.savefig(\"plot_articles_cat_year_04.png\", dpi=300)\n",
    "fig.savefig(\"plot_images_cat_year_03.png\", dpi=300)"
   ]
  },
  {
   "cell_type": "code",
   "execution_count": null,
   "metadata": {},
   "outputs": [],
   "source": [
    "xdim = 15\n",
    "ydim = 12\n",
    "\n",
    "fig, ax = plt.subplots(ydim, xdim)\n",
    "fig.subplots_adjust(hspace=0.4, wspace=0.4)\n",
    "fig.set_size_inches(40, 30)\n",
    "\n",
    "data_size = len(data)\n",
    "\n",
    "for i in range(ydim):\n",
    "    for j in range(xdim):\n",
    "        idx = (i * xdim) + j\n",
    "        if idx < data_size:\n",
    "#             ax[i, j].plot(data[idx][1], data[idx][2], '--o')\n",
    "            ax[i, j].plot(data[idx][1], data[idx][2], '--r.')\n",
    "            ax[i, j].title.set_text(data[idx][0])\n",
    "#             ax[i, j].axis([minY, maxY+1, minA, maxA])"
   ]
  },
  {
   "cell_type": "code",
   "execution_count": null,
   "metadata": {},
   "outputs": [],
   "source": [
    "# fig.savefig(\"plot_articles_cat_year_indax_01.png\", dpi=300)\n",
    "fig.savefig(\"plot_images_cat_year_indax_03.png\", dpi=300)"
   ]
  }
 ],
 "metadata": {
  "kernelspec": {
   "display_name": "Python 3",
   "language": "python",
   "name": "python3"
  },
  "language_info": {
   "codemirror_mode": {
    "name": "ipython",
    "version": 3
   },
   "file_extension": ".py",
   "mimetype": "text/x-python",
   "name": "python",
   "nbconvert_exporter": "python",
   "pygments_lexer": "ipython3",
   "version": "3.7.2"
  }
 },
 "nbformat": 4,
 "nbformat_minor": 2
}
