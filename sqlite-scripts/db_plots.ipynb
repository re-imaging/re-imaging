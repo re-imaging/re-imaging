{
 "cells": [
  {
   "cell_type": "raw",
   "metadata": {},
   "source": [
    "This notebook is used for code that queries the databases for the purpose of generating plots and charts of the data."
   ]
  },
  {
   "cell_type": "code",
   "execution_count": null,
   "metadata": {},
   "outputs": [],
   "source": [
    "import matplotlib.pyplot as plt\n",
    "import numpy as np\n",
    "import sqlite3"
   ]
  },
  {
   "cell_type": "code",
   "execution_count": null,
   "metadata": {},
   "outputs": [],
   "source": [
    "# path on rte\n",
    "db_path = \"/home/rte/data/db/arxiv_db_images.sqlite3\""
   ]
  },
  {
   "cell_type": "code",
   "execution_count": null,
   "metadata": {},
   "outputs": [],
   "source": [
    "# Here we import the sqlite3 database and create a cursor\n",
    "\n",
    "db = sqlite3.connect(db_path)\n",
    "c = db.cursor()"
   ]
  },
  {
   "cell_type": "code",
   "execution_count": null,
   "metadata": {},
   "outputs": [],
   "source": [
    "c.execute('PRAGMA TABLE_INFO({})'.format(\"metadata\"))\n",
    "info = c.fetchall()\n",
    "\n",
    "print(\"\\nColumn Info:\\nID, Name, Type, NotNull, DefaultVal, PrimaryKey\")\n",
    "for col in info:\n",
    "    print(col)"
   ]
  },
  {
   "cell_type": "code",
   "execution_count": null,
   "metadata": {},
   "outputs": [],
   "source": [
    "c.execute('PRAGMA TABLE_INFO({})'.format(\"images\"))\n",
    "info = c.fetchall()\n",
    "\n",
    "print(\"\\nColumn Info:\\nID, Name, Type, NotNull, DefaultVal, PrimaryKey\")\n",
    "for col in info:\n",
    "    print(col)"
   ]
  },
  {
   "cell_type": "code",
   "execution_count": null,
   "metadata": {},
   "outputs": [],
   "source": [
    "# Get list of all primary categories\n",
    "\n",
    "c.execute('''\n",
    "    SELECT substr(trim(metadata.cat),1,instr(trim(metadata.cat)||' ',' ')-1), count(images.identifier)\n",
    "    FROM images\n",
    "    LEFT JOIN metadata ON images.identifier = metadata.identifier \n",
    "    GROUP BY substr(trim(metadata.cat),1,instr(trim(metadata.cat)||' ',' ')-1)\n",
    "    ORDER BY count(images.identifier) DESC    \n",
    "    ''')\n",
    "rows = c.fetchall()\n",
    "for row in rows:\n",
    "    print(row)"
   ]
  },
  {
   "cell_type": "code",
   "execution_count": null,
   "metadata": {},
   "outputs": [],
   "source": [
    "print(len(rows))"
   ]
  },
  {
   "cell_type": "code",
   "execution_count": null,
   "metadata": {},
   "outputs": [],
   "source": [
    "catlist = rows\n",
    "for cat in catlist:\n",
    "    print(str(cat[0]))"
   ]
  },
  {
   "cell_type": "code",
   "execution_count": null,
   "metadata": {},
   "outputs": [],
   "source": [
    "# sql command to go through each category and check the total number of articles for each year\n",
    "\n",
    "sql = ('''\n",
    "    SELECT count(metadata.identifier), strftime(\"%Y\", metadata.created) as 'Y'\n",
    "    FROM metadata\n",
    "    WHERE substr(trim(cat),1,instr(trim(cat)||' ',' ')-1) = ?\n",
    "    GROUP BY strftime(\"%Y\", metadata.created)\n",
    "    ORDER BY strftime(\"%Y\", metadata.created) ASC\n",
    "    ''')\n",
    "\n",
    "data = []\n",
    "\n",
    "for cat in catlist:\n",
    "    print(\"querying for category: \" + str(cat[0]))\n",
    "    c.execute(sql, (cat[0], ))\n",
    "    rows = c.fetchall()\n",
    "    \n",
    "#     print(\"total number of images found: \" + str(len(rows)))\n",
    "    print(rows)\n",
    "#     print(\"total number of articles: \" + rows[0][0])\n",
    "\n",
    "    years = []\n",
    "    totals = []\n",
    "    \n",
    "    for row in rows:\n",
    "        years.append(row[1])\n",
    "        totals.append(row[0])\n",
    "        \n",
    "    newdata = [cat[0], years, totals]\n",
    "    data.append(newdata)\n",
    "    \n",
    "\n",
    "print(\"*\" * 20)\n",
    "print(\"done\")"
   ]
  },
  {
   "cell_type": "code",
   "execution_count": null,
   "metadata": {},
   "outputs": [],
   "source": [
    "# remove any entries of 2019 in the years and articles columns of data (don't have full data for this year)\n",
    "# if there is \"2019\" in the list of years, get the index and remove from both the year and no. article lists\n",
    "\n",
    "for cat in data:\n",
    "    while \"2019\" in cat[1]:\n",
    "        index = cat[1].index(\"2019\")\n",
    "        print(cat[0])\n",
    "        print(index)\n",
    "        del cat[2][index]\n",
    "        del cat[1][index]\n",
    "        print(\"*\" * 20)"
   ]
  },
  {
   "cell_type": "raw",
   "metadata": {},
   "source": [
    "#### Save data as json file for reloading (rather than having to query sql each time)"
   ]
  },
  {
   "cell_type": "code",
   "execution_count": null,
   "metadata": {},
   "outputs": [],
   "source": [
    "import json"
   ]
  },
  {
   "cell_type": "code",
   "execution_count": null,
   "metadata": {},
   "outputs": [],
   "source": [
    "with open(\"articles_cat_year.json\", \"w\") as write_file:\n",
    "    json.dump(data, write_file)\n",
    "    write_file.close()"
   ]
  },
  {
   "cell_type": "code",
   "execution_count": null,
   "metadata": {},
   "outputs": [],
   "source": [
    "loadedjson = []\n",
    "\n",
    "with open(\"articles_cat_year.json\", \"r\") as read_file:\n",
    "    loadedjson = json.load(read_file)\n",
    "    read_file.close()"
   ]
  },
  {
   "cell_type": "code",
   "execution_count": null,
   "metadata": {},
   "outputs": [],
   "source": [
    "print(loadedjson)"
   ]
  },
  {
   "cell_type": "code",
   "execution_count": null,
   "metadata": {},
   "outputs": [],
   "source": [
    "data == loadedjson"
   ]
  },
  {
   "cell_type": "raw",
   "metadata": {},
   "source": [
    "#### Save data as a serialized file using pickle"
   ]
  },
  {
   "cell_type": "code",
   "execution_count": null,
   "metadata": {},
   "outputs": [],
   "source": [
    "import pickle"
   ]
  },
  {
   "cell_type": "code",
   "execution_count": null,
   "metadata": {},
   "outputs": [],
   "source": [
    "with open(\"articles_cat_year.pickle\", \"wb\") as write_file:\n",
    "    pickle.dump(data, write_file)\n",
    "    write_file.close()"
   ]
  },
  {
   "cell_type": "code",
   "execution_count": null,
   "metadata": {},
   "outputs": [],
   "source": [
    "load_data = []\n",
    "\n",
    "with open(\"articles_cat_year.pickle\", \"rb\") as read_file:\n",
    "    load_data = pickle.load(read_file)\n",
    "    read_file.close()"
   ]
  },
  {
   "cell_type": "code",
   "execution_count": null,
   "metadata": {},
   "outputs": [],
   "source": [
    "with open(\"articles_cat_year_clean.pickle\", \"wb\") as write_file:\n",
    "    pickle.dump(data, write_file)\n",
    "    write_file.close()"
   ]
  },
  {
   "cell_type": "code",
   "execution_count": null,
   "metadata": {},
   "outputs": [],
   "source": [
    "load_data = []\n",
    "\n",
    "with open(\"articles_cat_year_clean.pickle\", \"rb\") as read_file:\n",
    "    load_data = pickle.load(read_file)\n",
    "    read_file.close()"
   ]
  },
  {
   "cell_type": "code",
   "execution_count": null,
   "metadata": {},
   "outputs": [],
   "source": [
    "print(load_data)"
   ]
  },
  {
   "cell_type": "code",
   "execution_count": null,
   "metadata": {},
   "outputs": [],
   "source": [
    "for cat in data:\n",
    "    for k in enumerate(cat[1]):\n",
    "        print(cat[1][k[0]])\n",
    "        cat[1][k[0]] = int(cat[1][k[0]])"
   ]
  },
  {
   "cell_type": "code",
   "execution_count": null,
   "metadata": {},
   "outputs": [],
   "source": [
    "print(data)"
   ]
  },
  {
   "cell_type": "code",
   "execution_count": null,
   "metadata": {},
   "outputs": [],
   "source": [
    "print(load_data == data)"
   ]
  },
  {
   "cell_type": "code",
   "execution_count": null,
   "metadata": {},
   "outputs": [],
   "source": [
    "print(type(data))"
   ]
  },
  {
   "cell_type": "code",
   "execution_count": null,
   "metadata": {},
   "outputs": [],
   "source": [
    "print(data[0])\n",
    "print(data[0][1])"
   ]
  },
  {
   "cell_type": "code",
   "execution_count": null,
   "metadata": {},
   "outputs": [],
   "source": [
    "print(len(data))"
   ]
  },
  {
   "cell_type": "code",
   "execution_count": null,
   "metadata": {},
   "outputs": [],
   "source": [
    "print(len(data[170]))"
   ]
  },
  {
   "cell_type": "code",
   "execution_count": null,
   "metadata": {},
   "outputs": [],
   "source": [
    "print(data[0][2])\n",
    "print(len(data[0][1]))\n",
    "print(len(data[0][2]))"
   ]
  },
  {
   "cell_type": "code",
   "execution_count": null,
   "metadata": {},
   "outputs": [],
   "source": [
    "# test data values\n",
    "\n",
    "years = [1990, 2000, 2010, 2020]\n",
    "points = [100, 125, 180, 260]\n",
    "testdata = [[\"hep-ph\", years, points]]\n",
    "\n",
    "print(testdata)\n",
    "print(testdata[0])\n",
    "print(testdata[0][1])"
   ]
  },
  {
   "cell_type": "code",
   "execution_count": null,
   "metadata": {},
   "outputs": [],
   "source": [
    "# test plot\n",
    "\n",
    "plt.plot(years, points, 'ro')\n",
    "plt.axis([1980, 2030, 0, 300])\n",
    "plt.show"
   ]
  },
  {
   "cell_type": "code",
   "execution_count": null,
   "metadata": {},
   "outputs": [],
   "source": [
    "import math\n",
    "\n",
    "minY = math.inf\n",
    "maxY = -(math.inf)\n",
    "minA = math.inf\n",
    "maxA = -(math.inf)"
   ]
  },
  {
   "cell_type": "code",
   "execution_count": null,
   "metadata": {},
   "outputs": [],
   "source": [
    "# get the maximums and minimums of year and no. articles for figuring out axes\n",
    "\n",
    "for cat in data:\n",
    "#     print(len(cat))\n",
    "    print(cat[0])\n",
    "    if min(cat[1]) < minY: minY = min(cat[1])\n",
    "    if max(cat[1]) > maxY: maxY = max(cat[1])\n",
    "    if min(cat[2]) < minA: minA = min(cat[2])\n",
    "    if max(cat[2]) > maxA: maxA = max(cat[2])\n",
    "    print(\"min year: \" + str(min(cat[1])))\n",
    "    print(\"max year: \" + str(max(cat[1])))\n",
    "    print(\"min articles: \" + str(min(cat[2])))\n",
    "    print(\"max articles: \" + str(max(cat[2])))\n",
    "    print(\"*\" * 20)\n",
    "    \n",
    "print(\"minY: \" + str(minY))\n",
    "print(\"maxY: \" + str(maxY))\n",
    "print(\"minA: \" + str(minA))\n",
    "print(\"maxA: \" + str(maxA))\n",
    "              \n",
    "print(\"done\")"
   ]
  },
  {
   "cell_type": "code",
   "execution_count": null,
   "metadata": {},
   "outputs": [],
   "source": [
    "print(data)"
   ]
  },
  {
   "cell_type": "code",
   "execution_count": null,
   "metadata": {},
   "outputs": [],
   "source": [
    "# write the data in an org-friendly format for posting on github\n",
    "for cat in data:\n",
    "    print(\"* \" + cat[0])\n",
    "    joined = list(zip(cat[1], cat[2]))\n",
    "    #     print(joined)\n",
    "    print(\"|-|-|\")\n",
    "    for j in joined:\n",
    "        print('|' + str(j[0]) + \"|\" + str(j[1]) + \"|\")\n",
    "    print(\"|-|-|\")"
   ]
  },
  {
   "cell_type": "code",
   "execution_count": null,
   "metadata": {},
   "outputs": [],
   "source": [
    "# write the data to a file\n",
    "with open(\"stats_article_cat_year.org\", \"w\") as write_file:\n",
    "    for cat in data:\n",
    "        print(\"* \" + cat[0], file=write_file)\n",
    "        joined = list(zip(cat[1], cat[2]))\n",
    "        #     print(joined)\n",
    "        print(\"|-|-|\", file=write_file)\n",
    "        for j in joined:\n",
    "            print('|' + str(j[0]) + \"|\" + str(j[1]) + \"|\", file=write_file)\n",
    "        print(\"|-|-|\", file=write_file)\n",
    "write_file.close()"
   ]
  },
  {
   "cell_type": "code",
   "execution_count": null,
   "metadata": {},
   "outputs": [],
   "source": [
    "print(joined)"
   ]
  },
  {
   "cell_type": "code",
   "execution_count": null,
   "metadata": {},
   "outputs": [],
   "source": [
    "print(joined[0])"
   ]
  },
  {
   "cell_type": "code",
   "execution_count": null,
   "metadata": {},
   "outputs": [],
   "source": [
    "for cat in data:\n",
    "    print(\"do list lengths match?\")\n",
    "    print(len(cat[1]) == len(cat[2]))"
   ]
  },
  {
   "cell_type": "code",
   "execution_count": null,
   "metadata": {},
   "outputs": [],
   "source": [
    "fig = plt.figure(1, figsize=(9, 9))\n",
    "\n",
    "ax1 = fig.add_subplot(2, 2, 1)\n",
    "ax1.plot(data[0][1], data[0][2], '--o')\n",
    "ax1.title.set_text(data[0][0])\n",
    "plt.ylabel(\"articles\")\n",
    "plt.xlabel(\"year\")\n",
    "# add one to the maximum year for alignment\n",
    "plt.axis([minY, maxY+1, minA, maxA])\n",
    "\n",
    "plt.show"
   ]
  },
  {
   "cell_type": "code",
   "execution_count": null,
   "metadata": {},
   "outputs": [],
   "source": [
    "xdim = 15\n",
    "ydim = 12\n",
    "\n",
    "fig, ax = plt.subplots(ydim, xdim, sharex='col', sharey='row')\n",
    "fig.set_size_inches(40, 30)\n",
    "\n",
    "data_size = len(data)\n",
    "\n",
    "for i in range(ydim):\n",
    "    for j in range(xdim):\n",
    "        idx = (i * xdim) + j\n",
    "        if idx < data_size:\n",
    "            ax[i, j].plot(data[idx][1], data[idx][2], '--o')\n",
    "            ax[i, j].title.set_text(data[idx][0])\n",
    "            ax[i, j].axis([minY, maxY+1, minA, maxA])"
   ]
  },
  {
   "cell_type": "code",
   "execution_count": null,
   "metadata": {},
   "outputs": [],
   "source": [
    "fig.savefig(\"plot_articles_cat_year_04.png\", dpi=300)"
   ]
  },
  {
   "cell_type": "code",
   "execution_count": null,
   "metadata": {},
   "outputs": [],
   "source": [
    "xdim = 15\n",
    "ydim = 12\n",
    "\n",
    "fig, ax = plt.subplots(ydim, xdim)\n",
    "fig.subplots_adjust(hspace=0.4, wspace=0.4)\n",
    "fig.set_size_inches(40, 30)\n",
    "\n",
    "data_size = len(data)\n",
    "\n",
    "for i in range(ydim):\n",
    "    for j in range(xdim):\n",
    "        idx = (i * xdim) + j\n",
    "        if idx < data_size:\n",
    "            ax[i, j].plot(data[idx][1], data[idx][2], '--o')\n",
    "            ax[i, j].title.set_text(data[idx][0])\n",
    "#             ax[i, j].axis([minY, maxY+1, minA, maxA])"
   ]
  },
  {
   "cell_type": "code",
   "execution_count": null,
   "metadata": {},
   "outputs": [],
   "source": [
    "fig.savefig(\"plot_articles_cat_year_indax_01.png\", dpi=300)"
   ]
  },
  {
   "cell_type": "code",
   "execution_count": null,
   "metadata": {},
   "outputs": [],
   "source": [
    "print(data[0][1])"
   ]
  },
  {
   "cell_type": "code",
   "execution_count": null,
   "metadata": {},
   "outputs": [],
   "source": [
    "print(data[0][1][0])"
   ]
  },
  {
   "cell_type": "code",
   "execution_count": null,
   "metadata": {},
   "outputs": [],
   "source": [
    "print(data[0][1])\n",
    "print(data[0][2])"
   ]
  },
  {
   "cell_type": "code",
   "execution_count": null,
   "metadata": {},
   "outputs": [],
   "source": [
    "plt.plot(data[1][1], data[1][2], '--o')\n",
    "# plt.axis([1980, 2030, 0, 5000])\n",
    "plt.show"
   ]
  },
  {
   "cell_type": "code",
   "execution_count": null,
   "metadata": {},
   "outputs": [],
   "source": [
    "from matplotlib.pyplot import figure\n"
   ]
  },
  {
   "cell_type": "code",
   "execution_count": null,
   "metadata": {},
   "outputs": [],
   "source": [
    "count = 1\n",
    "for d in data[0:9]:\n",
    "    plt.subplot(3, 3, count)\n",
    "    count += 1\n",
    "    # d[1], d[2]\n",
    "plt.show"
   ]
  },
  {
   "cell_type": "code",
   "execution_count": null,
   "metadata": {},
   "outputs": [],
   "source": [
    "fig, ax = plt.subplots(3, 3, sharex='col', sharey='row')"
   ]
  },
  {
   "cell_type": "code",
   "execution_count": null,
   "metadata": {},
   "outputs": [],
   "source": [
    "fig"
   ]
  },
  {
   "cell_type": "code",
   "execution_count": null,
   "metadata": {},
   "outputs": [],
   "source": [
    "fig.set_size_inches(18.5, 10.5)\n",
    "fig"
   ]
  },
  {
   "cell_type": "code",
   "execution_count": null,
   "metadata": {},
   "outputs": [],
   "source": []
  }
 ],
 "metadata": {
  "kernelspec": {
   "display_name": "Python 3",
   "language": "python",
   "name": "python3"
  },
  "language_info": {
   "codemirror_mode": {
    "name": "ipython",
    "version": 3
   },
   "file_extension": ".py",
   "mimetype": "text/x-python",
   "name": "python",
   "nbconvert_exporter": "python",
   "pygments_lexer": "ipython3",
   "version": "3.7.2"
  }
 },
 "nbformat": 4,
 "nbformat_minor": 2
}
