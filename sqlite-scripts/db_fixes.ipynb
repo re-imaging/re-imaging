{
 "cells": [
  {
   "cell_type": "code",
   "execution_count": 129,
   "metadata": {},
   "outputs": [],
   "source": [
    "import os\n",
    "import xml.etree.ElementTree as ET"
   ]
  },
  {
   "cell_type": "code",
   "execution_count": 130,
   "metadata": {},
   "outputs": [],
   "source": [
    "import sqlite3"
   ]
  },
  {
   "cell_type": "code",
   "execution_count": 131,
   "metadata": {},
   "outputs": [],
   "source": [
    "# path on rte\n",
    "db_path = \"/home/rte/data/db/arxiv_db_images.sqlite3\""
   ]
  },
  {
   "cell_type": "code",
   "execution_count": 132,
   "metadata": {},
   "outputs": [],
   "source": [
    "db = sqlite3.connect(db_path)\n",
    "c = db.cursor()"
   ]
  },
  {
   "cell_type": "code",
   "execution_count": 133,
   "metadata": {},
   "outputs": [
    {
     "name": "stdout",
     "output_type": "stream",
     "text": [
      "\n",
      "Column Info:\n",
      "ID, Name, Type, NotNull, DefaultVal, PrimaryKey\n",
      "(0, 'id', 'INTEGER', 0, None, 1)\n",
      "(1, 'identifier', 'TEXT', 0, None, 0)\n",
      "(2, 'created', 'TEXT', 0, None, 0)\n",
      "(3, 'cat', 'TEXT', 0, None, 0)\n",
      "(4, 'authors', 'TEXT', 0, None, 0)\n",
      "(5, 'title', 'TEXT', 0, None, 0)\n",
      "(6, 'abstract', 'TEXT', 0, None, 0)\n",
      "(7, 'licence', 'TEXT', 0, None, 0)\n"
     ]
    }
   ],
   "source": [
    "c.execute('PRAGMA TABLE_INFO({})'.format(\"metadata\"))\n",
    "info = c.fetchall()\n",
    "\n",
    "print(\"\\nColumn Info:\\nID, Name, Type, NotNull, DefaultVal, PrimaryKey\")\n",
    "for col in info:\n",
    "    print(col)"
   ]
  },
  {
   "cell_type": "code",
   "execution_count": 134,
   "metadata": {},
   "outputs": [
    {
     "name": "stdout",
     "output_type": "stream",
     "text": [
      "\n",
      "Column Info:\n",
      "ID, Name, Type, NotNull, DefaultVal, PrimaryKey\n",
      "(0, 'id', 'INTEGER', 0, None, 1)\n",
      "(1, 'identifier', 'TEXT', 0, None, 0)\n",
      "(2, 'filename', 'TEXT', 0, None, 0)\n",
      "(3, 'filesize', 'INT', 0, None, 0)\n",
      "(4, 'path', 'TEXT', 0, None, 0)\n",
      "(5, 'x', 'INT', 0, None, 0)\n",
      "(6, 'y', 'INT', 0, None, 0)\n",
      "(7, 'imageformat', 'TEXT', 0, None, 0)\n"
     ]
    }
   ],
   "source": [
    "c.execute('PRAGMA TABLE_INFO({})'.format(\"images\"))\n",
    "info = c.fetchall()\n",
    "\n",
    "print(\"\\nColumn Info:\\nID, Name, Type, NotNull, DefaultVal, PrimaryKey\")\n",
    "for col in info:\n",
    "    print(col)"
   ]
  },
  {
   "cell_type": "code",
   "execution_count": 135,
   "metadata": {},
   "outputs": [
    {
     "name": "stdout",
     "output_type": "stream",
     "text": [
      "(4, 'acc-phys9607002')\n",
      "(1, 'math0402448')\n",
      "(12, 'math0609138')\n",
      "(17, 'nucl-th0501065')\n"
     ]
    }
   ],
   "source": [
    "# Find where there is no matching metadata for a given image\n",
    "\n",
    "c.execute('''\n",
    "    SELECT count(images.identifier), images.identifier\n",
    "    FROM images\n",
    "    LEFT JOIN metadata ON metadata.identifier = images.identifier\n",
    "    WHERE metadata.identifier IS NULL\n",
    "    GROUP BY images.identifier\n",
    "    ''')\n",
    "rows = c.fetchall()\n",
    "for row in rows:\n",
    "    print(row)"
   ]
  },
  {
   "cell_type": "code",
   "execution_count": 83,
   "metadata": {},
   "outputs": [
    {
     "name": "stdout",
     "output_type": "stream",
     "text": [
      "34\n"
     ]
    }
   ],
   "source": [
    "print(sum(row[0] for row in rows))"
   ]
  },
  {
   "cell_type": "code",
   "execution_count": 84,
   "metadata": {},
   "outputs": [
    {
     "name": "stdout",
     "output_type": "stream",
     "text": [
      "acc-phys9607002\n",
      "math0402448\n",
      "math0609138\n",
      "nucl-th0501065\n"
     ]
    }
   ],
   "source": [
    "# check which articles don't have a matching file\n",
    "\n",
    "os.chdir(\"/home/rte/arXiv/oai/\")\n",
    "\n",
    "for filename in (row[1] for row in rows):\n",
    "\n",
    "    if os.path.isfile(\"oai:arXiv.org:\" + filename + \".arXiv.xml\") is False:\n",
    "        print(filename)\n",
    "#         print(\"no matching file\")"
   ]
  },
  {
   "cell_type": "code",
   "execution_count": 88,
   "metadata": {},
   "outputs": [],
   "source": [
    "filenames = [\"math%2F0402448\", \"math%2F0609138\", \"nucl-th%2F0501065\"]\n",
    "# \"acc-phys9607002\"    "
   ]
  },
  {
   "cell_type": "code",
   "execution_count": 96,
   "metadata": {},
   "outputs": [
    {
     "ename": "ParseError",
     "evalue": "unbound prefix: line 1, column 0 (<string>)",
     "output_type": "error",
     "traceback": [
      "Traceback \u001b[0;36m(most recent call last)\u001b[0m:\n",
      "  File \u001b[1;32m\"/home/rte/code/anaconda3/envs/py37/lib/python3.7/site-packages/IPython/core/interactiveshell.py\"\u001b[0m, line \u001b[1;32m3296\u001b[0m, in \u001b[1;35mrun_code\u001b[0m\n    exec(code_obj, self.user_global_ns, self.user_ns)\n",
      "  File \u001b[1;32m\"<ipython-input-96-7029284183c9>\"\u001b[0m, line \u001b[1;32m17\u001b[0m, in \u001b[1;35m<module>\u001b[0m\n    data = ET.parse(filepath)\n",
      "  File \u001b[1;32m\"/home/rte/code/anaconda3/envs/py37/lib/python3.7/xml/etree/ElementTree.py\"\u001b[0m, line \u001b[1;32m1197\u001b[0m, in \u001b[1;35mparse\u001b[0m\n    tree.parse(source, parser)\n",
      "\u001b[0;36m  File \u001b[0;32m\"/home/rte/code/anaconda3/envs/py37/lib/python3.7/xml/etree/ElementTree.py\"\u001b[0;36m, line \u001b[0;32m598\u001b[0;36m, in \u001b[0;35mparse\u001b[0;36m\u001b[0m\n\u001b[0;31m    self._root = parser._parse_whole(source)\u001b[0m\n",
      "\u001b[0;36m  File \u001b[0;32m\"<string>\"\u001b[0;36m, line \u001b[0;32munknown\u001b[0m\n\u001b[0;31mParseError\u001b[0m\u001b[0;31m:\u001b[0m unbound prefix: line 1, column 0\n"
     ]
    }
   ],
   "source": [
    "os.chdir(\"/home/rte/arXiv/oai/\")\n",
    "# os.chdir(\"/home/rte/data/extra-metadata\")\n",
    "\n",
    "OAI = \"{http://www.openarchives.org/OAI/2.0/}\"\n",
    "ARXIV = \"{http://arxiv.org/OAI/arXiv/}\"\n",
    "\n",
    "# filenames = [\"0804.3168\"]\n",
    "\n",
    "# for filename in (row[1] for row in rows):\n",
    "for filename in filenames:\n",
    "    filepath = \"oai:arXiv.org:\" + filename + \".arXiv.xml\"\n",
    "#     filepath = filename\n",
    "\n",
    "    if os.path.isfile(filepath) is False:\n",
    "        print(filename + \" does not exist at this lcoation\")\n",
    "    else:\n",
    "        data = ET.parse(filepath)\n",
    "        print(\"opening file: \" + filepath)\n",
    "        root = data.getroot()    \n",
    "        \n",
    "        try:\n",
    "            \n",
    "#             for child in root:\n",
    "#                 print(child.tag, child.attrib)\n",
    "    \n",
    "            id_node = root.find(ARXIV+'id')\n",
    "#             print(id_node)\n",
    "            identifier = id_node.text\n",
    "#             print(identifier)\n",
    "            \n",
    "            date = root.find(ARXIV+'created').text\n",
    "            categories = root.find(ARXIV+'categories').text\n",
    "            title = root.find(ARXIV+'title').text\n",
    "            abstract = root.find(ARXIV+'abstract').text\n",
    "            \n",
    "            license_node = root.find(ARXIV+\"license\")\n",
    "\n",
    "            if license_node is not None:\n",
    "                lic = license_node.text\n",
    "                # print(\"license_node not None\")\n",
    "            else:\n",
    "                lic = \"\"\n",
    "            \n",
    "            # attempt to get authors, not working, needs work\n",
    "            authors = []\n",
    "            authors_element = root.find(ARXIV+\"authors\")\n",
    "            \n",
    "            # create a variable to store all authors names\n",
    "            anames = \"\"\n",
    "\n",
    "            for author in authors_element:\n",
    "                # print(author.find(ARXIV+\"keyname\").text)\n",
    "                aname = \"\"\n",
    "                kn = author.find(ARXIV+\"keyname\").text\n",
    "                fn_node = author.find(ARXIV+\"forenames\")\n",
    "                if fn_node is not None:\n",
    "                    fn = fn_node.text\n",
    "                else:\n",
    "                    fn = \"\"\n",
    "                aname =  kn + \", \" + fn + \"; \"\n",
    "\n",
    "                # for fn in authors_element.find(ARXIV+\"forenames\"):\n",
    "                    # aname += fn\n",
    "                    # print(fn)\n",
    "                # + author.find(ARXIV+\"forenames\").text\n",
    "                # print(aname)\n",
    "\n",
    "                anames += aname\n",
    "                # for child in author:\n",
    "                    # print(child.tag, child.attrib)\n",
    "                # authors.append(author.find(\"keyname\").text)\n",
    "                # authors.append(author.find(\"forenames\").text)\n",
    "\n",
    "            authors.append(anames)\n",
    "            \n",
    "            print(\"-\" * 20)\n",
    "            print(identifier)\n",
    "            print(date)\n",
    "            print(categories)\n",
    "#             print(authors)\n",
    "            authors = \"\" + str(authors)\n",
    "            print(authors)\n",
    "            print(title)\n",
    "            print(abstract)\n",
    "            print(lic) # don't use license as it is reserved for Python!\n",
    "            print(\"-\" * 20)\n",
    "            \n",
    "            c.execute(\"INSERT INTO metadata (identifier, created, cat, authors, title, abstract, licence) \\\n",
    "            VALUES (?, ?, ?, ?, ?, ?, ?)\", \\\n",
    "            (identifier, date, categories, authors, title, abstract, lic))\n",
    "            # , authors, title, abstract, licence\n",
    "            # , '{3}', '{4}', '{5}', '{6}'\n",
    "#             c.close()\n",
    "            \n",
    "        except KeyboardInterrupt:\n",
    "            db.commit()\n",
    "\n",
    "            # quit\n",
    "            sys.exit()\n",
    "        # except AttributeError as error:\n",
    "            # print(error)\n",
    "            # continue\n",
    "        except Exception as e:\n",
    "            raise e\n",
    "        "
   ]
  },
  {
   "cell_type": "code",
   "execution_count": 136,
   "metadata": {},
   "outputs": [],
   "source": [
    "filenames = [\"acc-phys9607002\"]"
   ]
  },
  {
   "cell_type": "code",
   "execution_count": 143,
   "metadata": {},
   "outputs": [
    {
     "name": "stdout",
     "output_type": "stream",
     "text": [
      "acc-phys9607002.xml\n",
      "opening file: acc-phys9607002.xml\n",
      "{http://arxiv.org/OAI/arXiv/}responseDate {}\n",
      "{http://arxiv.org/OAI/arXiv/}request {'verb': 'GetRecord', 'identifier': 'oai:arXiv.org:acc-phys/9607002', 'metadataPrefix': 'arXiv'}\n",
      "{http://arxiv.org/OAI/arXiv/}GetRecord {}\n",
      "record?\n",
      "{http://arxiv.org/OAI/arXiv/}header {}\n",
      "{http://arxiv.org/OAI/arXiv/}metadata {}\n",
      "<Element '{http://arxiv.org/OAI/arXiv/}metadata' at 0x7ff1316becc8>\n",
      "<Element '{http://arxiv.org/OAI/arXiv/}arXiv' at 0x7ff1316bed18>\n",
      "--------------------\n",
      "acc-phys/9607002\n",
      "1996-07-11\n",
      "acc-phys physics.acc-ph\n",
      "['Kurennoy, Sergey S.; ']\n",
      "Impedances and Power Losses for an Off-Axis Beam\n",
      "  A method for calculating coupling impedances and power losses for off-axis\n",
      "beams is developed. It is applied to calculate impedances of small localized\n",
      "discontinuities like holes and slots, as well as the impedance due to a finite\n",
      "resistivity of chamber walls, in homogeneous chambers with an arbitrary shape\n",
      "of the chamber cross section. The approach requires to solve a two-dimensional\n",
      "electrostatic problem, which can be easily done numerically in the general\n",
      "case, while for some particular cases analytical solutions are obtained.\n",
      "\n",
      "\n"
     ]
    }
   ],
   "source": [
    "# for last single xml file\n",
    "\n",
    "bVerbose = True\n",
    "\n",
    "os.chdir(\"/home/rte/data/extra-metadata/\")\n",
    "\n",
    "OAI = \"{http://www.openarchives.org/OAI/2.0/}\"\n",
    "ARXIV = \"{http://arxiv.org/OAI/arXiv/}\"\n",
    "\n",
    "# for filename in (row[1] for row in rows):\n",
    "for filename in filenames:\n",
    "#     filepath = \"oai:arXiv.org:\" + filename + \".arXiv.xml\"\n",
    "    filepath = filename + \".xml\"\n",
    "    print(filepath)\n",
    "\n",
    "    data = ET.parse(filepath)\n",
    "    if(bVerbose):\n",
    "        print(\"opening file: \" + filepath)\n",
    "    root = data.getroot()\n",
    "    \n",
    "    for child in root:\n",
    "        print(child.tag, child.attrib)\n",
    "\n",
    "    for GetRecord in root.findall(ARXIV+'GetRecord'):\n",
    "        for record in GetRecord.findall(ARXIV+'record'):\n",
    "            print(\"record?\")\n",
    "        \n",
    "            for child in record:\n",
    "                print(child.tag, child.attrib)\n",
    "            \n",
    "            try:\n",
    "                # arxiv_id = record.find('header').find('identifier')\n",
    "\n",
    "                meta = record.find(ARXIV+'metadata')\n",
    "                print(meta)\n",
    "                # this gets the arXiv element and then gets the text\n",
    "                # for some reason it grabs the identifier : /\n",
    "                id_node = meta.find(ARXIV+\"arXiv/\")\n",
    "                if id_node is not None:\n",
    "                    identifier = id_node.text\n",
    "                else:\n",
    "                    print(\"CONTINUING PAST RECORD - NO ID\")\n",
    "                    continue\n",
    "\n",
    "                info = meta.find(ARXIV+\"arXiv\")\n",
    "                print(info)\n",
    "                date = info.find(ARXIV+\"created\").text\n",
    "                # date = datetime.datetime.strptime(date, \"%Y-%m-%d\")\n",
    "                categories = info.find(ARXIV+\"categories\").text\n",
    "                title = info.find(ARXIV+\"title\").text\n",
    "                abstract = info.find(ARXIV+\"abstract\").text\n",
    "\n",
    "                license_node = info.find(ARXIV+\"license\")\n",
    "\n",
    "                if license_node is not None:\n",
    "                    lic = license_node.text\n",
    "                    # print(\"license_node not None\")\n",
    "                else:\n",
    "                    lic = \"\"\n",
    "\n",
    "                # attempt to get authors, not working, needs work\n",
    "                authors = []\n",
    "                authors_element = info.find(ARXIV+\"authors\")\n",
    "\n",
    "                # create a variable to store all authors names\n",
    "                anames = \"\"\n",
    "\n",
    "                for author in authors_element:\n",
    "                    # print(author.find(ARXIV+\"keyname\").text)\n",
    "                    aname = \"\"\n",
    "                    kn = author.find(ARXIV+\"keyname\").text\n",
    "                    fn_node = author.find(ARXIV+\"forenames\")\n",
    "                    if fn_node is not None:\n",
    "                        fn = fn_node.text\n",
    "                    else:\n",
    "                        fn = \"\"\n",
    "                    aname =  kn + \", \" + fn + \"; \"\n",
    "\n",
    "                    # for fn in authors_element.find(ARXIV+\"forenames\"):\n",
    "                        # aname += fn\n",
    "                        # print(fn)\n",
    "                    # + author.find(ARXIV+\"forenames\").text\n",
    "                    # print(aname)\n",
    "\n",
    "                    anames += aname\n",
    "                    # for child in author:\n",
    "                        # print(child.tag, child.attrib)\n",
    "                    # authors.append(author.find(\"keyname\").text)\n",
    "                    # authors.append(author.find(\"forenames\").text)\n",
    "\n",
    "                authors.append(anames)\n",
    "\n",
    "                if(bVerbose):\n",
    "                    print(\"-\" * 20)\n",
    "                    print(identifier)\n",
    "                    print(date)\n",
    "                    print(categories)\n",
    "                    authors = \"\" + str(authors)\n",
    "                    print(authors)\n",
    "                    print(title)\n",
    "                    print(abstract)\n",
    "                    print(lic) # don't use license as it is reserved for Python!\n",
    "\n",
    "    #             c = db.cursor()\n",
    "\n",
    "                c.execute(\"INSERT INTO metadata (identifier, created, cat, authors, title, abstract, licence) \\\n",
    "                VALUES (?, ?, ?, ?, ?, ?, ?)\", \\\n",
    "                (identifier, date, categories, authors, title, abstract, lic))\n",
    "\n",
    "            except KeyboardInterrupt:\n",
    "                db.commit()\n",
    "\n",
    "                # quit\n",
    "                sys.exit()\n",
    "            # except AttributeError as error:\n",
    "                # print(error)\n",
    "                # continue\n",
    "            except Exception as e:\n",
    "                raise e\n",
    "            # finally:"
   ]
  },
  {
   "cell_type": "code",
   "execution_count": null,
   "metadata": {},
   "outputs": [],
   "source": [
    "# semi-manual entry for last entry\n",
    "\n",
    "identifier = \"acc-phys/9607002\"\n",
    "date = \"1996-07-11\"\n",
    "\n",
    "            \n",
    "c.execute(\"INSERT INTO metadata (identifier, created, cat, authors, title, abstract, licence) \\\n",
    "VALUES (?, ?, ?, ?, ?, ?, ?)\", \\\n",
    "(identifier, date, categories, authors, title, abstract, lic))\n",
    "# , authors, title, abstract, licence\n",
    "# , '{3}', '{4}', '{5}', '{6}'\n",
    "#             c.close()"
   ]
  },
  {
   "cell_type": "code",
   "execution_count": 144,
   "metadata": {},
   "outputs": [],
   "source": [
    "db.commit()"
   ]
  },
  {
   "cell_type": "code",
   "execution_count": 145,
   "metadata": {},
   "outputs": [],
   "source": [
    "c.close()\n",
    "db.close()"
   ]
  },
  {
   "cell_type": "code",
   "execution_count": null,
   "metadata": {},
   "outputs": [],
   "source": [
    "# save (commit) changes\n",
    "\n",
    "db.commit()"
   ]
  }
 ],
 "metadata": {
  "kernelspec": {
   "display_name": "Python 3",
   "language": "python",
   "name": "python3"
  },
  "language_info": {
   "codemirror_mode": {
    "name": "ipython",
    "version": 3
   },
   "file_extension": ".py",
   "mimetype": "text/x-python",
   "name": "python",
   "nbconvert_exporter": "python",
   "pygments_lexer": "ipython3",
   "version": "3.7.2"
  }
 },
 "nbformat": 4,
 "nbformat_minor": 2
}
