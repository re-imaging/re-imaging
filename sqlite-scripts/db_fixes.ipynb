{
 "cells": [
  {
   "cell_type": "markdown",
   "metadata": {},
   "source": [
    "# DB Fixes\n",
    "\n",
    "Back up your database first!\n",
    "\n",
    "After inserting entries in database, some minor fixes to clean up data.\n",
    "- check which images have no matching metadata\n",
    "- go through all the OAI XML files to find this data\n",
    "- add it into the database\n",
    "\n",
    "NB: could be bugs in this and might require manual setting up depending on dataset and metadata"
   ]
  },
  {
   "cell_type": "code",
   "execution_count": null,
   "metadata": {},
   "outputs": [],
   "source": [
    "import os\n",
    "import xml.etree.ElementTree as ET\n",
    "import sqlite3"
   ]
  },
  {
   "cell_type": "markdown",
   "metadata": {},
   "source": [
    "Connect to database"
   ]
  },
  {
   "cell_type": "code",
   "execution_count": null,
   "metadata": {},
   "outputs": [],
   "source": [
    "db_path = \"/home/rte/data/db/arxiv_db_images.sqlite3\"\n",
    "db = sqlite3.connect(db_path)\n",
    "c = db.cursor()"
   ]
  },
  {
   "cell_type": "markdown",
   "metadata": {},
   "source": [
    "Check that we can access the table pragma info"
   ]
  },
  {
   "cell_type": "code",
   "execution_count": null,
   "metadata": {},
   "outputs": [],
   "source": [
    "c.execute('PRAGMA TABLE_INFO({})'.format(\"metadata\"))\n",
    "info = c.fetchall()\n",
    "\n",
    "print(\"\\nColumn Info:\\nID, Name, Type, NotNull, DefaultVal, PrimaryKey\")\n",
    "for col in info:\n",
    "    print(col)"
   ]
  },
  {
   "cell_type": "code",
   "execution_count": null,
   "metadata": {},
   "outputs": [],
   "source": [
    "c.execute('PRAGMA TABLE_INFO({})'.format(\"images\"))\n",
    "info = c.fetchall()\n",
    "\n",
    "print(\"\\nColumn Info:\\nID, Name, Type, NotNull, DefaultVal, PrimaryKey\")\n",
    "for col in info:\n",
    "    print(col)"
   ]
  },
  {
   "cell_type": "markdown",
   "metadata": {},
   "source": [
    "Find where there is no matching metadata for a given image by comparing identifiers. Print and also keep this list in the `rows` array for next step."
   ]
  },
  {
   "cell_type": "code",
   "execution_count": null,
   "metadata": {},
   "outputs": [],
   "source": [
    "c.execute('''\n",
    "    SELECT count(images.identifier), images.identifier\n",
    "    FROM images\n",
    "    LEFT JOIN metadata ON metadata.identifier = images.identifier\n",
    "    WHERE metadata.identifier IS NULL\n",
    "    GROUP BY images.identifier\n",
    "    ''')\n",
    "rows = c.fetchall()\n",
    "for row in rows:\n",
    "    print(row)"
   ]
  },
  {
   "cell_type": "code",
   "execution_count": null,
   "metadata": {},
   "outputs": [],
   "source": [
    "print(sum(row[0] for row in rows))"
   ]
  },
  {
   "cell_type": "markdown",
   "metadata": {},
   "source": [
    "There should only be a few entries that don't have metadata. In our case there were only 4.\n",
    "\n",
    "Next step is to download these entries manually using web requests. See https://arxiv.org/help/oa\n",
    "\n",
    "Example web url: http://export.arxiv.org/oai2?verb=GetRecord&identifier=oai:arXiv.org:0804.2273&metadataPrefix=arXiv\n",
    "(replace with your identifier and metadata prefix)\n",
    "\n",
    "After downloading these, we can check if we've got all matching files:"
   ]
  },
  {
   "cell_type": "code",
   "execution_count": null,
   "metadata": {},
   "outputs": [],
   "source": [
    "os.chdir(\"/home/rte/arXiv/oai/\")\n",
    "\n",
    "for filename in (row[1] for row in rows):\n",
    "\n",
    "    if os.path.isfile(\"oai:arXiv.org:\" + filename + \".arXiv.xml\") is False:\n",
    "        print(filename)\n",
    "#         print(\"no matching file\")"
   ]
  },
  {
   "cell_type": "markdown",
   "metadata": {},
   "source": [
    "Some manual cleaning of specific database entries. Create a list with the identifiers that we need, parse through the XML to get the required details, then insert these into the database."
   ]
  },
  {
   "cell_type": "code",
   "execution_count": null,
   "metadata": {},
   "outputs": [],
   "source": [
    "filenames = [\"math%2F0402448\", \"math%2F0609138\", \"nucl-th%2F0501065\"]\n",
    "# \"acc-phys9607002\"    "
   ]
  },
  {
   "cell_type": "code",
   "execution_count": null,
   "metadata": {},
   "outputs": [],
   "source": [
    "os.chdir(\"/home/rte/arXiv/oai/\")\n",
    "# os.chdir(\"/home/rte/data/extra-metadata\")\n",
    "\n",
    "OAI = \"{http://www.openarchives.org/OAI/2.0/}\"\n",
    "ARXIV = \"{http://arxiv.org/OAI/arXiv/}\"\n",
    "\n",
    "# filenames = [\"0804.3168\"]\n",
    "\n",
    "# for filename in (row[1] for row in rows):\n",
    "for filename in filenames:\n",
    "    filepath = \"oai:arXiv.org:\" + filename + \".arXiv.xml\"\n",
    "#     filepath = filename\n",
    "\n",
    "    if os.path.isfile(filepath) is False:\n",
    "        print(filename + \" does not exist at this lcoation\")\n",
    "    else:\n",
    "        data = ET.parse(filepath)\n",
    "        print(\"opening file: \" + filepath)\n",
    "        root = data.getroot()    \n",
    "        \n",
    "        try:  \n",
    "            id_node = root.find(ARXIV+'id')\n",
    "#             print(id_node)\n",
    "            identifier = id_node.text\n",
    "#             print(identifier)\n",
    "            \n",
    "            date = root.find(ARXIV+'created').text\n",
    "            categories = root.find(ARXIV+'categories').text\n",
    "            title = root.find(ARXIV+'title').text\n",
    "            abstract = root.find(ARXIV+'abstract').text\n",
    "            \n",
    "            license_node = root.find(ARXIV+\"license\")\n",
    "\n",
    "            if license_node is not None:\n",
    "                lic = license_node.text\n",
    "                # print(\"license_node not None\")\n",
    "            else:\n",
    "                lic = \"\"\n",
    "            \n",
    "            # attempt to get authors\n",
    "            authors_list = []\n",
    "            authors_element = root.find(ARXIV+\"authors\")\n",
    "            \n",
    "            # create a (string) variable to store all authors names\n",
    "            # for now, this just writes the whole list of authors as a string\n",
    "            anames = \"\"\n",
    "\n",
    "            for author in authors_element:\n",
    "                # print(author.find(ARXIV+\"keyname\").text)\n",
    "                aname = \"\"\n",
    "                kn = author.find(ARXIV+\"keyname\").text\n",
    "                fn_node = author.find(ARXIV+\"forenames\")\n",
    "                if fn_node is not None:\n",
    "                    fn = fn_node.text\n",
    "                else:\n",
    "                    fn = \"\"\n",
    "                aname =  kn + \", \" + fn + \"; \"\n",
    "\n",
    "                anames += aname\n",
    "\n",
    "            authors_list.append(anames)\n",
    "            \n",
    "            # convert to string and remove extra characters\n",
    "            # authors = \"\" + str(authors)\n",
    "            authors = (str)(authors_list)[2:-4]\n",
    "            \n",
    "            print(\"-\" * 20)\n",
    "            print(identifier)\n",
    "            print(date)\n",
    "            print(categories)\n",
    "            print(authors)\n",
    "            print(title)\n",
    "            print(abstract)\n",
    "            print(lic) # don't use license as it is reserved for Python!\n",
    "            print(\"-\" * 20)\n",
    "            \n",
    "            c.execute(\"INSERT INTO metadata (identifier, created, cat, authors, title, abstract, licence) \\\n",
    "            VALUES (?, ?, ?, ?, ?, ?, ?)\", \\\n",
    "            (identifier, date, categories, authors, title, abstract, lic))\n",
    "            \n",
    "        except KeyboardInterrupt:\n",
    "            db.commit()\n",
    "\n",
    "            # quit\n",
    "            sys.exit()\n",
    "        # except AttributeError as error:\n",
    "            # print(error)\n",
    "            # continue\n",
    "        except Exception as e:\n",
    "            raise e\n",
    "\n",
    "# finally commit the changes\n",
    "db.commit()\n",
    "        "
   ]
  },
  {
   "cell_type": "code",
   "execution_count": null,
   "metadata": {},
   "outputs": [],
   "source": [
    "filenames = [\"acc-phys9607002\"]"
   ]
  },
  {
   "cell_type": "code",
   "execution_count": null,
   "metadata": {},
   "outputs": [],
   "source": [
    "# semi-manual entry for last entry\n",
    "# for some reason this didn't work automatically using the block above\n",
    "\n",
    "identifier = \"acc-phys/9607002\"\n",
    "date = \"1996-07-11\"\n",
    "\n",
    "            \n",
    "c.execute(\"INSERT INTO metadata (identifier, created, cat, authors, title, abstract, licence) \\\n",
    "VALUES (?, ?, ?, ?, ?, ?, ?)\", \\\n",
    "(identifier, date, categories, authors, title, abstract, lic))\n",
    "# , authors, title, abstract, licence\n",
    "# , '{3}', '{4}', '{5}', '{6}'\n",
    "#             c.close()"
   ]
  },
  {
   "cell_type": "code",
   "execution_count": null,
   "metadata": {},
   "outputs": [],
   "source": [
    "db.commit()"
   ]
  },
  {
   "cell_type": "code",
   "execution_count": null,
   "metadata": {},
   "outputs": [],
   "source": [
    "c.close()\n",
    "db.close()"
   ]
  }
 ],
 "metadata": {
  "kernelspec": {
   "display_name": "Python 3",
   "language": "python",
   "name": "python3"
  },
  "language_info": {
   "codemirror_mode": {
    "name": "ipython",
    "version": 3
   },
   "file_extension": ".py",
   "mimetype": "text/x-python",
   "name": "python",
   "nbconvert_exporter": "python",
   "pygments_lexer": "ipython3",
   "version": "3.7.2"
  }
 },
 "nbformat": 4,
 "nbformat_minor": 2
}
