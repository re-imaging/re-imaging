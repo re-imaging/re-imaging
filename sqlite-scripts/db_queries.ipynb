{
 "cells": [
  {
   "cell_type": "markdown",
   "metadata": {},
   "source": [
    "# db_queries\n",
    "#### Notebook for running python sqlite3 commands for querying database"
   ]
  },
  {
   "cell_type": "code",
   "execution_count": 1,
   "metadata": {},
   "outputs": [
    {
     "ename": "ImportError",
     "evalue": "No module named matplotlib.pyplot",
     "output_type": "error",
     "traceback": [
      "\u001b[0;31m---------------------------------------------------------------------------\u001b[0m",
      "\u001b[0;31mImportError\u001b[0m                               Traceback (most recent call last)",
      "\u001b[0;32m<ipython-input-1-49d7df184c05>\u001b[0m in \u001b[0;36m<module>\u001b[0;34m()\u001b[0m\n\u001b[0;32m----> 1\u001b[0;31m \u001b[0;32mimport\u001b[0m \u001b[0mmatplotlib\u001b[0m\u001b[0;34m.\u001b[0m\u001b[0mpyplot\u001b[0m \u001b[0;32mas\u001b[0m \u001b[0mplt\u001b[0m\u001b[0;34m\u001b[0m\u001b[0m\n\u001b[0m\u001b[1;32m      2\u001b[0m \u001b[0;32mimport\u001b[0m \u001b[0mnumpy\u001b[0m \u001b[0;32mas\u001b[0m \u001b[0mnp\u001b[0m\u001b[0;34m\u001b[0m\u001b[0m\n",
      "\u001b[0;31mImportError\u001b[0m: No module named matplotlib.pyplot"
     ]
    }
   ],
   "source": [
    "import matplotlib.pyplot as plt\n",
    "import numpy as np"
   ]
  },
  {
   "cell_type": "code",
   "execution_count": 2,
   "metadata": {
    "collapsed": true
   },
   "outputs": [],
   "source": [
    "import sqlite3"
   ]
  },
  {
   "cell_type": "code",
   "execution_count": 3,
   "metadata": {
    "collapsed": true
   },
   "outputs": [],
   "source": [
    "# path on rte\n",
    "db_path = \"/home/rte/data/db/arxiv_db_images.sqlite3\""
   ]
  },
  {
   "cell_type": "code",
   "execution_count": null,
   "metadata": {
    "collapsed": true
   },
   "outputs": [],
   "source": [
    "# path on kt\n",
    "db_path = \"/home/kt/rte/db/arxiv_db_images.sqlite3\""
   ]
  },
  {
   "cell_type": "code",
   "execution_count": 4,
   "metadata": {
    "collapsed": true
   },
   "outputs": [],
   "source": [
    "# Here we import the sqlite3 database and create a cursor\n",
    "\n",
    "db = sqlite3.connect(db_path)\n",
    "c = db.cursor()"
   ]
  },
  {
   "cell_type": "markdown",
   "metadata": {},
   "source": [
    "Get the pragma table info for each table"
   ]
  },
  {
   "cell_type": "code",
   "execution_count": 5,
   "metadata": {
    "scrolled": false
   },
   "outputs": [
    {
     "name": "stdout",
     "output_type": "stream",
     "text": [
      "\n",
      "Column Info:\n",
      "ID, Name, Type, NotNull, DefaultVal, PrimaryKey\n",
      "(0, 'id', 'INTEGER', 0, None, 1)\n",
      "(1, 'identifier', 'TEXT', 0, None, 0)\n",
      "(2, 'created', 'TEXT', 0, None, 0)\n",
      "(3, 'cat', 'TEXT', 0, None, 0)\n",
      "(4, 'authors', 'TEXT', 0, None, 0)\n",
      "(5, 'title', 'TEXT', 0, None, 0)\n",
      "(6, 'abstract', 'TEXT', 0, None, 0)\n",
      "(7, 'licence', 'TEXT', 0, None, 0)\n"
     ]
    }
   ],
   "source": [
    "c.execute('PRAGMA TABLE_INFO({})'.format(\"metadata\"))\n",
    "info = c.fetchall()\n",
    "\n",
    "print(\"\\nColumn Info:\\nID, Name, Type, NotNull, DefaultVal, PrimaryKey\")\n",
    "for col in info:\n",
    "    print(col)"
   ]
  },
  {
   "cell_type": "code",
   "execution_count": 6,
   "metadata": {},
   "outputs": [
    {
     "name": "stdout",
     "output_type": "stream",
     "text": [
      "\n",
      "Column Info:\n",
      "ID, Name, Type, NotNull, DefaultVal, PrimaryKey\n",
      "(0, 'id', 'INTEGER', 0, None, 1)\n",
      "(1, 'identifier', 'TEXT', 0, None, 0)\n",
      "(2, 'filename', 'TEXT', 0, None, 0)\n",
      "(3, 'filesize', 'INT', 0, None, 0)\n",
      "(4, 'path', 'TEXT', 0, None, 0)\n",
      "(5, 'x', 'INT', 0, None, 0)\n",
      "(6, 'y', 'INT', 0, None, 0)\n",
      "(7, 'imageformat', 'TEXT', 0, None, 0)\n"
     ]
    }
   ],
   "source": [
    "c.execute('PRAGMA TABLE_INFO({})'.format(\"images\"))\n",
    "info = c.fetchall()\n",
    "\n",
    "print(\"\\nColumn Info:\\nID, Name, Type, NotNull, DefaultVal, PrimaryKey\")\n",
    "for col in info:\n",
    "    print(col)"
   ]
  },
  {
   "cell_type": "markdown",
   "metadata": {},
   "source": [
    "Quick test to retrive one row"
   ]
  },
  {
   "cell_type": "code",
   "execution_count": 7,
   "metadata": {},
   "outputs": [
    {
     "name": "stdout",
     "output_type": "stream",
     "text": [
      "(1, 'cond-mat0606521', 'lay_f2.eps', 29311, './0606/cond-mat0606521', 250, 180, 'PS')\n"
     ]
    }
   ],
   "source": [
    "c.execute('''\n",
    "    SELECT * \n",
    "    FROM images \n",
    "    ORDER BY ROWID ASC \n",
    "    LIMIT 1\n",
    "''')\n",
    "rows = c.fetchall()\n",
    "for row in rows:\n",
    "    print(row)"
   ]
  },
  {
   "cell_type": "code",
   "execution_count": 8,
   "metadata": {},
   "outputs": [
    {
     "name": "stdout",
     "output_type": "stream",
     "text": [
      "(1, '0704.0026', '2007-03-31', 'math.RA', \"['de Marrais, Robert P. C.; ']\", 'Placeholder Substructures II: Meta-Fractals, Made of Box-Kites, Fill\\n  Infinite-Dimensional Skies', '  Zero-divisors (ZDs) derived by Cayley-Dickson Process (CDP) from\\nN-dimensional hypercomplex numbers (N a power of 2, at least 4) can represent\\nsingularities and, as N approaches infinite, fractals -- and thereby,scale-free\\nnetworks. Any integer greater than 8 and not a power of 2 generates a\\nmeta-fractal or \"Sky\" when it is interpreted as the \"strut constant\" (S) of an\\nensemble of octahedral vertex figures called \"Box-Kites\" (the fundamental\\nbuilding blocks of ZDs). Remarkably simple bit-manipulation rules or \"recipes\"\\nprovide tools for transforming one fractal genus into others within the context\\nof Wolfram\\'s Class 4 complexity.\\n', '')\n"
     ]
    }
   ],
   "source": [
    "c.execute('''\n",
    "    SELECT * \n",
    "    FROM metadata \n",
    "    ORDER BY ROWID ASC \n",
    "    LIMIT 1\n",
    "''')\n",
    "rows = c.fetchall()\n",
    "for row in rows:\n",
    "    print(row)"
   ]
  },
  {
   "cell_type": "markdown",
   "metadata": {},
   "source": [
    "Find any duplicate identifiers"
   ]
  },
  {
   "cell_type": "code",
   "execution_count": 9,
   "metadata": {
    "collapsed": true
   },
   "outputs": [],
   "source": [
    "# look for duplicate rows in the metadata table\n",
    "c.execute('''\n",
    "    SELECT identifier, COUNT(identifier)\n",
    "    FROM metadata\n",
    "    GROUP BY identifier\n",
    "    HAVING COUNT(identifier) > 1\n",
    "    ''')\n",
    "rows = c.fetchall()\n",
    "for row in rows:\n",
    "    print(row)"
   ]
  },
  {
   "cell_type": "code",
   "execution_count": null,
   "metadata": {
    "collapsed": true
   },
   "outputs": [],
   "source": [
    "# look for duplicate rows in the images table (brings up totals for images by article ID)\n",
    "c.execute('''\n",
    "    SELECT identifier, COUNT(identifier)\n",
    "    FROM images\n",
    "    GROUP BY identifier\n",
    "    HAVING COUNT(identifier) > 0\n",
    "    ''')\n",
    "rows = c.fetchall()\n",
    "for row in rows:\n",
    "    print(row)"
   ]
  },
  {
   "cell_type": "code",
   "execution_count": 11,
   "metadata": {
    "scrolled": true
   },
   "outputs": [
    {
     "name": "stdout",
     "output_type": "stream",
     "text": [
      "('1986-04-25', 'physics9403001')\n",
      "('1988-11-11', 'hep-th9108028')\n",
      "('1989-04-14', 'math9201239')\n",
      "('1989-10-26', 'math9201205')\n",
      "('1989-10-26', 'math9201203')\n",
      "('1989-10-26', 'math9201204')\n",
      "('1989-11-09', 'math9201206')\n",
      "('1989-11-17', 'math9201207')\n",
      "('1989-12-31', 'math9201303')\n",
      "('1989-12-31', 'cs9301111')\n",
      "('1990-01-14', 'math9201241')\n",
      "('1990-01-14', 'math9201240')\n",
      "('1990-01-14', 'math9201242')\n",
      "('1990-01-17', 'math9201271')\n",
      "('1990-02-15', 'math9201208')\n",
      "('1990-02-18', 'math9201209')\n",
      "('1990-03-15', 'math9201210')\n",
      "('1990-03-27', 'math9201211')\n",
      "('1990-03-31', 'cs9301112')\n",
      "('1990-04-19', 'math9201272')\n"
     ]
    }
   ],
   "source": [
    "# Find the earliest date of an article\n",
    "\n",
    "c.execute('''\n",
    "    SELECT created, identifier\n",
    "    FROM metadata\n",
    "    WHERE created IS NOT NULL\n",
    "    ORDER BY created ASC\n",
    "    LIMIT 20\n",
    "    ''')\n",
    "rows = c.fetchall()\n",
    "for row in rows:\n",
    "    print(row)"
   ]
  },
  {
   "cell_type": "code",
   "execution_count": null,
   "metadata": {
    "collapsed": true,
    "scrolled": true
   },
   "outputs": [],
   "source": [
    "# Find the earliest dated articles and get the identifiers\n",
    "\n",
    "c.execute('''\n",
    "    SELECT images.identifier, metadata.created, metadata.identifier \n",
    "    FROM images\n",
    "    LEFT JOIN metadata ON images.identifier = metadata.identifier\n",
    "    WHERE metadata.created IS NOT NULL\n",
    "    ORDER BY created ASC\n",
    "    LIMIT 20\n",
    "    ''')\n",
    "    \n",
    "rows = c.fetchall()\n",
    "for row in rows:\n",
    "    print(row)"
   ]
  },
  {
   "cell_type": "code",
   "execution_count": 12,
   "metadata": {},
   "outputs": [
    {
     "name": "stdout",
     "output_type": "stream",
     "text": [
      "(1506562,)\n"
     ]
    }
   ],
   "source": [
    "# Find total number of rows in metadata\n",
    "\n",
    "c.execute('''\n",
    "    SELECT count(*)\n",
    "    FROM metadata\n",
    "    ''')\n",
    "rows = c.fetchall()\n",
    "for row in rows:\n",
    "    print(row)"
   ]
  },
  {
   "cell_type": "code",
   "execution_count": 13,
   "metadata": {},
   "outputs": [
    {
     "name": "stdout",
     "output_type": "stream",
     "text": [
      "(10061222,)\n"
     ]
    }
   ],
   "source": [
    "# Find total number of rows in images\n",
    "\n",
    "c.execute('''\n",
    "    SELECT count(*)\n",
    "    FROM images\n",
    "    ''')\n",
    "rows = c.fetchall()\n",
    "for row in rows:\n",
    "    print(row)"
   ]
  },
  {
   "cell_type": "code",
   "execution_count": null,
   "metadata": {
    "collapsed": true
   },
   "outputs": [],
   "source": [
    "# Get average of the x size column\n",
    "\n",
    "c.execute('''\n",
    "    SELECT avg(x)\n",
    "    FROM images\n",
    "    ''')\n",
    "rows = c.fetchall()\n",
    "for row in rows:\n",
    "    print(row)"
   ]
  },
  {
   "cell_type": "code",
   "execution_count": null,
   "metadata": {
    "collapsed": true
   },
   "outputs": [],
   "source": [
    "# Get average of the y size column\n",
    "\n",
    "c.execute('''\n",
    "    SELECT avg(y)\n",
    "    FROM images\n",
    "    ''')\n",
    "rows = c.fetchall()\n",
    "for row in rows:\n",
    "    print(row)"
   ]
  },
  {
   "cell_type": "code",
   "execution_count": null,
   "metadata": {
    "collapsed": true
   },
   "outputs": [],
   "source": [
    "# Find where there are NULL values for x\n",
    "\n",
    "c.execute('''\n",
    "    SELECT id, identifier, path, filename, filesize, x, y, imageformat\n",
    "    FROM images\n",
    "    WHERE x is null or x = ''\n",
    "    AND y is null or y = ''\n",
    "    AND imageformat is null or imageformat = ''\n",
    "    ''')\n",
    "rows = c.fetchall()\n",
    "for row in rows:\n",
    "    print(row)"
   ]
  },
  {
   "cell_type": "code",
   "execution_count": null,
   "metadata": {
    "collapsed": true
   },
   "outputs": [],
   "source": [
    "# Find where there are NULL values for y\n",
    "\n",
    "c.execute('''\n",
    "    SELECT id, identifier, path, filename, filesize, x, y, imageformat\n",
    "    FROM images\n",
    "    WHERE y is null or y = ''\n",
    "    ''')\n",
    "rows = c.fetchall()\n",
    "for row in rows:\n",
    "    print(row)"
   ]
  },
  {
   "cell_type": "code",
   "execution_count": null,
   "metadata": {
    "collapsed": true
   },
   "outputs": [],
   "source": [
    "print(len(rows))"
   ]
  },
  {
   "cell_type": "code",
   "execution_count": null,
   "metadata": {
    "collapsed": true
   },
   "outputs": [],
   "source": [
    "# Find where there are NULL values for identifier\n",
    "\n",
    "c.execute('''\n",
    "    SELECT id, identifier, path, filesize, x, y, imageformat\n",
    "    FROM images\n",
    "    WHERE identifier is null or identifier = ''\n",
    "    ''')\n",
    "rows = c.fetchall()\n",
    "for row in rows:\n",
    "    print(row)\n",
    "    \n",
    "# no result is a good result!"
   ]
  },
  {
   "cell_type": "code",
   "execution_count": null,
   "metadata": {
    "collapsed": true
   },
   "outputs": [],
   "source": [
    "# Find where there are NULL values for filesize\n",
    "\n",
    "c.execute('''\n",
    "    SELECT id, identifier, path, filesize, x, y, imageformat\n",
    "    FROM images\n",
    "    WHERE filesize is null or filesize = ''\n",
    "    ''')\n",
    "rows = c.fetchall()\n",
    "for row in rows:\n",
    "    print(row)"
   ]
  },
  {
   "cell_type": "code",
   "execution_count": null,
   "metadata": {
    "collapsed": true
   },
   "outputs": [],
   "source": [
    "print(len(rows))"
   ]
  },
  {
   "cell_type": "code",
   "execution_count": null,
   "metadata": {
    "collapsed": true
   },
   "outputs": [],
   "source": [
    "# save (commit) changes\n",
    "\n",
    "db.commit()"
   ]
  },
  {
   "cell_type": "code",
   "execution_count": null,
   "metadata": {
    "collapsed": true
   },
   "outputs": [],
   "source": [
    "# Get total number of images per article\n",
    "\n",
    "c.execute('''\n",
    "    SELECT images.identifier, metadata.cat, count(images.identifier)    \n",
    "    FROM images \n",
    "    LEFT JOIN metadata ON images.identifier = metadata.identifier \n",
    "    GROUP BY images.identifier\n",
    "    ORDER BY count(images.identifier)\n",
    "    ''')\n",
    "rows = c.fetchall()\n",
    "for row in rows:\n",
    "    print(row)"
   ]
  },
  {
   "cell_type": "code",
   "execution_count": null,
   "metadata": {
    "collapsed": true,
    "scrolled": true
   },
   "outputs": [],
   "source": [
    "# Get total number of images per category\n",
    "\n",
    "c.execute('''\n",
    "    SELECT metadata.cat, count(images.identifier)\n",
    "    FROM images\n",
    "    LEFT JOIN metadata ON images.identifier = metadata.identifier \n",
    "    GROUP BY metadata.cat\n",
    "    ORDER BY count(images.identifier) DESC    \n",
    "    LIMIT 200\n",
    "    ''')\n",
    "rows = c.fetchall()\n",
    "for row in rows:\n",
    "    print(row)"
   ]
  },
  {
   "cell_type": "code",
   "execution_count": null,
   "metadata": {
    "collapsed": true,
    "scrolled": true
   },
   "outputs": [],
   "source": [
    "# Get total number of images per primary category only\n",
    "\n",
    "c.execute('''\n",
    "    SELECT substr(trim(metadata.cat),1,instr(trim(metadata.cat)||' ',' ')-1), count(images.identifier)\n",
    "    FROM images\n",
    "    LEFT JOIN metadata ON images.identifier = metadata.identifier \n",
    "    GROUP BY substr(trim(metadata.cat),1,instr(trim(metadata.cat)||' ',' ')-1)\n",
    "    ORDER BY count(images.identifier) DESC    \n",
    "    ''')\n",
    "rows = c.fetchall()\n",
    "for row in rows:\n",
    "    print(row)"
   ]
  },
  {
   "cell_type": "code",
   "execution_count": null,
   "metadata": {
    "collapsed": true
   },
   "outputs": [],
   "source": [
    "fname = \"stats_images_by_category.txt\"\n",
    "f = open(fname, \"w+\")\n",
    "for row in rows:\n",
    "    f.write(row[0] + \", \" + str(row[1]) + \"\\n\")\n",
    "f.close()"
   ]
  },
  {
   "cell_type": "code",
   "execution_count": null,
   "metadata": {
    "collapsed": true
   },
   "outputs": [],
   "source": [
    "print(len(rows))"
   ]
  },
  {
   "cell_type": "code",
   "execution_count": null,
   "metadata": {
    "collapsed": true,
    "scrolled": true
   },
   "outputs": [],
   "source": [
    "# Get total number of images per primary category only - with a specific filter\n",
    "\n",
    "c.execute('''\n",
    "    SELECT substr(trim(metadata.cat),1,instr(trim(metadata.cat)||' ',' ')-1), count(images.identifier)\n",
    "    FROM images\n",
    "    LEFT JOIN metadata ON images.identifier = metadata.identifier\n",
    "    WHERE substr(trim(metadata.cat),1,instr(trim(metadata.cat)||' ',' ')-1) = \"cond-mat.mes-hall\"\n",
    "    GROUP BY substr(trim(metadata.cat),1,instr(trim(metadata.cat)||' ',' ')-1)\n",
    "    ORDER BY count(images.identifier) DESC    \n",
    "    ''')\n",
    "rows = c.fetchall()\n",
    "for row in rows:\n",
    "    print(row)"
   ]
  },
  {
   "cell_type": "raw",
   "metadata": {},
   "source": [
    "('cond-mat.mes-hall', 243985)"
   ]
  },
  {
   "cell_type": "code",
   "execution_count": null,
   "metadata": {
    "collapsed": true
   },
   "outputs": [],
   "source": [
    "# Get number of articles with no category\n",
    "# this seems to give no results\n",
    "\n",
    "c.execute('''\n",
    "    SELECT identifier, cat\n",
    "    FROM metadata\n",
    "    WHERE cat IS NULL OR cat = '' OR cat = 'None'\n",
    "    ''')\n",
    "rows = c.fetchall()\n",
    "for row in rows:\n",
    "    print(row)"
   ]
  },
  {
   "cell_type": "code",
   "execution_count": null,
   "metadata": {
    "collapsed": true
   },
   "outputs": [],
   "source": [
    "# Find where there is no matching metadata for a given image\n",
    "\n",
    "c.execute('''\n",
    "    SELECT count(images.identifier), images.identifier\n",
    "    FROM images\n",
    "    LEFT JOIN metadata ON metadata.identifier = images.identifier\n",
    "    WHERE metadata.identifier IS NULL\n",
    "    GROUP BY images.identifier\n",
    "    ''')\n",
    "rows = c.fetchall()\n",
    "for row in rows:\n",
    "    print(row)"
   ]
  },
  {
   "cell_type": "code",
   "execution_count": null,
   "metadata": {
    "collapsed": true
   },
   "outputs": [],
   "source": [
    "print(len(rows))"
   ]
  },
  {
   "cell_type": "code",
   "execution_count": null,
   "metadata": {
    "collapsed": true
   },
   "outputs": [],
   "source": [
    "print(sum(row[0] for row in rows))"
   ]
  },
  {
   "cell_type": "code",
   "execution_count": null,
   "metadata": {
    "collapsed": true
   },
   "outputs": [],
   "source": [
    "# Find where there is no identifier for an image\n",
    "\n",
    "c.execute('''\n",
    "    SELECT identifier, id, filename, filesize, path, x, y\n",
    "    FROM images\n",
    "    WHERE identifier IS NULL OR identifier = ''\n",
    "    ''')\n",
    "rows = c.fetchall()\n",
    "for row in rows:\n",
    "    print(row)"
   ]
  },
  {
   "cell_type": "code",
   "execution_count": null,
   "metadata": {
    "collapsed": true
   },
   "outputs": [],
   "source": [
    "# More looking for specific entries with no identifier\n",
    "\n",
    "c.execute('''\n",
    "    SELECT identifier, id\n",
    "    FROM images\n",
    "    WHERE identifier IS NULL OR identifier = ''\n",
    "    ''')\n",
    "rows = c.fetchall()\n",
    "for row in rows:\n",
    "    print(row)"
   ]
  },
  {
   "cell_type": "code",
   "execution_count": null,
   "metadata": {
    "collapsed": true
   },
   "outputs": [],
   "source": [
    "# Find number of images in each month/year\n",
    "\n",
    "c.execute('''\n",
    "    SELECT count(images.identifier), strftime(\"%m-%Y\", metadata.created) as 'mY'\n",
    "    FROM images\n",
    "    LEFT JOIN metadata ON images.identifier = metadata.identifier \n",
    "    GROUP BY strftime(\"%m-%Y\", metadata.created)\n",
    "    ORDER BY strftime(\"%Y\", metadata.created) ASC\n",
    "    ''')\n",
    "rows = c.fetchall()\n",
    "for row in rows:\n",
    "    print(row)"
   ]
  },
  {
   "cell_type": "code",
   "execution_count": 25,
   "metadata": {},
   "outputs": [
    {
     "name": "stdout",
     "output_type": "stream",
     "text": [
      "(11, '1988')\n",
      "(130, '1990')\n",
      "(146, '1991')\n",
      "(972, '1992')\n",
      "(6885, '1993')\n",
      "(20136, '1994')\n",
      "(26763, '1995')\n",
      "(51088, '1996')\n",
      "(75713, '1997')\n",
      "(101662, '1998')\n",
      "(122189, '1999')\n",
      "(137860, '2000')\n",
      "(150775, '2001')\n",
      "(171813, '2002')\n",
      "(190805, '2003')\n",
      "(220669, '2004')\n",
      "(243900, '2005')\n",
      "(266790, '2006')\n",
      "(303204, '2007')\n",
      "(342292, '2008')\n",
      "(388500, '2009')\n",
      "(431434, '2010')\n",
      "(497368, '2011')\n",
      "(560836, '2012')\n",
      "(659050, '2013')\n",
      "(729214, '2014')\n",
      "(858174, '2015')\n",
      "(1003842, '2016')\n",
      "(1130770, '2017')\n",
      "(1368231, '2018')\n"
     ]
    }
   ],
   "source": [
    "# Find number of images by year\n",
    "\n",
    "c.execute('''\n",
    "    SELECT count(images.identifier), strftime(\"%Y\", metadata.created) as 'Y'\n",
    "    FROM images\n",
    "    LEFT JOIN metadata ON images.identifier = metadata.identifier \n",
    "    GROUP BY strftime(\"%Y\", metadata.created)\n",
    "    ORDER BY strftime(\"%Y\", metadata.created) ASC\n",
    "    ''')\n",
    "rows = c.fetchall()\n",
    "for row in rows:\n",
    "    print(row)"
   ]
  },
  {
   "cell_type": "code",
   "execution_count": 27,
   "metadata": {},
   "outputs": [
    {
     "name": "stdout",
     "output_type": "stream",
     "text": [
      "10061222\n"
     ]
    }
   ],
   "source": [
    "total = 0\n",
    "for row in rows:\n",
    "    total += row[0]\n",
    "print(total)"
   ]
  },
  {
   "cell_type": "code",
   "execution_count": null,
   "metadata": {
    "collapsed": true
   },
   "outputs": [],
   "source": [
    "# Find number of articles in each month/year\n",
    "\n",
    "c.execute('''\n",
    "    SELECT count(metadata.identifier), strftime(\"%m-%Y\", metadata.created) as 'mY'\n",
    "    FROM metadata\n",
    "    GROUP BY strftime(\"%m-%Y\", metadata.created)\n",
    "    ORDER BY strftime(\"%Y\", metadata.created) ASC\n",
    "    ''')\n",
    "rows = c.fetchall()\n",
    "for row in rows:\n",
    "    print(row)"
   ]
  },
  {
   "cell_type": "code",
   "execution_count": 23,
   "metadata": {},
   "outputs": [
    {
     "name": "stdout",
     "output_type": "stream",
     "text": [
      "(1, '1986')\n",
      "(1, '1988')\n",
      "(8, '1989')\n",
      "(25, '1990')\n",
      "(370, '1991')\n",
      "(3181, '1992')\n",
      "(6728, '1993')\n",
      "(10085, '1994')\n",
      "(12994, '1995')\n",
      "(15876, '1996')\n",
      "(19621, '1997')\n",
      "(24174, '1998')\n",
      "(27694, '1999')\n",
      "(30672, '2000')\n",
      "(33127, '2001')\n",
      "(36102, '2002')\n",
      "(39389, '2003')\n",
      "(43719, '2004')\n",
      "(46863, '2005')\n",
      "(50303, '2006')\n",
      "(55768, '2007')\n",
      "(58796, '2008')\n",
      "(64077, '2009')\n",
      "(70283, '2010')\n",
      "(76604, '2011')\n",
      "(84385, '2012')\n",
      "(92864, '2013')\n",
      "(97593, '2014')\n",
      "(105124, '2015')\n",
      "(113422, '2016')\n",
      "(123750, '2017')\n",
      "(140242, '2018')\n",
      "(22721, '2019')\n"
     ]
    }
   ],
   "source": [
    "# Find number of articles by year\n",
    "\n",
    "c.execute('''\n",
    "    SELECT count(metadata.identifier), strftime(\"%Y\", metadata.created) as 'Y'\n",
    "    FROM metadata\n",
    "    GROUP BY strftime(\"%Y\", metadata.created)\n",
    "    ORDER BY strftime(\"%Y\", metadata.created) ASC\n",
    "    ''')\n",
    "rows = c.fetchall()\n",
    "for row in rows:\n",
    "    print(row)"
   ]
  },
  {
   "cell_type": "code",
   "execution_count": 24,
   "metadata": {},
   "outputs": [
    {
     "name": "stdout",
     "output_type": "stream",
     "text": [
      "1506562\n"
     ]
    }
   ],
   "source": [
    "total = 0\n",
    "for row in rows:\n",
    "    total += row[0]\n",
    "print(total)"
   ]
  },
  {
   "cell_type": "code",
   "execution_count": 31,
   "metadata": {},
   "outputs": [
    {
     "name": "stdout",
     "output_type": "stream",
     "text": [
      "(2, '1998')\n",
      "(1, '1999')\n",
      "(10, '2000')\n",
      "(4, '2001')\n",
      "(4, '2002')\n",
      "(16, '2003')\n",
      "(17, '2004')\n",
      "(22, '2005')\n",
      "(25, '2006')\n",
      "(38, '2007')\n",
      "(60, '2008')\n",
      "(100, '2009')\n",
      "(242, '2010')\n",
      "(277, '2011')\n",
      "(422, '2012')\n",
      "(662, '2013')\n",
      "(1096, '2014')\n",
      "(1859, '2015')\n",
      "(3086, '2016')\n",
      "(4912, '2017')\n",
      "(7262, '2018')\n",
      "(1086, '2019')\n"
     ]
    }
   ],
   "source": [
    "# Find number of articles by year by category\n",
    "\n",
    "c.execute('''\n",
    "    SELECT count(metadata.identifier), strftime(\"%Y\", metadata.created) as 'Y'\n",
    "    FROM metadata\n",
    "    WHERE substr(trim(cat),1,instr(trim(cat)||' ',' ')-1) = 'cs.CV'\n",
    "    GROUP BY strftime(\"%Y\", metadata.created)\n",
    "    ORDER BY strftime(\"%Y\", metadata.created) ASC\n",
    "    ''')\n",
    "rows = c.fetchall()\n",
    "for row in rows:\n",
    "    print(row)"
   ]
  },
  {
   "cell_type": "code",
   "execution_count": null,
   "metadata": {
    "collapsed": true
   },
   "outputs": [],
   "source": [
    "# Find number of articles by year by category\n",
    "\n",
    "c.execute('''\n",
    "    SELECT count(metadata.identifier), strftime(\"%Y\", metadata.created) as 'Y'\n",
    "    FROM metadata\n",
    "    WHERE substr(trim(cat),1,instr(trim(cat)||' ',' ')-1) = 'cs.CV'\n",
    "    AND strftime(\"%Y\", metadata.created) = '2018'\n",
    "    GROUP BY strftime(\"%Y\", metadata.created)\n",
    "    ORDER BY strftime(\"%Y\", metadata.created) ASC\n",
    "    ''')\n",
    "rows = c.fetchall()\n",
    "for row in rows:\n",
    "    print(row)"
   ]
  },
  {
   "cell_type": "code",
   "execution_count": null,
   "metadata": {
    "collapsed": true
   },
   "outputs": [],
   "source": [
    "print(len(rows))"
   ]
  },
  {
   "cell_type": "code",
   "execution_count": null,
   "metadata": {
    "collapsed": true
   },
   "outputs": [],
   "source": [
    "# values = np.array()\n",
    "values = [item[0] for item in rows]\n",
    "plt.plot(values)"
   ]
  },
  {
   "cell_type": "code",
   "execution_count": null,
   "metadata": {
    "collapsed": true
   },
   "outputs": [],
   "source": [
    "# Find number of images per each different imageformat\n",
    "\n",
    "c.execute('''\n",
    "    SELECT imageformat, count(imageformat)\n",
    "    FROM images\n",
    "    GROUP BY imageformat\n",
    "    ORDER BY count(imageformat) DESC\n",
    "    ''')\n",
    "rows = c.fetchall()\n",
    "for row in rows:\n",
    "    print(row)"
   ]
  },
  {
   "cell_type": "code",
   "execution_count": null,
   "metadata": {
    "collapsed": true
   },
   "outputs": [],
   "source": [
    "# Get only the first listed category\n",
    "\n",
    "c.execute('''\n",
    "    SELECT identifier, cat, substr(trim(cat),1,instr(trim(cat)||' ',' ')-1)\n",
    "    FROM metadata\n",
    "    LIMIT 20\n",
    "    ''')\n",
    "rows = c.fetchall()\n",
    "for row in rows:\n",
    "    print(row)"
   ]
  },
  {
   "cell_type": "code",
   "execution_count": null,
   "metadata": {
    "collapsed": true
   },
   "outputs": [],
   "source": [
    "# Get the licence information for number of articles\n",
    "\n",
    "c.execute('''\n",
    "    SELECT licence, COUNT(licence)\n",
    "    FROM metadata\n",
    "    GROUP BY licence\n",
    "    HAVING COUNT(identifier) > 0\n",
    "    ''')\n",
    "rows = c.fetchall()\n",
    "for row in rows:\n",
    "    print(row)"
   ]
  },
  {
   "cell_type": "code",
   "execution_count": null,
   "metadata": {
    "collapsed": true
   },
   "outputs": [],
   "source": [
    "c.execute('''\n",
    "    SELECT COUNT(*)\n",
    "    FROM images\n",
    "    ''')\n",
    "rows = c.fetchall()\n",
    "for row in rows:\n",
    "    print(row)"
   ]
  }
 ],
 "metadata": {
  "kernelspec": {
   "display_name": "Python 2",
   "language": "python",
   "name": "python2"
  },
  "language_info": {
   "codemirror_mode": {
    "name": "ipython",
    "version": 2
   },
   "file_extension": ".py",
   "mimetype": "text/x-python",
   "name": "python",
   "nbconvert_exporter": "python",
   "pygments_lexer": "ipython2",
   "version": "2.7.15rc1"
  }
 },
 "nbformat": 4,
 "nbformat_minor": 2
}
