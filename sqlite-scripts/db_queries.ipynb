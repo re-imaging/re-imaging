{
 "cells": [
  {
   "cell_type": "markdown",
   "metadata": {},
   "source": [
    "# Query database\n",
    "\n",
    "Notebook for running Python sqlite3 commands for querying database.\n",
    "\n",
    "Specific code blocks run separately to produce statistics."
   ]
  },
  {
   "cell_type": "markdown",
   "metadata": {},
   "source": [
    "## Setup:"
   ]
  },
  {
   "cell_type": "code",
   "execution_count": null,
   "metadata": {},
   "outputs": [],
   "source": [
    "import matplotlib.pyplot as plt\n",
    "import numpy as np"
   ]
  },
  {
   "cell_type": "code",
   "execution_count": null,
   "metadata": {},
   "outputs": [],
   "source": [
    "import sqlite3"
   ]
  },
  {
   "cell_type": "code",
   "execution_count": null,
   "metadata": {},
   "outputs": [],
   "source": [
    "# path on rte\n",
    "db_path = \"/home/rte/data/db/arxiv_db_images.sqlite3\""
   ]
  },
  {
   "cell_type": "code",
   "execution_count": null,
   "metadata": {},
   "outputs": [],
   "source": [
    "# path on kt\n",
    "db_path = \"/media/kt/scratch/rte/db/arxiv_db_images.sqlite3\""
   ]
  },
  {
   "cell_type": "code",
   "execution_count": null,
   "metadata": {},
   "outputs": [],
   "source": [
    "# Here we import the sqlite3 database and create a cursor\n",
    "\n",
    "db = sqlite3.connect(db_path)\n",
    "c = db.cursor()"
   ]
  },
  {
   "cell_type": "markdown",
   "metadata": {},
   "source": [
    "Get the pragma table info for each table"
   ]
  },
  {
   "cell_type": "code",
   "execution_count": null,
   "metadata": {
    "scrolled": false
   },
   "outputs": [],
   "source": [
    "c.execute('PRAGMA TABLE_INFO({})'.format(\"metadata\"))\n",
    "info = c.fetchall()\n",
    "\n",
    "print(\"\\nColumn Info:\\nID, Name, Type, NotNull, DefaultVal, PrimaryKey\")\n",
    "for col in info:\n",
    "    print(col)"
   ]
  },
  {
   "cell_type": "code",
   "execution_count": null,
   "metadata": {},
   "outputs": [],
   "source": [
    "c.execute('PRAGMA TABLE_INFO({})'.format(\"images\"))\n",
    "info = c.fetchall()\n",
    "\n",
    "print(\"\\nColumn Info:\\nID, Name, Type, NotNull, DefaultVal, PrimaryKey\")\n",
    "for col in info:\n",
    "    print(col)"
   ]
  },
  {
   "cell_type": "markdown",
   "metadata": {},
   "source": [
    "Quick test to retrive one row"
   ]
  },
  {
   "cell_type": "code",
   "execution_count": null,
   "metadata": {},
   "outputs": [],
   "source": [
    "c.execute('''\n",
    "    SELECT * \n",
    "    FROM images \n",
    "    ORDER BY ROWID ASC \n",
    "    LIMIT 1\n",
    "''')\n",
    "rows = c.fetchall()\n",
    "for row in rows:\n",
    "    print(row)"
   ]
  },
  {
   "cell_type": "code",
   "execution_count": null,
   "metadata": {},
   "outputs": [],
   "source": [
    "c.execute('''\n",
    "    SELECT * \n",
    "    FROM metadata \n",
    "    ORDER BY ROWID ASC \n",
    "    LIMIT 1\n",
    "''')\n",
    "rows = c.fetchall()\n",
    "for row in rows:\n",
    "    print(row)"
   ]
  },
  {
   "cell_type": "markdown",
   "metadata": {},
   "source": [
    "## Writing to org mode\n",
    "\n",
    "Find a few random entries from both metadata and images, write to org mode"
   ]
  },
  {
   "cell_type": "code",
   "execution_count": null,
   "metadata": {},
   "outputs": [],
   "source": [
    "c.execute('''\n",
    "    SELECT * \n",
    "    FROM metadata \n",
    "    ORDER BY RANDOM() \n",
    "    LIMIT 3\n",
    "''')\n",
    "rows = c.fetchall()\n",
    "with open(\"metadata_sample.org\", \"w+\") as write_file:\n",
    "    print(\"|\", file=write_file, end = '')\n",
    "    for row in rows:\n",
    "    #     print(row)\n",
    "        for item in row:\n",
    "            print(str(item).replace(\"\\n\", \" \"), file=write_file, end = '')\n",
    "            print(\"|\", file=write_file, end = '')\n",
    "        print(\"\\n|\", file=write_file, end = '')\n",
    "write_file.close()"
   ]
  },
  {
   "cell_type": "code",
   "execution_count": null,
   "metadata": {},
   "outputs": [],
   "source": [
    "c.execute('''\n",
    "    SELECT * \n",
    "    FROM images \n",
    "    ORDER BY RANDOM() \n",
    "    LIMIT 3\n",
    "''')\n",
    "rows = c.fetchall()\n",
    "with open(\"images_sample.org\", \"w+\") as write_file:\n",
    "    print(\"|\", file=write_file, end = '')\n",
    "    for row in rows:\n",
    "    #     print(row)\n",
    "        for item in row:\n",
    "            print(str(item).replace(\"\\n\", \" \"), file=write_file, end = '')\n",
    "            print(\"|\", file=write_file, end = '')\n",
    "        print(\"\\n|\", file=write_file, end = '')\n",
    "write_file.close()"
   ]
  },
  {
   "cell_type": "markdown",
   "metadata": {},
   "source": [
    "## Database Queries"
   ]
  },
  {
   "cell_type": "markdown",
   "metadata": {},
   "source": [
    "### Find any duplicate identifiers"
   ]
  },
  {
   "cell_type": "code",
   "execution_count": null,
   "metadata": {},
   "outputs": [],
   "source": [
    "# look for duplicate rows in the metadata table\n",
    "c.execute('''\n",
    "    SELECT identifier, COUNT(identifier)\n",
    "    FROM metadata\n",
    "    GROUP BY identifier\n",
    "    HAVING COUNT(identifier) > 1\n",
    "    ''')\n",
    "rows = c.fetchall()\n",
    "for row in rows:\n",
    "    print(row)"
   ]
  },
  {
   "cell_type": "code",
   "execution_count": null,
   "metadata": {},
   "outputs": [],
   "source": [
    "# look for duplicate rows in the images table (brings up totals for images by article ID)\n",
    "c.execute('''\n",
    "    SELECT identifier, COUNT(identifier)\n",
    "    FROM images\n",
    "    GROUP BY identifier\n",
    "    HAVING COUNT(identifier) > 0\n",
    "    ''')\n",
    "rows = c.fetchall()\n",
    "for row in rows:\n",
    "    print(row)"
   ]
  },
  {
   "cell_type": "code",
   "execution_count": null,
   "metadata": {},
   "outputs": [],
   "source": [
    "# look for duplicate images (search by filename, filesize, and identifier)\n",
    "# there is quite a lot of these, but that is how the source data was uploaded\n",
    "c.execute('''\n",
    "    SELECT identifier, filename, filesize, path, COUNT(*) c\n",
    "    FROM images\n",
    "    GROUP BY identifier, filename, filesize\n",
    "    HAVING c > 1\n",
    "    ''')\n",
    "rows = c.fetchall()\n",
    "for row in rows:\n",
    "    print(row)"
   ]
  },
  {
   "cell_type": "code",
   "execution_count": null,
   "metadata": {},
   "outputs": [],
   "source": [
    "print(len(rows))"
   ]
  },
  {
   "cell_type": "markdown",
   "metadata": {},
   "source": [
    "### Earliest dates"
   ]
  },
  {
   "cell_type": "code",
   "execution_count": null,
   "metadata": {
    "scrolled": true
   },
   "outputs": [],
   "source": [
    "# Find the earliest date of an article\n",
    "\n",
    "c.execute('''\n",
    "    SELECT created, identifier\n",
    "    FROM metadata\n",
    "    WHERE created IS NOT NULL\n",
    "    ORDER BY created ASC\n",
    "    LIMIT 20\n",
    "    ''')\n",
    "rows = c.fetchall()\n",
    "for row in rows:\n",
    "    print(row)"
   ]
  },
  {
   "cell_type": "code",
   "execution_count": null,
   "metadata": {
    "scrolled": true
   },
   "outputs": [],
   "source": [
    "# Find the earliest dated articles and get the associated images\n",
    "\n",
    "c.execute('''\n",
    "    SELECT images.identifier, metadata.created, metadata.identifier \n",
    "    FROM images\n",
    "    LEFT JOIN metadata ON images.identifier = metadata.identifier\n",
    "    WHERE metadata.created IS NOT NULL\n",
    "    ORDER BY created ASC\n",
    "    LIMIT 40\n",
    "    ''')\n",
    "    \n",
    "rows = c.fetchall()\n",
    "for row in rows:\n",
    "    print(row)"
   ]
  },
  {
   "cell_type": "markdown",
   "metadata": {},
   "source": [
    "### Total numbers of articles and images"
   ]
  },
  {
   "cell_type": "code",
   "execution_count": null,
   "metadata": {},
   "outputs": [],
   "source": [
    "# Find total number of rows in metadata\n",
    "\n",
    "c.execute('''\n",
    "    SELECT count(*)\n",
    "    FROM metadata\n",
    "    ''')\n",
    "rows = c.fetchall()\n",
    "for row in rows:\n",
    "    print(row)"
   ]
  },
  {
   "cell_type": "code",
   "execution_count": null,
   "metadata": {},
   "outputs": [],
   "source": [
    "# Find total number of rows in images\n",
    "\n",
    "c.execute('''\n",
    "    SELECT count(*)\n",
    "    FROM images\n",
    "    ''')\n",
    "rows = c.fetchall()\n",
    "for row in rows:\n",
    "    print(row)"
   ]
  },
  {
   "cell_type": "code",
   "execution_count": null,
   "metadata": {},
   "outputs": [],
   "source": [
    "# Find total number of rows in images (filtering out images without size or imageformat)\n",
    "\n",
    "c.execute('''\n",
    "    SELECT count(*)\n",
    "    FROM images\n",
    "    WHERE x IS NOT null AND x != ''\n",
    "    AND y IS NOT null AND y != ''\n",
    "    AND imageformat is not null AND imageformat != ''\n",
    "    ''')\n",
    "rows = c.fetchall()\n",
    "for row in rows:\n",
    "    print(row)\n",
    "print(len(rows))    "
   ]
  },
  {
   "cell_type": "markdown",
   "metadata": {},
   "source": [
    "### Average image sizes"
   ]
  },
  {
   "cell_type": "code",
   "execution_count": null,
   "metadata": {},
   "outputs": [],
   "source": [
    "# Get average of the x size column\n",
    "\n",
    "c.execute('''\n",
    "    SELECT avg(x)\n",
    "    FROM images\n",
    "    ''')\n",
    "rows = c.fetchall()\n",
    "for row in rows:\n",
    "    print(row)"
   ]
  },
  {
   "cell_type": "code",
   "execution_count": null,
   "metadata": {},
   "outputs": [],
   "source": [
    "# Get average of the y size column\n",
    "\n",
    "c.execute('''\n",
    "    SELECT avg(y)\n",
    "    FROM images\n",
    "    ''')\n",
    "rows = c.fetchall()\n",
    "for row in rows:\n",
    "    print(row)"
   ]
  },
  {
   "cell_type": "code",
   "execution_count": null,
   "metadata": {},
   "outputs": [],
   "source": [
    "# Get median of the x size column\n",
    "\n",
    "c.execute('''\n",
    "    SELECT x\n",
    "    FROM images\n",
    "    ORDER by x\n",
    "    LIMIT 1\n",
    "    OFFSET (SELECT COUNT(*) FROM images) / 2\n",
    "    ''')\n",
    "rows = c.fetchall()\n",
    "for row in rows:\n",
    "    print(row)"
   ]
  },
  {
   "cell_type": "code",
   "execution_count": null,
   "metadata": {},
   "outputs": [],
   "source": [
    "# Get median of the y size column\n",
    "\n",
    "c.execute('''\n",
    "    SELECT y\n",
    "    FROM images\n",
    "    ORDER by y\n",
    "    LIMIT 1\n",
    "    OFFSET (SELECT COUNT(*) FROM images) / 2\n",
    "    ''')\n",
    "rows = c.fetchall()\n",
    "for row in rows:\n",
    "    print(row)"
   ]
  },
  {
   "cell_type": "markdown",
   "metadata": {},
   "source": [
    "### Missing fields"
   ]
  },
  {
   "cell_type": "code",
   "execution_count": null,
   "metadata": {},
   "outputs": [],
   "source": [
    "# Find where there are NULL values for x\n",
    "\n",
    "c.execute('''\n",
    "    SELECT id, identifier, path, filename, filesize, x, y, imageformat\n",
    "    FROM images\n",
    "    WHERE x is null or x = ''\n",
    "    OR y is null or y = ''\n",
    "    OR imageformat is null or imageformat = ''\n",
    "    ''')\n",
    "rows = c.fetchall()\n",
    "for row in rows:\n",
    "    print(row)"
   ]
  },
  {
   "cell_type": "code",
   "execution_count": null,
   "metadata": {},
   "outputs": [],
   "source": [
    "# generate a text file listing paths of files that couldn't be identified\n",
    "with open(\"identify_errors_db.txt\", \"a+\") as f:\n",
    "    for row in rows[:]:\n",
    "        filepath = row[2][1:] + \"/\" + row[3]\n",
    "        print(str(row[0]) + \",\" + filepath)\n",
    "        f.write(str(row[0]) + \",\" + filepath + \"\\n\")\n"
   ]
  },
  {
   "cell_type": "code",
   "execution_count": null,
   "metadata": {},
   "outputs": [],
   "source": [
    "print(len(rows))"
   ]
  },
  {
   "cell_type": "code",
   "execution_count": null,
   "metadata": {},
   "outputs": [],
   "source": [
    "# Find where there are NULL values for y\n",
    "\n",
    "c.execute('''\n",
    "    SELECT id, identifier, path, filename, filesize, x, y, imageformat\n",
    "    FROM images\n",
    "    WHERE y is null or y = ''\n",
    "    ''')\n",
    "rows = c.fetchall()\n",
    "for row in rows:\n",
    "    print(row)"
   ]
  },
  {
   "cell_type": "code",
   "execution_count": null,
   "metadata": {},
   "outputs": [],
   "source": [
    "print(len(rows))"
   ]
  },
  {
   "cell_type": "code",
   "execution_count": null,
   "metadata": {},
   "outputs": [],
   "source": [
    "# Find where there are NULL values for identifier\n",
    "\n",
    "c.execute('''\n",
    "    SELECT id, identifier, path, filesize, x, y, imageformat\n",
    "    FROM images\n",
    "    WHERE identifier is null or identifier = ''\n",
    "    ''')\n",
    "rows = c.fetchall()\n",
    "for row in rows:\n",
    "    print(row)\n",
    "    \n",
    "# no result is a good result!"
   ]
  },
  {
   "cell_type": "code",
   "execution_count": null,
   "metadata": {},
   "outputs": [],
   "source": [
    "# Find where there are NULL values for filesize\n",
    "\n",
    "c.execute('''\n",
    "    SELECT id, identifier, path, filesize, x, y, imageformat\n",
    "    FROM images\n",
    "    WHERE filesize is null or filesize = ''\n",
    "    ''')\n",
    "rows = c.fetchall()\n",
    "for row in rows:\n",
    "    print(row)"
   ]
  },
  {
   "cell_type": "code",
   "execution_count": null,
   "metadata": {},
   "outputs": [],
   "source": [
    "print(len(rows))"
   ]
  },
  {
   "cell_type": "code",
   "execution_count": null,
   "metadata": {},
   "outputs": [],
   "source": [
    "# Get number of articles with no category\n",
    "# this seems to give no results\n",
    "\n",
    "c.execute('''\n",
    "    SELECT identifier, cat\n",
    "    FROM metadata\n",
    "    WHERE cat IS NULL OR cat = '' OR cat = 'None'\n",
    "    ''')\n",
    "rows = c.fetchall()\n",
    "for row in rows:\n",
    "    print(row)"
   ]
  },
  {
   "cell_type": "code",
   "execution_count": null,
   "metadata": {},
   "outputs": [],
   "source": [
    "# Find where there is no matching metadata for a given image\n",
    "\n",
    "c.execute('''\n",
    "    SELECT count(images.identifier), images.identifier\n",
    "    FROM images\n",
    "    LEFT JOIN metadata ON metadata.identifier = images.identifier\n",
    "    WHERE metadata.identifier IS NULL\n",
    "    GROUP BY images.identifier\n",
    "    ''')\n",
    "rows = c.fetchall()\n",
    "for row in rows:\n",
    "    print(row)"
   ]
  },
  {
   "cell_type": "code",
   "execution_count": null,
   "metadata": {},
   "outputs": [],
   "source": [
    "# Find where there is no identifier for an image\n",
    "\n",
    "c.execute('''\n",
    "    SELECT identifier, id, filename, filesize, path, x, y\n",
    "    FROM images\n",
    "    WHERE identifier IS NULL OR identifier = ''\n",
    "    ''')\n",
    "rows = c.fetchall()\n",
    "for row in rows:\n",
    "    print(row)"
   ]
  },
  {
   "cell_type": "code",
   "execution_count": null,
   "metadata": {},
   "outputs": [],
   "source": [
    "# More looking for specific entries with no identifier\n",
    "\n",
    "c.execute('''\n",
    "    SELECT identifier, id\n",
    "    FROM images\n",
    "    WHERE identifier IS NULL OR identifier = ''\n",
    "    ''')\n",
    "rows = c.fetchall()\n",
    "for row in rows:\n",
    "    print(row)"
   ]
  },
  {
   "cell_type": "code",
   "execution_count": null,
   "metadata": {},
   "outputs": [],
   "source": [
    "print(sum(row[0] for row in rows))"
   ]
  },
  {
   "cell_type": "markdown",
   "metadata": {},
   "source": [
    "### Averages of images"
   ]
  },
  {
   "cell_type": "code",
   "execution_count": null,
   "metadata": {},
   "outputs": [],
   "source": [
    "# Get total number of images per article\n",
    "\n",
    "c.execute('''\n",
    "    SELECT images.identifier, metadata.cat, count(images.identifier)    \n",
    "    FROM images \n",
    "    LEFT JOIN metadata ON images.identifier = metadata.identifier \n",
    "    GROUP BY images.identifier\n",
    "    ORDER BY count(images.identifier)\n",
    "    ''')\n",
    "rows = c.fetchall()\n",
    "for row in rows:\n",
    "    print(row)"
   ]
  },
  {
   "cell_type": "code",
   "execution_count": null,
   "metadata": {
    "scrolled": true
   },
   "outputs": [],
   "source": [
    "# Get total number of images per category\n",
    "\n",
    "c.execute('''\n",
    "    SELECT metadata.cat, count(images.identifier)\n",
    "    FROM images\n",
    "    LEFT JOIN metadata ON images.identifier = metadata.identifier \n",
    "    GROUP BY metadata.cat\n",
    "    ORDER BY count(images.identifier) DESC    \n",
    "    LIMIT 200\n",
    "    ''')\n",
    "rows = c.fetchall()\n",
    "for row in rows:\n",
    "    print(row)"
   ]
  },
  {
   "cell_type": "code",
   "execution_count": null,
   "metadata": {
    "scrolled": true
   },
   "outputs": [],
   "source": [
    "# Get total number of images per primary category only\n",
    "\n",
    "c.execute('''\n",
    "    SELECT substr(trim(metadata.cat),1,instr(trim(metadata.cat)||' ',' ')-1), count(images.identifier)\n",
    "    FROM images\n",
    "    LEFT JOIN metadata ON images.identifier = metadata.identifier \n",
    "    GROUP BY substr(trim(metadata.cat),1,instr(trim(metadata.cat)||' ',' ')-1)\n",
    "    ORDER BY count(images.identifier) DESC    \n",
    "    ''')\n",
    "rows = c.fetchall()\n",
    "for row in rows:\n",
    "    print(row)"
   ]
  },
  {
   "cell_type": "code",
   "execution_count": null,
   "metadata": {},
   "outputs": [],
   "source": [
    "# write text file\n",
    "\n",
    "fname = \"stats_images_by_category.txt\"\n",
    "f = open(fname, \"w+\")\n",
    "for row in rows:\n",
    "    f.write(row[0] + \", \" + str(row[1]) + \"\\n\")\n",
    "f.close()"
   ]
  },
  {
   "cell_type": "code",
   "execution_count": null,
   "metadata": {},
   "outputs": [],
   "source": [
    "print(len(rows))"
   ]
  },
  {
   "cell_type": "code",
   "execution_count": null,
   "metadata": {
    "scrolled": true
   },
   "outputs": [],
   "source": [
    "# Get total number of images per primary category only - with a specific filter\n",
    "\n",
    "c.execute('''\n",
    "    SELECT substr(trim(metadata.cat),1,instr(trim(metadata.cat)||' ',' ')-1), count(images.identifier)\n",
    "    FROM images\n",
    "    LEFT JOIN metadata ON images.identifier = metadata.identifier\n",
    "    WHERE substr(trim(metadata.cat),1,instr(trim(metadata.cat)||' ',' ')-1) = \"cond-mat.mes-hall\"\n",
    "    GROUP BY substr(trim(metadata.cat),1,instr(trim(metadata.cat)||' ',' ')-1)\n",
    "    ORDER BY count(images.identifier) DESC    \n",
    "    ''')\n",
    "rows = c.fetchall()\n",
    "for row in rows:\n",
    "    print(row)"
   ]
  },
  {
   "cell_type": "code",
   "execution_count": null,
   "metadata": {},
   "outputs": [],
   "source": [
    "print(len(rows))"
   ]
  },
  {
   "cell_type": "markdown",
   "metadata": {},
   "source": [
    "### Totals by month/year"
   ]
  },
  {
   "cell_type": "code",
   "execution_count": null,
   "metadata": {},
   "outputs": [],
   "source": [
    "# Find number of articles by year\n",
    "\n",
    "c.execute('''\n",
    "    SELECT count(metadata.identifier), strftime(\"%Y\", metadata.created) as 'Y'\n",
    "    FROM metadata\n",
    "    GROUP BY strftime(\"%Y\", metadata.created)\n",
    "    ORDER BY strftime(\"%Y\", metadata.created) ASC\n",
    "    ''')\n",
    "rows = c.fetchall()\n",
    "for row in rows:\n",
    "    print(row)"
   ]
  },
  {
   "cell_type": "code",
   "execution_count": null,
   "metadata": {},
   "outputs": [],
   "source": [
    "# Find number of articles in each month/year\n",
    "\n",
    "c.execute('''\n",
    "    SELECT count(metadata.identifier), strftime(\"%m-%Y\", metadata.created) as 'mY'\n",
    "    FROM metadata\n",
    "    GROUP BY strftime(\"%m-%Y\", metadata.created)\n",
    "    ORDER BY strftime(\"%Y\", metadata.created) ASC\n",
    "    ''')\n",
    "rows = c.fetchall()\n",
    "for row in rows:\n",
    "    print(row)"
   ]
  },
  {
   "cell_type": "code",
   "execution_count": null,
   "metadata": {},
   "outputs": [],
   "source": [
    "# Find number of images by year\n",
    "\n",
    "c.execute('''\n",
    "    SELECT count(images.identifier), strftime(\"%Y\", metadata.created) as 'Y'\n",
    "    FROM images\n",
    "    LEFT JOIN metadata ON images.identifier = metadata.identifier \n",
    "    GROUP BY strftime(\"%Y\", metadata.created)\n",
    "    ORDER BY strftime(\"%Y\", metadata.created) ASC\n",
    "    ''')\n",
    "rows = c.fetchall()\n",
    "for row in rows:\n",
    "    print(row)"
   ]
  },
  {
   "cell_type": "code",
   "execution_count": null,
   "metadata": {},
   "outputs": [],
   "source": [
    "# Find number of images in each month/year\n",
    "\n",
    "c.execute('''\n",
    "    SELECT count(images.identifier), strftime(\"%m-%Y\", metadata.created) as 'mY'\n",
    "    FROM images\n",
    "    LEFT JOIN metadata ON images.identifier = metadata.identifier \n",
    "    GROUP BY strftime(\"%m-%Y\", metadata.created)\n",
    "    ORDER BY strftime(\"%Y\", metadata.created) ASC\n",
    "    ''')\n",
    "rows = c.fetchall()\n",
    "for row in rows:\n",
    "    print(row)"
   ]
  },
  {
   "cell_type": "code",
   "execution_count": null,
   "metadata": {},
   "outputs": [],
   "source": [
    "total = 0\n",
    "for row in rows:\n",
    "    total += row[0]\n",
    "print(total)"
   ]
  },
  {
   "cell_type": "markdown",
   "metadata": {},
   "source": [
    "#### ...and by category"
   ]
  },
  {
   "cell_type": "code",
   "execution_count": null,
   "metadata": {},
   "outputs": [],
   "source": [
    "# Find number of articles by year by category\n",
    "\n",
    "c.execute('''\n",
    "    SELECT count(metadata.identifier), strftime(\"%Y\", metadata.created) as 'Y'\n",
    "    FROM metadata\n",
    "    WHERE substr(trim(cat),1,instr(trim(cat)||' ',' ')-1) = 'cs.CV'\n",
    "    GROUP BY strftime(\"%Y\", metadata.created)\n",
    "    ORDER BY strftime(\"%Y\", metadata.created) ASC\n",
    "    ''')\n",
    "rows = c.fetchall()\n",
    "for row in rows:\n",
    "    print(row)"
   ]
  },
  {
   "cell_type": "code",
   "execution_count": null,
   "metadata": {},
   "outputs": [],
   "source": [
    "# Find number of articles by year by category, for a specific query\n",
    "\n",
    "c.execute('''\n",
    "    SELECT count(metadata.identifier), strftime(\"%Y\", metadata.created) as 'Y'\n",
    "    FROM metadata\n",
    "    WHERE substr(trim(cat),1,instr(trim(cat)||' ',' ')-1) = 'cs.CV'\n",
    "    AND strftime(\"%Y\", metadata.created) = '2018'\n",
    "    GROUP BY strftime(\"%Y\", metadata.created)\n",
    "    ORDER BY strftime(\"%Y\", metadata.created) ASC\n",
    "    ''')\n",
    "rows = c.fetchall()\n",
    "for row in rows:\n",
    "    print(row)"
   ]
  },
  {
   "cell_type": "code",
   "execution_count": null,
   "metadata": {},
   "outputs": [],
   "source": [
    "# Find number of articles by year by category, for a specific query\n",
    "\n",
    "c.execute('''\n",
    "    SELECT count(metadata.identifier), strftime(\"%Y\", metadata.created) as 'Y'\n",
    "    FROM metadata\n",
    "    WHERE substr(trim(cat),1,instr(trim(cat)||' ',' ')-1) = 'cs.CV'\n",
    "    AND strftime(\"%Y\", metadata.created) = '2012'\n",
    "    GROUP BY strftime(\"%Y\", metadata.created)\n",
    "    ORDER BY strftime(\"%Y\", metadata.created) ASC\n",
    "    ''')\n",
    "rows = c.fetchall()\n",
    "for row in rows:\n",
    "    print(row)"
   ]
  },
  {
   "cell_type": "code",
   "execution_count": null,
   "metadata": {},
   "outputs": [],
   "source": [
    "print(len(rows))"
   ]
  },
  {
   "cell_type": "code",
   "execution_count": null,
   "metadata": {},
   "outputs": [],
   "source": [
    "# values = np.array()\n",
    "values = [item[0] for item in rows]\n",
    "plt.plot(values)"
   ]
  },
  {
   "cell_type": "markdown",
   "metadata": {},
   "source": [
    "### Other metadata"
   ]
  },
  {
   "cell_type": "code",
   "execution_count": null,
   "metadata": {},
   "outputs": [],
   "source": [
    "# Find number of images per each different imageformat\n",
    "\n",
    "c.execute('''\n",
    "    SELECT imageformat, count(imageformat)\n",
    "    FROM images\n",
    "    GROUP BY imageformat\n",
    "    ORDER BY count(imageformat) DESC\n",
    "    ''')\n",
    "rows = c.fetchall()\n",
    "for row in rows:\n",
    "    print(row)"
   ]
  },
  {
   "cell_type": "code",
   "execution_count": null,
   "metadata": {},
   "outputs": [],
   "source": [
    "# Get only the first listed category\n",
    "\n",
    "c.execute('''\n",
    "    SELECT identifier, cat, substr(trim(cat),1,instr(trim(cat)||' ',' ')-1)\n",
    "    FROM metadata\n",
    "    LIMIT 20\n",
    "    ''')\n",
    "rows = c.fetchall()\n",
    "for row in rows:\n",
    "    print(row)"
   ]
  },
  {
   "cell_type": "code",
   "execution_count": null,
   "metadata": {},
   "outputs": [],
   "source": [
    "# Get the licence information for number of articles\n",
    "\n",
    "c.execute('''\n",
    "    SELECT licence, COUNT(licence)\n",
    "    FROM metadata\n",
    "    GROUP BY licence\n",
    "    HAVING COUNT(identifier) > 0\n",
    "    ''')\n",
    "rows = c.fetchall()\n",
    "for row in rows:\n",
    "    print(row)"
   ]
  },
  {
   "cell_type": "code",
   "execution_count": null,
   "metadata": {},
   "outputs": [],
   "source": [
    "# Get the number of images per licence\n",
    "\n",
    "c.execute('''\n",
    "    SELECT metadata.licence, COUNT(metadata.licence)\n",
    "    FROM images\n",
    "    LEFT JOIN metadata ON images.identifier = metadata.identifier\n",
    "    GROUP BY metadata.licence\n",
    "    HAVING COUNT(images.identifier) > 0\n",
    "    ''')\n",
    "rows = c.fetchall()\n",
    "for row in rows:\n",
    "    print(row)"
   ]
  },
  {
   "cell_type": "code",
   "execution_count": null,
   "metadata": {},
   "outputs": [],
   "source": [
    "# Get number of articles for each primary category\n",
    "\n",
    "c.execute('''\n",
    "    SELECT count(substr(trim(cat),1,instr(trim(cat)||' ',' ')-1)), substr(trim(cat),1,instr(trim(cat)||' ',' ')-1)\n",
    "    FROM metadata\n",
    "    GROUP BY substr(trim(cat),1,instr(trim(cat)||' ',' ')-1)\n",
    "    ''')\n",
    "rows = c.fetchall()\n",
    "for row in rows:\n",
    "    print(row)"
   ]
  },
  {
   "cell_type": "markdown",
   "metadata": {},
   "source": [
    "### Querying by image extension"
   ]
  },
  {
   "cell_type": "code",
   "execution_count": null,
   "metadata": {},
   "outputs": [],
   "source": [
    "# define reverse function\n",
    "db.create_function(\"reverse\", 1, lambda s: s[::-1])"
   ]
  },
  {
   "cell_type": "code",
   "execution_count": null,
   "metadata": {},
   "outputs": [],
   "source": [
    "# Get the number of images per extension\n",
    "# DON'T filter based on X or Y dimension\n",
    "\n",
    "c.execute('''\n",
    "    SELECT COUNT(reverse(substr(reverse(filename),1,instr(reverse(filename),'.')-1))), reverse(substr(reverse(filename),1,instr(reverse(filename),'.')-1)) AS extension\n",
    "    FROM images\n",
    "    GROUP BY extension \n",
    "    ''')\n",
    "\n",
    "rows = c.fetchall()\n",
    "for row in rows:\n",
    "    print(row)"
   ]
  },
  {
   "cell_type": "code",
   "execution_count": null,
   "metadata": {},
   "outputs": [],
   "source": [
    "# Get the number of images per extension\n",
    "# filter based on X or Y dimension\n",
    "\n",
    "c.execute('''\n",
    "    SELECT COUNT(reverse(substr(reverse(filename),1,instr(reverse(filename),'.')-1))), reverse(substr(reverse(filename),1,instr(reverse(filename),'.')-1)) AS extension\n",
    "    FROM images\n",
    "    WHERE x is not null and x != ''\n",
    "    AND y is not null and y != ''\n",
    "    AND imageformat is not null and imageformat != ''\n",
    "    GROUP BY extension\n",
    "    ''')\n",
    "\n",
    "rows = c.fetchall()\n",
    "for row in rows:\n",
    "    print(row)"
   ]
  },
  {
   "cell_type": "code",
   "execution_count": null,
   "metadata": {},
   "outputs": [],
   "source": [
    "# Get the number of images per extension by year\n",
    "# filter based on X or Y dimension\n",
    "# 2018 only\n",
    "\n",
    "c.execute('''\n",
    "    SELECT reverse(substr(reverse(filename),1,instr(reverse(filename),'.')-1)) AS extension, COUNT(reverse(substr(reverse(filename),1,instr(reverse(filename),'.')-1)))\n",
    "    FROM images\n",
    "    LEFT JOIN metadata ON images.identifier = metadata.identifier\n",
    "    WHERE x is not null and x != ''\n",
    "    AND y is not null and y != ''\n",
    "    AND imageformat is not null and imageformat != ''\n",
    "    AND strftime(\"%Y\", metadata.created) = '2018'\n",
    "    GROUP BY extension\n",
    "    ''')\n",
    "\n",
    "rows = c.fetchall()\n",
    "for row in rows:\n",
    "    print(row)"
   ]
  },
  {
   "cell_type": "code",
   "execution_count": null,
   "metadata": {},
   "outputs": [],
   "source": [
    "# Get the number of images per extension\n",
    "# filter based on X or Y dimension\n",
    "\n",
    "c.execute('''\n",
    "    SELECT reverse(substr(reverse(filename),1,instr(reverse(filename),'.')-1)) AS extension, COUNT(reverse(substr(reverse(filename),1,instr(reverse(filename),'.')-1)))\n",
    "    FROM images\n",
    "    LEFT JOIN metadata ON images.identifier = metadata.identifier\n",
    "    WHERE x is not null and x != ''\n",
    "    AND y is not null and y != ''\n",
    "    AND imageformat is not null and imageformat != ''\n",
    "    GROUP BY extension\n",
    "    ''')\n",
    "\n",
    "rows = c.fetchall()\n",
    "for row in rows:\n",
    "    print(row)\n",
    "    \n",
    "total = 0\n",
    "for row in rows:\n",
    "    total += row[1]\n",
    "print(\"total:\", total)\n",
    "\n",
    "print(\"*\" * 20)\n",
    "\n",
    "alldata = []\n",
    "for i, row in enumerate(rows):\n",
    "    alldata.append([row[0], row[1], row[1]/total])\n",
    "for d in alldata:\n",
    "    print(\"{} | {} | {:2.2%}\".format(d[0], d[1], d[2]))"
   ]
  },
  {
   "cell_type": "markdown",
   "metadata": {},
   "source": [
    "### Get extensions by years and get statistics for changing percentages"
   ]
  },
  {
   "cell_type": "code",
   "execution_count": null,
   "metadata": {},
   "outputs": [],
   "source": [
    "# Get list of years\n",
    "\n",
    "c.execute('''\n",
    "    SELECT strftime(\"%Y\", metadata.created), COUNT(strftime(\"%Y\", metadata.created))\n",
    "    FROM metadata\n",
    "    GROUP BY strftime(\"%Y\", metadata.created)\n",
    "    ''')\n",
    "\n",
    "years = []\n",
    "\n",
    "rows = c.fetchall()\n",
    "for row in rows:\n",
    "    print(row)\n",
    "    years.append(row[0])\n",
    "print(years)"
   ]
  },
  {
   "cell_type": "code",
   "execution_count": null,
   "metadata": {
    "scrolled": false
   },
   "outputs": [],
   "source": [
    "# Get the number of images per extension by year\n",
    "# filter based on X or Y dimension\n",
    "\n",
    "data = []\n",
    "\n",
    "# manually selecting years\n",
    "# years = [\"2000\", \"2005\", \"2010\", \"2015\"]\n",
    "\n",
    "db.create_function(\"reverse\", 1, lambda s: s[::-1])\n",
    "sql = ('''\n",
    "    SELECT reverse(substr(reverse(filename),1,instr(reverse(filename),'.')-1)) AS extension, COUNT(reverse(substr(reverse(filename),1,instr(reverse(filename),'.')-1)))\n",
    "    FROM images\n",
    "    LEFT JOIN metadata ON images.identifier = metadata.identifier\n",
    "    WHERE x is not null and x != ''\n",
    "    AND y is not null and y != ''\n",
    "    AND imageformat is not null and imageformat != ''\n",
    "    AND strftime(\"%Y\", metadata.created) = ?\n",
    "    GROUP BY extension\n",
    "    ''')\n",
    "\n",
    "# data = []\n",
    "\n",
    "for y, year in enumerate(years):\n",
    "    print(\"*\" * 20)\n",
    "    print(year)\n",
    "    print(\"*\" * 20)\n",
    "    c.execute(sql, (year, ))\n",
    "\n",
    "    rows = c.fetchall()\n",
    "#     for row in rows:\n",
    "#         print(row)\n",
    "    total = 0\n",
    "    for row in rows:\n",
    "        total += row[1]\n",
    "    print(\"total:\", total)\n",
    "\n",
    "    data = []\n",
    "    for i, row in enumerate(rows):\n",
    "        data.append([row[0], row[1], row[1]/total])\n",
    "    for d in data:\n",
    "        print(\"{} | {} | {:2.2%}\".format(d[0], d[1], d[2]))\n",
    "#     print(data)\n",
    "        "
   ]
  },
  {
   "cell_type": "code",
   "execution_count": null,
   "metadata": {},
   "outputs": [],
   "source": [
    "for d in data:\n",
    "    print(d)"
   ]
  },
  {
   "cell_type": "code",
   "execution_count": null,
   "metadata": {},
   "outputs": [],
   "source": [
    "# get proportion as percentage\n",
    "\n",
    "total = 0\n",
    "for row in rows:\n",
    "    total += row[1]\n",
    "print(total)\n",
    "\n",
    "data = []\n",
    "for row in rows:\n",
    "    data.append([row[0], row[1], row[1]/total])\n",
    "print(data)"
   ]
  },
  {
   "cell_type": "code",
   "execution_count": null,
   "metadata": {},
   "outputs": [],
   "source": [
    "# take second element for sort\n",
    "def takeSecond(elem):\n",
    "    return elem[1]\n",
    "data.sort(key=takeSecond)\n",
    "\n",
    "for d in data:\n",
    "    print(\"{} | {} | {:2.2%}\".format(d[0], d[1], d[2]))"
   ]
  },
  {
   "cell_type": "code",
   "execution_count": null,
   "metadata": {},
   "outputs": [],
   "source": [
    "values = []\n",
    "names = []\n",
    "for row in rows:\n",
    "    values.append(row[0])\n",
    "    names.append(row[1])"
   ]
  },
  {
   "cell_type": "code",
   "execution_count": null,
   "metadata": {},
   "outputs": [],
   "source": [
    "values_save = values\n",
    "names_save = names"
   ]
  },
  {
   "cell_type": "code",
   "execution_count": null,
   "metadata": {},
   "outputs": [],
   "source": [
    "for i, name in enumerate(names.copy()):\n",
    "    names[i] = name.lower()\n",
    "print(names)"
   ]
  },
  {
   "cell_type": "code",
   "execution_count": null,
   "metadata": {},
   "outputs": [],
   "source": [
    "print(values)\n",
    "print(names)\n",
    "print(len(values))\n",
    "print(len(names))"
   ]
  },
  {
   "cell_type": "code",
   "execution_count": null,
   "metadata": {},
   "outputs": [],
   "source": [
    "total = 0\n",
    "for row in rows:\n",
    "    total += row[0]\n",
    "print(total)"
   ]
  },
  {
   "cell_type": "code",
   "execution_count": null,
   "metadata": {},
   "outputs": [],
   "source": [
    "# writing file to org mode for github\n",
    "\n",
    "# write the data to a file\n",
    "with open(\"stats_articles_by_cat.org\", \"w\") as write_file:\n",
    "    print(\"* number of articles by category\", file=write_file)\n",
    "    print(\"|-|-|\", file=write_file)\n",
    "    for cat in rows:\n",
    "#         joined = list(zip(cat[1], cat[2]))\n",
    "        #     print(joined)\n",
    "        print('|' + str(cat[0]) + \"|\" + str(cat[1]) + \"|\", file=write_file)\n",
    "    print(\"|-|-|\", file=write_file)\n",
    "write_file.close()"
   ]
  },
  {
   "cell_type": "markdown",
   "metadata": {},
   "source": [
    "#### Image metadata"
   ]
  },
  {
   "cell_type": "code",
   "execution_count": null,
   "metadata": {},
   "outputs": [],
   "source": [
    "# Get the number of images per licence\n",
    "\n",
    "c.execute('''\n",
    "    SELECT images.creator, COUNT(images.creator)\n",
    "    FROM images\n",
    "    GROUP BY images.creator\n",
    "    ORDER BY COUNT(images.creator) DESC\n",
    "    ''')\n",
    "rows = c.fetchall()\n",
    "for row in rows:\n",
    "    print(row)"
   ]
  },
  {
   "cell_type": "code",
   "execution_count": null,
   "metadata": {},
   "outputs": [],
   "source": [
    "print(\"|-|-|-|\")\n",
    "for row in rows[1:16]:\n",
    "    per = str(round((row[1]/10053059*100), 2))\n",
    "    print(\"|\" + per + \"|\" + str(row[1]) + \"|\" + row[0] + '|')\n",
    "print(\"|-|-|-|\")"
   ]
  }
 ],
 "metadata": {
  "kernelspec": {
   "display_name": "Python 3",
   "language": "python",
   "name": "python3"
  },
  "language_info": {
   "codemirror_mode": {
    "name": "ipython",
    "version": 3
   },
   "file_extension": ".py",
   "mimetype": "text/x-python",
   "name": "python",
   "nbconvert_exporter": "python",
   "pygments_lexer": "ipython3",
   "version": "3.7.3"
  }
 },
 "nbformat": 4,
 "nbformat_minor": 2
}
