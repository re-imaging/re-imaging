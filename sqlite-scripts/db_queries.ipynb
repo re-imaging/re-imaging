{
 "cells": [
  {
   "cell_type": "markdown",
   "metadata": {},
   "source": [
    "# db_queries\n",
    "#### Notebook for running python sqlite3 commands for querying database"
   ]
  },
  {
   "cell_type": "code",
   "execution_count": 57,
   "metadata": {},
   "outputs": [],
   "source": [
    "import matplotlib.pyplot as plt\n",
    "import numpy as np"
   ]
  },
  {
   "cell_type": "code",
   "execution_count": 58,
   "metadata": {},
   "outputs": [],
   "source": [
    "import sqlite3"
   ]
  },
  {
   "cell_type": "code",
   "execution_count": 59,
   "metadata": {},
   "outputs": [],
   "source": [
    "# path on rte\n",
    "db_path = \"/home/rte/data/db/arxiv_db_images.sqlite3\""
   ]
  },
  {
   "cell_type": "code",
   "execution_count": null,
   "metadata": {},
   "outputs": [],
   "source": [
    "# path on kt\n",
    "db_path = \"/home/kt/rte/db/arxiv_db_images.sqlite3\""
   ]
  },
  {
   "cell_type": "code",
   "execution_count": 60,
   "metadata": {},
   "outputs": [],
   "source": [
    "# Here we import the sqlite3 database and create a cursor\n",
    "\n",
    "db = sqlite3.connect(db_path)\n",
    "c = db.cursor()"
   ]
  },
  {
   "cell_type": "markdown",
   "metadata": {},
   "source": [
    "Get the pragma table info for each table"
   ]
  },
  {
   "cell_type": "code",
   "execution_count": 61,
   "metadata": {
    "scrolled": false
   },
   "outputs": [
    {
     "name": "stdout",
     "output_type": "stream",
     "text": [
      "\n",
      "Column Info:\n",
      "ID, Name, Type, NotNull, DefaultVal, PrimaryKey\n",
      "(0, 'id', 'INTEGER', 0, None, 1)\n",
      "(1, 'identifier', 'TEXT', 0, None, 0)\n",
      "(2, 'created', 'TEXT', 0, None, 0)\n",
      "(3, 'cat', 'TEXT', 0, None, 0)\n",
      "(4, 'authors', 'TEXT', 0, None, 0)\n",
      "(5, 'title', 'TEXT', 0, None, 0)\n",
      "(6, 'abstract', 'TEXT', 0, None, 0)\n",
      "(7, 'licence', 'TEXT', 0, None, 0)\n"
     ]
    }
   ],
   "source": [
    "c.execute('PRAGMA TABLE_INFO({})'.format(\"metadata\"))\n",
    "info = c.fetchall()\n",
    "\n",
    "print(\"\\nColumn Info:\\nID, Name, Type, NotNull, DefaultVal, PrimaryKey\")\n",
    "for col in info:\n",
    "    print(col)"
   ]
  },
  {
   "cell_type": "code",
   "execution_count": 62,
   "metadata": {},
   "outputs": [
    {
     "name": "stdout",
     "output_type": "stream",
     "text": [
      "\n",
      "Column Info:\n",
      "ID, Name, Type, NotNull, DefaultVal, PrimaryKey\n",
      "(0, 'id', 'INTEGER', 0, None, 1)\n",
      "(1, 'identifier', 'TEXT', 0, None, 0)\n",
      "(2, 'filename', 'TEXT', 0, None, 0)\n",
      "(3, 'filesize', 'INT', 0, None, 0)\n",
      "(4, 'path', 'TEXT', 0, None, 0)\n",
      "(5, 'x', 'INT', 0, None, 0)\n",
      "(6, 'y', 'INT', 0, None, 0)\n",
      "(7, 'imageformat', 'TEXT', 0, None, 0)\n"
     ]
    }
   ],
   "source": [
    "c.execute('PRAGMA TABLE_INFO({})'.format(\"images\"))\n",
    "info = c.fetchall()\n",
    "\n",
    "print(\"\\nColumn Info:\\nID, Name, Type, NotNull, DefaultVal, PrimaryKey\")\n",
    "for col in info:\n",
    "    print(col)"
   ]
  },
  {
   "cell_type": "markdown",
   "metadata": {},
   "source": [
    "Quick test to retrive one row"
   ]
  },
  {
   "cell_type": "code",
   "execution_count": null,
   "metadata": {},
   "outputs": [],
   "source": [
    "c.execute('''\n",
    "    SELECT * \n",
    "    FROM images \n",
    "    ORDER BY ROWID ASC \n",
    "    LIMIT 1\n",
    "''')\n",
    "rows = c.fetchall()\n",
    "for row in rows:\n",
    "    print(row)"
   ]
  },
  {
   "cell_type": "code",
   "execution_count": null,
   "metadata": {},
   "outputs": [],
   "source": [
    "c.execute('''\n",
    "    SELECT * \n",
    "    FROM metadata \n",
    "    ORDER BY ROWID ASC \n",
    "    LIMIT 1\n",
    "''')\n",
    "rows = c.fetchall()\n",
    "for row in rows:\n",
    "    print(row)"
   ]
  },
  {
   "cell_type": "markdown",
   "metadata": {},
   "source": [
    "Find any duplicate identifiers"
   ]
  },
  {
   "cell_type": "code",
   "execution_count": null,
   "metadata": {},
   "outputs": [],
   "source": [
    "# look for duplicate rows in the metadata table\n",
    "c.execute('''\n",
    "    SELECT identifier, COUNT(identifier)\n",
    "    FROM metadata\n",
    "    GROUP BY identifier\n",
    "    HAVING COUNT(identifier) > 1\n",
    "    ''')\n",
    "rows = c.fetchall()\n",
    "for row in rows:\n",
    "    print(row)"
   ]
  },
  {
   "cell_type": "code",
   "execution_count": null,
   "metadata": {},
   "outputs": [],
   "source": [
    "# look for duplicate rows in the images table (brings up totals for images by article ID)\n",
    "c.execute('''\n",
    "    SELECT identifier, COUNT(identifier)\n",
    "    FROM images\n",
    "    GROUP BY identifier\n",
    "    HAVING COUNT(identifier) > 0\n",
    "    ''')\n",
    "rows = c.fetchall()\n",
    "for row in rows:\n",
    "    print(row)"
   ]
  },
  {
   "cell_type": "code",
   "execution_count": null,
   "metadata": {
    "scrolled": true
   },
   "outputs": [],
   "source": [
    "# Find the earliest date of an article\n",
    "\n",
    "c.execute('''\n",
    "    SELECT created, identifier\n",
    "    FROM metadata\n",
    "    WHERE created IS NOT NULL\n",
    "    ORDER BY created ASC\n",
    "    LIMIT 20\n",
    "    ''')\n",
    "rows = c.fetchall()\n",
    "for row in rows:\n",
    "    print(row)"
   ]
  },
  {
   "cell_type": "code",
   "execution_count": null,
   "metadata": {
    "scrolled": true
   },
   "outputs": [],
   "source": [
    "# Find the earliest dated articles and get the identifiers\n",
    "\n",
    "c.execute('''\n",
    "    SELECT images.identifier, metadata.created, metadata.identifier \n",
    "    FROM images\n",
    "    LEFT JOIN metadata ON images.identifier = metadata.identifier\n",
    "    WHERE metadata.created IS NOT NULL\n",
    "    ORDER BY created ASC\n",
    "    LIMIT 20\n",
    "    ''')\n",
    "    \n",
    "rows = c.fetchall()\n",
    "for row in rows:\n",
    "    print(row)"
   ]
  },
  {
   "cell_type": "code",
   "execution_count": null,
   "metadata": {},
   "outputs": [],
   "source": [
    "# Find total number of rows in metadata\n",
    "\n",
    "c.execute('''\n",
    "    SELECT count(*)\n",
    "    FROM metadata\n",
    "    ''')\n",
    "rows = c.fetchall()\n",
    "for row in rows:\n",
    "    print(row)"
   ]
  },
  {
   "cell_type": "code",
   "execution_count": null,
   "metadata": {},
   "outputs": [],
   "source": [
    "# Find total number of rows in images\n",
    "\n",
    "c.execute('''\n",
    "    SELECT count(*)\n",
    "    FROM images\n",
    "    ''')\n",
    "rows = c.fetchall()\n",
    "for row in rows:\n",
    "    print(row)"
   ]
  },
  {
   "cell_type": "code",
   "execution_count": null,
   "metadata": {},
   "outputs": [],
   "source": [
    "# Get average of the x size column\n",
    "\n",
    "c.execute('''\n",
    "    SELECT avg(x)\n",
    "    FROM images\n",
    "    ''')\n",
    "rows = c.fetchall()\n",
    "for row in rows:\n",
    "    print(row)"
   ]
  },
  {
   "cell_type": "code",
   "execution_count": null,
   "metadata": {},
   "outputs": [],
   "source": [
    "# Get average of the y size column\n",
    "\n",
    "c.execute('''\n",
    "    SELECT avg(y)\n",
    "    FROM images\n",
    "    ''')\n",
    "rows = c.fetchall()\n",
    "for row in rows:\n",
    "    print(row)"
   ]
  },
  {
   "cell_type": "code",
   "execution_count": null,
   "metadata": {},
   "outputs": [],
   "source": [
    "# Find where there are NULL values for x\n",
    "\n",
    "c.execute('''\n",
    "    SELECT identifier, id, path, filesize, x, y, imageformat\n",
    "    FROM images\n",
    "    WHERE x is null or x = ''\n",
    "    ''')\n",
    "rows = c.fetchall()\n",
    "for row in rows:\n",
    "    print(row)"
   ]
  },
  {
   "cell_type": "code",
   "execution_count": null,
   "metadata": {},
   "outputs": [],
   "source": [
    "print(len(rows))"
   ]
  },
  {
   "cell_type": "code",
   "execution_count": null,
   "metadata": {},
   "outputs": [],
   "source": [
    "# Find where there are NULL values for identifier\n",
    "\n",
    "c.execute('''\n",
    "    SELECT identifier, id, path, filesize, x, y, imageformat\n",
    "    FROM images\n",
    "    WHERE identifier is null or identifier = ''\n",
    "    ''')\n",
    "rows = c.fetchall()\n",
    "for row in rows:\n",
    "    print(row)"
   ]
  },
  {
   "cell_type": "code",
   "execution_count": null,
   "metadata": {},
   "outputs": [],
   "source": [
    "# Find where there are NULL values for filesize\n",
    "\n",
    "c.execute('''\n",
    "    SELECT id, identifier, path, filesize, x, y, imageformat\n",
    "    FROM images\n",
    "    WHERE filesize is null or filesize = ''\n",
    "    ''')\n",
    "rows = c.fetchall()\n",
    "for row in rows:\n",
    "    print(row)"
   ]
  },
  {
   "cell_type": "code",
   "execution_count": null,
   "metadata": {},
   "outputs": [],
   "source": [
    "# save (commit) changes\n",
    "\n",
    "db.commit()"
   ]
  },
  {
   "cell_type": "code",
   "execution_count": null,
   "metadata": {},
   "outputs": [],
   "source": [
    "# DELETE where there are NULL values for filesize\n",
    "\n",
    "c.execute('''\n",
    "    DELETE\n",
    "    FROM images\n",
    "    WHERE filesize is null or filesize = ''\n",
    "    ''')\n",
    "rows = c.fetchall()\n",
    "for row in rows:\n",
    "    print(row)"
   ]
  },
  {
   "cell_type": "code",
   "execution_count": null,
   "metadata": {},
   "outputs": [],
   "source": [
    "# Get total number of images per article\n",
    "\n",
    "c.execute('''\n",
    "    SELECT images.identifier, metadata.cat, count(images.identifier)    \n",
    "    FROM images \n",
    "    LEFT JOIN metadata ON images.identifier = metadata.identifier \n",
    "    GROUP BY images.identifier\n",
    "    ORDER BY count(images.identifier)\n",
    "    ''')\n",
    "rows = c.fetchall()\n",
    "for row in rows:\n",
    "    print(row)"
   ]
  },
  {
   "cell_type": "code",
   "execution_count": null,
   "metadata": {
    "scrolled": true
   },
   "outputs": [],
   "source": [
    "# Get total number of images per category\n",
    "\n",
    "c.execute('''\n",
    "    SELECT metadata.cat, count(images.identifier)\n",
    "    FROM images\n",
    "    LEFT JOIN metadata ON images.identifier = metadata.identifier \n",
    "    GROUP BY metadata.cat\n",
    "    ORDER BY count(images.identifier) DESC    \n",
    "    LIMIT 200\n",
    "    ''')\n",
    "rows = c.fetchall()\n",
    "for row in rows:\n",
    "    print(row)"
   ]
  },
  {
   "cell_type": "code",
   "execution_count": null,
   "metadata": {
    "scrolled": true
   },
   "outputs": [],
   "source": [
    "# Get total number of images per primary category only\n",
    "\n",
    "c.execute('''\n",
    "    SELECT substr(trim(metadata.cat),1,instr(trim(metadata.cat)||' ',' ')-1), count(images.identifier)\n",
    "    FROM images\n",
    "    LEFT JOIN metadata ON images.identifier = metadata.identifier \n",
    "    GROUP BY substr(trim(metadata.cat),1,instr(trim(metadata.cat)||' ',' ')-1)\n",
    "    ORDER BY count(images.identifier) DESC    \n",
    "    ''')\n",
    "rows = c.fetchall()\n",
    "for row in rows:\n",
    "    print(row)"
   ]
  },
  {
   "cell_type": "code",
   "execution_count": null,
   "metadata": {},
   "outputs": [],
   "source": [
    "print(len(rows))"
   ]
  },
  {
   "cell_type": "code",
   "execution_count": null,
   "metadata": {},
   "outputs": [],
   "source": [
    "# Get number of articles with no category\n",
    "# this seems to give no results\n",
    "\n",
    "c.execute('''\n",
    "    SELECT identifier, cat\n",
    "    FROM metadata\n",
    "    WHERE cat IS NULL OR cat = '' OR cat = 'None'\n",
    "    ''')\n",
    "rows = c.fetchall()\n",
    "for row in rows:\n",
    "    print(row)"
   ]
  },
  {
   "cell_type": "code",
   "execution_count": 63,
   "metadata": {},
   "outputs": [],
   "source": [
    "# Find where there is no matching metadata for a given image\n",
    "\n",
    "c.execute('''\n",
    "    SELECT count(images.identifier), images.identifier\n",
    "    FROM images\n",
    "    LEFT JOIN metadata ON metadata.identifier = images.identifier\n",
    "    WHERE metadata.identifier IS NULL\n",
    "    GROUP BY images.identifier\n",
    "    ''')\n",
    "rows = c.fetchall()\n",
    "for row in rows:\n",
    "    print(row)"
   ]
  },
  {
   "cell_type": "code",
   "execution_count": 64,
   "metadata": {},
   "outputs": [
    {
     "name": "stdout",
     "output_type": "stream",
     "text": [
      "0\n"
     ]
    }
   ],
   "source": [
    "print(len(rows))"
   ]
  },
  {
   "cell_type": "code",
   "execution_count": 40,
   "metadata": {},
   "outputs": [
    {
     "name": "stdout",
     "output_type": "stream",
     "text": [
      "5264\n"
     ]
    }
   ],
   "source": [
    "print(sum(row[0] for row in rows))"
   ]
  },
  {
   "cell_type": "code",
   "execution_count": 34,
   "metadata": {},
   "outputs": [],
   "source": [
    "# Find where there is no identifier for an image\n",
    "\n",
    "c.execute('''\n",
    "    SELECT identifier, id, filename, filesize, path, x, y\n",
    "    FROM images\n",
    "    WHERE identifier IS NULL OR identifier = ''\n",
    "    ''')\n",
    "rows = c.fetchall()\n",
    "for row in rows:\n",
    "    print(row)"
   ]
  },
  {
   "cell_type": "code",
   "execution_count": 35,
   "metadata": {},
   "outputs": [],
   "source": [
    "# More looking for specific entries with no identifier\n",
    "\n",
    "c.execute('''\n",
    "    SELECT identifier, id\n",
    "    FROM images\n",
    "    WHERE identifier IS NULL OR identifier = ''\n",
    "    ''')\n",
    "rows = c.fetchall()\n",
    "for row in rows:\n",
    "    print(row)"
   ]
  },
  {
   "cell_type": "code",
   "execution_count": null,
   "metadata": {},
   "outputs": [],
   "source": [
    "# Find number of images in each month/year\n",
    "\n",
    "c.execute('''\n",
    "    SELECT count(images.identifier), strftime(\"%m-%Y\", metadata.created) as 'mY'\n",
    "    FROM images\n",
    "    LEFT JOIN metadata ON images.identifier = metadata.identifier \n",
    "    GROUP BY strftime(\"%m-%Y\", metadata.created)\n",
    "    ORDER BY strftime(\"%Y\", metadata.created) ASC\n",
    "    ''')\n",
    "rows = c.fetchall()\n",
    "for row in rows:\n",
    "    print(row)"
   ]
  },
  {
   "cell_type": "code",
   "execution_count": null,
   "metadata": {},
   "outputs": [],
   "source": [
    "# Find number of articles in each month/year\n",
    "\n",
    "c.execute('''\n",
    "    SELECT count(metadata.identifier), strftime(\"%m-%Y\", metadata.created) as 'mY'\n",
    "    FROM metadata\n",
    "    GROUP BY strftime(\"%m-%Y\", metadata.created)\n",
    "    ORDER BY strftime(\"%Y\", metadata.created) ASC\n",
    "    ''')\n",
    "rows = c.fetchall()\n",
    "for row in rows:\n",
    "    print(row)"
   ]
  },
  {
   "cell_type": "code",
   "execution_count": null,
   "metadata": {},
   "outputs": [],
   "source": [
    "print(len(rows))"
   ]
  },
  {
   "cell_type": "code",
   "execution_count": null,
   "metadata": {},
   "outputs": [],
   "source": [
    "# values = np.array()\n",
    "values = [item[0] for item in rows]\n",
    "plt.plot(values)"
   ]
  },
  {
   "cell_type": "code",
   "execution_count": null,
   "metadata": {},
   "outputs": [],
   "source": [
    "# Find number of images per each different imageformat\n",
    "\n",
    "c.execute('''\n",
    "    SELECT imageformat, count(imageformat)\n",
    "    FROM images\n",
    "    GROUP BY imageformat\n",
    "    ORDER BY count(imageformat) DESC\n",
    "    ''')\n",
    "rows = c.fetchall()\n",
    "for row in rows:\n",
    "    print(row)"
   ]
  },
  {
   "cell_type": "code",
   "execution_count": null,
   "metadata": {},
   "outputs": [],
   "source": [
    "# Get only the first listed category\n",
    "\n",
    "c.execute('''\n",
    "    SELECT identifier, cat, substr(trim(cat),1,instr(trim(cat)||' ',' ')-1)\n",
    "    FROM metadata\n",
    "    LIMIT 20\n",
    "    ''')\n",
    "rows = c.fetchall()\n",
    "for row in rows:\n",
    "    print(row)"
   ]
  },
  {
   "cell_type": "code",
   "execution_count": null,
   "metadata": {},
   "outputs": [],
   "source": [
    "# Get the licence information for number of articles\n",
    "\n",
    "c.execute('''\n",
    "    SELECT licence, COUNT(licence)\n",
    "    FROM metadata\n",
    "    GROUP BY licence\n",
    "    HAVING COUNT(identifier) > 0\n",
    "    ''')\n",
    "rows = c.fetchall()\n",
    "for row in rows:\n",
    "    print(row)"
   ]
  }
 ],
 "metadata": {
  "kernelspec": {
   "display_name": "Python 3",
   "language": "python",
   "name": "python3"
  },
  "language_info": {
   "codemirror_mode": {
    "name": "ipython",
    "version": 3
   },
   "file_extension": ".py",
   "mimetype": "text/x-python",
   "name": "python",
   "nbconvert_exporter": "python",
   "pygments_lexer": "ipython3",
   "version": "3.7.3"
  }
 },
 "nbformat": 4,
 "nbformat_minor": 2
}
