{
 "cells": [
  {
   "cell_type": "code",
   "execution_count": null,
   "metadata": {},
   "outputs": [],
   "source": [
    "import subprocess\n",
    "import os\n",
    "import sqlite3\n",
    "import random\n",
    "\n",
    "import numpy as np\n",
    "import matplotlib.pyplot as plt\n",
    "import pandas as pd\n",
    "from scipy.interpolate import BSpline\n",
    "import scipy.interpolate as interpolate\n",
    "\n",
    "import seaborn as sns\n",
    "sns.set(style=\"ticks\")\n",
    "\n",
    "import joypy\n",
    "from matplotlib import cm\n",
    "\n",
    "import shlex"
   ]
  },
  {
   "cell_type": "code",
   "execution_count": null,
   "metadata": {},
   "outputs": [],
   "source": [
    "open_images = False"
   ]
  },
  {
   "cell_type": "code",
   "execution_count": null,
   "metadata": {},
   "outputs": [],
   "source": [
    "db_path = \"/home/rte/data/db/arxiv_db_images.sqlite3\"\n",
    "\n",
    "db = sqlite3.connect(db_path)\n",
    "c = db.cursor()"
   ]
  },
  {
   "cell_type": "code",
   "execution_count": null,
   "metadata": {},
   "outputs": [],
   "source": [
    "search_term = \"monte carlo\"\n",
    "# search_term = \"convolutional neural network\"\n",
    "# search_term = \"convolution\"\n",
    "# search_term = \"cnn\"\n",
    "sql_search_term = \"%\" + search_term + \"%\"\n",
    "print(sql_search_term)"
   ]
  },
  {
   "cell_type": "code",
   "execution_count": null,
   "metadata": {},
   "outputs": [],
   "source": [
    "# extended search for multiple terms\n",
    "\n",
    "sql = '''\n",
    "    SELECT captions.image_ids, captions.caption, captions.fignum, metadata.cat, metadata.created\n",
    "    FROM captions\n",
    "    LEFT JOIN metadata ON captions.identifier = metadata.identifier\n",
    "    WHERE caption LIKE \"%convolutional%\" \n",
    "    OR caption LIKE \"%convolutional neural network%\"\n",
    "    OR caption LIKE \"%cnn%\"    \n",
    "    '''\n",
    "\n",
    "c.execute(sql, ())\n",
    "rows = c.fetchall()\n",
    "\n",
    "print(\"number of rows:\",len(rows))"
   ]
  },
  {
   "cell_type": "code",
   "execution_count": null,
   "metadata": {},
   "outputs": [],
   "source": [
    "sql = '''\n",
    "    SELECT captions.image_ids, captions.caption, captions.fignum, metadata.cat, metadata.created\n",
    "    FROM captions\n",
    "    LEFT JOIN metadata ON captions.identifier = metadata.identifier\n",
    "    WHERE caption LIKE ?\n",
    "    '''\n",
    "\n",
    "c.execute(sql, (sql_search_term, ))\n",
    "rows = c.fetchall()\n",
    "\n",
    "print(\"number of rows:\",len(rows))"
   ]
  },
  {
   "cell_type": "code",
   "execution_count": null,
   "metadata": {},
   "outputs": [],
   "source": [
    "for row in rows[:3]:\n",
    "    print(row)"
   ]
  },
  {
   "cell_type": "markdown",
   "metadata": {},
   "source": [
    "### Use full primary category"
   ]
  },
  {
   "cell_type": "code",
   "execution_count": null,
   "metadata": {},
   "outputs": [],
   "source": [
    "# full primary category\n",
    "data_long = []\n",
    "for row in rows:\n",
    "    cat = row[3].split(\" \")[0]\n",
    "    year = row[4].split(\"-\")[0]\n",
    "    data_long.append([cat, year])"
   ]
  },
  {
   "cell_type": "code",
   "execution_count": null,
   "metadata": {},
   "outputs": [],
   "source": [
    "df = pd.DataFrame(data_long, columns=[\"cat\", \"year\"]).astype({'cat': 'category', 'year': 'int32'})"
   ]
  },
  {
   "cell_type": "code",
   "execution_count": null,
   "metadata": {},
   "outputs": [],
   "source": [
    "df"
   ]
  },
  {
   "cell_type": "code",
   "execution_count": null,
   "metadata": {},
   "outputs": [],
   "source": [
    "df.cat.unique()"
   ]
  },
  {
   "cell_type": "code",
   "execution_count": null,
   "metadata": {},
   "outputs": [],
   "source": [
    "df.dtypes"
   ]
  },
  {
   "cell_type": "code",
   "execution_count": null,
   "metadata": {},
   "outputs": [],
   "source": [
    "pd.set_option('display.max_row', 1000)\n",
    "# pd.set_option('display.max_columns', 50)\n",
    "df.groupby('cat').count()"
   ]
  },
  {
   "cell_type": "code",
   "execution_count": null,
   "metadata": {},
   "outputs": [],
   "source": [
    "plt.figure(figsize=(20,20))\n",
    "fig, axes = joypy.joyplot(df, by=\"cat\", column=\"year\", grid=\"y\", linewidth=1, \n",
    "                          legend=False, fade=True,\n",
    "                          hist=False, bins=23, overlap=1,\n",
    "                          title=\"Caption occurrences of \" + search_term, \n",
    "                          figsize=(20,20),\n",
    "                          )\n",
    "# kind=\"counts\", bins=30,\n",
    "# range_style='own'\n",
    "# colormap=cm.Blues_r"
   ]
  },
  {
   "cell_type": "code",
   "execution_count": null,
   "metadata": {},
   "outputs": [],
   "source": [
    "# fig.savefig(\"monte-carlo_cat_year_ridge.svg\", dpi=300)\n",
    "# filename = search_term.replace(\"%\",\"\").replace(\" \", \"-\") + \"_ridge.svg\"\n",
    "# fig.savefig(filename, dpi=300)\n",
    "\n",
    "fig.savefig(\"convnet_multiterms_ridge.svg\", dpi=300)"
   ]
  },
  {
   "cell_type": "markdown",
   "metadata": {},
   "source": [
    "### Use only the condensed categories"
   ]
  },
  {
   "cell_type": "code",
   "execution_count": null,
   "metadata": {},
   "outputs": [],
   "source": [
    "# condensed categories\n",
    "data_short = []\n",
    "for row in rows:\n",
    "    cat = row[3].split(\" \")[0].split(\".\")[0]\n",
    "    year = row[4].split(\"-\")[0]\n",
    "    data_short.append([cat, year])"
   ]
  },
  {
   "cell_type": "code",
   "execution_count": null,
   "metadata": {},
   "outputs": [],
   "source": [
    "df = pd.DataFrame(data_short, columns=[\"cat\", \"year\"]).astype({'cat': 'category', 'year': 'int32'})"
   ]
  },
  {
   "cell_type": "code",
   "execution_count": null,
   "metadata": {},
   "outputs": [],
   "source": [
    "df.set_index([\"cat\", \"year\"]).count(level=\"cat\")"
   ]
  },
  {
   "cell_type": "code",
   "execution_count": null,
   "metadata": {
    "scrolled": false
   },
   "outputs": [],
   "source": [
    "df.groupby('cat').count()"
   ]
  },
  {
   "cell_type": "code",
   "execution_count": null,
   "metadata": {},
   "outputs": [],
   "source": [
    "df"
   ]
  },
  {
   "cell_type": "code",
   "execution_count": null,
   "metadata": {},
   "outputs": [],
   "source": [
    "df.cat.unique()"
   ]
  },
  {
   "cell_type": "code",
   "execution_count": null,
   "metadata": {},
   "outputs": [],
   "source": [
    "df.year.unique()"
   ]
  },
  {
   "cell_type": "code",
   "execution_count": null,
   "metadata": {},
   "outputs": [],
   "source": [
    "plt.figure(figsize=(20,20))\n",
    "fig, axes = joypy.joyplot(df, by=\"cat\", column=\"year\", grid=True, linewidth=1,\n",
    "                          hist=True, legend=False, fade=True,\n",
    "                          title=\"Caption occurrences of \" + search_term, \n",
    "                          figsize=(20,20),\n",
    "                          bins=20,\n",
    "                          ylim='max', overlap=0\n",
    "                          )\n",
    "# kind=\"counts\", bins=30,\n",
    "# range_style='own'\n",
    "# kind='kde'\n",
    "# kind='normalized_counts'"
   ]
  },
  {
   "cell_type": "code",
   "execution_count": null,
   "metadata": {},
   "outputs": [],
   "source": [
    "# filename = search_term.replace(\"%\",\"\").replace(\" \", \"-\") + \"_maincat_ridge.svg\"\n",
    "# fig.savefig(filename, dpi=300)\n",
    "os.chdir(\"/home/rte/documentation/captions/\")\n",
    "# fig.savefig(\"convnet_multiterms_maincat_ridge.svg\", dpi=300)\n",
    "fig.savefig(\"monte-carlo_maincat_hist.svg\", dpi=300)\n",
    "# fig.savefig(\"monte-carlo_maincat_ridge.svg\", dpi=300)\n",
    "# fig.savefig(\"convolution_multiple_maincat_ridge.svg\", dpi=300)"
   ]
  },
  {
   "cell_type": "code",
   "execution_count": null,
   "metadata": {},
   "outputs": [],
   "source": [
    "# random.shuffle(rows)"
   ]
  },
  {
   "cell_type": "markdown",
   "metadata": {},
   "source": [
    "### use the image_ids to open/save files"
   ]
  },
  {
   "cell_type": "code",
   "execution_count": null,
   "metadata": {},
   "outputs": [],
   "source": [
    "sql_results = rows"
   ]
  },
  {
   "cell_type": "code",
   "execution_count": null,
   "metadata": {},
   "outputs": [],
   "source": [
    "random.seed(5)\n",
    "random.shuffle(sql_results)"
   ]
  },
  {
   "cell_type": "code",
   "execution_count": null,
   "metadata": {},
   "outputs": [],
   "source": [
    "image_ids = []\n",
    "for row in sql_results[:200]:\n",
    "#     print(row)\n",
    "    if row[0] is not None:\n",
    "        image = row[0].split(\"\\|\")[0]\n",
    "#         for image in images:\n",
    "        image_ids.append(image)\n",
    "print(len(image_ids))\n",
    "print(image_ids)"
   ]
  },
  {
   "cell_type": "code",
   "execution_count": null,
   "metadata": {},
   "outputs": [],
   "source": [
    "filelist = [x + \".jpg\" for x in image_ids[:144]]\n",
    "print(filelist)"
   ]
  },
  {
   "cell_type": "code",
   "execution_count": null,
   "metadata": {},
   "outputs": [],
   "source": [
    "savepath = \"/home/rte/documentation/captions/\"\n",
    "os.chdir(\"/mnt/hd2/images/all\")\n",
    "outputname = [savepath + \"montage_\" + search_term.replace(\" \",\"-\") + \".jpg\"]\n",
    "arguments = shlex.split(\"-colorspace sRGB -units PixelsPerInch -density 300 -background white -alpha off -geometry 240x240+2+2 -tile 12x\")\n",
    "montage_cmd = [\"montage\"] + filelist + arguments + outputname\n",
    "result = subprocess.Popen(montage_cmd, stdout=subprocess.PIPE, stderr=subprocess.PIPE)\n",
    "out, err = result.communicate()\n",
    "print(out)\n",
    "print(err)\n",
    "print(\"subprocess finished\")\n",
    "print(\"-\" * 40)"
   ]
  },
  {
   "cell_type": "code",
   "execution_count": null,
   "metadata": {},
   "outputs": [],
   "source": [
    "files = []\n",
    "for image_ids, caption, fignum, cat, created in rows:\n",
    "    print(image_ids, cat, created)\n",
    "    if image_ids is not None:\n",
    "        if \"\\|\" in image_ids:\n",
    "            # print(\"splitting string:\",image_ids)\n",
    "            ids = image_ids.split(\"\\|\")\n",
    "            for id in ids:\n",
    "                # print(id)\n",
    "                files.append(id)\n",
    "        else:\n",
    "            files.append(image_ids)\n",
    "\n",
    "# files = [str(x[0]) + \".jpg\" for x in rows[:]]\n",
    "print(\"total number of results:\", len(files))"
   ]
  },
  {
   "cell_type": "code",
   "execution_count": null,
   "metadata": {},
   "outputs": [],
   "source": [
    "if open_images:\n",
    "    os.chdir(\"/mnt/hd2/images/all\")\n",
    "\n",
    "    cmd = [\"feh\"]\n",
    "    for file in files:\n",
    "        cmd.append(file + \".jpg\")\n",
    "    # print(cmd)\n",
    "\n",
    "    # for row in rows:\n",
    "    #     print(\"fignum:\",row[2])\n",
    "    #     print(\"caption:\",row[1])\n",
    "\n",
    "    subprocess.run(cmd)"
   ]
  },
  {
   "cell_type": "markdown",
   "metadata": {},
   "source": [
    "Make image"
   ]
  },
  {
   "cell_type": "code",
   "execution_count": null,
   "metadata": {},
   "outputs": [],
   "source": [
    "full_image = Image.new('RGBA', (width, height))\n",
    "for img, x, y in zip(images, tx, ty):\n",
    "    tile = Image.open(img)\n",
    "    tw = tile.width\n",
    "    th = tile.height\n",
    "#             print(img)\n",
    "#             print(\"tile dimensions: x=\" + str(tile.width) + \" y=\" + str(tile.height))\n",
    "    if tw < 10000 and th < 10000:\n",
    "        rs = max(1, tw/max_dim, th/max_dim)\n",
    "        tile = tile.resize((int(tw/rs), int(th/rs)), Image.ANTIALIAS)\n",
    "        full_image.paste(tile, (int((width-max_dim)*x), int((height-max_dim)*y)), mask=tile.convert('RGBA'))\n",
    "#             else:\n",
    "#                 print(\"tile width or height too big?\")\n",
    "\n",
    "plt.figure(figsize = (16,12))\n",
    "imshow(full_image)"
   ]
  },
  {
   "cell_type": "markdown",
   "metadata": {},
   "source": [
    "Grid"
   ]
  },
  {
   "cell_type": "code",
   "execution_count": null,
   "metadata": {},
   "outputs": [],
   "source": [
    "nx = 40\n",
    "ny = 25"
   ]
  },
  {
   "cell_type": "code",
   "execution_count": null,
   "metadata": {},
   "outputs": [],
   "source": [
    "# assign to grid\n",
    "grid_assignment = rasterfairy.transformPointCloud2D(tsne, target=(nx, ny))"
   ]
  },
  {
   "cell_type": "code",
   "execution_count": null,
   "metadata": {},
   "outputs": [],
   "source": [
    "tile_width = 72\n",
    "tile_height = 56\n",
    "\n",
    "full_width = tile_width * nx\n",
    "full_height = tile_height * ny\n",
    "aspect_ratio = float(tile_width) / tile_height\n",
    "\n",
    "grid_image = Image.new('RGB', (full_width, full_height))\n",
    "\n",
    "for img, grid_pos in zip(images, grid_assignment[0]):\n",
    "    idx_x, idx_y = grid_pos\n",
    "    x, y = tile_width * idx_x, tile_height * idx_y\n",
    "    tile = Image.open(img)\n",
    "    tile_ar = float(tile.width) / tile.height  # center-crop the tile to match aspect_ratio\n",
    "    if (tile_ar > aspect_ratio):\n",
    "        margin = 0.5 * (tile.width - aspect_ratio * tile.height)\n",
    "        tile = tile.crop((margin, 0, margin + aspect_ratio * tile.height, tile.height))\n",
    "    else:\n",
    "        margin = 0.5 * (tile.height - float(tile.width) / aspect_ratio)\n",
    "        tile = tile.crop((0, margin, tile.width, margin + float(tile.width) / aspect_ratio))\n",
    "    tile = tile.resize((tile_width, tile_height), Image.ANTIALIAS)\n",
    "    grid_image.paste(tile, (int(x), int(y)))\n",
    "\n",
    "matplotlib.pyplot.figure(figsize = (16,12))\n",
    "imshow(grid_image)"
   ]
  }
 ],
 "metadata": {
  "kernelspec": {
   "display_name": "Python 3",
   "language": "python",
   "name": "python3"
  },
  "language_info": {
   "codemirror_mode": {
    "name": "ipython",
    "version": 3
   },
   "file_extension": ".py",
   "mimetype": "text/x-python",
   "name": "python",
   "nbconvert_exporter": "python",
   "pygments_lexer": "ipython3",
   "version": "3.7.2"
  }
 },
 "nbformat": 4,
 "nbformat_minor": 2
}
