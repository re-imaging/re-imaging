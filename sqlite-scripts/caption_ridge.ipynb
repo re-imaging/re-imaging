{
 "cells": [
  {
   "cell_type": "code",
   "execution_count": null,
   "metadata": {},
   "outputs": [],
   "source": [
    "import subprocess\n",
    "import os\n",
    "import sqlite3\n",
    "import random\n",
    "\n",
    "import numpy as np\n",
    "import matplotlib.pyplot as plt\n",
    "import pandas as pd\n",
    "from scipy.interpolate import BSpline\n",
    "import scipy.interpolate as interpolate\n",
    "\n",
    "import seaborn as sns\n",
    "sns.set(style=\"ticks\")\n",
    "\n",
    "import joypy"
   ]
  },
  {
   "cell_type": "code",
   "execution_count": null,
   "metadata": {},
   "outputs": [],
   "source": [
    "open_images = False"
   ]
  },
  {
   "cell_type": "code",
   "execution_count": null,
   "metadata": {},
   "outputs": [],
   "source": [
    "db_path = \"/home/rte/data/db/arxiv_db_images.sqlite3\"\n",
    "\n",
    "db = sqlite3.connect(db_path)\n",
    "c = db.cursor()"
   ]
  },
  {
   "cell_type": "code",
   "execution_count": null,
   "metadata": {},
   "outputs": [],
   "source": [
    "sql = '''\n",
    "    SELECT captions.image_ids, captions.caption, captions.fignum, metadata.cat, metadata.created\n",
    "    FROM captions\n",
    "    LEFT JOIN metadata ON captions.identifier = metadata.identifier\n",
    "    WHERE caption LIKE ?\n",
    "    '''\n",
    "\n",
    "c.execute(sql, (\"%monte carlo%\",))\n",
    "rows = c.fetchall()\n",
    "\n",
    "print(\"number of rows:\",len(rows))"
   ]
  },
  {
   "cell_type": "code",
   "execution_count": null,
   "metadata": {},
   "outputs": [],
   "source": [
    "for row in rows[:]:\n",
    "    print(row[3], row[4])"
   ]
  },
  {
   "cell_type": "code",
   "execution_count": null,
   "metadata": {},
   "outputs": [],
   "source": [
    "# years = pd.period_range(start='1991-01-01', end='2018-01-01', freq='Y')\n",
    "# years"
   ]
  },
  {
   "cell_type": "code",
   "execution_count": null,
   "metadata": {},
   "outputs": [],
   "source": [
    "years = [str(x) for x in range(1991, 2019, 1)]\n",
    "print(len(years))"
   ]
  },
  {
   "cell_type": "code",
   "execution_count": null,
   "metadata": {},
   "outputs": [],
   "source": [
    "cats = []\n",
    "\n",
    "for row in rows:\n",
    "    cat = row[3].split(\" \")[0]\n",
    "    if cat not in cats:\n",
    "        cats.append(cat)\n",
    "print(len(cats))\n",
    "# cats"
   ]
  },
  {
   "cell_type": "code",
   "execution_count": null,
   "metadata": {},
   "outputs": [],
   "source": [
    "data_long = []\n",
    "for row in rows:\n",
    "    cat = row[3].split(\" \")[0]\n",
    "    year = row[4].split(\"-\")[0]\n",
    "    data_long.append([cat, year])"
   ]
  },
  {
   "cell_type": "code",
   "execution_count": null,
   "metadata": {},
   "outputs": [],
   "source": [
    "df = pd.DataFrame(data_long, columns=[\"cat\", \"year\"]).astype({'cat': 'category', 'year': 'int32'})"
   ]
  },
  {
   "cell_type": "code",
   "execution_count": null,
   "metadata": {},
   "outputs": [],
   "source": [
    "df.head()"
   ]
  },
  {
   "cell_type": "code",
   "execution_count": null,
   "metadata": {},
   "outputs": [],
   "source": [
    "a = np.zeros((len(years), len(cats)), dtype='float64')\n",
    "a.shape"
   ]
  },
  {
   "cell_type": "code",
   "execution_count": null,
   "metadata": {},
   "outputs": [],
   "source": [
    "for row in rows[:]:\n",
    "    cat = row[3].split(\" \")[0]\n",
    "    year = row[4].split(\"-\")[0]\n",
    "    cat_index = cats.index(cat)\n",
    "    year_index = years.index(year)\n",
    "#     print(cat, cat_index, year, year_index)\n",
    "    a[year_index, cat_index] += 1"
   ]
  },
  {
   "cell_type": "code",
   "execution_count": null,
   "metadata": {},
   "outputs": [],
   "source": [
    "a[4:5, 10:]"
   ]
  },
  {
   "cell_type": "code",
   "execution_count": null,
   "metadata": {},
   "outputs": [],
   "source": [
    "data = pd.DataFrame(a, columns=cats)"
   ]
  },
  {
   "cell_type": "code",
   "execution_count": null,
   "metadata": {},
   "outputs": [],
   "source": [
    "cats"
   ]
  },
  {
   "cell_type": "code",
   "execution_count": null,
   "metadata": {},
   "outputs": [],
   "source": [
    "data.insert(0, \"year\", years)"
   ]
  },
  {
   "cell_type": "code",
   "execution_count": null,
   "metadata": {
    "scrolled": true
   },
   "outputs": [],
   "source": [
    "data.head()"
   ]
  },
  {
   "cell_type": "code",
   "execution_count": null,
   "metadata": {},
   "outputs": [],
   "source": [
    "# Reshape by melt: \n",
    "# https://pandas.pydata.org/pandas-docs/stable/reshaping.html#reshaping-by-melt\n",
    "activity = data.melt(id_vars=['year']).rename(columns = {'variable': 'cat', 'value': 'freq'})"
   ]
  },
  {
   "cell_type": "code",
   "execution_count": null,
   "metadata": {},
   "outputs": [],
   "source": [
    "activity.tail()"
   ]
  },
  {
   "cell_type": "code",
   "execution_count": null,
   "metadata": {},
   "outputs": [],
   "source": [
    "# Group data by activity. This is so each group can be run through the \n",
    "# spline function and recombined later\n",
    "activity_grouped = activity.groupby(by=\"skill\", sort=False)\n",
    "# activity_grouped.describe()"
   ]
  },
  {
   "cell_type": "code",
   "execution_count": null,
   "metadata": {},
   "outputs": [],
   "source": [
    "def to_spline(x, y, samples=300):\n",
    "    \"\"\"Pass in the x and y data. \n",
    "    Return x and y data that has expanded data points and curvy\"\"\"\n",
    "    x_new = np.linspace(x.min(), x.max(), samples)\n",
    "    t, c, k = interpolate.splrep(x, y, s=0, k=4)\n",
    "    y_spline = interpolate.BSpline(t, c, k, extrapolate=False)\n",
    "    y_new = y_spline(x_new)\n",
    "    return (x_new, y_new)"
   ]
  },
  {
   "cell_type": "code",
   "execution_count": null,
   "metadata": {},
   "outputs": [],
   "source": [
    "# Iterate over every group, sending each group to the spline function\n",
    "# Append the results to a new dataframe\n",
    "activity_splined = pd.DataFrame()\n",
    "for key, item in activity_grouped:\n",
    "    x, y = to_spline(activity_grouped.get_group(key).year, activity_grouped.get_group(key).intensity)\n",
    "    \n",
    "    # When interpolating, the end of a sharp curve goes below zero and then back above zero\n",
    "    # While mathematically correct, it doesn't reflect my data. So cut off those small waves    \n",
    "    y[y < 0.5] = 0 \n",
    "    df = pd.DataFrame({\n",
    "        \"year\": x,\n",
    "        \"intensity\": y,\n",
    "        \"activity\": np.repeat(key, len(x))\n",
    "    })\n",
    "    activity_splined = activity_splined.append(df, ignore_index=True)\n",
    "    \n",
    "\n",
    "# activity_splined[activity_splined.activity == \"C\"].describe()\n",
    "activity_splined[activity_splined.activity == \"Physics Research\"].iloc[80:95]"
   ]
  },
  {
   "cell_type": "code",
   "execution_count": null,
   "metadata": {},
   "outputs": [],
   "source": []
  },
  {
   "cell_type": "code",
   "execution_count": null,
   "metadata": {},
   "outputs": [],
   "source": [
    "df = df.astype({'cat': 'category', 'year': 'int32'})"
   ]
  },
  {
   "cell_type": "code",
   "execution_count": null,
   "metadata": {},
   "outputs": [],
   "source": [
    "df"
   ]
  },
  {
   "cell_type": "code",
   "execution_count": null,
   "metadata": {},
   "outputs": [],
   "source": [
    "df.dtypes"
   ]
  },
  {
   "cell_type": "code",
   "execution_count": null,
   "metadata": {},
   "outputs": [],
   "source": [
    "from matplotlib import cm\n",
    "\n",
    "plt.figure(figsize=(20,20))\n",
    "fig, axes = joypy.joyplot(df, by=\"cat\", column=\"year\", grid=\"y\", linewidth=1, \n",
    "                          legend=False, fade=True, colormap=cm.Blues_r, \n",
    "                          title=\"Caption occurrences of \\'monte carlo\\'\", \n",
    "                          figsize=(20,20),\n",
    "                          )\n",
    "# kind=\"counts\", bins=30,\n",
    "# range_style='own'"
   ]
  },
  {
   "cell_type": "code",
   "execution_count": null,
   "metadata": {},
   "outputs": [],
   "source": [
    "fig.savefig(\"monte-carlo_cat_year_ridge.svg\", dpi=300)"
   ]
  },
  {
   "cell_type": "code",
   "execution_count": null,
   "metadata": {},
   "outputs": [],
   "source": [
    "# random.shuffle(rows)"
   ]
  },
  {
   "cell_type": "code",
   "execution_count": null,
   "metadata": {},
   "outputs": [],
   "source": [
    "files = []\n",
    "for image_ids, caption, fignum, cat, created in rows:\n",
    "    print(image_ids, cat, created)\n",
    "    if image_ids is not None:\n",
    "        if \"\\|\" in image_ids:\n",
    "            # print(\"splitting string:\",image_ids)\n",
    "            ids = image_ids.split(\"\\|\")\n",
    "            for id in ids:\n",
    "                # print(id)\n",
    "                files.append(id)\n",
    "        else:\n",
    "            files.append(image_ids)\n",
    "\n",
    "# files = [str(x[0]) + \".jpg\" for x in rows[:]]\n",
    "print(\"total number of results:\", len(files))"
   ]
  },
  {
   "cell_type": "code",
   "execution_count": null,
   "metadata": {},
   "outputs": [],
   "source": [
    "if open_images:\n",
    "    os.chdir(\"/mnt/hd2/images/all\")\n",
    "\n",
    "    cmd = [\"feh\"]\n",
    "    for file in files:\n",
    "        cmd.append(file + \".jpg\")\n",
    "    # print(cmd)\n",
    "\n",
    "    # for row in rows:\n",
    "    #     print(\"fignum:\",row[2])\n",
    "    #     print(\"caption:\",row[1])\n",
    "\n",
    "    subprocess.run(cmd)"
   ]
  }
 ],
 "metadata": {
  "kernelspec": {
   "display_name": "Python 3",
   "language": "python",
   "name": "python3"
  },
  "language_info": {
   "codemirror_mode": {
    "name": "ipython",
    "version": 3
   },
   "file_extension": ".py",
   "mimetype": "text/x-python",
   "name": "python",
   "nbconvert_exporter": "python",
   "pygments_lexer": "ipython3",
   "version": "3.7.2"
  }
 },
 "nbformat": 4,
 "nbformat_minor": 2
}
