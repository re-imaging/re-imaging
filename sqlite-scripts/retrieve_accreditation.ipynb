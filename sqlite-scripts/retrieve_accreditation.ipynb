{
 "cells": [
  {
   "cell_type": "markdown",
   "metadata": {},
   "source": [
    "# Retrieve Accreditations Script\n",
    "This script is used to retrieve the authors, title, date, and arXiv identifier of the paper that an image is taken from."
   ]
  },
  {
   "cell_type": "code",
   "execution_count": null,
   "metadata": {},
   "outputs": [],
   "source": [
    "import sqlite3"
   ]
  },
  {
   "cell_type": "code",
   "execution_count": null,
   "metadata": {},
   "outputs": [],
   "source": [
    "import re"
   ]
  },
  {
   "cell_type": "code",
   "execution_count": null,
   "metadata": {},
   "outputs": [],
   "source": [
    "db_path = \"/home/rte/data/db/arxiv_db_images.sqlite3\""
   ]
  },
  {
   "cell_type": "code",
   "execution_count": null,
   "metadata": {},
   "outputs": [],
   "source": [
    "# Here we import the sqlite3 database and create a cursor\n",
    "\n",
    "db = sqlite3.connect(db_path)\n",
    "c = db.cursor()"
   ]
  },
  {
   "cell_type": "code",
   "execution_count": null,
   "metadata": {},
   "outputs": [],
   "source": [
    "c.execute('PRAGMA TABLE_INFO({})'.format(\"metadata\"))\n",
    "info = c.fetchall()\n",
    "\n",
    "print(\"\\nColumn Info:\\nID, Name, Type, NotNull, DefaultVal, PrimaryKey\")\n",
    "for col in info:\n",
    "    print(col)"
   ]
  },
  {
   "cell_type": "code",
   "execution_count": null,
   "metadata": {},
   "outputs": [],
   "source": [
    "c.execute('PRAGMA TABLE_INFO({})'.format(\"images\"))\n",
    "info = c.fetchall()\n",
    "\n",
    "print(\"\\nColumn Info:\\nID, Name, Type, NotNull, DefaultVal, PrimaryKey\")\n",
    "for col in info:\n",
    "    print(col)"
   ]
  },
  {
   "cell_type": "code",
   "execution_count": null,
   "metadata": {},
   "outputs": [],
   "source": [
    "# example list of filepaths\n",
    "file_ids = ['512.jpg', '171118.jpg', '55685.jpg', '41640.jpg', '161294.jpg', '119145.jpg', '94606.jpg', '12318.jpg', '81674.jpg', '135180.jpg', '166435.jpg', '88950.jpg', '116863.jpg', '113725.jpg', '100418.jpg', '10263.jpg', '107188.jpg', '6875.jpg', '159687.jpg', '121848.jpg', '81734.jpg', '39624.jpg', '153856.jpg', '154580.jpg', '133217.jpg', '149106.jpg', '5600.jpg', '161772.jpg', '125292.jpg', '145409.jpg', '9467.jpg', '169317.jpg', '16795.jpg', '19158.jpg', '34999.jpg', '162889.jpg', '158361.jpg', '19209.jpg', '31444.jpg', '159528.jpg', '41253.jpg', '19789.jpg', '138808.jpg', '22011.jpg', '41143.jpg', '133089.jpg', '108140.jpg', '134224.jpg', '11905.jpg', '16398.jpg', '7692.jpg', '90834.jpg', '19967.jpg', '121213.jpg', '124903.jpg', '18595.jpg', '63035.jpg', '60238.jpg', '17403.jpg', '161580.jpg', '127862.jpg', '18093.jpg', '27731.jpg', '133703.jpg', '150958.jpg', '88809.jpg', '33062.jpg', '22310.jpg', '135194.jpg', '64159.jpg', '64841.jpg', '19289.jpg', '164368.jpg', '156364.jpg', '5765.jpg', '161153.jpg', '170697.jpg', '62943.jpg', '27003.jpg', '147305.jpg', '57456.jpg', '43216.jpg', '80323.jpg', '100930.jpg', '108460.jpg', '111245.jpg', '44472.jpg', '172425.jpg', '124945.jpg', '102597.jpg', '139856.jpg', '153040.jpg', '6234.jpg', '45166.jpg', '49261.jpg', '129597.jpg', '36854.jpg', '77972.jpg', '38244.jpg', '56562.jpg']\n",
    "print(file_ids[0])"
   ]
  },
  {
   "cell_type": "code",
   "execution_count": null,
   "metadata": {},
   "outputs": [],
   "source": [
    "# print the list, useful for copying over to javascript ^_^\n",
    "print(file_ids)"
   ]
  },
  {
   "cell_type": "code",
   "execution_count": null,
   "metadata": {},
   "outputs": [],
   "source": [
    "# get id from filename\n",
    "for i, _ in enumerate(file_ids):\n",
    "    # grab everything before the first \".\"\n",
    "    file_ids[i] = file_ids[i].split(\".\")[0],"
   ]
  },
  {
   "cell_type": "markdown",
   "metadata": {},
   "source": [
    "## Query SQL and format\n",
    "Here we construct an SQLite query that allows us to join the ```metadata``` and ```images``` tables. We get the author, title, date, and identifer. We then use this to format an accreditation that can be used for papers or websites. "
   ]
  },
  {
   "cell_type": "code",
   "execution_count": null,
   "metadata": {
    "scrolled": true
   },
   "outputs": [],
   "source": [
    "# search for a specific set of entries and retrieve metadata\n",
    "\n",
    "accreditations = []\n",
    "\n",
    "html = True\n",
    "\n",
    "sql = (\"SELECT metadata.authors, metadata.title, metadata.created, images.identifier \"\n",
    "    \"FROM images \"\n",
    "    \"LEFT JOIN metadata ON images.identifier = metadata.identifier \"\n",
    "    \"WHERE images.id is ? \")\n",
    "\n",
    "# iterate over the file_ids list and grab sql data\n",
    "for file_id in file_ids[:]:\n",
    "    print(\"image id:\",file_id)\n",
    "    c.execute(sql, (file_id))\n",
    "    row = c.fetchall()\n",
    "    print(row)\n",
    "    print(len(row))\n",
    "    print(len(row[0]))\n",
    "    print(list(rows))\n",
    "\n",
    "    # grab the details and check each\n",
    "    s = row[0][0]\n",
    "    start = \"['\"\n",
    "    end = \"']\"\n",
    "    author = s[s.find(start)+len(start):s.rfind(end)]\n",
    "    author = author[:-2]\n",
    "    print(author)\n",
    "    \n",
    "    title = row[0][1]\n",
    "    print(title)\n",
    "    \n",
    "    date = row[0][2].split(\"-\")[0]\n",
    "    print(date)\n",
    "    \n",
    "    identifier = row[0][3]\n",
    "    print(identifier)\n",
    "#     reg_exp = re.compile(\"/[^\\d]\\d{2}[^\\d]/\")\n",
    "    longest_digits = max(re.findall(r'\\d+', identifier), key = len)\n",
    "    print(len(longest_digits))\n",
    "    \n",
    "    # if the identifier contains seven consecutive numbers, add a slash\n",
    "    if len(longest_digits) == 7:\n",
    "        print(\"----- regex match -----\")\n",
    "        reverse = identifier[::-1]\n",
    "        print(reverse)\n",
    "        identifier_reverse = reverse[:7] + \"/\" + reverse[7:]\n",
    "        identifier = identifier_reverse[::-1]\n",
    "    else:\n",
    "        # otherwise we can leave the identifier how it is\n",
    "        print(\"----- no match -----\")\n",
    "    print(identifier)\n",
    "    url = \"https://arxiv.org/abs/\" + identifier\n",
    "    print(url)\n",
    "#     print(row[0][0])\n",
    "\n",
    "    # format string and append\n",
    "    if html:\n",
    "        fmt_str = '{}: {}, {}, <a href=\"{}\">{}</a>'\n",
    "        accreditations.append(fmt_str.format(author, title, str(date), url, url))  \n",
    "    else:\n",
    "        fmt_str = '{}: {}, {}, {}'\n",
    "        accreditations.append(fmt_str.format(author, title, str(date), url, url))    \n",
    "\n",
    "    # harder way of doing it\n",
    "#     accreditations.append([author + ': \"' + title + '\", ' + str(date) + \", \" + '<a href=\"' + url + '\">' + url + '</a>'])    \n"
   ]
  },
  {
   "cell_type": "code",
   "execution_count": null,
   "metadata": {},
   "outputs": [],
   "source": [
    "for row in accreditations:\n",
    "    print(row)\n",
    "print(len(accreditations))"
   ]
  },
  {
   "cell_type": "code",
   "execution_count": null,
   "metadata": {},
   "outputs": [],
   "source": [
    "print(accreditations)"
   ]
  },
  {
   "cell_type": "code",
   "execution_count": null,
   "metadata": {},
   "outputs": [],
   "source": [
    "print(accreditations[0])"
   ]
  },
  {
   "cell_type": "code",
   "execution_count": null,
   "metadata": {},
   "outputs": [],
   "source": []
  },
  {
   "cell_type": "code",
   "execution_count": null,
   "metadata": {},
   "outputs": [],
   "source": []
  },
  {
   "cell_type": "code",
   "execution_count": null,
   "metadata": {},
   "outputs": [],
   "source": []
  }
 ],
 "metadata": {
  "kernelspec": {
   "display_name": "Python 3",
   "language": "python",
   "name": "python3"
  },
  "language_info": {
   "codemirror_mode": {
    "name": "ipython",
    "version": 3
   },
   "file_extension": ".py",
   "mimetype": "text/x-python",
   "name": "python",
   "nbconvert_exporter": "python",
   "pygments_lexer": "ipython3",
   "version": "3.6.8"
  }
 },
 "nbformat": 4,
 "nbformat_minor": 2
}
