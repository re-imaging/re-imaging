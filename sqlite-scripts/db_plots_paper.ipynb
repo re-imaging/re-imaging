{
 "cells": [
  {
   "cell_type": "markdown",
   "metadata": {},
   "source": [
    "### Plots for paper \"Images of the arXiv: Reconfiguring large scientific image datasets\"\n",
    "\n",
    "This notebook contains a subset of the code from `db_plots.ipynb`"
   ]
  },
  {
   "cell_type": "markdown",
   "metadata": {},
   "source": [
    "# Plotting data from SQLite database\n",
    "\n",
    "This notebook queries the databases to generate a matrix of plots for the number of articles/images per year, run separately for each category.\n",
    "\n",
    "Note that code here does not directly reproduce figures, but different blocks need to be selected to be run. For an updated version, see https://github.com/re-imaging/re-imaging/blob/master/sqlite-scripts/db_plots.ipynb\n",
    "\n",
    "## Structure\n",
    "\n",
    "- setup\n",
    "- load list of categories\n",
    "- pull specific data (and save as pickle)\n",
    "- format data\n",
    "- generate plot\n",
    "- save image\n",
    "\n",
    "Notebook is intended to be navigated and blocks to be run selectively, rather than the whole notebook being executed."
   ]
  },
  {
   "cell_type": "markdown",
   "metadata": {},
   "source": [
    "## Setup\n",
    "\n",
    "Import required libraries, connect to SQLite database, create cursor, fetch table info"
   ]
  },
  {
   "cell_type": "code",
   "execution_count": null,
   "metadata": {},
   "outputs": [],
   "source": [
    "import matplotlib.pyplot as plt\n",
    "import matplotlib.cm as cm\n",
    "import seaborn as sns\n",
    "import numpy as np\n",
    "import sqlite3\n",
    "import pickle\n",
    "import copy\n",
    "import json\n",
    "import math\n",
    "import pandas as pd\n",
    "import os"
   ]
  },
  {
   "cell_type": "code",
   "execution_count": null,
   "metadata": {},
   "outputs": [],
   "source": [
    "# import the sqlite3 database and create a cursor\n",
    "db_path = os.path.expanduser(\"~/data/db/arxiv_db_images.sqlite3\")\n",
    "db = sqlite3.connect(db_path)\n",
    "c = db.cursor()"
   ]
  },
  {
   "cell_type": "code",
   "execution_count": null,
   "metadata": {},
   "outputs": [],
   "source": [
    "c.execute('PRAGMA TABLE_INFO({})'.format(\"metadata\"))\n",
    "info = c.fetchall()\n",
    "\n",
    "print(\"\\nColumn Info:\\nID, Name, Type, NotNull, DefaultVal, PrimaryKey\")\n",
    "for col in info:\n",
    "    print(col)"
   ]
  },
  {
   "cell_type": "markdown",
   "metadata": {},
   "source": [
    "### Generating figures for \"Images of the arXiv\" paper"
   ]
  },
  {
   "cell_type": "code",
   "execution_count": null,
   "metadata": {},
   "outputs": [],
   "source": [
    "# list primary categories by alphabetical order\n",
    "\n",
    "c.execute('''\n",
    "    SELECT substr(trim(metadata.cat),1,instr(trim(metadata.cat)||' ',' ')-1), count(metadata.identifier)\n",
    "    FROM metadata\n",
    "    WHERE strftime(\"%Y\", metadata.created) != '2019'\n",
    "    AND strftime(\"%Y\", metadata.created) != '2020'\n",
    "    GROUP BY substr(trim(metadata.cat),1,instr(trim(metadata.cat)||' ',' ')-1)\n",
    "    ORDER BY substr(trim(metadata.cat),1,instr(trim(metadata.cat)||' ',' ')-1) ASC\n",
    "    ''')\n",
    "rows = c.fetchall()\n",
    "for row in rows:\n",
    "    print(row)\n",
    "print(len(rows))"
   ]
  },
  {
   "cell_type": "code",
   "execution_count": null,
   "metadata": {},
   "outputs": [],
   "source": [
    "# store list of categories with condition\n",
    "catlist = []\n",
    "for cat, n in rows:\n",
    "    if n > 5000:\n",
    "        catlist.append((cat, n))\n",
    "print(len(catlist))"
   ]
  },
  {
   "cell_type": "code",
   "execution_count": null,
   "metadata": {},
   "outputs": [],
   "source": [
    "def take_second(elem):\n",
    "    return elem[1]\n",
    "rows.sort(key=take_second, reverse=True)"
   ]
  },
  {
   "cell_type": "code",
   "execution_count": null,
   "metadata": {},
   "outputs": [],
   "source": [
    "catlist = rows[:16]\n",
    "catlist.sort()"
   ]
  },
  {
   "cell_type": "code",
   "execution_count": null,
   "metadata": {},
   "outputs": [],
   "source": [
    "categories = [x[0] for x in catlist]\n",
    "values = [x[1] for x in catlist]\n",
    "y_pos = np.arange(len(categories))\n",
    "\n",
    "fig, ax = plt.subplots()\n",
    "fig.set_size_inches(10, 12)\n",
    "\n",
    "ax.barh(y_pos, values, align='center')\n",
    "ax.set_yticks(y_pos)\n",
    "ax.set_yticklabels(categories)\n",
    "ax.invert_yaxis()\n",
    "ax.set_xlabel('No. articles')\n",
    "\n",
    "plt.tight_layout()\n",
    "plt.show()"
   ]
  },
  {
   "cell_type": "markdown",
   "metadata": {},
   "source": [
    "### Testing"
   ]
  },
  {
   "cell_type": "code",
   "execution_count": null,
   "metadata": {},
   "outputs": [],
   "source": [
    "# testing that the date check works\n",
    "c.execute('''\n",
    "    SELECT count(metadata.identifier)\n",
    "    FROM metadata\n",
    "    WHERE strftime(\"%Y\", metadata.created) != '2019'\n",
    "    AND strftime(\"%Y\", metadata.created) != '2020'\n",
    "    ''')\n",
    "rows = c.fetchall()\n",
    "for row in rows:\n",
    "    print(row)"
   ]
  },
  {
   "cell_type": "code",
   "execution_count": null,
   "metadata": {},
   "outputs": [],
   "source": [
    "# testing that the date check works\n",
    "c.execute('''\n",
    "    SELECT count(metadata.identifier)\n",
    "    FROM metadata\n",
    "    ''')\n",
    "rows = c.fetchall()\n",
    "for row in rows:\n",
    "    print(row)"
   ]
  },
  {
   "cell_type": "markdown",
   "metadata": {},
   "source": [
    "### Images by extension"
   ]
  },
  {
   "cell_type": "code",
   "execution_count": null,
   "metadata": {},
   "outputs": [],
   "source": [
    "# total number of images for each year by extension\n",
    "\n",
    "db.create_function(\"reverse\", 1, lambda s: s[::-1])\n",
    "sql = ('''\n",
    "    SELECT COUNT(reverse(substr(reverse(filename),1,instr(reverse(filename),'.')-1))), reverse(substr(reverse(filename),1,instr(reverse(filename),'.')-1)) AS extension\n",
    "    FROM images\n",
    "    WHERE x is not null and x != ''\n",
    "    AND y is not null and y != ''\n",
    "    AND imageformat is not null and imageformat != ''\n",
    "    GROUP BY extension\n",
    "    ''')\n",
    "\n",
    "data = []\n",
    "\n",
    "for cat in catlist:\n",
    "    print(\"querying for category: \" + str(cat[0]))\n",
    "    c.execute(sql, (cat[0], ))\n",
    "    rows = c.fetchall()\n",
    "    print(rows)\n",
    "\n",
    "    years = []\n",
    "    totals = []\n",
    "    \n",
    "    for row in rows:\n",
    "        years.append(row[1])\n",
    "        totals.append(row[0])\n",
    "        \n",
    "    newdata = [cat[0], years, totals]\n",
    "    data.append(newdata)\n",
    "\n",
    "print(\"*\" * 20)\n",
    "print(\"done\")"
   ]
  },
  {
   "cell_type": "code",
   "execution_count": null,
   "metadata": {},
   "outputs": [],
   "source": []
  }
 ],
 "metadata": {
  "kernelspec": {
   "display_name": "Python 3",
   "language": "python",
   "name": "python3"
  },
  "language_info": {
   "codemirror_mode": {
    "name": "ipython",
    "version": 3
   },
   "file_extension": ".py",
   "mimetype": "text/x-python",
   "name": "python",
   "nbconvert_exporter": "python",
   "pygments_lexer": "ipython3",
   "version": "3.7.2"
  }
 },
 "nbformat": 4,
 "nbformat_minor": 2
}
