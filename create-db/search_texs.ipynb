{
 "cells": [
  {
   "cell_type": "code",
   "execution_count": null,
   "metadata": {},
   "outputs": [],
   "source": [
    "import os\n",
    "import re\n",
    "import json\n",
    "import sqlite3\n",
    "import random\n",
    "import time"
   ]
  },
  {
   "cell_type": "code",
   "execution_count": null,
   "metadata": {},
   "outputs": [],
   "source": [
    "texs = []\n",
    "with open(\"tex_list_all.json\") as f:\n",
    "    texs = json.load(f)"
   ]
  },
  {
   "cell_type": "code",
   "execution_count": null,
   "metadata": {},
   "outputs": [],
   "source": [
    "random.seed(5)\n",
    "random.shuffle(texs)"
   ]
  },
  {
   "cell_type": "code",
   "execution_count": null,
   "metadata": {},
   "outputs": [],
   "source": [
    "# search for PCA in tex files\n",
    "\n",
    "# iterate over all tex files\n",
    "error_count = 0\n",
    "article_count = 0\n",
    "figure_count = 0\n",
    "match_count = 0\n",
    "\n",
    "data = []\n",
    "matches = []\n",
    "\n",
    "regex = r'((?:principal|principle)\\s+component\\s+analys[ie]s|\\br?pca\\b)'\n",
    "\n",
    "start = time.time()\n",
    "    \n",
    "for ai, t in enumerate(texs[:]):\n",
    "#     print(\"*\" * 20)\n",
    "#     print(\"paper:\",ai)\n",
    "#     print(\"-\" * 20)\n",
    "    try:\n",
    "        with open(t, \"rt\", encoding=\"latin1\") as f:\n",
    "#             print(f)\n",
    "            article_data = []\n",
    "#             content = [x.strip() for x in f.readlines()]\n",
    "            content = f.read()\n",
    "#             print(content)\n",
    "\n",
    "            article_count += 1\n",
    "            start = 0\n",
    "            end = 0\n",
    "            \n",
    "#             print(t)\n",
    "            match = re.search(regex, content, re.IGNORECASE)\n",
    "            if match:\n",
    "#                 article_id = match.group(1)\n",
    "                match_count += 1\n",
    "                matches.append(t)\n",
    "#             else:\n",
    "#                 print(\"!!! no article id found!\")\n",
    "#             print(article_id)\n",
    "              \n",
    "    except UnicodeDecodeError as error:\n",
    "        print(\"decode error!\",error)\n",
    "        error_count += 1\n",
    "\n",
    "# [r.pop(2) for r in data]\n",
    "\n",
    "print(\"*\" * 20)\n",
    "print(\"error_count:\",error_count)\n",
    "print(\"article_count:\",article_count)\n",
    "print(\"figure_count:\",figure_count)\n",
    "print(\"match_count:\",match_count)\n",
    "print(\"matches:\",matches)\n",
    "print(\"*\" * 20)\n",
    "\n",
    "end = time.time()\n",
    "print(\"time taken:\",end-start)"
   ]
  },
  {
   "cell_type": "code",
   "execution_count": null,
   "metadata": {},
   "outputs": [],
   "source": [
    "# test for size of all tex files\n",
    "# approx 68 GB\n",
    "total_size = 0\n",
    "num = 10000\n",
    "for ai, t in enumerate(texs[0:num]):\n",
    "    total_size += os.path.getsize(t)\n",
    "print(\"total_size:\",total_size)\n",
    "print(\"average:\",total_size/num)\n",
    "print(\"estimate for all tex files:\",(total_size/num) * 1745989)"
   ]
  }
 ],
 "metadata": {
  "kernelspec": {
   "display_name": "Python 3",
   "language": "python",
   "name": "python3"
  },
  "language_info": {
   "codemirror_mode": {
    "name": "ipython",
    "version": 3
   },
   "file_extension": ".py",
   "mimetype": "text/x-python",
   "name": "python",
   "nbconvert_exporter": "python",
   "pygments_lexer": "ipython3",
   "version": "3.7.2"
  }
 },
 "nbformat": 4,
 "nbformat_minor": 2
}
