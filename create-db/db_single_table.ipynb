{
 "cells": [
  {
   "cell_type": "markdown",
   "metadata": {},
   "source": [
    "Script to create a new database with only a single table for performing full text search."
   ]
  },
  {
   "cell_type": "code",
   "execution_count": null,
   "metadata": {},
   "outputs": [],
   "source": [
    "import sqlite3\n",
    "import os\n",
    "import time\n",
    "import json\n",
    "import numpy as np\n",
    "import time"
   ]
  },
  {
   "cell_type": "code",
   "execution_count": null,
   "metadata": {},
   "outputs": [],
   "source": [
    "db1_path = \"/home/rte/data/db/arxiv_db_images_600k_single.sqlite3\"\n",
    "db2_path = \"/home/rte/data/db/arxiv_db_images_600k.sqlite3\""
   ]
  },
  {
   "cell_type": "code",
   "execution_count": null,
   "metadata": {},
   "outputs": [],
   "source": [
    "if not os.path.isfile(db1_path):\n",
    "    try:\n",
    "        # create a database in RAM\n",
    "        # db = sqlite3.connect(':memory:')\n",
    "        # creates or opens a file database\n",
    "        db1 = sqlite3.connect(db1_path)\n",
    "\n",
    "        # get cursor object and create metadata table\n",
    "        c1 = db1.cursor()\n",
    "        \n",
    "        \n",
    "        # create single (images) table\n",
    "#         c1.execute('''\n",
    "#             CREATE TABLE single (id INTEGER PRIMARY KEY, identifier TEXT, filename TEXT, \\\n",
    "#             filesize INT, path TEXT, x INT, y INT, imageformat TEXT, creator TEXT, vggpred TEXT, \\\n",
    "#             created TEXT, cat TEXT, authors TEXT, title TEXT, abstract TEXT, licence TEXT, \\\n",
    "#             tex TEXT, fignum TEXT, caption TEXT, label TEXT, filenames TEXT, image_ids TEXT)\n",
    "#         ''')\n",
    "\n",
    "        c1.execute('''\n",
    "            CREATE TABLE single (id INTEGER PRIMARY KEY, identifier TEXT, filename TEXT, \\\n",
    "            x INT, y INT, imageformat TEXT, creator TEXT, vggpred TEXT, \\\n",
    "            created TEXT, cat TEXT, authors TEXT, title TEXT, abstract TEXT, \\\n",
    "            caption TEXT, label TEXT)\n",
    "        ''')\n",
    "\n",
    "        db1.commit()\n",
    "\n",
    "    except Exception as e:\n",
    "        # Roll back any change if something goes wrong\n",
    "        db1.rollback()\n",
    "        raise e\n",
    "    finally:\n",
    "        # Close the db connection\n",
    "        db1.close()\n",
    "        print(\"database file created\")\n",
    "else:\n",
    "    print(\"database file already exists\")"
   ]
  },
  {
   "cell_type": "code",
   "execution_count": null,
   "metadata": {},
   "outputs": [],
   "source": [
    "# Here we import the sqlite3 database and create a cursor\n",
    "db1 = sqlite3.connect(db1_path)\n",
    "c1 = db1.cursor()"
   ]
  },
  {
   "cell_type": "code",
   "execution_count": null,
   "metadata": {},
   "outputs": [],
   "source": [
    "# attach original database\n",
    "attach_sql = \"ATTACH DATABASE ? AS y\"\n",
    "c1.execute(attach_sql, (db2_path, ))"
   ]
  },
  {
   "cell_type": "code",
   "execution_count": null,
   "metadata": {},
   "outputs": [],
   "source": [
    "# test by getting one row\n",
    "c1.execute('''\n",
    "    SELECT *\n",
    "    FROM single\n",
    "    ORDER BY ROWID ASC \n",
    "    LIMIT 1\n",
    "''')\n",
    "rows = c1.fetchall()\n",
    "for row in rows:\n",
    "    print(row)"
   ]
  },
  {
   "cell_type": "code",
   "execution_count": null,
   "metadata": {},
   "outputs": [],
   "source": [
    "insert_select_sql = ('''\n",
    "    INSERT or REPLACE INTO single\n",
    "    SELECT images.id, images.identifier, images.filename,\n",
    "    images.x, images.y, images.imageformat, images.creator, \n",
    "    images.vggpred,\n",
    "    metadata.created, metadata.cat, metadata.authors, metadata.title, metadata.abstract, \n",
    "    captions.caption, captions.label\n",
    "    FROM y.images\n",
    "    LEFT JOIN y.metadata ON y.images.identifier == y.metadata.identifier\n",
    "    LEFT JOIN y.captions ON y.images.caption == y.captions.id\n",
    "    ''')\n",
    "\n",
    "c1.execute(insert_select_sql, )"
   ]
  },
  {
   "cell_type": "code",
   "execution_count": null,
   "metadata": {},
   "outputs": [],
   "source": [
    "# create virtual table\n",
    "vtable_sql = \"CREATE VIRTUAL TABLE vsingle USING \\\n",
    "                fts5(id, identifier, filename, creator, vggpred, \\\n",
    "                cat, authors, title, abstract, caption, label)\"\n",
    "\n",
    "c1.execute(vtable_sql, )"
   ]
  },
  {
   "cell_type": "code",
   "execution_count": null,
   "metadata": {},
   "outputs": [],
   "source": [
    "# insert rows into virtual table\n",
    "vtable_sql = '''\n",
    "                INSERT INTO vsingle\n",
    "                SELECT id, identifier, filename, creator, vggpred,\n",
    "                cat, authors, title, abstract, caption, label\n",
    "                FROM single\n",
    "                '''\n",
    "\n",
    "c1.execute(vtable_sql, )"
   ]
  },
  {
   "cell_type": "code",
   "execution_count": null,
   "metadata": {},
   "outputs": [],
   "source": [
    "vsearch_sql = \"SELECT * FROM vsingle LIMIT 1\"\n",
    "\n",
    "c1.execute(vsearch_sql, )\n",
    "rows = c1.fetchall()\n",
    "for row in rows:\n",
    "    print(row)"
   ]
  },
  {
   "cell_type": "code",
   "execution_count": null,
   "metadata": {},
   "outputs": [],
   "source": [
    "vsearch_sql = \"SELECT identifier FROM vsingle WHERE vsingle MATCH ?\"\n",
    "fts = \"smith\"\n",
    "c1.execute(vsearch_sql, (fts, ))\n",
    "rows = c1.fetchall()\n",
    "print(len(rows))\n",
    "for row in rows:\n",
    "    print(row)"
   ]
  },
  {
   "cell_type": "code",
   "execution_count": null,
   "metadata": {},
   "outputs": [],
   "source": [
    "db1.commit()"
   ]
  },
  {
   "cell_type": "code",
   "execution_count": null,
   "metadata": {},
   "outputs": [],
   "source": [
    "db1.close()"
   ]
  },
  {
   "cell_type": "markdown",
   "metadata": {},
   "source": [
    "Fix categories where `/` had been removed\n",
    "\n",
    "This isn't a good way to do it, but was quick for a small number of entries"
   ]
  },
  {
   "cell_type": "code",
   "execution_count": null,
   "metadata": {},
   "outputs": [],
   "source": [
    "sql_get_id = '''\n",
    "    SELECT id, identifier\n",
    "    FROM single\n",
    "    '''\n",
    "c1.execute(sql_get_id, )\n",
    "rows = c1.fetchall()\n",
    "print(len(rows))"
   ]
  },
  {
   "cell_type": "code",
   "execution_count": null,
   "metadata": {},
   "outputs": [],
   "source": [
    "import re\n",
    "updated_data = []\n",
    "for i, ii in rows:\n",
    "    updated_data.append((i, re.sub(r'(^\\D*)(\\d{7})', r'\\1/\\2', ii)))"
   ]
  },
  {
   "cell_type": "code",
   "execution_count": null,
   "metadata": {},
   "outputs": [],
   "source": [
    "for r in updated_data[:100]:\n",
    "    print(r)"
   ]
  },
  {
   "cell_type": "code",
   "execution_count": null,
   "metadata": {},
   "outputs": [],
   "source": [
    "sql_add_slash = '''\n",
    "    UPDATE single\n",
    "    SET identifier = ?\n",
    "    WHERE id = ?\n",
    "    '''\n",
    "for r in updated_data:\n",
    "    c1.execute(sql_add_slash, (r[1], r[0]))"
   ]
  },
  {
   "cell_type": "code",
   "execution_count": null,
   "metadata": {},
   "outputs": [],
   "source": [
    "db1.commit()\n",
    "db1.close()"
   ]
  },
  {
   "cell_type": "markdown",
   "metadata": {},
   "source": [
    "Attempt 2 - just creating virtual table on same database\n",
    "\n",
    "UNTESTED"
   ]
  },
  {
   "cell_type": "code",
   "execution_count": null,
   "metadata": {},
   "outputs": [],
   "source": [
    "db2 = sqlite3.connect(db2_path)\n",
    "c2 = db2.cursor()"
   ]
  },
  {
   "cell_type": "code",
   "execution_count": null,
   "metadata": {},
   "outputs": [],
   "source": [
    "# test by getting one row\n",
    "c2.execute('''\n",
    "    SELECT * \n",
    "    FROM images \n",
    "    ORDER BY ROWID ASC \n",
    "    LIMIT 1\n",
    "''')\n",
    "rows = c2.fetchall()\n",
    "for row in rows:\n",
    "    print(row)"
   ]
  },
  {
   "cell_type": "code",
   "execution_count": null,
   "metadata": {},
   "outputs": [],
   "source": [
    "# create virtual table\n",
    "vtable_sql = '''\n",
    "        CREATE VIRTUAL TABLE vsingle USING\n",
    "        fts5(SELECT images.id, images.identifier, images.filename, images.filesize, images.path, \n",
    "        images.x, images.y, images.imageformat, images.creator, \n",
    "        images.vggpred,\n",
    "        metadata.created, metadata.cat, metadata.authors, metadata.title, metadata.abstract, \n",
    "        metadata.licence, captions.tex, captions.fignum, captions.caption, captions.label, \n",
    "        captions.filenames, captions.image_ids\n",
    "        FROM y.images\n",
    "        LEFT JOIN y.metadata ON y.images.identifier == y.metadata.identifier\n",
    "        LEFT JOIN y.captions ON y.images.caption == y.captions.id)\n",
    "        '''\n",
    "c2.execute(vtable_sql, )"
   ]
  },
  {
   "cell_type": "code",
   "execution_count": null,
   "metadata": {},
   "outputs": [],
   "source": [
    "        '''\n",
    "        images.id, images.identifier, images.filename, images.path, \n",
    "        images.creator, images.vggpred,\n",
    "        metadata.cat, metadata.authors, metadata.title, metadata.abstract, \n",
    "        captions.caption, captions.label\n",
    "        '''"
   ]
  },
  {
   "cell_type": "code",
   "execution_count": null,
   "metadata": {},
   "outputs": [],
   "source": [
    "# insert rows into virtual table\n",
    "vtable_sql = '''\n",
    "                INSERT INTO vsingle\n",
    "                SELECT id, identifier, filename, path, creator, vggpred,\n",
    "                cat, authors, title, abstract, caption, label\n",
    "                FROM single\n",
    "                '''\n",
    "\n",
    "c2.execute(vtable_sql, )"
   ]
  },
  {
   "cell_type": "code",
   "execution_count": null,
   "metadata": {},
   "outputs": [],
   "source": [
    "vsearch_sql = \"SELECT identifier FROM vsingle WHERE vsingle MATCH ?\"\n",
    "\n",
    "c2.execute(vsearch_sql, (\"ligeti\", ))\n",
    "rows = c2.fetchall()\n",
    "print(len(rows))\n",
    "for row in rows:\n",
    "    print(row)"
   ]
  }
 ],
 "metadata": {
  "kernelspec": {
   "display_name": "Python 3",
   "language": "python",
   "name": "python3"
  },
  "language_info": {
   "codemirror_mode": {
    "name": "ipython",
    "version": 3
   },
   "file_extension": ".py",
   "mimetype": "text/x-python",
   "name": "python",
   "nbconvert_exporter": "python",
   "pygments_lexer": "ipython3",
   "version": "3.6.8"
  }
 },
 "nbformat": 4,
 "nbformat_minor": 2
}
