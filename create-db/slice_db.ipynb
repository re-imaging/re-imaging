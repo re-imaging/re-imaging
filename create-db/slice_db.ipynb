{
 "cells": [
  {
   "cell_type": "markdown",
   "metadata": {},
   "source": [
    "Quick code to copy only some of the data over from SQLite database to make things quicker and simpler for building web app"
   ]
  },
  {
   "cell_type": "code",
   "execution_count": 1,
   "metadata": {},
   "outputs": [],
   "source": [
    "import sqlite3\n",
    "import os\n",
    "import time"
   ]
  },
  {
   "cell_type": "code",
   "execution_count": 2,
   "metadata": {},
   "outputs": [],
   "source": [
    "db2_path = \"/home/rte/data/db/arxiv_db_images_600k.sqlite3\""
   ]
  },
  {
   "cell_type": "code",
   "execution_count": 3,
   "metadata": {},
   "outputs": [
    {
     "name": "stdout",
     "output_type": "stream",
     "text": [
      "length of image text file: 12694664\n",
      "length of filepaths: 600000\n"
     ]
    }
   ],
   "source": [
    "image_list = \"/home/rte/data/paths/all_images_shuf.txt\"\n",
    "filepaths = []\n",
    "\n",
    "NUM_INDEXES = 600000\n",
    "\n",
    "with open(image_list, \"r\") as f:\n",
    "    lines = f.readlines()\n",
    "    print(\"length of image text file:\",len(lines))\n",
    "for l in lines[:NUM_INDEXES]:\n",
    "    # substrings = l.rsplit(\",\", 1)\n",
    "    filepaths.append(l.strip())\n",
    "    # image_ids.append(substrings[1].strip())\n",
    "print(\"length of filepaths:\", len(filepaths))"
   ]
  },
  {
   "cell_type": "code",
   "execution_count": 4,
   "metadata": {},
   "outputs": [
    {
     "name": "stdout",
     "output_type": "stream",
     "text": [
      "database file already exists\n"
     ]
    }
   ],
   "source": [
    "if not os.path.isfile(db2_path):\n",
    "    try:\n",
    "        # create a database in RAM\n",
    "        # db = sqlite3.connect(':memory:')\n",
    "        # creates or opens a file database\n",
    "        db2 = sqlite3.connect(db2_path)\n",
    "\n",
    "        # get cursor object and create metadata table\n",
    "        c2 = db2.cursor()\n",
    "        c2.execute('''\n",
    "            CREATE TABLE metadata(id INTEGER PRIMARY KEY, identifier TEXT, created TEXT, \\\n",
    "            cat TEXT, authors TEXT, title TEXT, abstract TEXT, licence TEXT)\n",
    "        ''')\n",
    "\n",
    "        # create images table\n",
    "        c2.execute('''\n",
    "            CREATE TABLE images (id INTEGER PRIMARY KEY, identifier TEXT, filename TEXT, \\\n",
    "            filesize INT, path TEXT, x INT, y INT, imageformat TEXT, creator TEXT)\n",
    "        ''')\n",
    "\n",
    "        # create captions table\n",
    "        c2.execute('''\n",
    "            CREATE TABLE \"captions\" (\"id\" INTEGER, \"identifier\" TEXT, \"tex\" TEXT, \\\n",
    "            \"fignum\" TEXT, \"caption\" TEXT, \"label\" TEXT, \"filenames\" TEXT, \"image_ids\" TEXT, PRIMARY KEY(\"id\"))\n",
    "        ''')\n",
    "\n",
    "        db2.commit()\n",
    "\n",
    "    except Exception as e:\n",
    "        # Roll back any change if something goes wrong\n",
    "        db2.rollback()\n",
    "        raise e\n",
    "    finally:\n",
    "        # Close the db connection\n",
    "        db2.close()\n",
    "        print(\"database file created\")\n",
    "else:\n",
    "    print(\"database file already exists\")"
   ]
  },
  {
   "cell_type": "code",
   "execution_count": 5,
   "metadata": {},
   "outputs": [],
   "source": [
    "# Here we import the sqlite3 database and create a cursor\n",
    "db_path = \"/home/rte/data/db/arxiv_db_images.sqlite3\"\n",
    "db = sqlite3.connect(\"file:\" + db_path + \"?mode=ro\", uri=True)\n",
    "c = db.cursor()\n",
    "\n",
    "db2 = sqlite3.connect(db2_path)\n",
    "c2 = db2.cursor()"
   ]
  },
  {
   "cell_type": "code",
   "execution_count": 6,
   "metadata": {},
   "outputs": [
    {
     "name": "stdout",
     "output_type": "stream",
     "text": [
      "(1, 'cond-mat0606521', 'lay_f2.eps', 29311, './0606/cond-mat0606521', 250, 180, 'PS', '-')\n"
     ]
    }
   ],
   "source": [
    "c.execute('''\n",
    "    SELECT * \n",
    "    FROM images \n",
    "    ORDER BY ROWID ASC \n",
    "    LIMIT 1\n",
    "''')\n",
    "rows = c.fetchall()\n",
    "for row in rows:\n",
    "    print(row)"
   ]
  },
  {
   "cell_type": "markdown",
   "metadata": {},
   "source": [
    "### copy rows for images table"
   ]
  },
  {
   "cell_type": "code",
   "execution_count": null,
   "metadata": {},
   "outputs": [],
   "source": [
    "start = time.time()\n",
    "\n",
    "for f in filepaths[:]:\n",
    "    sql = ('''\n",
    "        SELECT *\n",
    "        FROM images\n",
    "        WHERE id IS ?\n",
    "        ''')\n",
    "    image_id = f.split(\".jpg\")[0]\n",
    "#     print(image_id)\n",
    "    c.execute(sql, (image_id, ))\n",
    "    rows = c.fetchall()\n",
    "#     for row in rows:\n",
    "#         print(row)\n",
    "\n",
    "    sql = ('''\n",
    "        INSERT or REPLACE INTO images\n",
    "        (id, identifier, filename, filesize, path, x, y, imageformat, creator)\n",
    "        VALUES (?,?,?,?,?,?,?,?,?)\n",
    "        ''')\n",
    "    \n",
    "    c2.execute(sql, *rows)\n",
    "db2.commit()\n",
    "\n",
    "print(\"process took {} seconds\".format(time.time() - start))"
   ]
  },
  {
   "cell_type": "markdown",
   "metadata": {},
   "source": [
    "### copy rows for metadata table"
   ]
  },
  {
   "cell_type": "code",
   "execution_count": null,
   "metadata": {},
   "outputs": [],
   "source": [
    "attach_sql = \"ATTACH DATABASE ? AS DB1\"\n",
    "c2.execute(attach_sql, (db_path,))"
   ]
  },
  {
   "cell_type": "code",
   "execution_count": null,
   "metadata": {},
   "outputs": [],
   "source": [
    "duplicate_sql = '''\n",
    "    INSERT INTO metadata SELECT * FROM DB1.metadata\n",
    "    '''\n",
    "c2.execute(duplicate_sql)\n",
    "c2.execute(\"DETACH DATABASE DB1\")\n",
    "db2.commit()"
   ]
  },
  {
   "cell_type": "code",
   "execution_count": null,
   "metadata": {},
   "outputs": [],
   "source": [
    "test_sql = '''\n",
    "    SELECT DISTINCT metadata.id \n",
    "    FROM metadata \n",
    "    LEFT JOIN images ON metadata.identifier = images.identifier\n",
    "    WHERE metadata.id IS NULL;\n",
    "    '''\n",
    "c2.execute(test_sql)\n",
    "rows = c2.fetchall()\n",
    "print(len(rows))"
   ]
  },
  {
   "cell_type": "code",
   "execution_count": null,
   "metadata": {},
   "outputs": [],
   "source": [
    "test_sql = '''\n",
    "    SELECT DISTINCT metadata.id \n",
    "    FROM metadata \n",
    "    WHERE metadata.identifier IN (SELECT images.identifier from images)\n",
    "    '''\n",
    "c2.execute(test_sql)\n",
    "rows = c2.fetchall()\n",
    "print(len(rows))"
   ]
  },
  {
   "cell_type": "code",
   "execution_count": null,
   "metadata": {},
   "outputs": [],
   "source": [
    "test_sql = '''\n",
    "    SELECT images.identifier from images\n",
    "    '''\n",
    "c2.execute(test_sql)\n",
    "rows = c2.fetchall()\n",
    "print(len(rows))"
   ]
  },
  {
   "cell_type": "code",
   "execution_count": null,
   "metadata": {},
   "outputs": [],
   "source": [
    "for row in rows:\n",
    "    print(row)"
   ]
  },
  {
   "cell_type": "code",
   "execution_count": null,
   "metadata": {},
   "outputs": [],
   "source": [
    "start = time.time()\n",
    "\n",
    "delete_sql = '''\n",
    "    DELETE \n",
    "    FROM metadata \n",
    "    WHERE metadata.identifier NOT IN (SELECT images.identifier from images)\n",
    "    '''\n",
    "c2.execute(delete_sql)\n",
    "db2.commit()\n",
    "\n",
    "print(\"process took {} seconds\".format(time.time() - start))"
   ]
  },
  {
   "cell_type": "code",
   "execution_count": null,
   "metadata": {},
   "outputs": [],
   "source": [
    "# Find where there is no matching metadata for a given image\n",
    "\n",
    "c2.execute('''\n",
    "    SELECT count(images.identifier), images.identifier\n",
    "    FROM images\n",
    "    LEFT JOIN metadata ON metadata.identifier = images.identifier\n",
    "    WHERE metadata.identifier IS NULL\n",
    "    GROUP BY images.identifier\n",
    "    ''')\n",
    "rows = c2.fetchall()\n",
    "for row in rows:\n",
    "    print(row)"
   ]
  },
  {
   "cell_type": "markdown",
   "metadata": {},
   "source": [
    "### copy data from captions table"
   ]
  },
  {
   "cell_type": "markdown",
   "metadata": {},
   "source": [
    "#### duplicate"
   ]
  },
  {
   "cell_type": "code",
   "execution_count": 48,
   "metadata": {},
   "outputs": [
    {
     "data": {
      "text/plain": [
       "<sqlite3.Cursor at 0x7f25bc5ac810>"
      ]
     },
     "execution_count": 48,
     "metadata": {},
     "output_type": "execute_result"
    }
   ],
   "source": [
    "attach_sql = \"ATTACH DATABASE ? AS DB1\"\n",
    "c2.execute(attach_sql, (db_path,))"
   ]
  },
  {
   "cell_type": "code",
   "execution_count": 49,
   "metadata": {},
   "outputs": [
    {
     "data": {
      "text/plain": [
       "<sqlite3.Cursor at 0x7f25bc5ac810>"
      ]
     },
     "execution_count": 49,
     "metadata": {},
     "output_type": "execute_result"
    }
   ],
   "source": [
    "# drop table\n",
    "c2.execute(\"DROP TABLE CAPTIONS\")\n",
    "c2.execute('''\n",
    "    CREATE TABLE \"captions\" (\"id\" INTEGER, \"identifier\" TEXT, \"tex\" TEXT, \\\n",
    "    \"fignum\" TEXT, \"caption\" TEXT, \"label\" TEXT, \"filenames\" TEXT, \"image_ids\" TEXT, PRIMARY KEY(\"id\"))\n",
    "''')"
   ]
  },
  {
   "cell_type": "code",
   "execution_count": 50,
   "metadata": {},
   "outputs": [
    {
     "ename": "OperationalError",
     "evalue": "database DB1 is locked",
     "output_type": "error",
     "traceback": [
      "\u001b[0;31m---------------------------------------------------------------------------\u001b[0m",
      "\u001b[0;31mOperationalError\u001b[0m                          Traceback (most recent call last)",
      "\u001b[0;32m<ipython-input-50-cdeda7ca3eff>\u001b[0m in \u001b[0;36m<module>\u001b[0;34m\u001b[0m\n\u001b[1;32m      3\u001b[0m     '''\n\u001b[1;32m      4\u001b[0m \u001b[0mc2\u001b[0m\u001b[0;34m.\u001b[0m\u001b[0mexecute\u001b[0m\u001b[0;34m(\u001b[0m\u001b[0mduplicate_sql\u001b[0m\u001b[0;34m)\u001b[0m\u001b[0;34m\u001b[0m\u001b[0;34m\u001b[0m\u001b[0m\n\u001b[0;32m----> 5\u001b[0;31m \u001b[0mc2\u001b[0m\u001b[0;34m.\u001b[0m\u001b[0mexecute\u001b[0m\u001b[0;34m(\u001b[0m\u001b[0;34m\"DETACH DATABASE DB1\"\u001b[0m\u001b[0;34m)\u001b[0m\u001b[0;34m\u001b[0m\u001b[0;34m\u001b[0m\u001b[0m\n\u001b[0m\u001b[1;32m      6\u001b[0m \u001b[0mdb2\u001b[0m\u001b[0;34m.\u001b[0m\u001b[0mcommit\u001b[0m\u001b[0;34m(\u001b[0m\u001b[0;34m)\u001b[0m\u001b[0;34m\u001b[0m\u001b[0;34m\u001b[0m\u001b[0m\n",
      "\u001b[0;31mOperationalError\u001b[0m: database DB1 is locked"
     ]
    }
   ],
   "source": [
    "duplicate_sql = '''\n",
    "    INSERT INTO captions SELECT * FROM DB1.captions\n",
    "    '''\n",
    "c2.execute(duplicate_sql)\n",
    "c2.execute(\"DETACH DATABASE DB1\")\n",
    "db2.commit()"
   ]
  },
  {
   "cell_type": "code",
   "execution_count": 51,
   "metadata": {},
   "outputs": [],
   "source": [
    "# in case DB1 is locked\n",
    "db2.commit()"
   ]
  },
  {
   "cell_type": "markdown",
   "metadata": {},
   "source": [
    "Quick version, just check if captions.identifier is in metadata.identifier (this leaves many rows that we will never need)"
   ]
  },
  {
   "cell_type": "code",
   "execution_count": null,
   "metadata": {},
   "outputs": [],
   "source": [
    "# start = time.time()\n",
    "\n",
    "# delete_sql = '''\n",
    "#     DELETE \n",
    "#     FROM captions \n",
    "#     WHERE captions.identifier NOT IN (SELECT metadata.identifier from metadata)\n",
    "#     '''\n",
    "# c2.execute(delete_sql)\n",
    "# db2.commit()\n",
    "\n",
    "# print(\"process took {} seconds\".format(time.time() - start))"
   ]
  },
  {
   "cell_type": "markdown",
   "metadata": {},
   "source": [
    "Read all of `captions.image_ids` and check where these match up with `images.id`"
   ]
  },
  {
   "cell_type": "code",
   "execution_count": 95,
   "metadata": {},
   "outputs": [
    {
     "name": "stdout",
     "output_type": "stream",
     "text": [
      "total number of caption entries: 7392343\n"
     ]
    }
   ],
   "source": [
    "# get all captions from database\n",
    "find_sql = '''\n",
    "    SELECT id, image_ids\n",
    "    FROM captions\n",
    "    '''\n",
    "c2.execute(find_sql)\n",
    "captions = c2.fetchall()\n",
    "print(f'total number of caption entries: {len(captions)}')"
   ]
  },
  {
   "cell_type": "code",
   "execution_count": 98,
   "metadata": {},
   "outputs": [
    {
     "name": "stdout",
     "output_type": "stream",
     "text": [
      "[(1, '4'), (2, '6'), (3, '7'), (4, '3'), (5, '8'), (6, '5'), (7, '10'), (8, '9'), (9, '11'), (10, '12'), (11, '14'), (12, '13'), (13, '17'), (14, '18'), (15, '15'), (16, '16'), (17, '22'), (18, '21'), (19, '20'), (20, '19'), (21, '23'), (22, '24'), (23, '25'), (24, '26'), (25, '27'), (26, '28'), (27, '30'), (28, '32'), (29, '31'), (30, '29'), (31, '42'), (32, '38'), (33, '36'), (34, '41'), (35, '34'), (36, '33'), (37, '35'), (38, '40'), (39, '39'), (40, '37'), (41, '43'), (42, '45'), (43, '46'), (44, '47'), (45, '44'), (46, '48'), (47, None), (48, None), (49, None), (50, '49'), (51, '53'), (52, '56'), (53, '60'), (54, '65'), (55, '61'), (56, '63'), (57, '52'), (58, '66'), (59, '59'), (60, '54'), (61, '68'), (62, '55\\\\|58'), (63, '51\\\\|62\\\\|67'), (64, '57'), (65, '50\\\\|64'), (66, None), (67, '69'), (68, '87'), (69, '88'), (70, '70'), (71, '82'), (72, '71'), (73, '75'), (74, '86'), (75, '77'), (76, '80'), (77, '76'), (78, '84'), (79, '74'), (80, '85'), (81, '83'), (82, '81'), (83, '89'), (84, '79'), (85, '73'), (86, '78'), (87, '72'), (88, '96'), (89, '104'), (90, '100'), (91, '97'), (92, '92\\\\|105\\\\|90'), (93, '99\\\\|112'), (94, '117\\\\|94'), (95, '93'), (96, '101\\\\|110\\\\|95\\\\|111'), (97, '115\\\\|98'), (98, '118\\\\|102'), (99, '103'), (100, '91\\\\|116')]\n",
      "7392343\n",
      "1 4\n",
      "2 6\n",
      "3 7\n"
     ]
    }
   ],
   "source": [
    "# diagnostics\n",
    "print(captions[:100])\n",
    "print(len(captions))\n",
    "for caption_id, caption_image_ids in captions[:3]:\n",
    "    print(caption_id, caption_image_ids)"
   ]
  },
  {
   "cell_type": "code",
   "execution_count": 53,
   "metadata": {},
   "outputs": [
    {
     "name": "stdout",
     "output_type": "stream",
     "text": [
      "total number of image ids: 600000\n"
     ]
    }
   ],
   "source": [
    "# get all images from database\n",
    "image_sql = '''\n",
    "    SELECT id\n",
    "    FROM images\n",
    "    '''\n",
    "c2.execute(image_sql)\n",
    "images = c2.fetchall()\n",
    "print(f'total number of image ids: {len(images)}')"
   ]
  },
  {
   "cell_type": "code",
   "execution_count": 99,
   "metadata": {},
   "outputs": [
    {
     "name": "stdout",
     "output_type": "stream",
     "text": [
      "(6907525,)\n",
      "(6896440,)\n",
      "(6887309,)\n",
      "(6887316,)\n",
      "(6885999,)\n",
      "(6901264,)\n",
      "(6895830,)\n",
      "(6895833,)\n",
      "(6901093,)\n",
      "(6892386,)\n"
     ]
    }
   ],
   "source": [
    "for image in images[:10]:\n",
    "    print(image)"
   ]
  },
  {
   "cell_type": "code",
   "execution_count": 40,
   "metadata": {},
   "outputs": [],
   "source": [
    "all_images = []\n",
    "for image in images[:]:\n",
    "#     print(image[0])\n",
    "    all_images.append(image[0])"
   ]
  },
  {
   "cell_type": "code",
   "execution_count": 87,
   "metadata": {},
   "outputs": [
    {
     "name": "stdout",
     "output_type": "stream",
     "text": [
      "600000\n",
      "[6907525, 6896440, 6887309, 6887316, 6885999, 6901264, 6895830, 6895833, 6901093, 6892386, 6887055, 6891895, 6888405, 6894299, 6894300, 6904756, 6906633, 6897656, 6900020, 6900024]\n",
      "6907525\n"
     ]
    }
   ],
   "source": [
    "print(len(all_images))\n",
    "print(all_images[:20])\n",
    "print(all_images[0])"
   ]
  },
  {
   "cell_type": "markdown",
   "metadata": {},
   "source": [
    "Go through all of the captions, check if there is one or more `image_ids` listed. If so, for each of those check if that `image_id` is in the 600k list of images. Then save the matching `caption_id` in a list. Later, delete any entries in the `captions` table that isn't in this list.\n",
    "\n",
    "`matches = [caption_id, c_id]`"
   ]
  },
  {
   "cell_type": "code",
   "execution_count": null,
   "metadata": {},
   "outputs": [],
   "source": [
    "matches = []\n",
    "check_string = \"\\|\"\n",
    "for caption_id, caption_image_ids in captions[:]:\n",
    "#     print(caption_id, caption_image_ids)\n",
    "    if caption_image_ids != None:\n",
    "#         print(f'{caption[1]}: {caption[0].split(check_string)}')\n",
    "#         match = False\n",
    "        # get each individual c_id from the string of image_ids\n",
    "        for c_id in caption_image_ids.split(check_string):\n",
    "#             print(f'{caption[1]}: {image_id}')\n",
    "#             print(f'{type(caption[1])}: {type(image_id)}')\n",
    "            if int(c_id) in all_images:\n",
    "#                 match = True\n",
    "#                 print(\"found match\")\n",
    "                # create an entry for each match - caption id, associated image id, \n",
    "                match_entry = [caption_id, c_id]\n",
    "                matches.append(match_entry)\n",
    "print(f'Found a total of {len(matches)} matches')"
   ]
  },
  {
   "cell_type": "code",
   "execution_count": null,
   "metadata": {},
   "outputs": [],
   "source": [
    "import json\n",
    "with open('caption_matches.json', 'w') as outfile:\n",
    "    json.dump(matches, outfile)"
   ]
  },
  {
   "cell_type": "code",
   "execution_count": 105,
   "metadata": {},
   "outputs": [
    {
     "name": "stdout",
     "output_type": "stream",
     "text": [
      "[[76, '80'], [133, '142'], [135, '151'], [217, '256'], [222, '275'], [222, '276'], [226, '283'], [253, '304'], [263, '314'], [264, '316']]\n"
     ]
    }
   ],
   "source": [
    "print(matches[:10])"
   ]
  },
  {
   "cell_type": "markdown",
   "metadata": {},
   "source": [
    "For each `c_id` entry in `all_captions`, check if also in `matches`, if not delete from db.  "
   ]
  },
  {
   "cell_type": "code",
   "execution_count": null,
   "metadata": {},
   "outputs": [],
   "source": []
  },
  {
   "cell_type": "markdown",
   "metadata": {},
   "source": [
    "For each `image_id` in `all_images`, check if there is already a `caption_id`, if not, add the `c_id`."
   ]
  },
  {
   "cell_type": "code",
   "execution_count": null,
   "metadata": {},
   "outputs": [],
   "source": []
  },
  {
   "cell_type": "code",
   "execution_count": 104,
   "metadata": {},
   "outputs": [
    {
     "name": "stdout",
     "output_type": "stream",
     "text": [
      "27\n"
     ]
    }
   ],
   "source": [
    "print(len(matches))"
   ]
  },
  {
   "cell_type": "code",
   "execution_count": 77,
   "metadata": {},
   "outputs": [
    {
     "name": "stdout",
     "output_type": "stream",
     "text": [
      "image 6907525 is type <class 'int'>\n",
      "image 6896440 is type <class 'int'>\n",
      "image 6887309 is type <class 'int'>\n",
      "image 6887316 is type <class 'int'>\n",
      "image 6885999 is type <class 'int'>\n"
     ]
    }
   ],
   "source": [
    "for image in all_images[:5]:\n",
    "    print(f'image {image} is type {type(image)}')"
   ]
  },
  {
   "cell_type": "code",
   "execution_count": 83,
   "metadata": {},
   "outputs": [
    {
     "data": {
      "text/plain": [
       "['80', '142', '151', '256', '275', '276', '283', '304', '314', '316']"
      ]
     },
     "execution_count": 83,
     "metadata": {},
     "output_type": "execute_result"
    }
   ],
   "source": [
    "matches[:10]"
   ]
  },
  {
   "cell_type": "code",
   "execution_count": null,
   "metadata": {},
   "outputs": [],
   "source": [
    "for i, row in enumerate(rows):\n",
    "    for image in images:\n",
    "        for "
   ]
  },
  {
   "cell_type": "code",
   "execution_count": null,
   "metadata": {},
   "outputs": [],
   "source": [
    "delete_sql = '''\n",
    "    \n",
    "'''\n",
    "for match in matches:\n",
    "    "
   ]
  },
  {
   "cell_type": "code",
   "execution_count": null,
   "metadata": {},
   "outputs": [],
   "source": []
  },
  {
   "cell_type": "code",
   "execution_count": null,
   "metadata": {},
   "outputs": [],
   "source": []
  },
  {
   "cell_type": "code",
   "execution_count": null,
   "metadata": {},
   "outputs": [],
   "source": []
  },
  {
   "cell_type": "code",
   "execution_count": null,
   "metadata": {},
   "outputs": [],
   "source": []
  },
  {
   "cell_type": "code",
   "execution_count": null,
   "metadata": {},
   "outputs": [],
   "source": []
  },
  {
   "cell_type": "code",
   "execution_count": null,
   "metadata": {},
   "outputs": [],
   "source": []
  }
 ],
 "metadata": {
  "kernelspec": {
   "display_name": "Python 3",
   "language": "python",
   "name": "python3"
  },
  "language_info": {
   "codemirror_mode": {
    "name": "ipython",
    "version": 3
   },
   "file_extension": ".py",
   "mimetype": "text/x-python",
   "name": "python",
   "nbconvert_exporter": "python",
   "pygments_lexer": "ipython3",
   "version": "3.7.2"
  }
 },
 "nbformat": 4,
 "nbformat_minor": 2
}
