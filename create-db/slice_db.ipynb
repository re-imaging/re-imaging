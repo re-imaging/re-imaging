{
 "cells": [
  {
   "cell_type": "markdown",
   "metadata": {},
   "source": [
    "Quick code to copy only some of the data over from SQLite database to make things quicker and simpler for building web app"
   ]
  },
  {
   "cell_type": "code",
   "execution_count": null,
   "metadata": {},
   "outputs": [],
   "source": [
    "import sqlite3\n",
    "import os\n",
    "import time"
   ]
  },
  {
   "cell_type": "code",
   "execution_count": null,
   "metadata": {},
   "outputs": [],
   "source": [
    "db2_path = \"/home/rte/data/db/arxiv_db_images_600k.sqlite3\""
   ]
  },
  {
   "cell_type": "code",
   "execution_count": null,
   "metadata": {},
   "outputs": [],
   "source": [
    "image_list = \"/home/rte/data/paths/all_images_shuf.txt\"\n",
    "filepaths = []\n",
    "\n",
    "NUM_INDEXES = 600000\n",
    "\n",
    "with open(image_list, \"r\") as f:\n",
    "    lines = f.readlines()\n",
    "    print(\"length of image text file:\",len(lines))\n",
    "for l in lines[:NUM_INDEXES]:\n",
    "    # substrings = l.rsplit(\",\", 1)\n",
    "    filepaths.append(l.strip())\n",
    "    # image_ids.append(substrings[1].strip())\n",
    "print(\"length of filepaths:\", len(filepaths))"
   ]
  },
  {
   "cell_type": "code",
   "execution_count": null,
   "metadata": {},
   "outputs": [],
   "source": [
    "if not os.path.isfile(db2_path):\n",
    "    try:\n",
    "        # create a database in RAM\n",
    "        # db = sqlite3.connect(':memory:')\n",
    "        # creates or opens a file database\n",
    "        db2 = sqlite3.connect(db2_path)\n",
    "\n",
    "        # get cursor object and create metadata table\n",
    "        c2 = db2.cursor()\n",
    "        c2.execute('''\n",
    "            CREATE TABLE metadata(id INTEGER PRIMARY KEY, identifier TEXT, created TEXT, \\\n",
    "            cat TEXT, authors TEXT, title TEXT, abstract TEXT, licence TEXT)\n",
    "        ''')\n",
    "\n",
    "        # create images table\n",
    "        c2.execute('''\n",
    "            CREATE TABLE images (id INTEGER PRIMARY KEY, identifier TEXT, filename TEXT, \\\n",
    "            filesize INT, path TEXT, x INT, y INT, imageformat TEXT, creator TEXT)\n",
    "        ''')\n",
    "\n",
    "        # create captions table\n",
    "        c2.execute('''\n",
    "            CREATE TABLE \"captions\" (\"id\" INTEGER, \"identifier\" TEXT, \"tex\" TEXT, \\\n",
    "            \"fignum\" TEXT, \"caption\" TEXT, \"label\" TEXT, \"filenames\" TEXT, \"image_ids\" TEXT, PRIMARY KEY(\"id\"))\n",
    "        ''')\n",
    "\n",
    "        db2.commit()\n",
    "\n",
    "    except Exception as e:\n",
    "        # Roll back any change if something goes wrong\n",
    "        db2.rollback()\n",
    "        raise e\n",
    "    finally:\n",
    "        # Close the db connection\n",
    "        db2.close()\n",
    "        print(\"database file created\")\n",
    "else:\n",
    "    print(\"database file already exists\")"
   ]
  },
  {
   "cell_type": "code",
   "execution_count": null,
   "metadata": {},
   "outputs": [],
   "source": [
    "# Here we import the sqlite3 database and create a cursor\n",
    "db_path = \"/home/rte/data/db/arxiv_db_images.sqlite3\"\n",
    "db = sqlite3.connect(\"file:\" + db_path + \"?mode=ro\", uri=True)\n",
    "c = db.cursor()\n",
    "\n",
    "db2 = sqlite3.connect(db2_path)\n",
    "c2 = db2.cursor()"
   ]
  },
  {
   "cell_type": "code",
   "execution_count": null,
   "metadata": {},
   "outputs": [],
   "source": [
    "c.execute('''\n",
    "    SELECT * \n",
    "    FROM images \n",
    "    ORDER BY ROWID ASC \n",
    "    LIMIT 1\n",
    "''')\n",
    "rows = c.fetchall()\n",
    "for row in rows:\n",
    "    print(row)"
   ]
  },
  {
   "cell_type": "markdown",
   "metadata": {},
   "source": [
    "### copy rows for images table"
   ]
  },
  {
   "cell_type": "code",
   "execution_count": null,
   "metadata": {},
   "outputs": [],
   "source": [
    "start = time.time()\n",
    "\n",
    "for f in filepaths[:]:\n",
    "    sql = ('''\n",
    "        SELECT *\n",
    "        FROM images\n",
    "        WHERE id IS ?\n",
    "        ''')\n",
    "    image_id = f.split(\".jpg\")[0]\n",
    "#     print(image_id)\n",
    "    c.execute(sql, (image_id, ))\n",
    "    rows = c.fetchall()\n",
    "#     for row in rows:\n",
    "#         print(row)\n",
    "\n",
    "    sql = ('''\n",
    "        INSERT or REPLACE INTO images\n",
    "        (id, identifier, filename, filesize, path, x, y, imageformat, creator)\n",
    "        VALUES (?,?,?,?,?,?,?,?,?)\n",
    "        ''')\n",
    "    \n",
    "    c2.execute(sql, *rows)\n",
    "db2.commit()\n",
    "\n",
    "print(\"process took {} seconds\".format(time.time() - start))"
   ]
  },
  {
   "cell_type": "markdown",
   "metadata": {},
   "source": [
    "### copy rows for metadata table"
   ]
  },
  {
   "cell_type": "code",
   "execution_count": null,
   "metadata": {},
   "outputs": [],
   "source": [
    "attach_sql = \"ATTACH DATABASE ? AS DB1\"\n",
    "c2.execute(attach_sql, (db_path,))"
   ]
  },
  {
   "cell_type": "code",
   "execution_count": null,
   "metadata": {},
   "outputs": [],
   "source": [
    "duplicate_sql = '''\n",
    "    INSERT INTO metadata SELECT * FROM DB1.metadata\n",
    "    '''\n",
    "c2.execute(duplicate_sql)\n",
    "c2.execute(\"DETACH DATABASE DB1\")\n",
    "db2.commit()"
   ]
  },
  {
   "cell_type": "code",
   "execution_count": null,
   "metadata": {},
   "outputs": [],
   "source": [
    "test_sql = '''\n",
    "    SELECT DISTINCT metadata.id \n",
    "    FROM metadata \n",
    "    LEFT JOIN images ON metadata.identifier = images.identifier\n",
    "    WHERE metadata.id IS NULL;\n",
    "    '''\n",
    "c2.execute(test_sql)\n",
    "rows = c2.fetchall()\n",
    "print(len(rows))"
   ]
  },
  {
   "cell_type": "code",
   "execution_count": null,
   "metadata": {},
   "outputs": [],
   "source": [
    "test_sql = '''\n",
    "    SELECT DISTINCT metadata.id \n",
    "    FROM metadata \n",
    "    WHERE metadata.identifier IN (SELECT images.identifier from images)\n",
    "    '''\n",
    "c2.execute(test_sql)\n",
    "rows = c2.fetchall()\n",
    "print(len(rows))"
   ]
  },
  {
   "cell_type": "code",
   "execution_count": null,
   "metadata": {},
   "outputs": [],
   "source": [
    "test_sql = '''\n",
    "    SELECT images.identifier from images\n",
    "    '''\n",
    "c2.execute(test_sql)\n",
    "rows = c2.fetchall()\n",
    "print(len(rows))"
   ]
  },
  {
   "cell_type": "code",
   "execution_count": null,
   "metadata": {},
   "outputs": [],
   "source": [
    "for row in rows:\n",
    "    print(row)"
   ]
  },
  {
   "cell_type": "code",
   "execution_count": null,
   "metadata": {},
   "outputs": [],
   "source": [
    "start = time.time()\n",
    "\n",
    "delete_sql = '''\n",
    "    DELETE \n",
    "    FROM metadata \n",
    "    WHERE metadata.identifier NOT IN (SELECT images.identifier from images)\n",
    "    '''\n",
    "c2.execute(delete_sql)\n",
    "db2.commit()\n",
    "\n",
    "print(\"process took {} seconds\".format(time.time() - start))"
   ]
  },
  {
   "cell_type": "code",
   "execution_count": null,
   "metadata": {},
   "outputs": [],
   "source": [
    "# Find where there is no matching metadata for a given image\n",
    "\n",
    "c2.execute('''\n",
    "    SELECT count(images.identifier), images.identifier\n",
    "    FROM images\n",
    "    LEFT JOIN metadata ON metadata.identifier = images.identifier\n",
    "    WHERE metadata.identifier IS NULL\n",
    "    GROUP BY images.identifier\n",
    "    ''')\n",
    "rows = c2.fetchall()\n",
    "for row in rows:\n",
    "    print(row)"
   ]
  },
  {
   "cell_type": "markdown",
   "metadata": {},
   "source": [
    "### copy data from captions table"
   ]
  },
  {
   "cell_type": "markdown",
   "metadata": {},
   "source": [
    "#### duplicate"
   ]
  },
  {
   "cell_type": "code",
   "execution_count": null,
   "metadata": {},
   "outputs": [],
   "source": [
    "attach_sql = \"ATTACH DATABASE ? AS DB1\"\n",
    "c2.execute(attach_sql, (db_path,))"
   ]
  },
  {
   "cell_type": "code",
   "execution_count": null,
   "metadata": {},
   "outputs": [],
   "source": [
    "duplicate_sql = '''\n",
    "    INSERT INTO captions SELECT * FROM DB1.captions\n",
    "    '''\n",
    "c2.execute(duplicate_sql)\n",
    "c2.execute(\"DETACH DATABASE DB1\")\n",
    "db2.commit()"
   ]
  },
  {
   "cell_type": "markdown",
   "metadata": {},
   "source": [
    "Quick version, just check if captions.identifier is in metadata.identifier (this leaves many rows that we will never need)"
   ]
  },
  {
   "cell_type": "code",
   "execution_count": null,
   "metadata": {},
   "outputs": [],
   "source": [
    "start = time.time()\n",
    "\n",
    "delete_sql = '''\n",
    "    DELETE \n",
    "    FROM captions \n",
    "    WHERE captions.identifier NOT IN (SELECT metadata.identifier from metadata)\n",
    "    '''\n",
    "c2.execute(delete_sql)\n",
    "db2.commit()\n",
    "\n",
    "print(\"process took {} seconds\".format(time.time() - start))"
   ]
  }
 ],
 "metadata": {
  "kernelspec": {
   "display_name": "Python 3",
   "language": "python",
   "name": "python3"
  },
  "language_info": {
   "codemirror_mode": {
    "name": "ipython",
    "version": 3
   },
   "file_extension": ".py",
   "mimetype": "text/x-python",
   "name": "python",
   "nbconvert_exporter": "python",
   "pygments_lexer": "ipython3",
   "version": "3.7.2"
  }
 },
 "nbformat": 4,
 "nbformat_minor": 2
}
