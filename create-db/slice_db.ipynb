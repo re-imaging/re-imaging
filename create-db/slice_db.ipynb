{
 "cells": [
  {
   "cell_type": "markdown",
   "metadata": {},
   "source": [
    "# Slice DB\n",
    "\n",
    "Code to manipulate database based on number of random images. Used to reduce database to only needed rows. Uses a list of image IDs and then copies data from the original database."
   ]
  },
  {
   "cell_type": "code",
   "execution_count": null,
   "metadata": {},
   "outputs": [],
   "source": [
    "import sqlite3\n",
    "import os\n",
    "import time\n",
    "import json\n",
    "import numpy as np\n",
    "import time"
   ]
  },
  {
   "cell_type": "code",
   "execution_count": null,
   "metadata": {},
   "outputs": [],
   "source": [
    "db2_path = \"/home/rte/data/db/arxiv_db_images_600k.sqlite3\""
   ]
  },
  {
   "cell_type": "code",
   "execution_count": null,
   "metadata": {},
   "outputs": [],
   "source": [
    "image_list = \"/home/rte/data/paths/all_images_shuf.txt\"\n",
    "filepaths = []\n",
    "\n",
    "NUM_INDEXES = 600000\n",
    "\n",
    "with open(image_list, \"r\") as f:\n",
    "    lines = f.readlines()\n",
    "    print(\"length of image text file:\",len(lines))\n",
    "for l in lines[:NUM_INDEXES]:\n",
    "    # substrings = l.rsplit(\",\", 1)\n",
    "    filepaths.append(l.strip())\n",
    "    # image_ids.append(substrings[1].strip())\n",
    "print(\"length of filepaths:\", len(filepaths))"
   ]
  },
  {
   "cell_type": "code",
   "execution_count": null,
   "metadata": {},
   "outputs": [],
   "source": [
    "if not os.path.isfile(db2_path):\n",
    "    try:\n",
    "        # create a database in RAM\n",
    "        # db = sqlite3.connect(':memory:')\n",
    "        # creates or opens a file database\n",
    "        db2 = sqlite3.connect(db2_path)\n",
    "\n",
    "        # get cursor object and create metadata table\n",
    "        c2 = db2.cursor()\n",
    "        c2.execute('''\n",
    "            CREATE TABLE metadata(id INTEGER PRIMARY KEY, identifier TEXT, created TEXT, \\\n",
    "            cat TEXT, authors TEXT, title TEXT, abstract TEXT, licence TEXT)\n",
    "        ''')\n",
    "\n",
    "        # create images table\n",
    "        c2.execute('''\n",
    "            CREATE TABLE images (id INTEGER PRIMARY KEY, identifier TEXT, filename TEXT, \\\n",
    "            filesize INT, path TEXT, x INT, y INT, imageformat TEXT, creator TEXT)\n",
    "        ''')\n",
    "\n",
    "        # create captions table\n",
    "        c2.execute('''\n",
    "            CREATE TABLE \"captions\" (\"id\" INTEGER, \"identifier\" TEXT, \"tex\" TEXT, \\\n",
    "            \"fignum\" TEXT, \"caption\" TEXT, \"label\" TEXT, \"filenames\" TEXT, \"image_ids\" TEXT, PRIMARY KEY(\"id\"))\n",
    "        ''')\n",
    "\n",
    "        db2.commit()\n",
    "\n",
    "    except Exception as e:\n",
    "        # Roll back any change if something goes wrong\n",
    "        db2.rollback()\n",
    "        raise e\n",
    "    finally:\n",
    "        # Close the db connection\n",
    "        db2.close()\n",
    "        print(\"database file created\")\n",
    "else:\n",
    "    print(\"database file already exists\")"
   ]
  },
  {
   "cell_type": "code",
   "execution_count": null,
   "metadata": {},
   "outputs": [],
   "source": [
    "# Here we import the sqlite3 database and create a cursor\n",
    "db_path = \"/home/rte/data/db/arxiv_db_images.sqlite3\"\n",
    "db = sqlite3.connect(\"file:\" + db_path + \"?mode=ro\", uri=True)\n",
    "c = db.cursor()\n",
    "\n",
    "db2 = sqlite3.connect(db2_path)\n",
    "c2 = db2.cursor()"
   ]
  },
  {
   "cell_type": "code",
   "execution_count": null,
   "metadata": {},
   "outputs": [],
   "source": [
    "# test by getting one row\n",
    "c.execute('''\n",
    "    SELECT * \n",
    "    FROM images \n",
    "    ORDER BY ROWID ASC \n",
    "    LIMIT 1\n",
    "''')\n",
    "rows = c.fetchall()\n",
    "for row in rows:\n",
    "    print(row)"
   ]
  },
  {
   "cell_type": "markdown",
   "metadata": {},
   "source": [
    "### copy rows for images table\n",
    "\n",
    "This finds all image rows in the first database and copies them to the second."
   ]
  },
  {
   "cell_type": "code",
   "execution_count": null,
   "metadata": {},
   "outputs": [],
   "source": [
    "start = time.time()\n",
    "\n",
    "for f in filepaths[:]:\n",
    "    sql = ('''\n",
    "        SELECT *\n",
    "        FROM images\n",
    "        WHERE id IS ?\n",
    "        ''')\n",
    "    image_id = f.split(\".jpg\")[0]\n",
    "#     print(image_id)\n",
    "    c.execute(sql, (image_id, ))\n",
    "    rows = c.fetchall()\n",
    "#     for row in rows:\n",
    "#         print(row)\n",
    "\n",
    "    sql = ('''\n",
    "        INSERT or REPLACE INTO images\n",
    "        (id, identifier, filename, filesize, path, x, y, imageformat, creator)\n",
    "        VALUES (?,?,?,?,?,?,?,?,?)\n",
    "        ''')\n",
    "    \n",
    "    c2.execute(sql, *rows)\n",
    "db2.commit()\n",
    "\n",
    "print(\"process took {} seconds\".format(time.time() - start))"
   ]
  },
  {
   "cell_type": "markdown",
   "metadata": {},
   "source": [
    "### copy rows for metadata table"
   ]
  },
  {
   "cell_type": "code",
   "execution_count": null,
   "metadata": {},
   "outputs": [],
   "source": [
    "attach_sql = \"ATTACH DATABASE ? AS DB1\"\n",
    "c2.execute(attach_sql, (db_path,))"
   ]
  },
  {
   "cell_type": "code",
   "execution_count": null,
   "metadata": {},
   "outputs": [],
   "source": [
    "duplicate_sql = '''\n",
    "    INSERT INTO metadata SELECT * FROM DB1.metadata\n",
    "    '''\n",
    "c2.execute(duplicate_sql)\n",
    "c2.execute(\"DETACH DATABASE DB1\")\n",
    "db2.commit()"
   ]
  },
  {
   "cell_type": "code",
   "execution_count": null,
   "metadata": {},
   "outputs": [],
   "source": [
    "test_sql = '''\n",
    "    SELECT DISTINCT metadata.id \n",
    "    FROM metadata \n",
    "    LEFT JOIN images ON metadata.identifier = images.identifier\n",
    "    WHERE metadata.id IS NULL;\n",
    "    '''\n",
    "c2.execute(test_sql)\n",
    "rows = c2.fetchall()\n",
    "print(len(rows))"
   ]
  },
  {
   "cell_type": "code",
   "execution_count": null,
   "metadata": {},
   "outputs": [],
   "source": [
    "test_sql = '''\n",
    "    SELECT DISTINCT metadata.id \n",
    "    FROM metadata \n",
    "    WHERE metadata.identifier IN (SELECT images.identifier from images)\n",
    "    '''\n",
    "c2.execute(test_sql)\n",
    "rows = c2.fetchall()\n",
    "print(len(rows))"
   ]
  },
  {
   "cell_type": "code",
   "execution_count": null,
   "metadata": {},
   "outputs": [],
   "source": [
    "test_sql = '''\n",
    "    SELECT images.identifier from images\n",
    "    '''\n",
    "c2.execute(test_sql)\n",
    "rows = c2.fetchall()\n",
    "print(len(rows))"
   ]
  },
  {
   "cell_type": "code",
   "execution_count": null,
   "metadata": {},
   "outputs": [],
   "source": [
    "for row in rows:\n",
    "    print(row)"
   ]
  },
  {
   "cell_type": "code",
   "execution_count": null,
   "metadata": {},
   "outputs": [],
   "source": [
    "start = time.time()\n",
    "\n",
    "delete_sql = '''\n",
    "    DELETE \n",
    "    FROM metadata \n",
    "    WHERE metadata.identifier NOT IN (SELECT images.identifier from images)\n",
    "    '''\n",
    "c2.execute(delete_sql)\n",
    "db2.commit()\n",
    "\n",
    "print(\"process took {} seconds\".format(time.time() - start))"
   ]
  },
  {
   "cell_type": "code",
   "execution_count": null,
   "metadata": {},
   "outputs": [],
   "source": [
    "# Find where there is no matching metadata for a given image\n",
    "\n",
    "c2.execute('''\n",
    "    SELECT count(images.identifier), images.identifier\n",
    "    FROM images\n",
    "    LEFT JOIN metadata ON metadata.identifier = images.identifier\n",
    "    WHERE metadata.identifier IS NULL\n",
    "    GROUP BY images.identifier\n",
    "    ''')\n",
    "rows = c2.fetchall()\n",
    "for row in rows:\n",
    "    print(row)"
   ]
  },
  {
   "cell_type": "markdown",
   "metadata": {},
   "source": [
    "### copy data from captions table"
   ]
  },
  {
   "cell_type": "markdown",
   "metadata": {},
   "source": [
    "#### duplicate"
   ]
  },
  {
   "cell_type": "code",
   "execution_count": null,
   "metadata": {},
   "outputs": [],
   "source": [
    "attach_sql = \"ATTACH DATABASE ? AS DB1\"\n",
    "c2.execute(attach_sql, (db_path,))"
   ]
  },
  {
   "cell_type": "code",
   "execution_count": null,
   "metadata": {},
   "outputs": [],
   "source": [
    "# drop table\n",
    "c2.execute(\"DROP TABLE CAPTIONS\")\n",
    "c2.execute('''\n",
    "    CREATE TABLE \"captions\" (\"id\" INTEGER, \"identifier\" TEXT, \"tex\" TEXT, \\\n",
    "    \"fignum\" TEXT, \"caption\" TEXT, \"label\" TEXT, \"filenames\" TEXT, \"image_ids\" TEXT, PRIMARY KEY(\"id\"))\n",
    "''')"
   ]
  },
  {
   "cell_type": "code",
   "execution_count": null,
   "metadata": {},
   "outputs": [],
   "source": [
    "duplicate_sql = '''\n",
    "    INSERT INTO captions SELECT * FROM DB1.captions\n",
    "    '''\n",
    "c2.execute(duplicate_sql)\n",
    "c2.execute(\"DETACH DATABASE DB1\")\n",
    "# db2.commit()"
   ]
  },
  {
   "cell_type": "code",
   "execution_count": null,
   "metadata": {},
   "outputs": [],
   "source": [
    "# in case DB1 is locked\n",
    "db2.commit()"
   ]
  },
  {
   "cell_type": "markdown",
   "metadata": {},
   "source": [
    "Quick version, just check if captions.identifier is in metadata.identifier (this leaves many rows that we will never need)"
   ]
  },
  {
   "cell_type": "code",
   "execution_count": null,
   "metadata": {},
   "outputs": [],
   "source": [
    "# start = time.time()\n",
    "\n",
    "# delete_sql = '''\n",
    "#     DELETE \n",
    "#     FROM captions \n",
    "#     WHERE captions.identifier NOT IN (SELECT metadata.identifier from metadata)\n",
    "#     '''\n",
    "# c2.execute(delete_sql)\n",
    "# db2.commit()\n",
    "\n",
    "# print(\"process took {} seconds\".format(time.time() - start))"
   ]
  },
  {
   "cell_type": "markdown",
   "metadata": {},
   "source": [
    "Read all of `captions.image_ids` and check where these match up with `images.id`"
   ]
  },
  {
   "cell_type": "code",
   "execution_count": null,
   "metadata": {},
   "outputs": [],
   "source": [
    "# get all captions from database\n",
    "find_sql = '''\n",
    "    SELECT id, image_ids\n",
    "    FROM captions\n",
    "    '''\n",
    "c2.execute(find_sql)\n",
    "captions = c2.fetchall()\n",
    "print(f'total number of caption entries: {len(captions)}')"
   ]
  },
  {
   "cell_type": "code",
   "execution_count": null,
   "metadata": {},
   "outputs": [],
   "source": [
    "# diagnostics\n",
    "print(captions[:100])\n",
    "print(len(captions))\n",
    "for caption_id, caption_image_ids in captions[:3]:\n",
    "    print(caption_id, caption_image_ids)"
   ]
  },
  {
   "cell_type": "code",
   "execution_count": null,
   "metadata": {},
   "outputs": [],
   "source": [
    "# get all images from database\n",
    "image_sql = '''\n",
    "    SELECT id\n",
    "    FROM images\n",
    "    '''\n",
    "c2.execute(image_sql)\n",
    "images = c2.fetchall()\n",
    "print(f'total number of image ids: {len(images)}')"
   ]
  },
  {
   "cell_type": "code",
   "execution_count": null,
   "metadata": {},
   "outputs": [],
   "source": [
    "for image in images[:10]:\n",
    "    print(image)"
   ]
  },
  {
   "cell_type": "code",
   "execution_count": null,
   "metadata": {},
   "outputs": [],
   "source": [
    "all_images = []\n",
    "for image in images[:]:\n",
    "#     print(image[0])\n",
    "    all_images.append(image[0])"
   ]
  },
  {
   "cell_type": "code",
   "execution_count": null,
   "metadata": {},
   "outputs": [],
   "source": [
    "print(len(all_images))\n",
    "print(all_images[:20])\n",
    "print(all_images[0])\n",
    "print(all_images[-10:])"
   ]
  },
  {
   "cell_type": "markdown",
   "metadata": {},
   "source": [
    "Go through all of the captions, check if there is one or more `image_ids` listed. If so, for each of those check if that `image_id` is in the 600k list of images. Then save the matching `caption_id` in a list. Later, delete any entries in the `captions` table that isn't in this list.\n",
    "\n",
    "NB: This will take a long time.\n",
    "\n",
    "`matches = [caption_id, c_id]`"
   ]
  },
  {
   "cell_type": "code",
   "execution_count": null,
   "metadata": {},
   "outputs": [],
   "source": [
    "matches = []\n",
    "check_string = \"\\|\"\n",
    "for caption_id, caption_image_ids in captions[:]:\n",
    "#     print(caption_id, caption_image_ids)\n",
    "    if caption_image_ids != None:\n",
    "#         print(f'{caption[1]}: {caption[0].split(check_string)}')\n",
    "#         match = False\n",
    "        # get each individual c_id from the string of image_ids\n",
    "        for c_id in caption_image_ids.split(check_string):\n",
    "#             print(f'{caption[1]}: {image_id}')\n",
    "#             print(f'{type(caption[1])}: {type(image_id)}')\n",
    "            if int(c_id) in all_images:\n",
    "#                 match = True\n",
    "#                 print(\"found match\")\n",
    "                # create an entry for each match - caption id, associated image id, \n",
    "                match_entry = [caption_id, c_id]\n",
    "                matches.append(match_entry)\n",
    "print(f'Found a total of {len(matches)} matches')"
   ]
  },
  {
   "cell_type": "code",
   "execution_count": null,
   "metadata": {},
   "outputs": [],
   "source": [
    "# with open('caption_matches.json', 'w') as outfile:\n",
    "#     json.dump(matches, outfile)"
   ]
  },
  {
   "cell_type": "code",
   "execution_count": null,
   "metadata": {},
   "outputs": [],
   "source": [
    "with open('caption_matches.json', 'r') as infile:\n",
    "    matches = json.load(infile)"
   ]
  },
  {
   "cell_type": "markdown",
   "metadata": {},
   "source": [
    "For each `c_id` entry in `all_captions`, check if also in `matches`, if not delete the caption entry from db.  "
   ]
  },
  {
   "cell_type": "code",
   "execution_count": null,
   "metadata": {
    "scrolled": true
   },
   "outputs": [],
   "source": [
    "a_matches = np.array(matches, dtype=int)\n",
    "num_matches = 0\n",
    "matches_c_ids = a_matches[:, 0]\n",
    "print(matches_c_ids)\n",
    "print(len(matches_c_ids))\n",
    "print(matches_c_ids.shape)\n",
    "\n",
    "delete_sql = '''\n",
    "    DELETE FROM captions\n",
    "    WHERE id = ?\n",
    "'''\n",
    "\n",
    "last_match = 0\n",
    "begin_timer = time.time()\n",
    "start = time.time()\n",
    "for i, (c_id, image_ids) in enumerate(captions[:]):\n",
    "    if (i % 1000) == 0:\n",
    "        print(f'{i} -- time {time.time() - start}')\n",
    "        start = time.time()\n",
    "        db2.commit()\n",
    "    before_index = np.searchsorted(matches_c_ids, last_match)\n",
    "#     print(f'before_index {before_index}')\n",
    "    for index, matches_c_id in enumerate(matches_c_ids[before_index:]):\n",
    "#         print(matches_c_id, c_id)\n",
    "        if matches_c_id == c_id:\n",
    "#             print(\"match!\")\n",
    "            num_matches += 1\n",
    "            last_match = c_id\n",
    "            break\n",
    "        if matches_c_id > c_id:\n",
    "#             print(\"past point in db\")\n",
    "            c2.execute(delete_sql, (c_id,))\n",
    "            break\n",
    "print(num_matches)\n",
    "print(f'total time taken: {time.time() - begin_timer}')\n",
    "db2.commit()"
   ]
  },
  {
   "cell_type": "markdown",
   "metadata": {},
   "source": [
    "For each `image_id` in `all_images`, check if there is already a `caption_id`, if not, add the `c_id`."
   ]
  },
  {
   "cell_type": "code",
   "execution_count": null,
   "metadata": {},
   "outputs": [],
   "source": [
    "# create a new column in images with caption_id\n",
    "sql_alter = '''\n",
    "            ALTER TABLE images\n",
    "            ADD caption INTEGER\n",
    "            '''\n",
    "c2.execute(sql_alter, )\n",
    "db2.commit()"
   ]
  },
  {
   "cell_type": "code",
   "execution_count": null,
   "metadata": {},
   "outputs": [],
   "source": [
    "sql_set_caption = '''\n",
    "        UPDATE images\n",
    "        SET caption = ?\n",
    "        WHERE id = ?\n",
    "'''\n",
    "\n",
    "# print(matches_c_ids)\n",
    "# print(len(matches_c_ids))\n",
    "# print(matches_c_ids.shape)\n",
    "\n",
    "start = time.time()\n",
    "for caption_id, c_id in reversed(matches[:]):\n",
    "#     print(caption_id, c_id)\n",
    "    c2.execute(sql_set_caption, (caption_id, c_id))\n",
    "print(f'Done. Time {time.time() - start}')\n",
    "db2.commit()"
   ]
  },
  {
   "cell_type": "markdown",
   "metadata": {},
   "source": [
    "Check how many entries have a caption"
   ]
  },
  {
   "cell_type": "code",
   "execution_count": null,
   "metadata": {},
   "outputs": [],
   "source": [
    "c2.execute(\"SELECT id, caption FROM images\")\n",
    "rows = c2.fetchall()\n",
    "\n",
    "count = 0\n",
    "print(len(rows))\n",
    "for row in rows:\n",
    "    if row[1] is None:\n",
    "        count += 1\n",
    "print(f'total number of missing entries {count}')\n",
    "print(f'number of entries with caption {len(rows) - count}')"
   ]
  },
  {
   "cell_type": "markdown",
   "metadata": {},
   "source": [
    "#### Clean up"
   ]
  },
  {
   "cell_type": "code",
   "execution_count": null,
   "metadata": {},
   "outputs": [],
   "source": [
    "c2.execute(\"VACUUM\")\n",
    "db2.commit()"
   ]
  }
 ],
 "metadata": {
  "kernelspec": {
   "display_name": "Python 3",
   "language": "python",
   "name": "python3"
  },
  "language_info": {
   "codemirror_mode": {
    "name": "ipython",
    "version": 3
   },
   "file_extension": ".py",
   "mimetype": "text/x-python",
   "name": "python",
   "nbconvert_exporter": "python",
   "pygments_lexer": "ipython3",
   "version": "3.7.2"
  }
 },
 "nbformat": 4,
 "nbformat_minor": 2
}
