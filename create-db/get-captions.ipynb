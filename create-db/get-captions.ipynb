{
 "cells": [
  {
   "cell_type": "code",
   "execution_count": null,
   "metadata": {},
   "outputs": [],
   "source": [
    "import os"
   ]
  },
  {
   "cell_type": "code",
   "execution_count": null,
   "metadata": {},
   "outputs": [],
   "source": [
    "starting_folder = \"/home/kt/rte/src_small_sample\""
   ]
  },
  {
   "cell_type": "code",
   "execution_count": null,
   "metadata": {
    "scrolled": true
   },
   "outputs": [],
   "source": [
    "counter = 0\n",
    "num_dirs = 0\n",
    "texs= []\n",
    "\n",
    "for root, dirs, files in os.walk(starting_folder):\n",
    "    for name in files:\n",
    "#         print(os.path.join(root, name))\n",
    "        if \".tex\" in name:\n",
    "            print(name)\n",
    "            counter += 1\n",
    "            texs.append(os.path.join(root, name))\n",
    "    for name in dirs:\n",
    "        print(\"--- \" + os.path.join(root, name))\n",
    "        num_dirs += 1\n",
    "        \n",
    "print(\"counter:\",counter)\n",
    "print(\"num_dirs:\",num_dirs)"
   ]
  },
  {
   "cell_type": "code",
   "execution_count": null,
   "metadata": {},
   "outputs": [],
   "source": [
    "# iterate over all tex files\n",
    "for i, t in enumerate(texs[:]):\n",
    "    print(\"*\" * 20)\n",
    "    print(\"paper:\",i)\n",
    "    with open(t) as f:\n",
    "        content = [x.strip() for x in f.readlines()]\n",
    "#         print(content)\n",
    "        start = 0\n",
    "        end = 0\n",
    "        # iterate over each line and find where a figure begins\n",
    "        for i, l1 in enumerate(content[:]):\n",
    "            if \"begin{figure}\" in l1:\n",
    "                start = i\n",
    "                # find where figure ends\n",
    "                for j, l2 in enumerate(content[i:]):\n",
    "                    print(l2)\n",
    "                    if \"end{figure}\" in l2:\n",
    "                        end = start + j\n",
    "                        break\n",
    "                print(\"start\",start)\n",
    "                print(\"end\",end)\n",
    "#                 print(content[start:end])\n",
    "                print(\"-\" * 10)"
   ]
  },
  {
   "cell_type": "markdown",
   "metadata": {},
   "source": [
    "TODO\n",
    "- check if starts with comment\n",
    "- see if there are other ways to insert a figure\n",
    "- grab filename\n",
    "- check options for file extensions\n",
    "- see if path/filename exists\n",
    "- if it exists, write to SQLite?"
   ]
  },
  {
   "cell_type": "code",
   "execution_count": null,
   "metadata": {},
   "outputs": [],
   "source": [
    "for i, t in enumerate(texs[:]):\n",
    "    print(i)\n",
    "    with open(t) as f:\n",
    "        content = [x.strip() for x in f.readlines()]\n",
    "#         print(content)\n",
    "        for i, l in enumerate(content):\n",
    "            if \"begin{figure}\" in l:\n",
    "                print(content[i])"
   ]
  }
 ],
 "metadata": {
  "kernelspec": {
   "display_name": "Python 3",
   "language": "python",
   "name": "python3"
  },
  "language_info": {
   "codemirror_mode": {
    "name": "ipython",
    "version": 3
   },
   "file_extension": ".py",
   "mimetype": "text/x-python",
   "name": "python",
   "nbconvert_exporter": "python",
   "pygments_lexer": "ipython3",
   "version": "3.7.3"
  }
 },
 "nbformat": 4,
 "nbformat_minor": 2
}
