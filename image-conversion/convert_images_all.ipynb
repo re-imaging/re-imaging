{
 "cells": [
  {
   "cell_type": "code",
   "execution_count": null,
   "metadata": {},
   "outputs": [],
   "source": [
    "import sqlite3\n",
    "import random\n",
    "import itertools\n",
    "import subprocess\n",
    "import os\n",
    "import shlex\n",
    "import time\n",
    "\n",
    "import shutil"
   ]
  },
  {
   "cell_type": "code",
   "execution_count": null,
   "metadata": {},
   "outputs": [],
   "source": [
    "# Here we import the sqlite3 database and create a cursor\n",
    "db_path = \"/home/rte/data/db/arxiv_db_images.sqlite3\"\n",
    "db = sqlite3.connect(db_path)\n",
    "c = db.cursor()"
   ]
  },
  {
   "cell_type": "code",
   "execution_count": null,
   "metadata": {},
   "outputs": [],
   "source": [
    "# test that we can fetch the pragma for each table\n",
    "\n",
    "c.execute('PRAGMA TABLE_INFO({})'.format(\"metadata\"))\n",
    "info = c.fetchall()\n",
    "\n",
    "print(\"\\nColumn Info:\\nID, Name, Type, NotNull, DefaultVal, PrimaryKey\")\n",
    "for col in info:\n",
    "    print(col)"
   ]
  },
  {
   "cell_type": "code",
   "execution_count": null,
   "metadata": {},
   "outputs": [],
   "source": [
    "c.execute('PRAGMA TABLE_INFO({})'.format(\"images\"))\n",
    "info = c.fetchall()\n",
    "\n",
    "print(\"\\nColumn Info:\\nID, Name, Type, NotNull, DefaultVal, PrimaryKey\")\n",
    "for col in info:\n",
    "    print(col)"
   ]
  },
  {
   "cell_type": "markdown",
   "metadata": {},
   "source": [
    "### Get all image rows from the database"
   ]
  },
  {
   "cell_type": "code",
   "execution_count": null,
   "metadata": {},
   "outputs": [],
   "source": [
    "print(\"getting rows from database...\")\n",
    "\n",
    "sql = ('''\n",
    "    SELECT images.id, images.path, images.filename, images.identifier, metadata.cat\n",
    "    FROM images\n",
    "    LEFT JOIN metadata ON images.identifier = metadata.identifier\n",
    "    WHERE images.x != ''\n",
    "    ''')\n",
    "\n",
    "c.execute(sql)\n",
    "rows = c.fetchall()\n",
    "print(\"total number of rows:\",len(rows))"
   ]
  },
  {
   "cell_type": "code",
   "execution_count": null,
   "metadata": {},
   "outputs": [],
   "source": [
    "# view a subset\n",
    "print(\"first rows\")\n",
    "for row in rows[:5]:\n",
    "    print(row)"
   ]
  },
  {
   "cell_type": "markdown",
   "metadata": {},
   "source": [
    "### Write text file with all filepaths and IDs"
   ]
  },
  {
   "cell_type": "code",
   "execution_count": null,
   "metadata": {},
   "outputs": [],
   "source": [
    "print(\"organising data into variables\")\n",
    "\n",
    "filepaths = []\n",
    "image_ids = []\n",
    "\n",
    "for row in rows:\n",
    "    path = row[1] + '/' + row[2]\n",
    "#     print(path)\n",
    "    filepaths.append(path.replace('./','/home/rte/arXiv/src_all/'))\n",
    "    image_ids.append(row[0])\n",
    "print(\"total filepaths:\", len(filepaths))\n",
    "print(\"total ids:\", len(image_ids))\n"
   ]
  },
  {
   "cell_type": "code",
   "execution_count": null,
   "metadata": {},
   "outputs": [],
   "source": [
    "# write list of image paths and IDs to file (for debugging purposes, mostly)\n",
    "'''\n",
    "print(\"writing text file\")\n",
    "\n",
    "fname = \"filepaths_all_images.txt\"\n",
    "# print(fname)\n",
    "f = open(fname, \"w+\")\n",
    "for path, row in zip(filepaths, rows):\n",
    "    f.write(path + \",\" + str(row[0]) + \"\\n\")\n",
    "f.close()\n",
    "'''"
   ]
  },
  {
   "cell_type": "markdown",
   "metadata": {},
   "source": [
    "### convert all images "
   ]
  },
  {
   "cell_type": "code",
   "execution_count": null,
   "metadata": {},
   "outputs": [],
   "source": [
    "# convert_path = \"/home/rte/data/images/all/\"\n",
    "convert_path = \"/mnt/hd2/images/all/\"\n",
    "print(\"converting to:\",convert_path)\n",
    "\n",
    "source_path = convert_path\n",
    "dest_path = \"/mnt/hd2/images/all/\"\n",
    "\n",
    "space_limit = 20\n",
    "\n",
    "# arguments for convert\n",
    "prearg = shlex.split(\"-density 300 -colorspace CMYK\")\n",
    "arguments = shlex.split(\"-colorspace sRGB -background white -alpha background \\\n",
    "    -trim +repage -flatten -resize 512x512^>\")\n",
    "\n",
    "logpath = \"/home/rte/re-imaging/visualisation/error_log.txt\"\n",
    "\n",
    "overall_start = time.time()\n",
    "\n",
    "counter = 0\n",
    "\n",
    "for image_id, filepath in zip(image_ids, filepaths):\n",
    "    \n",
    "    start = time.time()\n",
    "    \n",
    "    if counter % 100 is 0:\n",
    "        print(\"*\" * 20)\n",
    "        print(\"counter:\",counter)\n",
    "        print(\"process has been running for:\",time.time() - overall_start)\n",
    "        print(\"*\" * 20)\n",
    "    '''\n",
    "    # this code only really relevant if moving to boot disk\n",
    "    # run a counter only every now and then\n",
    "    if counter % 1000 is 0:\n",
    "        # move all image files to HD\n",
    "        print(\"moving files\")\n",
    "        files = os.listdir(source_path)\n",
    "        for f in files:\n",
    "            shutil.move(source_path+f, dest_path)\n",
    "            \n",
    "        # make sure we have disk space free\n",
    "        total, used, free = shutil.disk_usage(\"/\")\n",
    "        print(\"checking disk space:\")\n",
    "#         print(\"Total: %d GB\" % (total // (2**30)))\n",
    "#         print(\"Used: %d GB\" % (used // (2**30)))\n",
    "        print(\"Free: %d GB\" % (free // (2**30)))\n",
    "        if free // (2**30) > space_limit:\n",
    "            print(\"enough space free, continuing\")\n",
    "    \n",
    "        # if not enough disk space, sleep for a while\n",
    "        while free // (2**30) < 20:\n",
    "            total, used, free = shutil.disk_usage(\"/\")\n",
    "            print(\"Free: %d GB\" % (free // (2**30)))\n",
    "            print(\"not enough disk space remaining...sleeping 60 seconds\")\n",
    "            time.sleep(60)\n",
    "#     a more forceful way to quit?\n",
    "#     if free // (2**30) > 5:\n",
    "#         sys.exit(\"not enough disk space remaining\")\n",
    "    '''\n",
    "    \n",
    "#     print(\"filename:\",filepath)\n",
    "    outputname = [convert_path + str(image_id) + \".jpg\"]\n",
    "#     print(\"outputname:\",outputname)\n",
    "\n",
    "    # call the montage command and parse list of files and arguments\n",
    "    convert_cmd = [\"convert\"] + prearg + [filepath + \"[0]\"] + arguments + outputname\n",
    "#     print(convert_cmd)\n",
    "\n",
    "    try:\n",
    "        subprocess.run(convert_cmd, timeout=30)\n",
    "    except subprocess.TimeoutExpired:\n",
    "        print(\"!\" * 20)\n",
    "        print(\"timeout --- logging problem file\")\n",
    "        f = open(logpath, \"a+\")\n",
    "        f.write(filepath + \",\" + image_id + \"\\n\")\n",
    "        f.close()\n",
    "        print(\"-\" * 20)\n",
    "\n",
    "        continue\n",
    "\n",
    "    counter += 1\n",
    "    \n",
    "#     print(\"time elapsed: {:.2f}\".format(time.time() - start))\n",
    "#     print(\"-\" * 20)\n",
    "    \n",
    "print(\"finished converting!\")\n",
    "print(\"total number of items:\",counter)\n",
    "end = time.time()\n",
    "print(\"total time taken:\", end - overall_start)"
   ]
  }
 ],
 "metadata": {
  "kernelspec": {
   "display_name": "Python 3",
   "language": "python",
   "name": "python3"
  },
  "language_info": {
   "codemirror_mode": {
    "name": "ipython",
    "version": 3
   },
   "file_extension": ".py",
   "mimetype": "text/x-python",
   "name": "python",
   "nbconvert_exporter": "python",
   "pygments_lexer": "ipython3",
   "version": "3.6.8"
  }
 },
 "nbformat": 4,
 "nbformat_minor": 2
}
